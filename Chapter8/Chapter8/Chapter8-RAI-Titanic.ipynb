{
  "cells": [
    {
      "cell_type": "code",
      "source": [],
      "outputs": [],
      "execution_count": null,
      "metadata": {},
      "id": "d5df2949"
    },
    {
      "cell_type": "code",
      "source": [
        "#pip install --upgrade azureml-core"
      ],
      "outputs": [],
      "execution_count": null,
      "metadata": {},
      "id": "3a47857c"
    },
    {
      "cell_type": "code",
      "source": [
        "#pip install --upgrade raiwidgets"
      ],
      "outputs": [],
      "execution_count": null,
      "metadata": {},
      "id": "a0d70144"
    },
    {
      "cell_type": "code",
      "source": [
        "# Check core SDK version number\n",
        "import azureml.core\n",
        "\n",
        "print(\"SDK version:\", azureml.core.VERSION)"
      ],
      "outputs": [
        {
          "output_type": "stream",
          "name": "stdout",
          "text": "SDK version: 1.43.0\n"
        }
      ],
      "execution_count": 1,
      "metadata": {},
      "id": "451201f7"
    },
    {
      "cell_type": "code",
      "source": [
        "from azureml.telemetry import set_diagnostics_collection\n",
        "\n",
        "set_diagnostics_collection(send_diagnostics=True)"
      ],
      "outputs": [
        {
          "output_type": "stream",
          "name": "stdout",
          "text": "Turning diagnostics collection on. \n"
        }
      ],
      "execution_count": 2,
      "metadata": {},
      "id": "957a75e1"
    },
    {
      "cell_type": "code",
      "source": [
        "import azureml.core\n",
        "from azureml.core import Workspace\n",
        "import pandas as pd\n",
        "\n",
        "# Load the workspace from the saved config file\n",
        "ws = Workspace.from_config()\n",
        "print('Ready to use Azure ML {} to work with {}'.format(azureml.core.VERSION, ws.name))"
      ],
      "outputs": [
        {
          "output_type": "stream",
          "name": "stdout",
          "text": "Ready to use Azure ML 1.43.0 to work with mlopswk\n"
        }
      ],
      "execution_count": 3,
      "metadata": {},
      "id": "7edf14f7"
    },
    {
      "cell_type": "code",
      "source": [
        "df= pd.read_csv('./Data/titanic.csv')\n",
        "print(df.shape)\n",
        "print(df.columns)"
      ],
      "outputs": [
        {
          "output_type": "stream",
          "name": "stdout",
          "text": "(891, 12)\nIndex(['PassengerId', 'Survived', 'Pclass', 'Name', 'Sex', 'Age', 'SibSp',\n       'Parch', 'Ticket', 'Fare', 'Cabin', 'Embarked'],\n      dtype='object')\n"
        }
      ],
      "execution_count": 4,
      "metadata": {},
      "id": "69029607"
    },
    {
      "cell_type": "code",
      "source": [
        "df['Age'] = df.groupby(['Pclass', 'Sex'])['Age'].apply(lambda x: x.fillna(x.median()))\n",
        "df.isnull().sum()"
      ],
      "outputs": [
        {
          "output_type": "execute_result",
          "execution_count": 5,
          "data": {
            "text/plain": "PassengerId      0\nSurvived         0\nPclass           0\nName             0\nSex              0\nAge              0\nSibSp            0\nParch            0\nTicket           0\nFare             0\nCabin          687\nEmbarked         2\ndtype: int64"
          },
          "metadata": {}
        }
      ],
      "execution_count": 5,
      "metadata": {},
      "id": "b3856afd"
    },
    {
      "cell_type": "code",
      "source": [
        "df.dtypes"
      ],
      "outputs": [
        {
          "output_type": "execute_result",
          "execution_count": 6,
          "data": {
            "text/plain": "PassengerId      int64\nSurvived         int64\nPclass           int64\nName            object\nSex             object\nAge            float64\nSibSp            int64\nParch            int64\nTicket          object\nFare           float64\nCabin           object\nEmbarked        object\ndtype: object"
          },
          "metadata": {}
        }
      ],
      "execution_count": 6,
      "metadata": {},
      "id": "7e43c0ae"
    },
    {
      "cell_type": "code",
      "source": [
        "df['Loc']= df['Cabin'].apply(lambda x: x[0] if pd.notnull(x) else 'X')"
      ],
      "outputs": [],
      "execution_count": 7,
      "metadata": {},
      "id": "a873cefe"
    },
    {
      "cell_type": "code",
      "source": [
        "df.drop(['Cabin', 'Ticket'], axis=1, inplace=True)"
      ],
      "outputs": [],
      "execution_count": 8,
      "metadata": {},
      "id": "6baadc84"
    },
    {
      "cell_type": "code",
      "source": [
        "df.head()"
      ],
      "outputs": [
        {
          "output_type": "execute_result",
          "execution_count": 9,
          "data": {
            "text/html": "<div>\n<style scoped>\n    .dataframe tbody tr th:only-of-type {\n        vertical-align: middle;\n    }\n\n    .dataframe tbody tr th {\n        vertical-align: top;\n    }\n\n    .dataframe thead th {\n        text-align: right;\n    }\n</style>\n<table border=\"1\" class=\"dataframe\">\n  <thead>\n    <tr style=\"text-align: right;\">\n      <th></th>\n      <th>PassengerId</th>\n      <th>Survived</th>\n      <th>Pclass</th>\n      <th>Name</th>\n      <th>Sex</th>\n      <th>Age</th>\n      <th>SibSp</th>\n      <th>Parch</th>\n      <th>Fare</th>\n      <th>Embarked</th>\n      <th>Loc</th>\n    </tr>\n  </thead>\n  <tbody>\n    <tr>\n      <th>0</th>\n      <td>1</td>\n      <td>0</td>\n      <td>3</td>\n      <td>Braund, Mr. Owen Harris</td>\n      <td>male</td>\n      <td>22.0</td>\n      <td>1</td>\n      <td>0</td>\n      <td>7.2500</td>\n      <td>S</td>\n      <td>X</td>\n    </tr>\n    <tr>\n      <th>1</th>\n      <td>2</td>\n      <td>1</td>\n      <td>1</td>\n      <td>Cumings, Mrs. John Bradley (Florence Briggs Th...</td>\n      <td>female</td>\n      <td>38.0</td>\n      <td>1</td>\n      <td>0</td>\n      <td>71.2833</td>\n      <td>C</td>\n      <td>C</td>\n    </tr>\n    <tr>\n      <th>2</th>\n      <td>3</td>\n      <td>1</td>\n      <td>3</td>\n      <td>Heikkinen, Miss. Laina</td>\n      <td>female</td>\n      <td>26.0</td>\n      <td>0</td>\n      <td>0</td>\n      <td>7.9250</td>\n      <td>S</td>\n      <td>X</td>\n    </tr>\n    <tr>\n      <th>3</th>\n      <td>4</td>\n      <td>1</td>\n      <td>1</td>\n      <td>Futrelle, Mrs. Jacques Heath (Lily May Peel)</td>\n      <td>female</td>\n      <td>35.0</td>\n      <td>1</td>\n      <td>0</td>\n      <td>53.1000</td>\n      <td>S</td>\n      <td>C</td>\n    </tr>\n    <tr>\n      <th>4</th>\n      <td>5</td>\n      <td>0</td>\n      <td>3</td>\n      <td>Allen, Mr. William Henry</td>\n      <td>male</td>\n      <td>35.0</td>\n      <td>0</td>\n      <td>0</td>\n      <td>8.0500</td>\n      <td>S</td>\n      <td>X</td>\n    </tr>\n  </tbody>\n</table>\n</div>",
            "text/plain": "   PassengerId  Survived  Pclass  \\\n0            1         0       3   \n1            2         1       1   \n2            3         1       3   \n3            4         1       1   \n4            5         0       3   \n\n                                                Name     Sex   Age  SibSp  \\\n0                            Braund, Mr. Owen Harris    male  22.0      1   \n1  Cumings, Mrs. John Bradley (Florence Briggs Th...  female  38.0      1   \n2                             Heikkinen, Miss. Laina  female  26.0      0   \n3       Futrelle, Mrs. Jacques Heath (Lily May Peel)  female  35.0      1   \n4                           Allen, Mr. William Henry    male  35.0      0   \n\n   Parch     Fare Embarked Loc  \n0      0   7.2500        S   X  \n1      0  71.2833        C   C  \n2      0   7.9250        S   X  \n3      0  53.1000        S   C  \n4      0   8.0500        S   X  "
          },
          "metadata": {}
        }
      ],
      "execution_count": 9,
      "metadata": {},
      "id": "59db0055"
    },
    {
      "cell_type": "code",
      "source": [
        "df.isnull().sum()"
      ],
      "outputs": [
        {
          "output_type": "execute_result",
          "execution_count": 10,
          "data": {
            "text/plain": "PassengerId    0\nSurvived       0\nPclass         0\nName           0\nSex            0\nAge            0\nSibSp          0\nParch          0\nFare           0\nEmbarked       2\nLoc            0\ndtype: int64"
          },
          "metadata": {}
        }
      ],
      "execution_count": 10,
      "metadata": {},
      "id": "27f756f0"
    },
    {
      "cell_type": "code",
      "source": [
        "df.loc[:,'GroupSize'] = 1 + df['SibSp'] + df['Parch']"
      ],
      "outputs": [],
      "execution_count": 11,
      "metadata": {},
      "id": "79a5258e"
    },
    {
      "cell_type": "code",
      "source": [
        "df['Embarked'] = df['Embarked'].fillna('S')"
      ],
      "outputs": [],
      "execution_count": 12,
      "metadata": {},
      "id": "6371aa96"
    },
    {
      "cell_type": "code",
      "source": [
        "df['Sex'] = df['Sex'].apply({'male':1, 'female':2}.get)"
      ],
      "outputs": [],
      "execution_count": 13,
      "metadata": {},
      "id": "d486ad05"
    },
    {
      "cell_type": "code",
      "source": [
        "df['Embarked'] = df['Embarked'].apply({'C':1, 'Q':2, 'S':3}.get)"
      ],
      "outputs": [],
      "execution_count": 14,
      "metadata": {},
      "id": "7f8c1e8b"
    },
    {
      "cell_type": "code",
      "source": [
        "df['Loc'] = df['Loc'].apply({'A':1, 'B':2, 'C':3, 'D':4, 'E':5, 'F':6, 'G':7, 'T':8, 'X':9}.get)"
      ],
      "outputs": [],
      "execution_count": 15,
      "metadata": {},
      "id": "d7557658"
    },
    {
      "cell_type": "code",
      "source": [
        "df.head()"
      ],
      "outputs": [
        {
          "output_type": "execute_result",
          "execution_count": 16,
          "data": {
            "text/html": "<div>\n<style scoped>\n    .dataframe tbody tr th:only-of-type {\n        vertical-align: middle;\n    }\n\n    .dataframe tbody tr th {\n        vertical-align: top;\n    }\n\n    .dataframe thead th {\n        text-align: right;\n    }\n</style>\n<table border=\"1\" class=\"dataframe\">\n  <thead>\n    <tr style=\"text-align: right;\">\n      <th></th>\n      <th>PassengerId</th>\n      <th>Survived</th>\n      <th>Pclass</th>\n      <th>Name</th>\n      <th>Sex</th>\n      <th>Age</th>\n      <th>SibSp</th>\n      <th>Parch</th>\n      <th>Fare</th>\n      <th>Embarked</th>\n      <th>Loc</th>\n      <th>GroupSize</th>\n    </tr>\n  </thead>\n  <tbody>\n    <tr>\n      <th>0</th>\n      <td>1</td>\n      <td>0</td>\n      <td>3</td>\n      <td>Braund, Mr. Owen Harris</td>\n      <td>1</td>\n      <td>22.0</td>\n      <td>1</td>\n      <td>0</td>\n      <td>7.2500</td>\n      <td>3</td>\n      <td>9</td>\n      <td>2</td>\n    </tr>\n    <tr>\n      <th>1</th>\n      <td>2</td>\n      <td>1</td>\n      <td>1</td>\n      <td>Cumings, Mrs. John Bradley (Florence Briggs Th...</td>\n      <td>2</td>\n      <td>38.0</td>\n      <td>1</td>\n      <td>0</td>\n      <td>71.2833</td>\n      <td>1</td>\n      <td>3</td>\n      <td>2</td>\n    </tr>\n    <tr>\n      <th>2</th>\n      <td>3</td>\n      <td>1</td>\n      <td>3</td>\n      <td>Heikkinen, Miss. Laina</td>\n      <td>2</td>\n      <td>26.0</td>\n      <td>0</td>\n      <td>0</td>\n      <td>7.9250</td>\n      <td>3</td>\n      <td>9</td>\n      <td>1</td>\n    </tr>\n    <tr>\n      <th>3</th>\n      <td>4</td>\n      <td>1</td>\n      <td>1</td>\n      <td>Futrelle, Mrs. Jacques Heath (Lily May Peel)</td>\n      <td>2</td>\n      <td>35.0</td>\n      <td>1</td>\n      <td>0</td>\n      <td>53.1000</td>\n      <td>3</td>\n      <td>3</td>\n      <td>2</td>\n    </tr>\n    <tr>\n      <th>4</th>\n      <td>5</td>\n      <td>0</td>\n      <td>3</td>\n      <td>Allen, Mr. William Henry</td>\n      <td>1</td>\n      <td>35.0</td>\n      <td>0</td>\n      <td>0</td>\n      <td>8.0500</td>\n      <td>3</td>\n      <td>9</td>\n      <td>1</td>\n    </tr>\n  </tbody>\n</table>\n</div>",
            "text/plain": "   PassengerId  Survived  Pclass  \\\n0            1         0       3   \n1            2         1       1   \n2            3         1       3   \n3            4         1       1   \n4            5         0       3   \n\n                                                Name  Sex   Age  SibSp  Parch  \\\n0                            Braund, Mr. Owen Harris    1  22.0      1      0   \n1  Cumings, Mrs. John Bradley (Florence Briggs Th...    2  38.0      1      0   \n2                             Heikkinen, Miss. Laina    2  26.0      0      0   \n3       Futrelle, Mrs. Jacques Heath (Lily May Peel)    2  35.0      1      0   \n4                           Allen, Mr. William Henry    1  35.0      0      0   \n\n      Fare  Embarked  Loc  GroupSize  \n0   7.2500         3    9          2  \n1  71.2833         1    3          2  \n2   7.9250         3    9          1  \n3  53.1000         3    3          2  \n4   8.0500         3    9          1  "
          },
          "metadata": {}
        }
      ],
      "execution_count": 16,
      "metadata": {},
      "id": "91506922"
    },
    {
      "cell_type": "code",
      "source": [],
      "outputs": [],
      "execution_count": null,
      "metadata": {},
      "id": "488be57c"
    },
    {
      "cell_type": "code",
      "source": [
        "LABEL = 'Survived'\n",
        "columns_to_keep = ['Pclass', 'Sex','Age', 'Fare', 'Embared', 'Deck', 'GroupSize']\n",
        "columns_to_drop = ['Name','SibSp', 'Parch', 'Survived']\n",
        "df_train = df\n",
        "df = df_train.drop(['Name','SibSp', 'Parch', 'PassengerId'], axis=1)\n",
        "\n",
        "df.head(5)"
      ],
      "outputs": [
        {
          "output_type": "execute_result",
          "execution_count": 17,
          "data": {
            "text/html": "<div>\n<style scoped>\n    .dataframe tbody tr th:only-of-type {\n        vertical-align: middle;\n    }\n\n    .dataframe tbody tr th {\n        vertical-align: top;\n    }\n\n    .dataframe thead th {\n        text-align: right;\n    }\n</style>\n<table border=\"1\" class=\"dataframe\">\n  <thead>\n    <tr style=\"text-align: right;\">\n      <th></th>\n      <th>Survived</th>\n      <th>Pclass</th>\n      <th>Sex</th>\n      <th>Age</th>\n      <th>Fare</th>\n      <th>Embarked</th>\n      <th>Loc</th>\n      <th>GroupSize</th>\n    </tr>\n  </thead>\n  <tbody>\n    <tr>\n      <th>0</th>\n      <td>0</td>\n      <td>3</td>\n      <td>1</td>\n      <td>22.0</td>\n      <td>7.2500</td>\n      <td>3</td>\n      <td>9</td>\n      <td>2</td>\n    </tr>\n    <tr>\n      <th>1</th>\n      <td>1</td>\n      <td>1</td>\n      <td>2</td>\n      <td>38.0</td>\n      <td>71.2833</td>\n      <td>1</td>\n      <td>3</td>\n      <td>2</td>\n    </tr>\n    <tr>\n      <th>2</th>\n      <td>1</td>\n      <td>3</td>\n      <td>2</td>\n      <td>26.0</td>\n      <td>7.9250</td>\n      <td>3</td>\n      <td>9</td>\n      <td>1</td>\n    </tr>\n    <tr>\n      <th>3</th>\n      <td>1</td>\n      <td>1</td>\n      <td>2</td>\n      <td>35.0</td>\n      <td>53.1000</td>\n      <td>3</td>\n      <td>3</td>\n      <td>2</td>\n    </tr>\n    <tr>\n      <th>4</th>\n      <td>0</td>\n      <td>3</td>\n      <td>1</td>\n      <td>35.0</td>\n      <td>8.0500</td>\n      <td>3</td>\n      <td>9</td>\n      <td>1</td>\n    </tr>\n  </tbody>\n</table>\n</div>",
            "text/plain": "   Survived  Pclass  Sex   Age     Fare  Embarked  Loc  GroupSize\n0         0       3    1  22.0   7.2500         3    9          2\n1         1       1    2  38.0  71.2833         1    3          2\n2         1       3    2  26.0   7.9250         3    9          1\n3         1       1    2  35.0  53.1000         3    3          2\n4         0       3    1  35.0   8.0500         3    9          1"
          },
          "metadata": {}
        }
      ],
      "execution_count": 17,
      "metadata": {},
      "id": "6d622f86"
    },
    {
      "cell_type": "code",
      "source": [
        "df1 = pd.get_dummies(df)"
      ],
      "outputs": [],
      "execution_count": 18,
      "metadata": {},
      "id": "34cbad6c"
    },
    {
      "cell_type": "code",
      "source": [
        "df1.head()"
      ],
      "outputs": [
        {
          "output_type": "execute_result",
          "execution_count": 19,
          "data": {
            "text/html": "<div>\n<style scoped>\n    .dataframe tbody tr th:only-of-type {\n        vertical-align: middle;\n    }\n\n    .dataframe tbody tr th {\n        vertical-align: top;\n    }\n\n    .dataframe thead th {\n        text-align: right;\n    }\n</style>\n<table border=\"1\" class=\"dataframe\">\n  <thead>\n    <tr style=\"text-align: right;\">\n      <th></th>\n      <th>Survived</th>\n      <th>Pclass</th>\n      <th>Sex</th>\n      <th>Age</th>\n      <th>Fare</th>\n      <th>Embarked</th>\n      <th>Loc</th>\n      <th>GroupSize</th>\n    </tr>\n  </thead>\n  <tbody>\n    <tr>\n      <th>0</th>\n      <td>0</td>\n      <td>3</td>\n      <td>1</td>\n      <td>22.0</td>\n      <td>7.2500</td>\n      <td>3</td>\n      <td>9</td>\n      <td>2</td>\n    </tr>\n    <tr>\n      <th>1</th>\n      <td>1</td>\n      <td>1</td>\n      <td>2</td>\n      <td>38.0</td>\n      <td>71.2833</td>\n      <td>1</td>\n      <td>3</td>\n      <td>2</td>\n    </tr>\n    <tr>\n      <th>2</th>\n      <td>1</td>\n      <td>3</td>\n      <td>2</td>\n      <td>26.0</td>\n      <td>7.9250</td>\n      <td>3</td>\n      <td>9</td>\n      <td>1</td>\n    </tr>\n    <tr>\n      <th>3</th>\n      <td>1</td>\n      <td>1</td>\n      <td>2</td>\n      <td>35.0</td>\n      <td>53.1000</td>\n      <td>3</td>\n      <td>3</td>\n      <td>2</td>\n    </tr>\n    <tr>\n      <th>4</th>\n      <td>0</td>\n      <td>3</td>\n      <td>1</td>\n      <td>35.0</td>\n      <td>8.0500</td>\n      <td>3</td>\n      <td>9</td>\n      <td>1</td>\n    </tr>\n  </tbody>\n</table>\n</div>",
            "text/plain": "   Survived  Pclass  Sex   Age     Fare  Embarked  Loc  GroupSize\n0         0       3    1  22.0   7.2500         3    9          2\n1         1       1    2  38.0  71.2833         1    3          2\n2         1       3    2  26.0   7.9250         3    9          1\n3         1       1    2  35.0  53.1000         3    3          2\n4         0       3    1  35.0   8.0500         3    9          1"
          },
          "metadata": {}
        }
      ],
      "execution_count": 19,
      "metadata": {},
      "id": "3522febd"
    },
    {
      "cell_type": "code",
      "source": [
        "import os\n",
        "script_folder = os.path.join(os.getcwd(), \"train_remote\")\n",
        "print(script_folder)\n",
        "os.makedirs(script_folder, exist_ok=True)"
      ],
      "outputs": [
        {
          "output_type": "stream",
          "name": "stdout",
          "text": "/mnt/batch/tasks/shared/LS_root/mounts/clusters/devbox2022/code/Users/babal/AMLBook2022/AMLBook2022/Chapter3/train_remote\n"
        }
      ],
      "execution_count": 20,
      "metadata": {},
      "id": "0bc0e277"
    },
    {
      "cell_type": "code",
      "source": [
        "import shap\n",
        "import sklearn\n",
        "import pandas as pd\n",
        "\n",
        "from sklearn.model_selection import train_test_split\n",
        "from sklearn.ensemble import RandomForestRegressor"
      ],
      "outputs": [],
      "execution_count": 21,
      "metadata": {},
      "id": "9a9588c7"
    },
    {
      "cell_type": "code",
      "source": [
        "df.head()"
      ],
      "outputs": [
        {
          "output_type": "execute_result",
          "execution_count": 22,
          "data": {
            "text/html": "<div>\n<style scoped>\n    .dataframe tbody tr th:only-of-type {\n        vertical-align: middle;\n    }\n\n    .dataframe tbody tr th {\n        vertical-align: top;\n    }\n\n    .dataframe thead th {\n        text-align: right;\n    }\n</style>\n<table border=\"1\" class=\"dataframe\">\n  <thead>\n    <tr style=\"text-align: right;\">\n      <th></th>\n      <th>Survived</th>\n      <th>Pclass</th>\n      <th>Sex</th>\n      <th>Age</th>\n      <th>Fare</th>\n      <th>Embarked</th>\n      <th>Loc</th>\n      <th>GroupSize</th>\n    </tr>\n  </thead>\n  <tbody>\n    <tr>\n      <th>0</th>\n      <td>0</td>\n      <td>3</td>\n      <td>1</td>\n      <td>22.0</td>\n      <td>7.2500</td>\n      <td>3</td>\n      <td>9</td>\n      <td>2</td>\n    </tr>\n    <tr>\n      <th>1</th>\n      <td>1</td>\n      <td>1</td>\n      <td>2</td>\n      <td>38.0</td>\n      <td>71.2833</td>\n      <td>1</td>\n      <td>3</td>\n      <td>2</td>\n    </tr>\n    <tr>\n      <th>2</th>\n      <td>1</td>\n      <td>3</td>\n      <td>2</td>\n      <td>26.0</td>\n      <td>7.9250</td>\n      <td>3</td>\n      <td>9</td>\n      <td>1</td>\n    </tr>\n    <tr>\n      <th>3</th>\n      <td>1</td>\n      <td>1</td>\n      <td>2</td>\n      <td>35.0</td>\n      <td>53.1000</td>\n      <td>3</td>\n      <td>3</td>\n      <td>2</td>\n    </tr>\n    <tr>\n      <th>4</th>\n      <td>0</td>\n      <td>3</td>\n      <td>1</td>\n      <td>35.0</td>\n      <td>8.0500</td>\n      <td>3</td>\n      <td>9</td>\n      <td>1</td>\n    </tr>\n  </tbody>\n</table>\n</div>",
            "text/plain": "   Survived  Pclass  Sex   Age     Fare  Embarked  Loc  GroupSize\n0         0       3    1  22.0   7.2500         3    9          2\n1         1       1    2  38.0  71.2833         1    3          2\n2         1       3    2  26.0   7.9250         3    9          1\n3         1       1    2  35.0  53.1000         3    3          2\n4         0       3    1  35.0   8.0500         3    9          1"
          },
          "metadata": {}
        }
      ],
      "execution_count": 22,
      "metadata": {},
      "id": "b08d44e1"
    },
    {
      "cell_type": "code",
      "source": [
        "y = df['Survived']\n",
        "df = df.drop(['Survived'], axis=1)"
      ],
      "outputs": [],
      "execution_count": 23,
      "metadata": {},
      "id": "681646d3"
    },
    {
      "cell_type": "code",
      "source": [
        "df = pd.get_dummies(df)"
      ],
      "outputs": [],
      "execution_count": 24,
      "metadata": {},
      "id": "5f0f2d11"
    },
    {
      "cell_type": "code",
      "source": [
        "df.head()"
      ],
      "outputs": [
        {
          "output_type": "execute_result",
          "execution_count": 25,
          "data": {
            "text/html": "<div>\n<style scoped>\n    .dataframe tbody tr th:only-of-type {\n        vertical-align: middle;\n    }\n\n    .dataframe tbody tr th {\n        vertical-align: top;\n    }\n\n    .dataframe thead th {\n        text-align: right;\n    }\n</style>\n<table border=\"1\" class=\"dataframe\">\n  <thead>\n    <tr style=\"text-align: right;\">\n      <th></th>\n      <th>Pclass</th>\n      <th>Sex</th>\n      <th>Age</th>\n      <th>Fare</th>\n      <th>Embarked</th>\n      <th>Loc</th>\n      <th>GroupSize</th>\n    </tr>\n  </thead>\n  <tbody>\n    <tr>\n      <th>0</th>\n      <td>3</td>\n      <td>1</td>\n      <td>22.0</td>\n      <td>7.2500</td>\n      <td>3</td>\n      <td>9</td>\n      <td>2</td>\n    </tr>\n    <tr>\n      <th>1</th>\n      <td>1</td>\n      <td>2</td>\n      <td>38.0</td>\n      <td>71.2833</td>\n      <td>1</td>\n      <td>3</td>\n      <td>2</td>\n    </tr>\n    <tr>\n      <th>2</th>\n      <td>3</td>\n      <td>2</td>\n      <td>26.0</td>\n      <td>7.9250</td>\n      <td>3</td>\n      <td>9</td>\n      <td>1</td>\n    </tr>\n    <tr>\n      <th>3</th>\n      <td>1</td>\n      <td>2</td>\n      <td>35.0</td>\n      <td>53.1000</td>\n      <td>3</td>\n      <td>3</td>\n      <td>2</td>\n    </tr>\n    <tr>\n      <th>4</th>\n      <td>3</td>\n      <td>1</td>\n      <td>35.0</td>\n      <td>8.0500</td>\n      <td>3</td>\n      <td>9</td>\n      <td>1</td>\n    </tr>\n  </tbody>\n</table>\n</div>",
            "text/plain": "   Pclass  Sex   Age     Fare  Embarked  Loc  GroupSize\n0       3    1  22.0   7.2500         3    9          2\n1       1    2  38.0  71.2833         1    3          2\n2       3    2  26.0   7.9250         3    9          1\n3       1    2  35.0  53.1000         3    3          2\n4       3    1  35.0   8.0500         3    9          1"
          },
          "metadata": {}
        }
      ],
      "execution_count": 25,
      "metadata": {},
      "id": "52e66c99"
    },
    {
      "cell_type": "code",
      "source": [
        "y"
      ],
      "outputs": [
        {
          "output_type": "execute_result",
          "execution_count": 26,
          "data": {
            "text/plain": "0      0\n1      1\n2      1\n3      1\n4      0\n      ..\n886    0\n887    1\n888    0\n889    1\n890    0\nName: Survived, Length: 891, dtype: int64"
          },
          "metadata": {}
        }
      ],
      "execution_count": 26,
      "metadata": {},
      "id": "c9feac2d"
    },
    {
      "cell_type": "code",
      "source": [
        "target_feature = 'Survived'"
      ],
      "outputs": [],
      "execution_count": 27,
      "metadata": {},
      "id": "2acfe447"
    },
    {
      "cell_type": "code",
      "source": [
        "X_train, X_test, y_train, y_test = train_test_split(df, y, test_size=0.2, random_state=7)\n",
        "\n",
        "train_data = X_train.copy()\n",
        "test_data = X_test.copy()\n",
        "train_data[target_feature] = y_train\n",
        "test_data[target_feature] = y_test\n",
        "#data.feature_names"
      ],
      "outputs": [],
      "execution_count": 28,
      "metadata": {},
      "id": "8443bf43"
    },
    {
      "cell_type": "code",
      "source": [
        "from sklearn.ensemble import RandomForestClassifier\n",
        "from sklearn.datasets import make_classification"
      ],
      "outputs": [],
      "execution_count": 29,
      "metadata": {},
      "id": "f6ed3a7b"
    },
    {
      "cell_type": "code",
      "source": [],
      "outputs": [],
      "execution_count": null,
      "metadata": {},
      "id": "0de0834b"
    },
    {
      "cell_type": "code",
      "source": [
        "#model = RandomForestRegressor()\n",
        "model = RandomForestClassifier(max_depth=2, random_state=0)\n",
        "model.fit(X_train, y_train)"
      ],
      "outputs": [
        {
          "output_type": "execute_result",
          "execution_count": 30,
          "data": {
            "text/plain": "RandomForestClassifier(bootstrap=True, ccp_alpha=0.0, class_weight=None,\n                       criterion='gini', max_depth=2, max_features='auto',\n                       max_leaf_nodes=None, max_samples=None,\n                       min_impurity_decrease=0.0, min_impurity_split=None,\n                       min_samples_leaf=1, min_samples_split=2,\n                       min_weight_fraction_leaf=0.0, n_estimators=100,\n                       n_jobs=None, oob_score=False, random_state=0, verbose=0,\n                       warm_start=False)"
          },
          "metadata": {}
        }
      ],
      "execution_count": 30,
      "metadata": {},
      "id": "894b88d7"
    },
    {
      "cell_type": "code",
      "source": [
        "pred = model.predict(X_test)"
      ],
      "outputs": [],
      "execution_count": 31,
      "metadata": {},
      "id": "69dd4b40"
    },
    {
      "cell_type": "code",
      "source": [
        "pred_proba = model.predict_proba(X_test)"
      ],
      "outputs": [],
      "execution_count": 32,
      "metadata": {},
      "id": "89a7e25e"
    },
    {
      "cell_type": "code",
      "source": [
        "import numpy as np\n",
        "import pandas as pd\n",
        "import matplotlib.pyplot as plt\n",
        "import seaborn as sns\n",
        "\n",
        "from sklearn.model_selection import train_test_split\n",
        "from sklearn.ensemble import RandomForestClassifier\n",
        "from sklearn.metrics import accuracy_score, confusion_matrix, classification_report"
      ],
      "outputs": [],
      "execution_count": 33,
      "metadata": {},
      "id": "85b2650a"
    },
    {
      "cell_type": "code",
      "source": [
        "# View accuracy score\n",
        "accuracy_score(y_test, pred)"
      ],
      "outputs": [
        {
          "output_type": "execute_result",
          "execution_count": 34,
          "data": {
            "text/plain": "0.7821229050279329"
          },
          "metadata": {}
        }
      ],
      "execution_count": 34,
      "metadata": {},
      "id": "1361832d"
    },
    {
      "cell_type": "code",
      "source": [
        "# View confusion matrix for test data and predictions\n",
        "confusion_matrix(y_test, pred)"
      ],
      "outputs": [
        {
          "output_type": "execute_result",
          "execution_count": 35,
          "data": {
            "text/plain": "array([[104,   6],\n       [ 33,  36]])"
          },
          "metadata": {}
        }
      ],
      "execution_count": 35,
      "metadata": {},
      "id": "6cef381a"
    },
    {
      "cell_type": "code",
      "source": [
        "# View the classification report for test data and predictions\n",
        "print(classification_report(y_test, pred))"
      ],
      "outputs": [
        {
          "output_type": "stream",
          "name": "stdout",
          "text": "              precision    recall  f1-score   support\n\n           0       0.76      0.95      0.84       110\n           1       0.86      0.52      0.65        69\n\n    accuracy                           0.78       179\n   macro avg       0.81      0.73      0.75       179\nweighted avg       0.80      0.78      0.77       179\n\n"
        }
      ],
      "execution_count": 36,
      "metadata": {},
      "id": "e982a17c"
    },
    {
      "cell_type": "code",
      "source": [
        "#pred_proba"
      ],
      "outputs": [],
      "execution_count": 37,
      "metadata": {},
      "id": "51f9b0ca"
    },
    {
      "cell_type": "code",
      "source": [
        "train_data.dtypes"
      ],
      "outputs": [
        {
          "output_type": "execute_result",
          "execution_count": 38,
          "data": {
            "text/plain": "Pclass         int64\nSex            int64\nAge          float64\nFare         float64\nEmbarked       int64\nLoc            int64\nGroupSize      int64\nSurvived       int64\ndtype: object"
          },
          "metadata": {}
        }
      ],
      "execution_count": 38,
      "metadata": {},
      "id": "1bc20793"
    },
    {
      "cell_type": "code",
      "source": [
        "test_data.dtypes"
      ],
      "outputs": [
        {
          "output_type": "execute_result",
          "execution_count": 39,
          "data": {
            "text/plain": "Pclass         int64\nSex            int64\nAge          float64\nFare         float64\nEmbarked       int64\nLoc            int64\nGroupSize      int64\nSurvived       int64\ndtype: object"
          },
          "metadata": {}
        }
      ],
      "execution_count": 39,
      "metadata": {},
      "id": "2f7fab4b"
    },
    {
      "cell_type": "code",
      "source": [
        "from raiwidgets import ResponsibleAIDashboard\n",
        "from responsibleai import RAIInsights"
      ],
      "outputs": [
        {
          "output_type": "stream",
          "name": "stderr",
          "text": "WARNING:root:'PYARROW_IGNORE_TIMEZONE' environment variable was not set. It is required to set this environment variable to '1' in both driver and executor sides if you use pyarrow>=2.0.0. pandas-on-Spark will set it for you but it does not work if there is a Spark context already launched.\n"
        }
      ],
      "execution_count": 40,
      "metadata": {},
      "id": "eef850bb"
    },
    {
      "cell_type": "code",
      "source": [
        "train_data.count()"
      ],
      "outputs": [
        {
          "output_type": "execute_result",
          "execution_count": 41,
          "data": {
            "text/plain": "Pclass       712\nSex          712\nAge          712\nFare         712\nEmbarked     712\nLoc          712\nGroupSize    712\nSurvived     712\ndtype: int64"
          },
          "metadata": {}
        }
      ],
      "execution_count": 41,
      "metadata": {},
      "id": "22c17b60"
    },
    {
      "cell_type": "code",
      "source": [],
      "outputs": [],
      "execution_count": null,
      "metadata": {},
      "id": "d727fb69"
    },
    {
      "cell_type": "code",
      "source": [],
      "outputs": [],
      "execution_count": null,
      "metadata": {},
      "id": "b25a2083"
    },
    {
      "cell_type": "code",
      "source": [
        "rai_insights = RAIInsights(model, train_data[:20], test_data[:20], target_feature, 'classification',\n",
        "                               categorical_features=[])"
      ],
      "outputs": [],
      "execution_count": 42,
      "metadata": {},
      "id": "245261bb"
    },
    {
      "cell_type": "code",
      "source": [
        "# Interpretability\n",
        "rai_insights.explainer.add()\n",
        "# Error Analysis\n",
        "rai_insights.error_analysis.add()\n",
        "# Counterfactuals: accepts total number of counterfactuals to generate, the range that their label should fall under, \n",
        "# and a list of strings of categorical feature names\n",
        "rai_insights.counterfactual.add(total_CFs=10, desired_class='opposite')"
      ],
      "outputs": [],
      "execution_count": 43,
      "metadata": {},
      "id": "bc2126ac"
    },
    {
      "cell_type": "code",
      "source": [
        "rai_insights.compute()"
      ],
      "outputs": [
        {
          "output_type": "stream",
          "name": "stderr",
          "text": "100%|██████████| 20/20 [03:13<00:00,  9.69s/it]\n"
        }
      ],
      "execution_count": 44,
      "metadata": {},
      "id": "324f13c7"
    },
    {
      "cell_type": "code",
      "source": [
        "ResponsibleAIDashboard(rai_insights)"
      ],
      "outputs": [
        {
          "output_type": "execute_result",
          "execution_count": 45,
          "data": {
            "text/plain": "<raiwidgets.responsibleai_dashboard.ResponsibleAIDashboard at 0x7efbd38e49a0>"
          },
          "metadata": {}
        },
        {
          "output_type": "stream",
          "name": "stdout",
          "text": "ResponsibleAI started at https://devbox2022-5000.centralus.instances.azureml.ms\n"
        }
      ],
      "execution_count": 45,
      "metadata": {},
      "id": "a87b9638"
    },
    {
      "cell_type": "code",
      "source": [],
      "outputs": [],
      "execution_count": null,
      "metadata": {},
      "id": "b025e387"
    },
    {
      "cell_type": "code",
      "source": [
        "#pip install pandas-profiling[notebook]"
      ],
      "outputs": [],
      "execution_count": null,
      "metadata": {},
      "id": "175d9aa6"
    },
    {
      "cell_type": "code",
      "source": [
        "from pandas_profiling import ProfileReport"
      ],
      "outputs": [],
      "execution_count": 46,
      "metadata": {},
      "id": "cf9d3591"
    },
    {
      "cell_type": "code",
      "source": [
        "profile = ProfileReport(df, title=\"Pandas Profiling Report\", explorative=True)"
      ],
      "outputs": [],
      "execution_count": 49,
      "metadata": {},
      "id": "572455ec"
    },
    {
      "cell_type": "code",
      "source": [
        "profile.to_widgets()"
      ],
      "outputs": [
        {
          "output_type": "display_data",
          "data": {
            "application/vnd.jupyter.widget-view+json": {
              "model_id": "c8613dc66400469dad179a8fde6c1677",
              "version_major": 2,
              "version_minor": 0
            },
            "text/plain": "Summarize dataset:   0%|          | 0/5 [00:00<?, ?it/s]"
          },
          "metadata": {}
        },
        {
          "output_type": "display_data",
          "data": {
            "application/vnd.jupyter.widget-view+json": {
              "model_id": "e4c9228384554704b045598e05a25083",
              "version_major": 2,
              "version_minor": 0
            },
            "text/plain": "Generate report structure:   0%|          | 0/1 [00:00<?, ?it/s]"
          },
          "metadata": {}
        },
        {
          "output_type": "display_data",
          "data": {
            "application/vnd.jupyter.widget-view+json": {
              "model_id": "",
              "version_major": 2,
              "version_minor": 0
            },
            "text/plain": "Render widgets:   0%|          | 0/1 [00:00<?, ?it/s]"
          },
          "metadata": {}
        },
        {
          "output_type": "display_data",
          "data": {
            "application/vnd.jupyter.widget-view+json": {
              "model_id": "f280c1fe48444e55bddeda81f224213c",
              "version_major": 2,
              "version_minor": 0
            },
            "text/plain": "VBox(children=(Tab(children=(Tab(children=(GridBox(children=(VBox(children=(GridspecLayout(children=(HTML(valu…"
          },
          "metadata": {}
        }
      ],
      "execution_count": 50,
      "metadata": {},
      "id": "daf9fc4d"
    },
    {
      "cell_type": "code",
      "source": [],
      "outputs": [],
      "execution_count": null,
      "metadata": {},
      "id": "4834a1cf"
    },
    {
      "cell_type": "code",
      "source": [],
      "outputs": [],
      "execution_count": null,
      "metadata": {},
      "id": "173dbd8e"
    },
    {
      "cell_type": "code",
      "source": [],
      "outputs": [],
      "execution_count": null,
      "metadata": {},
      "id": "52f7882e"
    },
    {
      "cell_type": "code",
      "source": [],
      "outputs": [],
      "execution_count": null,
      "metadata": {},
      "id": "684bdc78"
    }
  ],
  "metadata": {
    "kernelspec": {
      "name": "python38-azureml",
      "language": "python",
      "display_name": "Python 3.8 - AzureML"
    },
    "language_info": {
      "name": "python",
      "version": "3.8.13",
      "mimetype": "text/x-python",
      "codemirror_mode": {
        "name": "ipython",
        "version": 3
      },
      "pygments_lexer": "ipython3",
      "nbconvert_exporter": "python",
      "file_extension": ".py"
    },
    "kernel_info": {
      "name": "python38-azureml"
    },
    "nteract": {
      "version": "nteract-front-end@1.0.0"
    }
  },
  "nbformat": 4,
  "nbformat_minor": 5
}