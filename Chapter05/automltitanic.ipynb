{
  "cells": [
    {
      "cell_type": "code",
      "source": [],
      "outputs": [],
      "execution_count": null,
      "metadata": {}
    },
    {
      "cell_type": "code",
      "source": [
        "#pip install azure.ai.ml"
      ],
      "outputs": [],
      "execution_count": 1,
      "metadata": {
        "jupyter": {
          "source_hidden": false,
          "outputs_hidden": false
        },
        "nteract": {
          "transient": {
            "deleting": false
          }
        },
        "gather": {
          "logged": 1668448489619
        }
      }
    },
    {
      "cell_type": "code",
      "source": [
        "# Check core SDK version number\r\n",
        "#import azureml.core\r\n",
        "\r\n",
        "#print(\"SDK version:\", azureml.core.VERSION)"
      ],
      "outputs": [],
      "execution_count": 33,
      "metadata": {
        "jupyter": {
          "source_hidden": false,
          "outputs_hidden": false
        },
        "nteract": {
          "transient": {
            "deleting": false
          }
        },
        "gather": {
          "logged": 1668458811954
        }
      }
    },
    {
      "cell_type": "code",
      "source": [
        "# Import required libraries\r\n",
        "from azure.identity import DefaultAzureCredential\r\n",
        "from azure.identity import AzureCliCredential\r\n",
        "from azure.ai.ml import automl, Input, MLClient\r\n",
        "\r\n",
        "from azure.ai.ml.constants import AssetTypes\r\n",
        "from azure.ai.ml.automl import (\r\n",
        "    classification,\r\n",
        "    ClassificationPrimaryMetrics,\r\n",
        "    ClassificationModels,\r\n",
        ")"
      ],
      "outputs": [],
      "execution_count": 1,
      "metadata": {
        "jupyter": {
          "source_hidden": false,
          "outputs_hidden": false
        },
        "nteract": {
          "transient": {
            "deleting": false
          }
        },
        "gather": {
          "logged": 1668454701054
        }
      }
    },
    {
      "cell_type": "code",
      "source": [
        "from azure.identity import DefaultAzureCredential\r\n",
        "from azure.ai.ml import MLClient\r\n",
        "\r\n",
        "credential = DefaultAzureCredential()\r\n",
        "ml_client = None\r\n",
        "try:\r\n",
        "    ml_client = MLClient.from_config(credential)\r\n",
        "except Exception as ex:\r\n",
        "    print(ex)\r\n",
        "    # Enter details of your AzureML workspace\r\n",
        "    subscription_id = \"80ef7369-572a-4abd-b09a-033367f44858\"\r\n",
        "    resource_group = \"mlopsdev\"\r\n",
        "    workspace = \"mlopswk\"\r\n",
        "    ml_client = MLClient(credential, subscription_id, resource_group, workspace)"
      ],
      "outputs": [
        {
          "output_type": "stream",
          "name": "stdout",
          "text": "We could not find config.json in: . or in its parent directories. \n"
        }
      ],
      "execution_count": 2,
      "metadata": {
        "jupyter": {
          "source_hidden": false,
          "outputs_hidden": false
        },
        "nteract": {
          "transient": {
            "deleting": false
          }
        },
        "gather": {
          "logged": 1668454703183
        }
      }
    },
    {
      "cell_type": "code",
      "source": [
        "workspace = ml_client.workspaces.get(name=ml_client.workspace_name)\r\n",
        "\r\n",
        "subscription_id = ml_client.connections._subscription_id\r\n",
        "resource_group = workspace.resource_group\r\n",
        "workspace_name = ml_client.workspace_name\r\n",
        "\r\n",
        "output = {}\r\n",
        "output[\"Workspace\"] = workspace_name\r\n",
        "output[\"Subscription ID\"] = subscription_id\r\n",
        "output[\"Resource Group\"] = resource_group\r\n",
        "output[\"Location\"] = workspace.location\r\n",
        "output"
      ],
      "outputs": [
        {
          "output_type": "execute_result",
          "execution_count": 3,
          "data": {
            "text/plain": "{'Workspace': 'mlopswk',\n 'Subscription ID': '80ef7369-572a-4abd-b09a-033367f44858',\n 'Resource Group': 'mlopsdev',\n 'Location': 'centralus'}"
          },
          "metadata": {}
        }
      ],
      "execution_count": 3,
      "metadata": {
        "jupyter": {
          "source_hidden": false,
          "outputs_hidden": false
        },
        "nteract": {
          "transient": {
            "deleting": false
          }
        },
        "gather": {
          "logged": 1668454709170
        }
      }
    },
    {
      "cell_type": "code",
      "source": [
        "my_training_data_input = Input(\r\n",
        "    type=AssetTypes.MLTABLE, path=\"./data/\"\r\n",
        ")\r\n",
        "my_training_data_test = Input(\r\n",
        "    type=AssetTypes.MLTABLE, path=\"./data/\"\r\n",
        ")\r\n",
        "my_training_data_validate = Input(\r\n",
        "    type=AssetTypes.MLTABLE, path=\"./data/\"\r\n",
        ")"
      ],
      "outputs": [],
      "execution_count": 4,
      "metadata": {
        "jupyter": {
          "source_hidden": false,
          "outputs_hidden": false
        },
        "nteract": {
          "transient": {
            "deleting": false
          }
        },
        "gather": {
          "logged": 1668454713305
        }
      }
    },
    {
      "cell_type": "code",
      "source": [
        "# General job parameters\r\n",
        "compute_name = \"cpu-cluster\"\r\n",
        "max_trials = 5\r\n",
        "exp_name = \"automlv2-Titanic-experiment\""
      ],
      "outputs": [],
      "execution_count": 7,
      "metadata": {
        "jupyter": {
          "source_hidden": false,
          "outputs_hidden": false
        },
        "nteract": {
          "transient": {
            "deleting": false
          }
        },
        "gather": {
          "logged": 1668454733152
        }
      }
    },
    {
      "cell_type": "code",
      "source": [
        "# Create the AutoML classification job with the related factory-function.\r\n",
        "\r\n",
        "classification_job = automl.classification(\r\n",
        "    compute=compute_name,\r\n",
        "    experiment_name=exp_name,\r\n",
        "    training_data=my_training_data_input,\r\n",
        "    target_column_name=\"Survived\",\r\n",
        "    primary_metric=\"accuracy\",\r\n",
        "    n_cross_validations=5,\r\n",
        "    enable_model_explainability=True,\r\n",
        "    tags={\"my_custom_tag\": \"Titanic Training\"},\r\n",
        ")\r\n",
        "\r\n",
        "# Limits are all optional\r\n",
        "classification_job.set_limits(\r\n",
        "    timeout_minutes=600,\r\n",
        "    trial_timeout_minutes=20,\r\n",
        "    max_trials=max_trials,\r\n",
        "    # max_concurrent_trials = 4,\r\n",
        "    # max_cores_per_trial: -1,\r\n",
        "    enable_early_termination=True,\r\n",
        ")\r\n",
        "\r\n",
        "# Training properties are optional\r\n",
        "classification_job.set_training(\r\n",
        "    blocked_training_algorithms=[ClassificationModels.LOGISTIC_REGRESSION],\r\n",
        "    enable_onnx_compatible_models=True,\r\n",
        ")"
      ],
      "outputs": [],
      "execution_count": 8,
      "metadata": {
        "jupyter": {
          "source_hidden": false,
          "outputs_hidden": false
        },
        "nteract": {
          "transient": {
            "deleting": false
          }
        },
        "gather": {
          "logged": 1668454735406
        }
      }
    },
    {
      "cell_type": "code",
      "source": [
        "# Submit the AutoML job\r\n",
        "returned_job = ml_client.jobs.create_or_update(\r\n",
        "    classification_job\r\n",
        ")  # submit the job to the backend\r\n",
        "\r\n",
        "print(f\"Created job: {returned_job}\")"
      ],
      "outputs": [
        {
          "output_type": "stream",
          "name": "stdout",
          "text": "Created job: ClassificationJob({'log_verbosity': <LogVerbosity.INFO: 'Info'>, 'task_type': <TaskType.CLASSIFICATION: 'Classification'>, 'environment_id': None, 'environment_variables': None, 'outputs': {}, 'type': 'automl', 'status': 'NotStarted', 'log_files': None, 'name': 'gray_room_6c34vq59cg', 'description': None, 'tags': {'my_custom_tag': 'Titanic Training'}, 'properties': {}, 'id': '/subscriptions/80ef7369-572a-4abd-b09a-033367f44858/resourceGroups/mlopsdev/providers/Microsoft.MachineLearningServices/workspaces/mlopswk/jobs/gray_room_6c34vq59cg', 'base_path': './', 'creation_context': <azure.ai.ml._restclient.v2022_02_01_preview.models._models_py3.SystemData object at 0x7f70e457f970>, 'serialize': <msrest.serialization.Serializer object at 0x7f70e47aec20>, 'inputs': {}, 'display_name': 'gray_room_6c34vq59cg', 'experiment_name': 'automlv2-Titanic-experiment', 'compute': 'cpu-cluster', 'services': {'Tracking': <azure.ai.ml._restclient.v2022_02_01_preview.models._models_py3.JobService object at 0x7f70e457ff10>, 'Studio': <azure.ai.ml._restclient.v2022_02_01_preview.models._models_py3.JobService object at 0x7f70e457fee0>}, 'resources': <azure.ai.ml._restclient.v2022_02_01_preview.models._models_py3.ResourceConfiguration object at 0x7f70e457ffa0>, 'identity': None, 'data': <azure.ai.ml._restclient.v2022_02_01_preview.models._models_py3.TableVerticalDataSettings object at 0x7f70e457f550>, 'featurization': None, 'limits': <azure.ai.ml.entities._job.automl.tabular.limit_settings.TabularLimitSettings object at 0x7f70e47af100>, 'training': <azure.ai.ml.entities._job.automl.training_settings.ClassificationTrainingSettings object at 0x7f70e47ad240>, 'primary_metric': <ClassificationPrimaryMetrics.ACCURACY: 'Accuracy'>})\n"
        }
      ],
      "execution_count": 9,
      "metadata": {
        "jupyter": {
          "source_hidden": false,
          "outputs_hidden": false
        },
        "nteract": {
          "transient": {
            "deleting": false
          }
        },
        "gather": {
          "logged": 1668454744347
        }
      }
    },
    {
      "cell_type": "code",
      "source": [
        "ml_client.jobs.stream(returned_job.name)"
      ],
      "outputs": [
        {
          "output_type": "stream",
          "name": "stdout",
          "text": "RunId: gray_room_6c34vq59cg\nWeb View: https://ml.azure.com/runs/gray_room_6c34vq59cg?wsid=/subscriptions/80ef7369-572a-4abd-b09a-033367f44858/resourcegroups/mlopsdev/workspaces/mlopswk\n\nExecution Summary\n=================\nRunId: gray_room_6c34vq59cg\nWeb View: https://ml.azure.com/runs/gray_room_6c34vq59cg?wsid=/subscriptions/80ef7369-572a-4abd-b09a-033367f44858/resourcegroups/mlopsdev/workspaces/mlopswk\n\n"
        }
      ],
      "execution_count": 10,
      "metadata": {
        "jupyter": {
          "source_hidden": false,
          "outputs_hidden": false
        },
        "nteract": {
          "transient": {
            "deleting": false
          }
        },
        "gather": {
          "logged": 1668455180091
        }
      }
    },
    {
      "cell_type": "code",
      "source": [],
      "outputs": [],
      "execution_count": null,
      "metadata": {
        "jupyter": {
          "source_hidden": false,
          "outputs_hidden": false
        },
        "nteract": {
          "transient": {
            "deleting": false
          }
        }
      }
    },
    {
      "cell_type": "code",
      "source": [
        "#pip install azureml-mlflow"
      ],
      "outputs": [],
      "execution_count": 11,
      "metadata": {
        "jupyter": {
          "source_hidden": false,
          "outputs_hidden": false
        },
        "nteract": {
          "transient": {
            "deleting": false
          }
        },
        "gather": {
          "logged": 1668455244520
        }
      }
    },
    {
      "cell_type": "code",
      "source": [
        "#pip install mlflow"
      ],
      "outputs": [],
      "execution_count": 12,
      "metadata": {
        "jupyter": {
          "source_hidden": false,
          "outputs_hidden": false
        },
        "nteract": {
          "transient": {
            "deleting": false
          }
        },
        "gather": {
          "logged": 1668455246618
        }
      }
    },
    {
      "cell_type": "code",
      "source": [
        "import mlflow\r\n",
        "\r\n",
        "# Obtain the tracking URL from MLClient\r\n",
        "MLFLOW_TRACKING_URI = ml_client.workspaces.get(\r\n",
        "    name=ml_client.workspace_name\r\n",
        ").mlflow_tracking_uri\r\n",
        "\r\n",
        "print(MLFLOW_TRACKING_URI)"
      ],
      "outputs": [
        {
          "output_type": "stream",
          "name": "stdout",
          "text": "azureml://centralus.api.azureml.ms/mlflow/v1.0/subscriptions/80ef7369-572a-4abd-b09a-033367f44858/resourceGroups/mlopsdev/providers/Microsoft.MachineLearningServices/workspaces/mlopswk\n"
        }
      ],
      "execution_count": 13,
      "metadata": {
        "jupyter": {
          "source_hidden": false,
          "outputs_hidden": false
        },
        "nteract": {
          "transient": {
            "deleting": false
          }
        },
        "gather": {
          "logged": 1668455253052
        }
      }
    },
    {
      "cell_type": "code",
      "source": [
        "# Set the MLFLOW TRACKING URI\r\n",
        "\r\n",
        "mlflow.set_tracking_uri(MLFLOW_TRACKING_URI)\r\n",
        "\r\n",
        "print(\"\\nCurrent tracking uri: {}\".format(mlflow.get_tracking_uri()))"
      ],
      "outputs": [
        {
          "output_type": "stream",
          "name": "stdout",
          "text": "\nCurrent tracking uri: azureml://centralus.api.azureml.ms/mlflow/v1.0/subscriptions/80ef7369-572a-4abd-b09a-033367f44858/resourceGroups/mlopsdev/providers/Microsoft.MachineLearningServices/workspaces/mlopswk\n"
        }
      ],
      "execution_count": 14,
      "metadata": {
        "jupyter": {
          "source_hidden": false,
          "outputs_hidden": false
        },
        "nteract": {
          "transient": {
            "deleting": false
          }
        },
        "gather": {
          "logged": 1668455254904
        }
      }
    },
    {
      "cell_type": "code",
      "source": [
        "from mlflow.tracking.client import MlflowClient\r\n",
        "\r\n",
        "# Initialize MLFlow client\r\n",
        "mlflow_client = MlflowClient()"
      ],
      "outputs": [],
      "execution_count": 15,
      "metadata": {
        "jupyter": {
          "source_hidden": false,
          "outputs_hidden": false
        },
        "nteract": {
          "transient": {
            "deleting": false
          }
        },
        "gather": {
          "logged": 1668455257056
        }
      }
    },
    {
      "cell_type": "code",
      "source": [
        "job_name = returned_job.name\r\n",
        "\r\n",
        "# Example if providing an specific Job name/ID\r\n",
        "# job_name = \"b4e95546-0aa1-448e-9ad6-002e3207b4fc\"\r\n",
        "\r\n",
        "# Get the parent run\r\n",
        "mlflow_parent_run = mlflow_client.get_run(job_name)\r\n",
        "\r\n",
        "print(\"Parent Run: \")\r\n",
        "print(mlflow_parent_run)"
      ],
      "outputs": [
        {
          "output_type": "stream",
          "name": "stdout",
          "text": "Parent Run: \n<Run: data=<RunData: metrics={'AUC_macro': 0.8613727478202907,\n 'AUC_micro': 0.8745165942050773,\n 'AUC_weighted': 0.8613727478202907,\n 'accuracy': 0.8226539451384094,\n 'average_precision_score_macro': 0.8553008492780101,\n 'average_precision_score_micro': 0.8608517595994416,\n 'average_precision_score_weighted': 0.8638819407540405,\n 'balanced_accuracy': 0.8044171585938884,\n 'f1_score_macro': 0.8066070205664607,\n 'f1_score_micro': 0.8226539451384094,\n 'f1_score_weighted': 0.8205446171410469,\n 'log_loss': 0.44147799144337424,\n 'matthews_correlation': 0.6224430509362389,\n 'norm_macro_recall': 0.6088343171877767,\n 'precision_score_macro': 0.8187248531719586,\n 'precision_score_micro': 0.8226539451384094,\n 'precision_score_weighted': 0.8274815981356782,\n 'recall_score_macro': 0.8044171585938884,\n 'recall_score_micro': 0.8226539451384094,\n 'recall_score_weighted': 0.8226539451384094,\n 'weighted_accuracy': 0.8386363915718051}, params={}, tags={'_azureml.ComputeTargetType': 'STANDARD_F8S_V2',\n 'automl_best_child_run_id': 'gray_room_6c34vq59cg_4',\n 'fit_time': '<0.0717846>;<0.3019598>;<0.39132859999999997>;<2>;<4>;',\n 'iteration': '<0>;<1>;<2>;<3>;<4>;',\n 'mlflow.rootRunId': 'gray_room_6c34vq59cg',\n 'mlflow.runName': 'gray_room_6c34vq59cg',\n 'mlflow.user': 'Balamurugan Balakreshnan',\n 'model_explain_best_run_child_id': 'gray_room_6c34vq59cg_4',\n 'model_explain_run': 'best_run',\n 'my_custom_tag': 'Titanic Training',\n 'pipeline_id': '<5dfac790c5c209f98a1da2dc1c7fb76f0397324f>;<c7af0367625be6ac5c2fecbfc72ed444cb7a2111>;<799d2168db11fc19b9e1c6c1df62f8981ad39fe9>;<__AutoML_Ensemble__>;<__AutoML_Stack_Ensemble__>;',\n 'predicted_cost': '<0>;<0>;<0.5>;<0>;<0>;',\n 'run_algorithm': '<LightGBM>;<XGBoostClassifier>;<ExtremeRandomTrees>;<VotingEnsemble>;<StackEnsemble>;',\n 'run_preprocessor': '<MaxAbsScaler>;<MaxAbsScaler>;<MaxAbsScaler>;<>;<>;',\n 'score': '<0.8103006716464755>;<0.7845207457158998>;<0.7688217939865671>;<0.8125855250768941>;<0.8226539451384094>;',\n 'training_percent': '<100>;<100>;<100>;<100>;<100>;'}>, info=<RunInfo: artifact_uri='azureml://experiments/automlv2-Titanic-experiment/runs/gray_room_6c34vq59cg/artifacts', end_time=1668455168767, experiment_id='b9ddabc5-c44f-4ca5-aba5-aaac4cebd113', lifecycle_stage='active', run_id='gray_room_6c34vq59cg', run_name='', run_uuid='gray_room_6c34vq59cg', start_time=1668454754939, status='FINISHED', user_id='6f37ab6a-5c81-40ab-94f0-3596c448bae5'>>\n"
        }
      ],
      "execution_count": 16,
      "metadata": {
        "jupyter": {
          "source_hidden": false,
          "outputs_hidden": false
        },
        "nteract": {
          "transient": {
            "deleting": false
          }
        },
        "gather": {
          "logged": 1668455263651
        }
      }
    },
    {
      "cell_type": "code",
      "source": [
        "# Get the best model's child run\r\n",
        "\r\n",
        "best_child_run_id = mlflow_parent_run.data.tags[\"automl_best_child_run_id\"]\r\n",
        "print(\"Found best child run id: \", best_child_run_id)\r\n",
        "\r\n",
        "best_run = mlflow_client.get_run(best_child_run_id)\r\n",
        "\r\n",
        "print(\"Best child run: \")\r\n",
        "print(best_run)"
      ],
      "outputs": [
        {
          "output_type": "stream",
          "name": "stdout",
          "text": "Found best child run id:  gray_room_6c34vq59cg_4\nBest child run: \n<Run: data=<RunData: metrics={'AUC_macro': 0.8613727478202907,\n 'AUC_micro': 0.8745165942050773,\n 'AUC_weighted': 0.8613727478202907,\n 'accuracy': 0.8226539451384094,\n 'average_precision_score_macro': 0.8553008492780101,\n 'average_precision_score_micro': 0.8608517595994416,\n 'average_precision_score_weighted': 0.8638819407540405,\n 'balanced_accuracy': 0.8044171585938884,\n 'f1_score_macro': 0.8066070205664607,\n 'f1_score_micro': 0.8226539451384094,\n 'f1_score_weighted': 0.8205446171410469,\n 'log_loss': 0.44147799144337424,\n 'matthews_correlation': 0.6224430509362389,\n 'norm_macro_recall': 0.6088343171877767,\n 'precision_score_macro': 0.8187248531719586,\n 'precision_score_micro': 0.8226539451384094,\n 'precision_score_weighted': 0.8274815981356782,\n 'recall_score_macro': 0.8044171585938884,\n 'recall_score_micro': 0.8226539451384094,\n 'recall_score_weighted': 0.8226539451384094,\n 'weighted_accuracy': 0.8386363915718051}, params={}, tags={'mlflow.parentRunId': 'gray_room_6c34vq59cg',\n 'mlflow.rootRunId': 'gray_room_6c34vq59cg',\n 'mlflow.runName': 'helpful_sponge_q6dwsj4d',\n 'mlflow.source.name': 'automl_driver.py',\n 'mlflow.source.type': 'JOB',\n 'mlflow.user': 'Balamurugan Balakreshnan',\n 'model_explain_run_id': 'gray_room_6c34vq59cg_ModelExplain',\n 'model_explanation': 'True'}>, info=<RunInfo: artifact_uri='azureml://experiments/automlv2-Titanic-experiment/runs/gray_room_6c34vq59cg_4/artifacts', end_time=1668455167650, experiment_id='b9ddabc5-c44f-4ca5-aba5-aaac4cebd113', lifecycle_stage='active', run_id='gray_room_6c34vq59cg_4', run_name='', run_uuid='gray_room_6c34vq59cg_4', start_time=1668455126125, status='FINISHED', user_id='6f37ab6a-5c81-40ab-94f0-3596c448bae5'>>\n"
        }
      ],
      "execution_count": 17,
      "metadata": {
        "jupyter": {
          "source_hidden": false,
          "outputs_hidden": false
        },
        "nteract": {
          "transient": {
            "deleting": false
          }
        },
        "gather": {
          "logged": 1668455270733
        }
      }
    },
    {
      "cell_type": "code",
      "source": [
        "best_run.data.metrics"
      ],
      "outputs": [
        {
          "output_type": "execute_result",
          "execution_count": 18,
          "data": {
            "text/plain": "{'f1_score_micro': 0.8226539451384094,\n 'recall_score_weighted': 0.8226539451384094,\n 'average_precision_score_micro': 0.8608517595994416,\n 'precision_score_weighted': 0.8274815981356782,\n 'recall_score_macro': 0.8044171585938884,\n 'precision_score_macro': 0.8187248531719586,\n 'norm_macro_recall': 0.6088343171877767,\n 'average_precision_score_macro': 0.8553008492780101,\n 'AUC_macro': 0.8613727478202907,\n 'recall_score_micro': 0.8226539451384094,\n 'f1_score_macro': 0.8066070205664607,\n 'AUC_micro': 0.8745165942050773,\n 'average_precision_score_weighted': 0.8638819407540405,\n 'accuracy': 0.8226539451384094,\n 'precision_score_micro': 0.8226539451384094,\n 'log_loss': 0.44147799144337424,\n 'f1_score_weighted': 0.8205446171410469,\n 'AUC_weighted': 0.8613727478202907,\n 'balanced_accuracy': 0.8044171585938884,\n 'matthews_correlation': 0.6224430509362389,\n 'weighted_accuracy': 0.8386363915718051}"
          },
          "metadata": {}
        }
      ],
      "execution_count": 18,
      "metadata": {
        "jupyter": {
          "source_hidden": false,
          "outputs_hidden": false
        },
        "nteract": {
          "transient": {
            "deleting": false
          }
        },
        "gather": {
          "logged": 1668455275770
        }
      }
    },
    {
      "cell_type": "code",
      "source": [
        "import os\r\n",
        "\r\n",
        "# Create local folder\r\n",
        "local_dir = \"./artifact_downloads\"\r\n",
        "if not os.path.exists(local_dir):\r\n",
        "    os.mkdir(local_dir)"
      ],
      "outputs": [],
      "execution_count": 19,
      "metadata": {
        "jupyter": {
          "source_hidden": false,
          "outputs_hidden": false
        },
        "nteract": {
          "transient": {
            "deleting": false
          }
        },
        "gather": {
          "logged": 1668455278137
        }
      }
    },
    {
      "cell_type": "code",
      "source": [
        "# Download run's artifacts/outputs\r\n",
        "local_path = mlflow_client.download_artifacts(\r\n",
        "    best_run.info.run_id, \"outputs\", local_dir\r\n",
        ")\r\n",
        "print(\"Artifacts downloaded in: {}\".format(local_path))\r\n",
        "print(\"Artifacts: {}\".format(os.listdir(local_path)))"
      ],
      "outputs": [
        {
          "output_type": "stream",
          "name": "stdout",
          "text": "Artifacts downloaded in: /mnt/batch/tasks/shared/LS_root/mounts/clusters/devbox2022/code/Users/babal/AMLBook2022/AMLBook2022/Chapter5/artifact_downloads/outputs\nArtifacts: ['conda_env_v_1_0_0.yml', 'engineered_feature_names.json', 'env_dependencies.json', 'featurization_summary.json', 'generated_code', 'internal_cross_validated_models.pkl', 'mlflow-model', 'model.onnx', 'model.pkl', 'model_onnx.json', 'pipeline_graph.json', 'run_id.txt', 'scoring_file_pbi_v_1_0_0.py', 'scoring_file_v_1_0_0.py', 'scoring_file_v_2_0_0.py']\n"
        }
      ],
      "execution_count": 20,
      "metadata": {
        "jupyter": {
          "source_hidden": false,
          "outputs_hidden": false
        },
        "nteract": {
          "transient": {
            "deleting": false
          }
        },
        "gather": {
          "logged": 1668455284420
        }
      }
    },
    {
      "cell_type": "code",
      "source": [
        "# Show the contents of the MLFlow model folder\r\n",
        "os.listdir(\"./artifact_downloads/outputs/mlflow-model\")"
      ],
      "outputs": [
        {
          "output_type": "execute_result",
          "execution_count": 21,
          "data": {
            "text/plain": "['conda.yaml', 'MLmodel', 'model.pkl', 'python_env.yaml', 'requirements.txt']"
          },
          "metadata": {}
        }
      ],
      "execution_count": 21,
      "metadata": {
        "jupyter": {
          "source_hidden": false,
          "outputs_hidden": false
        },
        "nteract": {
          "transient": {
            "deleting": false
          }
        },
        "gather": {
          "logged": 1668455286647
        }
      }
    },
    {
      "cell_type": "code",
      "source": [
        "# import required libraries\r\n",
        "# import required libraries\r\n",
        "from azure.ai.ml import MLClient\r\n",
        "from azure.ai.ml.entities import (\r\n",
        "    ManagedOnlineEndpoint,\r\n",
        "    ManagedOnlineDeployment,\r\n",
        "    Model,\r\n",
        "    Environment,\r\n",
        "    CodeConfiguration,\r\n",
        "    ProbeSettings,\r\n",
        ")\r\n",
        "from azure.ai.ml.constants import ModelType"
      ],
      "outputs": [],
      "execution_count": 22,
      "metadata": {
        "jupyter": {
          "source_hidden": false,
          "outputs_hidden": false
        },
        "nteract": {
          "transient": {
            "deleting": false
          }
        },
        "gather": {
          "logged": 1668455292539
        }
      }
    },
    {
      "cell_type": "code",
      "source": [
        "# Creating a unique endpoint name with current datetime to avoid conflicts\r\n",
        "import datetime\r\n",
        "\r\n",
        "online_endpoint_name = \"titanic-\" + datetime.datetime.now().strftime(\"%m%d%H%M%f\")\r\n",
        "\r\n",
        "# create an online endpoint\r\n",
        "endpoint = ManagedOnlineEndpoint(\r\n",
        "    name=online_endpoint_name,\r\n",
        "    description=\"this is a sample online endpoint for mlflow model\",\r\n",
        "    auth_mode=\"key\",\r\n",
        "    tags={\"foo\": \"bar\"},\r\n",
        ")\r\n",
        "ml_client.begin_create_or_update(endpoint)"
      ],
      "outputs": [
        {
          "output_type": "execute_result",
          "execution_count": 23,
          "data": {
            "text/plain": "ManagedOnlineEndpoint({'public_network_access': 'Enabled', 'provisioning_state': 'Succeeded', 'scoring_uri': 'https://titanic-11141948894167.centralus.inference.ml.azure.com/score', 'swagger_uri': 'https://titanic-11141948894167.centralus.inference.ml.azure.com/swagger.json', 'name': 'titanic-11141948894167', 'description': 'this is a sample online endpoint for mlflow model', 'tags': {'foo': 'bar'}, 'properties': {'azureml.onlineendpointid': '/subscriptions/80ef7369-572a-4abd-b09a-033367f44858/resourcegroups/mlopsdev/providers/microsoft.machinelearningservices/workspaces/mlopswk/onlineendpoints/titanic-11141948894167', 'AzureAsyncOperationUri': 'https://management.azure.com/subscriptions/80ef7369-572a-4abd-b09a-033367f44858/providers/Microsoft.MachineLearningServices/locations/centralus/mfeOperationsStatus/oe:0ac61d30-2265-42dd-9c0a-245ddb042f62:114adb6d-22ae-48f6-8010-164221db92b6?api-version=2022-02-01-preview'}, 'id': '/subscriptions/80ef7369-572a-4abd-b09a-033367f44858/resourceGroups/mlopsdev/providers/Microsoft.MachineLearningServices/workspaces/mlopswk/onlineEndpoints/titanic-11141948894167', 'base_path': './', 'creation_context': None, 'serialize': <msrest.serialization.Serializer object at 0x7f70a7b22410>, 'auth_mode': 'key', 'location': 'centralus', 'identity': <azure.ai.ml._restclient.v2022_02_01_preview.models._models_py3.ManagedServiceIdentity object at 0x7f70a7b22950>, 'traffic': {}, 'mirror_traffic': {}, 'kind': 'Managed'})"
          },
          "metadata": {}
        }
      ],
      "execution_count": 23,
      "metadata": {
        "jupyter": {
          "source_hidden": false,
          "outputs_hidden": false
        },
        "nteract": {
          "transient": {
            "deleting": false
          }
        },
        "gather": {
          "logged": 1668455419597
        }
      }
    },
    {
      "cell_type": "code",
      "source": [
        "#ml_client.begin_create_or_update(endpoint)"
      ],
      "outputs": [],
      "execution_count": null,
      "metadata": {
        "jupyter": {
          "source_hidden": false,
          "outputs_hidden": false
        },
        "nteract": {
          "transient": {
            "deleting": false
          }
        }
      }
    },
    {
      "cell_type": "code",
      "source": [
        "model_name = \"titanic-model\"\r\n",
        "model = Model(\r\n",
        "    path=f\"azureml://jobs/{best_run.info.run_id}/outputs/artifacts/outputs/model.pkl\",\r\n",
        "    name=model_name,\r\n",
        "    description=\"my sample mlflow model\",\r\n",
        ")\r\n",
        "\r\n",
        "# for downloaded file\r\n",
        "# model = Model(path=\"artifact_downloads/outputs/model.pkl\", name=model_name)\r\n",
        "\r\n",
        "registered_model = ml_client.models.create_or_update(model)\r\n",
        "registered_model.id"
      ],
      "outputs": [
        {
          "output_type": "execute_result",
          "execution_count": 24,
          "data": {
            "text/plain": "'/subscriptions/80ef7369-572a-4abd-b09a-033367f44858/resourceGroups/mlopsdev/providers/Microsoft.MachineLearningServices/workspaces/mlopswk/models/titanic-model/versions/7'"
          },
          "metadata": {}
        }
      ],
      "execution_count": 24,
      "metadata": {
        "jupyter": {
          "source_hidden": false,
          "outputs_hidden": false
        },
        "nteract": {
          "transient": {
            "deleting": false
          }
        },
        "gather": {
          "logged": 1668455427830
        }
      }
    },
    {
      "cell_type": "code",
      "source": [
        "env = Environment(\r\n",
        "    name=\"automl-tabular-env\",\r\n",
        "    description=\"environment for automl inference\",\r\n",
        "    image=\"mcr.microsoft.com/azureml/openmpi3.1.2-ubuntu18.04:20210727.v1\",\r\n",
        "    conda_file=\"artifact_downloads/outputs/conda_env_v_1_0_0.yml\",\r\n",
        ")"
      ],
      "outputs": [],
      "execution_count": 25,
      "metadata": {
        "jupyter": {
          "source_hidden": false,
          "outputs_hidden": false
        },
        "nteract": {
          "transient": {
            "deleting": false
          }
        },
        "gather": {
          "logged": 1668455430861
        }
      }
    },
    {
      "cell_type": "code",
      "source": [
        "code_configuration = CodeConfiguration(\r\n",
        "    code=\"artifact_downloads/outputs/\", scoring_script=\"scoring_file_v_2_0_0.py\"\r\n",
        ")"
      ],
      "outputs": [],
      "execution_count": 26,
      "metadata": {
        "jupyter": {
          "source_hidden": false,
          "outputs_hidden": false
        },
        "nteract": {
          "transient": {
            "deleting": false
          }
        },
        "gather": {
          "logged": 1668455436488
        }
      }
    },
    {
      "cell_type": "code",
      "source": [
        "deployment = ManagedOnlineDeployment(\r\n",
        "    name=\"titanic-deploy\",\r\n",
        "    endpoint_name=online_endpoint_name,\r\n",
        "    model=registered_model.id,\r\n",
        "    environment=env,\r\n",
        "    code_configuration=code_configuration,\r\n",
        "    instance_type=\"Standard_DS2_V2\",\r\n",
        "    instance_count=1,\r\n",
        ")"
      ],
      "outputs": [],
      "execution_count": 27,
      "metadata": {
        "jupyter": {
          "source_hidden": false,
          "outputs_hidden": false
        },
        "nteract": {
          "transient": {
            "deleting": false
          }
        },
        "gather": {
          "logged": 1668455439122
        }
      }
    },
    {
      "cell_type": "code",
      "source": [
        "ml_client.online_deployments.begin_create_or_update(deployment)"
      ],
      "outputs": [
        {
          "output_type": "stream",
          "name": "stdout",
          "text": "......................................................................."
        }
      ],
      "execution_count": 28,
      "metadata": {
        "jupyter": {
          "source_hidden": false,
          "outputs_hidden": false
        },
        "nteract": {
          "transient": {
            "deleting": false
          }
        },
        "gather": {
          "logged": 1668455825350
        }
      }
    },
    {
      "cell_type": "code",
      "source": [
        "# bankmarketing deployment to take 100% traffic\r\n",
        "endpoint.traffic = {\"titanic-deploy\": 100}\r\n",
        "#ml_client.begin_create_or_update(endpoint)"
      ],
      "outputs": [],
      "execution_count": 29,
      "metadata": {
        "jupyter": {
          "source_hidden": false,
          "outputs_hidden": false
        },
        "nteract": {
          "transient": {
            "deleting": false
          }
        },
        "gather": {
          "logged": 1668457696615
        }
      }
    },
    {
      "cell_type": "code",
      "source": [
        "# test the blue deployment with some sample data\r\n",
        "ml_client.online_endpoints.invoke(\r\n",
        "    endpoint_name=online_endpoint_name,\r\n",
        "    deployment_name=\"titanic-deploy\",\r\n",
        "    request_file=\"sample-titanic-data.json\",\r\n",
        ")"
      ],
      "outputs": [
        {
          "output_type": "execute_result",
          "execution_count": 30,
          "data": {
            "text/plain": "'{\"Results\": [0]}'"
          },
          "metadata": {}
        }
      ],
      "execution_count": 30,
      "metadata": {
        "jupyter": {
          "source_hidden": false,
          "outputs_hidden": false
        },
        "nteract": {
          "transient": {
            "deleting": false
          }
        },
        "gather": {
          "logged": 1668457703821
        }
      }
    },
    {
      "cell_type": "code",
      "source": [
        "# Get the details for online endpoint\r\n",
        "endpoint = ml_client.online_endpoints.get(name=online_endpoint_name)\r\n",
        "\r\n",
        "# existing traffic details\r\n",
        "print(endpoint.traffic)\r\n",
        "\r\n",
        "# Get the scoring URI\r\n",
        "print(endpoint.scoring_uri)"
      ],
      "outputs": [
        {
          "output_type": "stream",
          "name": "stdout",
          "text": "{'titanic-deploy': 0}\nhttps://titanic-11141948894167.centralus.inference.ml.azure.com/score\n"
        }
      ],
      "execution_count": 31,
      "metadata": {
        "jupyter": {
          "source_hidden": false,
          "outputs_hidden": false
        },
        "nteract": {
          "transient": {
            "deleting": false
          }
        },
        "gather": {
          "logged": 1668457708627
        }
      }
    },
    {
      "cell_type": "code",
      "source": [
        "ml_client.online_deployments.get_logs(\r\n",
        "    name=online_endpoint_name, endpoint_name=online_endpoint_name, lines=50\r\n",
        ")"
      ],
      "outputs": [],
      "execution_count": null,
      "metadata": {
        "jupyter": {
          "source_hidden": false,
          "outputs_hidden": false
        },
        "nteract": {
          "transient": {
            "deleting": false
          }
        }
      }
    },
    {
      "cell_type": "code",
      "source": [],
      "outputs": [],
      "execution_count": null,
      "metadata": {
        "jupyter": {
          "source_hidden": false,
          "outputs_hidden": false
        },
        "nteract": {
          "transient": {
            "deleting": false
          }
        }
      }
    },
    {
      "cell_type": "code",
      "source": [
        "ml_client.online_endpoints.begin_delete(name=online_endpoint_name)"
      ],
      "outputs": [
        {
          "output_type": "stream",
          "name": "stdout",
          "text": "............................................................................................"
        }
      ],
      "execution_count": 32,
      "metadata": {
        "jupyter": {
          "source_hidden": false,
          "outputs_hidden": false
        },
        "nteract": {
          "transient": {
            "deleting": false
          }
        },
        "gather": {
          "logged": 1668458198320
        }
      }
    },
    {
      "cell_type": "code",
      "source": [],
      "outputs": [],
      "execution_count": null,
      "metadata": {
        "jupyter": {
          "source_hidden": false,
          "outputs_hidden": false
        },
        "nteract": {
          "transient": {
            "deleting": false
          }
        }
      }
    }
  ],
  "metadata": {
    "kernelspec": {
      "name": "python310-sdkv2",
      "language": "python",
      "display_name": "Python 3.10 - SDK V2"
    },
    "language_info": {
      "name": "python",
      "version": "3.10.4",
      "mimetype": "text/x-python",
      "codemirror_mode": {
        "name": "ipython",
        "version": 3
      },
      "pygments_lexer": "ipython3",
      "nbconvert_exporter": "python",
      "file_extension": ".py"
    },
    "kernel_info": {
      "name": "python310-sdkv2"
    },
    "microsoft": {
      "host": {
        "AzureML": {
          "notebookHasBeenCompleted": true
        }
      }
    },
    "nteract": {
      "version": "nteract-front-end@1.0.0"
    }
  },
  "nbformat": 4,
  "nbformat_minor": 2
}