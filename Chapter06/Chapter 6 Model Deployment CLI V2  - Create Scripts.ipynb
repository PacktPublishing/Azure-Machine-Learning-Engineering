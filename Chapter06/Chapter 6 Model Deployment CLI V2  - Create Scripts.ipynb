{
 "cells": [
  {
   "cell_type": "markdown",
   "metadata": {},
   "source": [
    "# Deploy Model to online endpoint with CLI V2\n",
    "\n",
    "## In this notebook we will:\n",
    "\n",
    "- Create the 3 scripts required for Model Deployment through the CLI V2 SDK"
   ]
  },
  {
   "cell_type": "code",
   "execution_count": 1,
   "metadata": {
    "gather": {
     "logged": 1669872730392
    }
   },
   "outputs": [
    {
     "name": "stdout",
     "output_type": "stream",
     "text": [
      "CLI_V2_ManagedOnlineEndpoint folder created\n"
     ]
    }
   ],
   "source": [
    "import os\n",
    "\n",
    "# Create a folder for the experiment files\n",
    "script_folder = 'CLI_V2_ManagedOnlineEndpoint'\n",
    "os.makedirs(script_folder, exist_ok=True)\n",
    "print(script_folder, 'folder created')"
   ]
  },
  {
   "cell_type": "code",
   "execution_count": 2,
   "metadata": {},
   "outputs": [
    {
     "name": "stdout",
     "output_type": "stream",
     "text": [
      "Writing ./CLI_V2_ManagedOnlineEndpoint/score.py\n"
     ]
    }
   ],
   "source": [
    "%%writefile ./CLI_V2_ManagedOnlineEndpoint/score.py\n",
    "\n",
    "import os \n",
    "import json\n",
    "import joblib\n",
    "from pandas import json_normalize\n",
    "import pandas as pd\n",
    "import logging\n",
    "\n",
    "# Called when the service is loaded\n",
    "def init():\n",
    "    global model\n",
    "    # Get the path to the deployed model file and load it\n",
    "    model_path = os.path.join(os.getenv('AZUREML_MODEL_DIR'), 'model/model.pkl')\n",
    "    model = joblib.load(model_path)\n",
    "    logging.info(\"Init complete\")\n",
    "\n",
    "# Called when a request is received\n",
    "def run(raw_data):\n",
    "    dict= json.loads(raw_data)\n",
    "    df = json_normalize(dict['raw_data']) \n",
    "    y_pred = model.predict(df)\n",
    "    print(type(y_pred))\n",
    "    \n",
    "    result = {\"result\": y_pred.tolist()}\n",
    "    return result"
   ]
  },
  {
   "cell_type": "code",
   "execution_count": 3,
   "metadata": {},
   "outputs": [
    {
     "name": "stdout",
     "output_type": "stream",
     "text": [
      "Writing ./CLI_V2_ManagedOnlineEndpoint/endpoint.yml\n"
     ]
    }
   ],
   "source": [
    "%%writefile ./CLI_V2_ManagedOnlineEndpoint/endpoint.yml\n",
    "$schema: https://azuremlschemas.azureedge.net/latest/managedOnlineEndpoint.schema.json\n",
    "name: titanic-online-endpoint\n",
    "description: \"CLI V2 titanic online endpoint for mlflow model\"\n",
    "auth_mode: key\n",
    "tags : {\"CLIV2\": \"titanic\"}"
   ]
  },
  {
   "cell_type": "code",
   "execution_count": 4,
   "metadata": {},
   "outputs": [
    {
     "name": "stdout",
     "output_type": "stream",
     "text": [
      "Writing ./CLI_V2_ManagedOnlineEndpoint/deployment.yml\n"
     ]
    }
   ],
   "source": [
    "%%writefile ./CLI_V2_ManagedOnlineEndpoint/deployment.yml\n",
    "\n",
    "$schema: https://azuremlschemas.azureedge.net/latest/managedOnlineDeployment.schema.json\n",
    "name: blue\n",
    "endpoint_name: titanic-online-endpoint\n",
    "model: azureml:chapter6_titanic_model@latest\n",
    "code_configuration:\n",
    "  code: .\n",
    "  scoring_script: score.py\n",
    "environment: azureml:env_for_sdkv2deploy@latest\n",
    "instance_type: Standard_F2s_v2\n",
    "instance_count: 1"
   ]
  },
  {
   "cell_type": "code",
   "execution_count": null,
   "metadata": {},
   "outputs": [],
   "source": []
  }
 ],
 "metadata": {
  "kernel_info": {
   "name": "python38-azureml"
  },
  "kernelspec": {
   "display_name": "Python 3.8 - AzureML",
   "language": "python",
   "name": "python38-azureml"
  },
  "language_info": {
   "codemirror_mode": {
    "name": "ipython",
    "version": 3
   },
   "file_extension": ".py",
   "mimetype": "text/x-python",
   "name": "python",
   "nbconvert_exporter": "python",
   "pygments_lexer": "ipython3",
   "version": "3.8.5"
  },
  "nteract": {
   "version": "nteract-front-end@1.0.0"
  }
 },
 "nbformat": 4,
 "nbformat_minor": 1
}
