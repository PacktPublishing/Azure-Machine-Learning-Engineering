{
 "cells": [
  {
   "cell_type": "markdown",
   "id": "a373d387",
   "metadata": {},
   "source": [
    "## To learn more about AML pipelines and remote jobs please refer to https://github.com/Azure/azureml-examples"
   ]
  },
  {
   "cell_type": "markdown",
   "id": "9c6e8740",
   "metadata": {},
   "source": [
    "## This notebook was test using Python 3.8 - AzureML kernel"
   ]
  },
  {
   "cell_type": "code",
   "execution_count": 107,
   "id": "a3b44646",
   "metadata": {},
   "outputs": [
    {
     "name": "stdout",
     "output_type": "stream",
     "text": [
      "Requirement already satisfied: azure-ai-ml in /anaconda/envs/azureml_py38/lib/python3.8/site-packages (0.1.0b3)\n",
      "Requirement already satisfied: typing-extensions>=4.0.1 in /anaconda/envs/azureml_py38/lib/python3.8/site-packages (from azure-ai-ml) (4.2.0)\n",
      "Requirement already satisfied: isodate in /anaconda/envs/azureml_py38/lib/python3.8/site-packages (from azure-ai-ml) (0.6.1)\n",
      "Requirement already satisfied: azure-common<2.0.0,>=1.1 in /anaconda/envs/azureml_py38/lib/python3.8/site-packages (from azure-ai-ml) (1.1.28)\n",
      "Requirement already satisfied: pyyaml<7.0.0,>=5.1.0 in /anaconda/envs/azureml_py38/lib/python3.8/site-packages (from azure-ai-ml) (6.0)\n",
      "Requirement already satisfied: colorama<=0.4.4 in /anaconda/envs/azureml_py38/lib/python3.8/site-packages (from azure-ai-ml) (0.4.4)\n",
      "Requirement already satisfied: azure-mgmt-core<2.0.0,>=1.2.0 in /anaconda/envs/azureml_py38/lib/python3.8/site-packages (from azure-ai-ml) (1.3.0)\n",
      "Collecting pyjwt<=2.3.0\n",
      "  Downloading PyJWT-2.3.0-py3-none-any.whl (16 kB)\n",
      "Requirement already satisfied: pathspec==0.9.* in /anaconda/envs/azureml_py38/lib/python3.8/site-packages (from azure-ai-ml) (0.9.0)\n",
      "Requirement already satisfied: msrest>=0.6.18 in /anaconda/envs/azureml_py38/lib/python3.8/site-packages (from azure-ai-ml) (0.6.21)\n",
      "Requirement already satisfied: applicationinsights<=0.11.10 in /anaconda/envs/azureml_py38/lib/python3.8/site-packages (from azure-ai-ml) (0.11.10)\n",
      "Requirement already satisfied: azure-identity in /anaconda/envs/azureml_py38/lib/python3.8/site-packages (from azure-ai-ml) (1.7.0)\n",
      "Requirement already satisfied: azure-storage-file-share<13.0.0 in /anaconda/envs/azureml_py38/lib/python3.8/site-packages (from azure-ai-ml) (12.8.0)\n",
      "Requirement already satisfied: jsonschema<5.0.0,>=4.0.0 in /anaconda/envs/azureml_py38/lib/python3.8/site-packages (from azure-ai-ml) (4.5.1)\n",
      "Requirement already satisfied: azure-core!=1.22.0,<2.0.0,>=1.8.0 in /anaconda/envs/azureml_py38/lib/python3.8/site-packages (from azure-ai-ml) (1.22.1)\n",
      "Requirement already satisfied: pydash<=4.9.0 in /anaconda/envs/azureml_py38/lib/python3.8/site-packages (from azure-ai-ml) (4.9.0)\n",
      "Requirement already satisfied: marshmallow<4.0.0,>=3.5 in /anaconda/envs/azureml_py38/lib/python3.8/site-packages (from azure-ai-ml) (3.16.0)\n",
      "Collecting azure-storage-blob<=12.9.0,>=12.5.0\n",
      "  Downloading azure_storage_blob-12.9.0-py2.py3-none-any.whl (356 kB)\n",
      "\u001b[K     |████████████████████████████████| 356 kB 55.7 MB/s eta 0:00:01\n",
      "\u001b[?25hCollecting tqdm<=4.63.0\n",
      "  Downloading tqdm-4.63.0-py2.py3-none-any.whl (76 kB)\n",
      "\u001b[K     |████████████████████████████████| 76 kB 4.6 MB/s  eta 0:00:01\n",
      "\u001b[?25hRequirement already satisfied: docker in /anaconda/envs/azureml_py38/lib/python3.8/site-packages (from azure-ai-ml) (5.0.3)\n",
      "Requirement already satisfied: six in /anaconda/envs/azureml_py38/lib/python3.8/site-packages (from isodate->azure-ai-ml) (1.16.0)\n",
      "Requirement already satisfied: certifi>=2017.4.17 in /anaconda/envs/azureml_py38/lib/python3.8/site-packages (from msrest>=0.6.18->azure-ai-ml) (2022.5.18.1)\n",
      "Requirement already satisfied: requests-oauthlib>=0.5.0 in /anaconda/envs/azureml_py38/lib/python3.8/site-packages (from msrest>=0.6.18->azure-ai-ml) (1.3.1)\n",
      "Requirement already satisfied: requests~=2.16 in /anaconda/envs/azureml_py38/lib/python3.8/site-packages (from msrest>=0.6.18->azure-ai-ml) (2.25.1)\n",
      "Requirement already satisfied: msal<2.0.0,>=1.12.0 in /anaconda/envs/azureml_py38/lib/python3.8/site-packages (from azure-identity->azure-ai-ml) (1.17.0)\n",
      "Requirement already satisfied: msal-extensions~=0.3.0 in /anaconda/envs/azureml_py38/lib/python3.8/site-packages (from azure-identity->azure-ai-ml) (0.3.1)\n",
      "Requirement already satisfied: cryptography>=2.5 in /anaconda/envs/azureml_py38/lib/python3.8/site-packages (from azure-identity->azure-ai-ml) (36.0.2)\n",
      "Requirement already satisfied: attrs>=17.4.0 in /anaconda/envs/azureml_py38/lib/python3.8/site-packages (from jsonschema<5.0.0,>=4.0.0->azure-ai-ml) (21.4.0)\n",
      "Requirement already satisfied: importlib-resources>=1.4.0; python_version < \"3.9\" in /anaconda/envs/azureml_py38/lib/python3.8/site-packages (from jsonschema<5.0.0,>=4.0.0->azure-ai-ml) (5.7.1)\n",
      "Requirement already satisfied: pyrsistent!=0.17.0,!=0.17.1,!=0.17.2,>=0.14.0 in /anaconda/envs/azureml_py38/lib/python3.8/site-packages (from jsonschema<5.0.0,>=4.0.0->azure-ai-ml) (0.18.1)\n",
      "Requirement already satisfied: packaging>=17.0 in /anaconda/envs/azureml_py38/lib/python3.8/site-packages (from marshmallow<4.0.0,>=3.5->azure-ai-ml) (21.3)\n",
      "Requirement already satisfied: websocket-client>=0.32.0 in /anaconda/envs/azureml_py38/lib/python3.8/site-packages (from docker->azure-ai-ml) (1.3.2)\n",
      "Requirement already satisfied: oauthlib>=3.0.0 in /anaconda/envs/azureml_py38/lib/python3.8/site-packages (from requests-oauthlib>=0.5.0->msrest>=0.6.18->azure-ai-ml) (3.2.0)\n",
      "Requirement already satisfied: idna<3,>=2.5 in /anaconda/envs/azureml_py38/lib/python3.8/site-packages (from requests~=2.16->msrest>=0.6.18->azure-ai-ml) (2.10)\n",
      "Requirement already satisfied: urllib3<1.27,>=1.21.1 in /anaconda/envs/azureml_py38/lib/python3.8/site-packages (from requests~=2.16->msrest>=0.6.18->azure-ai-ml) (1.26.9)\n",
      "Requirement already satisfied: chardet<5,>=3.0.2 in /anaconda/envs/azureml_py38/lib/python3.8/site-packages (from requests~=2.16->msrest>=0.6.18->azure-ai-ml) (3.0.4)\n",
      "Requirement already satisfied: portalocker<3,>=1.0; python_version >= \"3.5\" and platform_system != \"Windows\" in /anaconda/envs/azureml_py38/lib/python3.8/site-packages (from msal-extensions~=0.3.0->azure-identity->azure-ai-ml) (2.4.0)\n",
      "Requirement already satisfied: cffi>=1.12 in /anaconda/envs/azureml_py38/lib/python3.8/site-packages (from cryptography>=2.5->azure-identity->azure-ai-ml) (1.15.0)\n",
      "Requirement already satisfied: zipp>=3.1.0; python_version < \"3.10\" in /anaconda/envs/azureml_py38/lib/python3.8/site-packages (from importlib-resources>=1.4.0; python_version < \"3.9\"->jsonschema<5.0.0,>=4.0.0->azure-ai-ml) (3.8.0)\n",
      "Requirement already satisfied: pyparsing!=3.0.5,>=2.0.2 in /anaconda/envs/azureml_py38/lib/python3.8/site-packages (from packaging>=17.0->marshmallow<4.0.0,>=3.5->azure-ai-ml) (3.0.9)\n",
      "Requirement already satisfied: pycparser in /anaconda/envs/azureml_py38/lib/python3.8/site-packages (from cffi>=1.12->cryptography>=2.5->azure-identity->azure-ai-ml) (2.21)\n",
      "\u001b[31mERROR: fbprophet 0.7.1 requires cmdstanpy==0.9.5, which is not installed.\u001b[0m\n",
      "\u001b[31mERROR: pycaret 2.3.10 has requirement pyyaml<6.0.0, but you'll have pyyaml 6.0 which is incompatible.\u001b[0m\n",
      "\u001b[31mERROR: pycaret 2.3.10 has requirement scikit-learn==0.23.2, but you'll have scikit-learn 0.22.1 which is incompatible.\u001b[0m\n",
      "\u001b[31mERROR: pandas-profiling 3.2.0 has requirement joblib~=1.1.0, but you'll have joblib 0.14.1 which is incompatible.\u001b[0m\n",
      "\u001b[31mERROR: pandas-profiling 3.2.0 has requirement markupsafe~=2.1.1, but you'll have markupsafe 2.0.1 which is incompatible.\u001b[0m\n",
      "\u001b[31mERROR: datasets 1.8.0 has requirement tqdm<4.50.0,>=4.27, but you'll have tqdm 4.63.0 which is incompatible.\u001b[0m\n",
      "\u001b[31mERROR: azureml-widgets 1.42.0 has requirement jinja2<=2.11.2, but you'll have jinja2 2.11.3 which is incompatible.\u001b[0m\n",
      "\u001b[31mERROR: azureml-contrib-notebook 1.42.0 has requirement nbconvert<6, but you'll have nbconvert 6.5.0 which is incompatible.\u001b[0m\n",
      "\u001b[31mERROR: azure-cli 2.37.0 has requirement azure-graphrbac~=0.60.0, but you'll have azure-graphrbac 0.61.1 which is incompatible.\u001b[0m\n",
      "\u001b[31mERROR: azure-cli 2.37.0 has requirement azure-mgmt-authorization~=0.61.0, but you'll have azure-mgmt-authorization 2.0.0 which is incompatible.\u001b[0m\n",
      "\u001b[31mERROR: azure-cli 2.37.0 has requirement azure-mgmt-containerregistry==8.2.0, but you'll have azure-mgmt-containerregistry 9.1.0 which is incompatible.\u001b[0m\n",
      "\u001b[31mERROR: azure-cli 2.37.0 has requirement azure-mgmt-resource==21.1.0b1, but you'll have azure-mgmt-resource 21.0.0 which is incompatible.\u001b[0m\n",
      "\u001b[31mERROR: azure-cli 2.37.0 has requirement azure-mgmt-storage~=20.0.0, but you'll have azure-mgmt-storage 19.1.0 which is incompatible.\u001b[0m\n",
      "\u001b[31mERROR: azure-cli-core 2.37.0 has requirement argcomplete~=1.8, but you'll have argcomplete 2.0.0 which is incompatible.\u001b[0m\n",
      "\u001b[31mERROR: azure-cli-core 2.37.0 has requirement msal==1.18.0b1, but you'll have msal 1.17.0 which is incompatible.\u001b[0m\n",
      "\u001b[31mERROR: azure-cli-core 2.37.0 has requirement msal-extensions~=1.0.0, but you'll have msal-extensions 0.3.1 which is incompatible.\u001b[0m\n",
      "Installing collected packages: pyjwt, azure-storage-blob, tqdm\n",
      "  Attempting uninstall: pyjwt\n",
      "    Found existing installation: PyJWT 2.4.0\n",
      "    Uninstalling PyJWT-2.4.0:\n",
      "      Successfully uninstalled PyJWT-2.4.0\n"
     ]
    },
    {
     "name": "stdout",
     "output_type": "stream",
     "text": [
      "  Attempting uninstall: azure-storage-blob\n",
      "    Found existing installation: azure-storage-blob 12.12.0\n",
      "    Uninstalling azure-storage-blob-12.12.0:\n",
      "      Successfully uninstalled azure-storage-blob-12.12.0\n",
      "  Attempting uninstall: tqdm\n",
      "    Found existing installation: tqdm 4.64.0\n",
      "    Uninstalling tqdm-4.64.0:\n",
      "      Successfully uninstalled tqdm-4.64.0\n",
      "Successfully installed azure-storage-blob-12.9.0 pyjwt-2.3.0 tqdm-4.63.0\n",
      "Note: you may need to restart the kernel to use updated packages.\n"
     ]
    }
   ],
   "source": [
    "%pip install azure-ai-ml"
   ]
  },
  {
   "cell_type": "markdown",
   "id": "6b484f8b",
   "metadata": {},
   "source": [
    "## Import required libraries"
   ]
  },
  {
   "cell_type": "code",
   "execution_count": 28,
   "id": "dcd7b910",
   "metadata": {},
   "outputs": [],
   "source": [
    "# import required libraries\n",
    "from azure.ai.ml import MLClient, Input\n",
    "from azure.ai.ml.entities import (\n",
    "    BatchEndpoint,\n",
    "    BatchDeployment,\n",
    "    Model,\n",
    "    Environment,\n",
    "    BatchRetrySettings,\n",
    ")\n",
    "# from azure.ai.ml.constants import AssetType\n",
    "from azure.identity import DefaultAzureCredential\n",
    "from azure.ai.ml.constants import BatchDeploymentOutputAction\n",
    "import mlflow\n",
    "from azure.ai.ml.entities import ManagedOnlineEndpoint, ManagedOnlineDeployment, Model"
   ]
  },
  {
   "cell_type": "markdown",
   "id": "8a3f934e",
   "metadata": {},
   "source": [
    "### Configure workspace details and get a handle to the workspace"
   ]
  },
  {
   "cell_type": "code",
   "execution_count": 29,
   "id": "0b749842",
   "metadata": {},
   "outputs": [],
   "source": [
    "# Enter details of your AML workspace\n",
    "subscription_id = \"xxxxxxxxx\"\n",
    "resource_group = \"aml-v2-book\"\n",
    "workspace = \"aml2-ws\"\n",
    "# get a handle to the workspace\n",
    "ml_client = MLClient(\n",
    "    DefaultAzureCredential(), subscription_id, resource_group, workspace\n",
    ")"
   ]
  },
  {
   "cell_type": "markdown",
   "id": "6b75d7c8",
   "metadata": {},
   "source": [
    "### Create a batch endpoint for inferencing"
   ]
  },
  {
   "cell_type": "code",
   "execution_count": 30,
   "id": "6da0ccd0",
   "metadata": {},
   "outputs": [],
   "source": [
    "import datetime\n",
    "\n",
    "batch_endpoint_name = \"titanic-batchendpoint-sdk\"\n",
    "\n",
    "# create a batch endpoint\n",
    "endpoint = BatchEndpoint(\n",
    "    name=batch_endpoint_name,\n",
    "    description=\"this is a sample batch endpoint created using sdk\",\n",
    "    tags={\"tag1\": \"val1\"},\n",
    ")"
   ]
  },
  {
   "cell_type": "code",
   "execution_count": 31,
   "id": "f2d37090",
   "metadata": {},
   "outputs": [
    {
     "data": {
      "text/plain": [
       "BatchEndpoint({'scoring_uri': 'https://titanic-batchendpoint-sdk2.eastus.inference.ml.azure.com/jobs', 'swagger_uri': None, 'provisioning_state': 'Succeeded', 'name': 'titanic-batchendpoint-sdk2', 'description': 'this is a sample batch endpoint created using sdk', 'tags': {'tag1': 'val1'}, 'properties': {'BatchEndpointCreationApiVersion': '2022-05-01', 'azureml.onlineendpointid': '/subscriptions/dcfc206a-203b-4c00-a236-bdf576a37896/resourcegroups/aml-v2-book/providers/microsoft.machinelearningservices/workspaces/aml2-ws/onlineendpoints/titanic-batchendpoint-sdk2', 'AzureAsyncOperationUri': 'https://management.azure.com/subscriptions/dcfc206a-203b-4c00-a236-bdf576a37896/providers/Microsoft.MachineLearningServices/locations/eastus/mfeOperationsStatus/be:8fee5b67-b42b-442e-b2a1-5aa4a497553f:35200320-1835-45b1-98b0-223b42f76ce2?api-version=2022-05-01'}, 'id': '/subscriptions/dcfc206a-203b-4c00-a236-bdf576a37896/resourceGroups/aml-v2-book/providers/Microsoft.MachineLearningServices/workspaces/aml2-ws/batchEndpoints/titanic-batchendpoint-sdk2', 'base_path': './', 'creation_context': None, 'serialize': <msrest.serialization.Serializer object at 0x7f3dde6a55e0>, 'auth_mode': 'aad_token', 'location': 'eastus', 'defaults': <azure.ai.ml._restclient.v2022_05_01.models._models_py3.BatchEndpointDefaults object at 0x7f3dde6a5850>})"
      ]
     },
     "execution_count": 31,
     "metadata": {},
     "output_type": "execute_result"
    }
   ],
   "source": [
    "ml_client.begin_create_or_update(endpoint)"
   ]
  },
  {
   "cell_type": "markdown",
   "id": "47a0d921",
   "metadata": {},
   "source": [
    "### Retrieving an existing registered model from the workspace"
   ]
  },
  {
   "cell_type": "code",
   "execution_count": 32,
   "id": "040ef526",
   "metadata": {},
   "outputs": [],
   "source": [
    "model = ml_client.models.get(\"titanic_survival_model_\", label=\"latest\")"
   ]
  },
  {
   "cell_type": "markdown",
   "id": "87697389",
   "metadata": {},
   "source": [
    "### Creating a batch deployment "
   ]
  },
  {
   "cell_type": "code",
   "execution_count": 33,
   "id": "8085a7ac",
   "metadata": {},
   "outputs": [],
   "source": [
    "# create a batch deployment\n",
    "deployment = BatchDeployment(\n",
    "    name=\"titanic-deployment-sdk\",\n",
    "    description=\"titanic deployment created using sdk\",\n",
    "    endpoint_name=\"titanic-batchendpoint-sdk2\",\n",
    "    model=model,\n",
    "    compute=\"cpu-cluster\",\n",
    "    instance_count=1,\n",
    "    max_concurrency_per_instance=2,\n",
    "    mini_batch_size=10,\n",
    "    output_action=BatchDeploymentOutputAction.APPEND_ROW,\n",
    "    output_file_name=\"predictions.csv\",\n",
    "    retry_settings=BatchRetrySettings(max_retries=3, timeout=30),\n",
    "    logging_level=\"info\",\n",
    ")"
   ]
  },
  {
   "cell_type": "code",
   "execution_count": 34,
   "id": "4d4f722f",
   "metadata": {},
   "outputs": [
    {
     "data": {
      "text/plain": [
       "BatchDeployment({'endpoint_name': 'titanic-batchendpoint-sdk2', 'type': None, 'name': 'titanic-deployment-sdk', 'description': 'titanic deployment created using sdk', 'tags': {}, 'properties': {}, 'id': '/subscriptions/dcfc206a-203b-4c00-a236-bdf576a37896/resourceGroups/aml-v2-book/providers/Microsoft.MachineLearningServices/workspaces/aml2-ws/batchEndpoints/titanic-batchendpoint-sdk2/deployments/titanic-deployment-sdk', 'base_path': './', 'creation_context': None, 'serialize': <msrest.serialization.Serializer object at 0x7f3dde513490>, 'model': '/subscriptions/dcfc206a-203b-4c00-a236-bdf576a37896/resourceGroups/aml-v2-book/providers/Microsoft.MachineLearningServices/workspaces/aml2-ws/models/titanic_survival_model_/versions/3', 'code_configuration': None, 'environment': None, 'environment_variables': {}, 'compute': '/subscriptions/dcfc206a-203b-4c00-a236-bdf576a37896/resourceGroups/aml-v2-book/providers/Microsoft.MachineLearningServices/workspaces/aml2-ws/computes/cpu-cluster', 'resources': {'instance_count': 1, 'properties': {}}, 'output_action': 'append_row', 'output_file_name': 'predictions.csv', 'error_threshold': -1, 'retry_settings': <azure.ai.ml.entities._deployment.deployment_settings.BatchRetrySettings object at 0x7f3dde513550>, 'logging_level': 'Info', 'mini_batch_size': 10, 'max_concurrency_per_instance': 2})"
      ]
     },
     "execution_count": 34,
     "metadata": {},
     "output_type": "execute_result"
    }
   ],
   "source": [
    "ml_client.begin_create_or_update(deployment)"
   ]
  },
  {
   "cell_type": "markdown",
   "id": "733c4a74",
   "metadata": {},
   "source": [
    "### Invoke your batch endpoint with a registered dataset"
   ]
  },
  {
   "cell_type": "code",
   "execution_count": 35,
   "id": "1a15b7e5",
   "metadata": {},
   "outputs": [],
   "source": [
    "data = ml_client.data.get(\"titanic-test-data\", version=7)\n",
    "\n",
    "job = ml_client.batch_endpoints.invoke(\n",
    "    endpoint_name=\"titanic-batchendpoint-sdk\",\n",
    "    input=Input(path=data.id, type=\"uri_file\"), \n",
    "    deployment_name=\"titanic-deployment-sdk\",  # name is required if default deployment is not set\n",
    "    params_override=[{\"mini_batch_size\": \"1\"}, {\"compute.instance_count\": \"1\"}],\n",
    ")\n"
   ]
  },
  {
   "cell_type": "code",
   "execution_count": 26,
   "id": "9f23b157",
   "metadata": {},
   "outputs": [
    {
     "data": {
      "text/plain": [
       "'/subscriptions/dcfc206a-203b-4c00-a236-bdf576a37896/resourceGroups/aml-v2-book/providers/Microsoft.MachineLearningServices/workspaces/aml2-ws/data/titanic-test-data/versions/7'"
      ]
     },
     "execution_count": 26,
     "metadata": {},
     "output_type": "execute_result"
    }
   ],
   "source": [
    "data.id"
   ]
  },
  {
   "cell_type": "markdown",
   "id": "e90518f2",
   "metadata": {},
   "source": [
    "###  Monitor the batch scoring job"
   ]
  },
  {
   "cell_type": "code",
   "execution_count": 36,
   "id": "ca648357",
   "metadata": {},
   "outputs": [
    {
     "name": "stdout",
     "output_type": "stream",
     "text": [
      "Running\n",
      "RunId: 112a52ae-2615-43b0-b86e-8e8c3cdbe4b2\n",
      "Web View: https://ml.azure.com/runs/112a52ae-2615-43b0-b86e-8e8c3cdbe4b2?wsid=/subscriptions/dcfc206a-203b-4c00-a236-bdf576a37896/resourcegroups/aml-v2-book/workspaces/aml2-ws\n",
      "\n",
      "Streaming logs/azureml/executionlogs.txt\n",
      "========================================\n",
      "\n",
      "[2022-12-04 19:11:48Z] Submitting 1 runs, first five are: e1ec955d:df43d50e-f325-43ed-b4d2-69b559a31ece\n",
      "[2022-12-04 19:21:27Z] Completing processing run id df43d50e-f325-43ed-b4d2-69b559a31ece.\n",
      "\n",
      "Execution Summary\n",
      "=================\n",
      "RunId: 112a52ae-2615-43b0-b86e-8e8c3cdbe4b2\n",
      "Web View: https://ml.azure.com/runs/112a52ae-2615-43b0-b86e-8e8c3cdbe4b2?wsid=/subscriptions/dcfc206a-203b-4c00-a236-bdf576a37896/resourcegroups/aml-v2-book/workspaces/aml2-ws\n",
      "\n"
     ]
    }
   ],
   "source": [
    "# get the details of the job\n",
    "job_name = job.name\n",
    "batch_job = ml_client.jobs.get(name=job_name)\n",
    "print(batch_job.status)\n",
    "# stream the job logs\n",
    "ml_client.jobs.stream(name=job_name)"
   ]
  },
  {
   "cell_type": "code",
   "execution_count": null,
   "id": "d814f827",
   "metadata": {},
   "outputs": [],
   "source": []
  },
  {
   "cell_type": "code",
   "execution_count": null,
   "id": "1cea96e9",
   "metadata": {},
   "outputs": [],
   "source": []
  }
 ],
 "metadata": {
  "kernelspec": {
   "display_name": "Python 3.8 - AzureML",
   "language": "python",
   "name": "python38-azureml"
  },
  "language_info": {
   "codemirror_mode": {
    "name": "ipython",
    "version": 3
   },
   "file_extension": ".py",
   "mimetype": "text/x-python",
   "name": "python",
   "nbconvert_exporter": "python",
   "pygments_lexer": "ipython3",
   "version": "3.8.5"
  }
 },
 "nbformat": 4,
 "nbformat_minor": 5
}
