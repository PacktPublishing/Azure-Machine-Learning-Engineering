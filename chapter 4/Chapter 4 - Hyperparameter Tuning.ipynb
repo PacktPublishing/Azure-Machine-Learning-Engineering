{
 "cells": [
  {
   "cell_type": "markdown",
   "metadata": {},
   "source": [
    "# Chapter 4 - Hyperparameter Tuning\n",
    "\n",
    "## In this notebook we will:\n",
    "\n",
    "  - Connect to your workspace.\n",
    "  - Create a virtual environment and leverage in this notebook\n",
    "  - Explore the dataset\n",
    "  - Data cleansing and analysis work\n",
    "  - Feature Engineering\n",
    "  - Register the cleansed data\n",
    "  - Explore leveraging an MLTable\n",
    "  - Run a job that leverages\n",
    "    - sklearn pipeline for data transformation\n",
    "    - `mlflow.autolog` for capturing *training* and *test* metrics\n",
    "    - log additional metrics to a given job run\n",
    "  - download and use a model that is created as a result of the job\n",
    "  - Use `Sweep` to search for the best hyperparamers for a model"
   ]
  },
  {
   "cell_type": "markdown",
   "metadata": {},
   "source": [
    "## Setting yourself up for success\n",
    "\n",
    "- When creating a model, one of the major obstacles is having an environment that has the required dependencies.  We will create and register an AML environment and use on our compute instance.  This will allow us to leverage the model we build on a compute cluster on our compute instance.  The same packages and versions leveraged to build the model will be used to consume the model later in this notebook\n",
    "\n",
    "Steps to setup our environment include:\n",
    "- Connecting to our workspace\n",
    "- Defining and registering the environment\n",
    "- Making the environment available to our compute instance \n",
    "- Making the environment available to our jupyter notebook\n",
    "\n",
    "Let's get started\n",
    "\n",
    "Select **Kernel** > **Change Kernel** > **Python 3.10 - SDK V2**"
   ]
  },
  {
   "cell_type": "code",
   "execution_count": 1,
   "metadata": {},
   "outputs": [
    {
     "name": "stdout",
     "output_type": "stream",
     "text": [
      "1.1.2\n"
     ]
    }
   ],
   "source": [
    "import azure.ai.ml\n",
    "print(azure.ai.ml._version.VERSION)"
   ]
  },
  {
   "cell_type": "code",
   "execution_count": 2,
   "metadata": {},
   "outputs": [],
   "source": [
    "#import required libraries\n",
    "import pandas as pd\n",
    "from azure.ai.ml import MLClient\n",
    "from azure.identity import DefaultAzureCredential, InteractiveBrowserCredential\n",
    "from azure.ai.ml.entities import Environment, BuildContext"
   ]
  },
  {
   "cell_type": "markdown",
   "metadata": {},
   "source": [
    "## Connecting to your workspace\n",
    "\n",
    "Once you connect to your workspace, you will create a new cpu target which you will provide an environment to.\n",
    "\n",
    "- We should be able to connect with the MLClient using your credentials in the config of the compute instance.  You should not keep your subscription id, resource group or workspace name visible in your code"
   ]
  },
  {
   "cell_type": "code",
   "execution_count": 3,
   "metadata": {},
   "outputs": [],
   "source": [
    "subscription_id = \"\"\n",
    "resource_group =  \"\"\n",
    "workspace =  \"\"\n",
    "\n",
    "ml_client = MLClient(\n",
    "    DefaultAzureCredential(), subscription_id, resource_group, workspace\n",
    ")"
   ]
  },
  {
   "cell_type": "markdown",
   "metadata": {},
   "source": [
    "## Setup enviroment\n",
    "\n",
    "### Creating environment from docker image with a conda YAML\n",
    "\n",
    "Azure ML allows you to leverage curated environments, as well as to build your own environment from:\n",
    "\n",
    "    - existing docker image\n",
    "    - base docker image with a conda yml file to customize\n",
    "    - a docker build content\n",
    "    \n",
    "We will proceed with creating an environment from a docker build plus a conda yml file."
   ]
  },
  {
   "cell_type": "code",
   "execution_count": 4,
   "metadata": {},
   "outputs": [
    {
     "name": "stdout",
     "output_type": "stream",
     "text": [
      "/mnt/batch/tasks/shared/LS_root/mounts/clusters/memasanz2/code/Users/memasanz/ML-Engineering-with-Azure-Machine-Learning-Service/chapter 4/conda-yamls\n"
     ]
    }
   ],
   "source": [
    "import os\n",
    "script_folder = os.path.join(os.getcwd(), \"conda-yamls\")\n",
    "print(script_folder)\n",
    "os.makedirs(script_folder, exist_ok=True)"
   ]
  },
  {
   "cell_type": "markdown",
   "metadata": {},
   "source": [
    "### Create job environment in a yml file\n",
    "\n",
    "- At the time of writing this, the versions of `mlflow`, `azure-ai-ml` `mltable` and `azureml-mlflow` where set accordingly below.  They have been set to ensure stability of the notebook, but please update them according to the lastest package versions."
   ]
  },
  {
   "cell_type": "code",
   "execution_count": 5,
   "metadata": {},
   "outputs": [
    {
     "name": "stdout",
     "output_type": "stream",
     "text": [
      "Overwriting conda-yamls/job_env.yml\n"
     ]
    }
   ],
   "source": [
    "%%writefile conda-yamls/job_env.yml\n",
    "name: job_env\n",
    "dependencies:\n",
    "- python=3.10\n",
    "- scikit-learn=1.1.3\n",
    "- ipykernel\n",
    "- matplotlib\n",
    "- pandas\n",
    "- pip\n",
    "- pip:\n",
    "  - mlflow==2.0.1\n",
    "  - azure-ai-ml==1.1.2\n",
    "  - mltable==1.0.0\n",
    "  - azureml-mlflow==1.48.0"
   ]
  },
  {
   "cell_type": "markdown",
   "metadata": {},
   "source": [
    "### Getting the most current and up-to-date base image\n",
    "\n",
    "Default images are always changing.  \n",
    "Note the base image is defined in the property `image` below.  These images are defined at [https://hub.docker.com/_/microsoft-azureml](https://hub.docker.com/_/microsoft-azureml)\n",
    "\n",
    "The current image we have selected for this notebook is `mcr.microsoft.com/azureml/openmpi3.1.2-ubuntu18.04`, but based on image availability, that will change in the future.  In additon, note the python version specified in your conda environment file is `python=3.10`, as this will evolve over time as well. "
   ]
  },
  {
   "cell_type": "code",
   "execution_count": 6,
   "metadata": {},
   "outputs": [
    {
     "data": {
      "text/plain": [
       "Environment({'is_anonymous': False, 'auto_increment_version': False, 'name': 'job_base_env', 'description': 'Environment created from a Docker image plus Conda environment.', 'tags': {}, 'properties': {}, 'id': '/subscriptions/5da07161-3770-4a4b-aa43-418cbbb627cf/resourceGroups/chapter6-azureml-rg/providers/Microsoft.MachineLearningServices/workspaces/chapter6-azureml/environments/job_base_env/versions/2', 'Resource__source_path': None, 'base_path': '/mnt/batch/tasks/shared/LS_root/mounts/clusters/memasanz2/code/Users/memasanz/ML-Engineering-with-Azure-Machine-Learning-Service/chapter 4', 'creation_context': <azure.ai.ml.entities._system_data.SystemData object at 0x7f20229c4e80>, 'serialize': <msrest.serialization.Serializer object at 0x7f204e51fee0>, 'version': '2', 'latest_version': None, 'conda_file': {'dependencies': ['python=3.10', 'scikit-learn=1.1.3', 'ipykernel', 'matplotlib', 'pandas', 'pip', {'pip': ['mlflow==2.0.1', 'azure-ai-ml==1.1.2', 'mltable==1.0.0', 'azureml-mlflow==1.48.0']}], 'name': 'job_env'}, 'image': 'mcr.microsoft.com/azureml/openmpi3.1.2-ubuntu18.04', 'build': None, 'inference_config': None, 'os_type': 'Linux', 'arm_type': 'environment_version', 'conda_file_path': None, 'path': None, 'datastore': None, 'upload_hash': None, 'translated_conda_file': '{\\n  \"dependencies\": [\\n    \"python=3.10\",\\n    \"scikit-learn=1.1.3\",\\n    \"ipykernel\",\\n    \"matplotlib\",\\n    \"pandas\",\\n    \"pip\",\\n    {\\n      \"pip\": [\\n        \"mlflow==2.0.1\",\\n        \"azure-ai-ml==1.1.2\",\\n        \"mltable==1.0.0\",\\n        \"azureml-mlflow==1.48.0\"\\n      ]\\n    }\\n  ],\\n  \"name\": \"job_env\"\\n}'})"
      ]
     },
     "execution_count": 6,
     "metadata": {},
     "output_type": "execute_result"
    }
   ],
   "source": [
    "env_docker_conda = Environment(\n",
    "    image=\"mcr.microsoft.com/azureml/openmpi3.1.2-ubuntu18.04\",\n",
    "    conda_file=\"conda-yamls/job_env.yml\",\n",
    "    name=\"job_base_env\",\n",
    "    description=\"Environment created from a Docker image plus Conda environment.\",\n",
    ")\n",
    "ml_client.environments.create_or_update(env_docker_conda)"
   ]
  },
  {
   "cell_type": "markdown",
   "metadata": {},
   "source": [
    "### Use your virtual environment in this notebook\n",
    "\n",
    "We can actually use that virtual environment on our compute instance and in this very jupyter notebook.\n",
    "Open a terminal session, and and run the following commands:\n",
    "\n",
    "```\n",
    "cd ML-Engineering-with-Azure-Machine-Learning-Service/\n",
    "cd 'chapter 4'\n",
    "cd conda-yamls/\n",
    "conda env create -f job_env.yml\n",
    "conda activate job_env\n",
    "ipython kernel install --user --name job_env --display-name \"job_env\"\n",
    "```\n",
    "* After the environment has been made available to Jupyter, Refresh this session (F5, or Hit refresh on your browser)\n",
    "\n",
    "When you go to your `Kernel` -> `Change Kernel`, it will be available to select.  You will have to rerun the notebook, but when you download the model, you will be using all of the correct versions of libraries.\n",
    "\n",
    "*Note to remove an environment with conda leverage \n",
    "```\n",
    "conda env remove -n job_env\n",
    "```"
   ]
  },
  {
   "cell_type": "markdown",
   "metadata": {},
   "source": [
    "# Explore Dataset\n",
    "\n",
    "You're going to use a Python script to train a machine learning model based on the Titanic datset found in your data folder.  "
   ]
  },
  {
   "cell_type": "code",
   "execution_count": 7,
   "metadata": {},
   "outputs": [
    {
     "name": "stdout",
     "output_type": "stream",
     "text": [
      "(891, 12)\n",
      "Index(['PassengerId', 'Survived', 'Pclass', 'Name', 'Sex', 'Age', 'SibSp',\n",
      "       'Parch', 'Ticket', 'Fare', 'Cabin', 'Embarked'],\n",
      "      dtype='object')\n"
     ]
    }
   ],
   "source": [
    "df= pd.read_csv('./data/titanic.csv')\n",
    "print(df.shape)\n",
    "print(df.columns)"
   ]
  },
  {
   "cell_type": "markdown",
   "metadata": {},
   "source": [
    "## View Data"
   ]
  },
  {
   "cell_type": "code",
   "execution_count": 8,
   "metadata": {},
   "outputs": [
    {
     "data": {
      "text/html": [
       "<div>\n",
       "<style scoped>\n",
       "    .dataframe tbody tr th:only-of-type {\n",
       "        vertical-align: middle;\n",
       "    }\n",
       "\n",
       "    .dataframe tbody tr th {\n",
       "        vertical-align: top;\n",
       "    }\n",
       "\n",
       "    .dataframe thead th {\n",
       "        text-align: right;\n",
       "    }\n",
       "</style>\n",
       "<table border=\"1\" class=\"dataframe\">\n",
       "  <thead>\n",
       "    <tr style=\"text-align: right;\">\n",
       "      <th></th>\n",
       "      <th>PassengerId</th>\n",
       "      <th>Survived</th>\n",
       "      <th>Pclass</th>\n",
       "      <th>Name</th>\n",
       "      <th>Sex</th>\n",
       "      <th>Age</th>\n",
       "      <th>SibSp</th>\n",
       "      <th>Parch</th>\n",
       "      <th>Ticket</th>\n",
       "      <th>Fare</th>\n",
       "      <th>Cabin</th>\n",
       "      <th>Embarked</th>\n",
       "    </tr>\n",
       "  </thead>\n",
       "  <tbody>\n",
       "    <tr>\n",
       "      <th>0</th>\n",
       "      <td>1</td>\n",
       "      <td>0</td>\n",
       "      <td>3</td>\n",
       "      <td>Braund, Mr. Owen Harris</td>\n",
       "      <td>male</td>\n",
       "      <td>22.0</td>\n",
       "      <td>1</td>\n",
       "      <td>0</td>\n",
       "      <td>A/5 21171</td>\n",
       "      <td>7.2500</td>\n",
       "      <td>NaN</td>\n",
       "      <td>S</td>\n",
       "    </tr>\n",
       "    <tr>\n",
       "      <th>1</th>\n",
       "      <td>2</td>\n",
       "      <td>1</td>\n",
       "      <td>1</td>\n",
       "      <td>Cumings, Mrs. John Bradley (Florence Briggs Th...</td>\n",
       "      <td>female</td>\n",
       "      <td>38.0</td>\n",
       "      <td>1</td>\n",
       "      <td>0</td>\n",
       "      <td>PC 17599</td>\n",
       "      <td>71.2833</td>\n",
       "      <td>C85</td>\n",
       "      <td>C</td>\n",
       "    </tr>\n",
       "    <tr>\n",
       "      <th>2</th>\n",
       "      <td>3</td>\n",
       "      <td>1</td>\n",
       "      <td>3</td>\n",
       "      <td>Heikkinen, Miss. Laina</td>\n",
       "      <td>female</td>\n",
       "      <td>26.0</td>\n",
       "      <td>0</td>\n",
       "      <td>0</td>\n",
       "      <td>STON/O2. 3101282</td>\n",
       "      <td>7.9250</td>\n",
       "      <td>NaN</td>\n",
       "      <td>S</td>\n",
       "    </tr>\n",
       "    <tr>\n",
       "      <th>3</th>\n",
       "      <td>4</td>\n",
       "      <td>1</td>\n",
       "      <td>1</td>\n",
       "      <td>Futrelle, Mrs. Jacques Heath (Lily May Peel)</td>\n",
       "      <td>female</td>\n",
       "      <td>35.0</td>\n",
       "      <td>1</td>\n",
       "      <td>0</td>\n",
       "      <td>113803</td>\n",
       "      <td>53.1000</td>\n",
       "      <td>C123</td>\n",
       "      <td>S</td>\n",
       "    </tr>\n",
       "    <tr>\n",
       "      <th>4</th>\n",
       "      <td>5</td>\n",
       "      <td>0</td>\n",
       "      <td>3</td>\n",
       "      <td>Allen, Mr. William Henry</td>\n",
       "      <td>male</td>\n",
       "      <td>35.0</td>\n",
       "      <td>0</td>\n",
       "      <td>0</td>\n",
       "      <td>373450</td>\n",
       "      <td>8.0500</td>\n",
       "      <td>NaN</td>\n",
       "      <td>S</td>\n",
       "    </tr>\n",
       "  </tbody>\n",
       "</table>\n",
       "</div>"
      ],
      "text/plain": [
       "   PassengerId  Survived  Pclass  \\\n",
       "0            1         0       3   \n",
       "1            2         1       1   \n",
       "2            3         1       3   \n",
       "3            4         1       1   \n",
       "4            5         0       3   \n",
       "\n",
       "                                                Name     Sex   Age  SibSp  \\\n",
       "0                            Braund, Mr. Owen Harris    male  22.0      1   \n",
       "1  Cumings, Mrs. John Bradley (Florence Briggs Th...  female  38.0      1   \n",
       "2                             Heikkinen, Miss. Laina  female  26.0      0   \n",
       "3       Futrelle, Mrs. Jacques Heath (Lily May Peel)  female  35.0      1   \n",
       "4                           Allen, Mr. William Henry    male  35.0      0   \n",
       "\n",
       "   Parch            Ticket     Fare Cabin Embarked  \n",
       "0      0         A/5 21171   7.2500   NaN        S  \n",
       "1      0          PC 17599  71.2833   C85        C  \n",
       "2      0  STON/O2. 3101282   7.9250   NaN        S  \n",
       "3      0            113803  53.1000  C123        S  \n",
       "4      0            373450   8.0500   NaN        S  "
      ]
     },
     "execution_count": 8,
     "metadata": {},
     "output_type": "execute_result"
    }
   ],
   "source": [
    "df.head(5)"
   ]
  },
  {
   "cell_type": "markdown",
   "metadata": {},
   "source": [
    "### Dataset field information\n",
    "\n",
    "- **PassengerId**: (remove) Should be removed from model as they are some sort of id.\n",
    "- **Pclass**: (keep) locates folks on ship *Pclass: 1st = Upper, 2nd = Middle, 3rd = Lower*\n",
    "- **Name**: (remove) maybe found useful if keeping the surname, but for basic model will remove\n",
    "- **Sex**: (keep) due to lifeboat priority, will likely be useful\n",
    "- **Age**: (keep)important due to lifeboat priority\n",
    "- **SibSp**: (keep) maybe useful, relatives will likely help others\n",
    "- **Parch**: (keep) maybe useful, relatives will likely help others\n",
    "- **Ticket**: (remove)\n",
    "- **Fare**: (remove covered by class)\n",
    "- **Cabin**: (keep) can be useful in relation of where the cabins are positioned on the ship\n",
    "- **Embarked**: (keep) useful because all listed embark happened before the disaster"
   ]
  },
  {
   "cell_type": "markdown",
   "metadata": {},
   "source": [
    "# Data Engineering\n",
    "\n",
    "## Data Cleansing\n",
    "\n",
    "We will begin by evaluating the null values in the dataset.  Note that Age, Fare and Cabin contain null values in the dataset."
   ]
  },
  {
   "cell_type": "code",
   "execution_count": 9,
   "metadata": {},
   "outputs": [
    {
     "data": {
      "text/plain": [
       "PassengerId      0\n",
       "Survived         0\n",
       "Pclass           0\n",
       "Name             0\n",
       "Sex              0\n",
       "Age            177\n",
       "SibSp            0\n",
       "Parch            0\n",
       "Ticket           0\n",
       "Fare             0\n",
       "Cabin          687\n",
       "Embarked         2\n",
       "dtype: int64"
      ]
     },
     "execution_count": 9,
     "metadata": {},
     "output_type": "execute_result"
    }
   ],
   "source": [
    "df.isnull().sum()"
   ]
  },
  {
   "cell_type": "code",
   "execution_count": 10,
   "metadata": {},
   "outputs": [
    {
     "data": {
      "image/png": "[encoded data removed]",
      "text/plain": [
       "<Figure size 640x480 with 1 Axes>"
      ]
     },
     "metadata": {},
     "output_type": "display_data"
    }
   ],
   "source": [
    "import matplotlib.pyplot as plt\n",
    "\n",
    "columns_missing = df.isna().sum().where(lambda x : x > 0).dropna()\n",
    "\n",
    "ax = columns_missing \\\n",
    ".plot(kind='bar', alpha=0.9, title='Columns Missing Values', table=True)\n",
    "ax.xaxis.set_visible(False) # hide x axis labels\n",
    "\n",
    "for x in ax.patches:\n",
    "    ax.text(x.get_x()+.1, x.get_height()+5, \\\n",
    "            str(round((x.get_height()/df.shape[0])*100, 1))+'%')\n",
    "plt.show()"
   ]
  },
  {
   "cell_type": "markdown",
   "metadata": {},
   "source": [
    "## Prepare data for an experiment\n",
    "In the previous notebook, the data was leveraged directly from the folder on the compute instance.  We will be submitting an experiment to a compute cluster, so we will register the dataset so it will be stored in the blob storage associated with the AML workspace\n",
    "\n",
    "### Stategy:\n",
    "\n",
    "- For the Age, we will replace the missing values with the medians of each group\n",
    "- For cabin we will mark it as X given this is probably an important feature that we would want to include.\n",
    "- For Embarked,given there are only 2 rows missing this value, we will set these to a value of S"
   ]
  },
  {
   "cell_type": "markdown",
   "metadata": {},
   "source": [
    "## Cleaning Age Column\n",
    "\n",
    "Note that Age, a column that has missing data, will likely be impacted by class, as people are more established,their age will likely increase, so to replace these values, we will group by class and sex, calculate a median value and replace the na values in the dataset with the mean"
   ]
  },
  {
   "cell_type": "code",
   "execution_count": 11,
   "metadata": {},
   "outputs": [
    {
     "data": {
      "text/plain": [
       "Pclass  Sex   \n",
       "1       female     85\n",
       "        male      101\n",
       "2       female     74\n",
       "        male       99\n",
       "3       female    102\n",
       "        male      253\n",
       "Name: Age, dtype: int64"
      ]
     },
     "metadata": {},
     "output_type": "display_data"
    },
    {
     "data": {
      "text/plain": [
       "Pclass  Sex   \n",
       "1       female    35.0\n",
       "        male      40.0\n",
       "2       female    28.0\n",
       "        male      30.0\n",
       "3       female    21.5\n",
       "        male      25.0\n",
       "Name: Age, dtype: float64"
      ]
     },
     "metadata": {},
     "output_type": "display_data"
    }
   ],
   "source": [
    "display(df.groupby(['Pclass', 'Sex'])['Age'].count())\n",
    "\n",
    "display(df.groupby(['Pclass', 'Sex'])['Age'].median())"
   ]
  },
  {
   "cell_type": "code",
   "execution_count": 12,
   "metadata": {},
   "outputs": [
    {
     "data": {
      "text/plain": [
       "PassengerId      0\n",
       "Survived         0\n",
       "Pclass           0\n",
       "Name             0\n",
       "Sex              0\n",
       "Age              0\n",
       "SibSp            0\n",
       "Parch            0\n",
       "Ticket           0\n",
       "Fare             0\n",
       "Cabin          687\n",
       "Embarked         2\n",
       "dtype: int64"
      ]
     },
     "execution_count": 12,
     "metadata": {},
     "output_type": "execute_result"
    }
   ],
   "source": [
    "df['Age'] = df.groupby(['Pclass', 'Sex'],group_keys=False)['Age'].apply(lambda x: x.fillna(x.median()))\n",
    "df.isnull().sum()"
   ]
  },
  {
   "cell_type": "code",
   "execution_count": 13,
   "metadata": {},
   "outputs": [
    {
     "name": "stdout",
     "output_type": "stream",
     "text": [
      "['male' 'female']\n",
      "['m' 'f']\n"
     ]
    }
   ],
   "source": [
    "print(df['Sex'].unique())\n",
    "df['Sex']= df['Sex'].apply(lambda x: x[0] if pd.notnull(x) else 'X')\n",
    "print(df['Sex'].unique())"
   ]
  },
  {
   "cell_type": "code",
   "execution_count": 14,
   "metadata": {},
   "outputs": [
    {
     "data": {
      "image/png": "[encoded data removed]",
      "text/plain": [
       "<Figure size 640x480 with 1 Axes>"
      ]
     },
     "metadata": {},
     "output_type": "display_data"
    }
   ],
   "source": [
    "df['Loc']= df['Cabin'].apply(lambda x: x[0] if pd.notnull(x) else 'X')\n",
    "df[['Loc', 'Survived']].groupby('Loc')['Survived'].mean().plot(kind= 'bar')\n",
    "plt.show()\n"
   ]
  },
  {
   "cell_type": "code",
   "execution_count": 15,
   "metadata": {},
   "outputs": [],
   "source": [
    "df.drop(['Cabin', 'Ticket'], axis=1, inplace=True)"
   ]
  },
  {
   "cell_type": "code",
   "execution_count": 16,
   "metadata": {},
   "outputs": [
    {
     "data": {
      "text/html": [
       "<div>\n",
       "<style scoped>\n",
       "    .dataframe tbody tr th:only-of-type {\n",
       "        vertical-align: middle;\n",
       "    }\n",
       "\n",
       "    .dataframe tbody tr th {\n",
       "        vertical-align: top;\n",
       "    }\n",
       "\n",
       "    .dataframe thead th {\n",
       "        text-align: right;\n",
       "    }\n",
       "</style>\n",
       "<table border=\"1\" class=\"dataframe\">\n",
       "  <thead>\n",
       "    <tr style=\"text-align: right;\">\n",
       "      <th></th>\n",
       "      <th>PassengerId</th>\n",
       "      <th>Survived</th>\n",
       "      <th>Pclass</th>\n",
       "      <th>Name</th>\n",
       "      <th>Sex</th>\n",
       "      <th>Age</th>\n",
       "      <th>SibSp</th>\n",
       "      <th>Parch</th>\n",
       "      <th>Fare</th>\n",
       "      <th>Embarked</th>\n",
       "      <th>Loc</th>\n",
       "    </tr>\n",
       "  </thead>\n",
       "  <tbody>\n",
       "    <tr>\n",
       "      <th>0</th>\n",
       "      <td>1</td>\n",
       "      <td>0</td>\n",
       "      <td>3</td>\n",
       "      <td>Braund, Mr. Owen Harris</td>\n",
       "      <td>m</td>\n",
       "      <td>22.0</td>\n",
       "      <td>1</td>\n",
       "      <td>0</td>\n",
       "      <td>7.2500</td>\n",
       "      <td>S</td>\n",
       "      <td>X</td>\n",
       "    </tr>\n",
       "    <tr>\n",
       "      <th>1</th>\n",
       "      <td>2</td>\n",
       "      <td>1</td>\n",
       "      <td>1</td>\n",
       "      <td>Cumings, Mrs. John Bradley (Florence Briggs Th...</td>\n",
       "      <td>f</td>\n",
       "      <td>38.0</td>\n",
       "      <td>1</td>\n",
       "      <td>0</td>\n",
       "      <td>71.2833</td>\n",
       "      <td>C</td>\n",
       "      <td>C</td>\n",
       "    </tr>\n",
       "    <tr>\n",
       "      <th>2</th>\n",
       "      <td>3</td>\n",
       "      <td>1</td>\n",
       "      <td>3</td>\n",
       "      <td>Heikkinen, Miss. Laina</td>\n",
       "      <td>f</td>\n",
       "      <td>26.0</td>\n",
       "      <td>0</td>\n",
       "      <td>0</td>\n",
       "      <td>7.9250</td>\n",
       "      <td>S</td>\n",
       "      <td>X</td>\n",
       "    </tr>\n",
       "    <tr>\n",
       "      <th>3</th>\n",
       "      <td>4</td>\n",
       "      <td>1</td>\n",
       "      <td>1</td>\n",
       "      <td>Futrelle, Mrs. Jacques Heath (Lily May Peel)</td>\n",
       "      <td>f</td>\n",
       "      <td>35.0</td>\n",
       "      <td>1</td>\n",
       "      <td>0</td>\n",
       "      <td>53.1000</td>\n",
       "      <td>S</td>\n",
       "      <td>C</td>\n",
       "    </tr>\n",
       "    <tr>\n",
       "      <th>4</th>\n",
       "      <td>5</td>\n",
       "      <td>0</td>\n",
       "      <td>3</td>\n",
       "      <td>Allen, Mr. William Henry</td>\n",
       "      <td>m</td>\n",
       "      <td>35.0</td>\n",
       "      <td>0</td>\n",
       "      <td>0</td>\n",
       "      <td>8.0500</td>\n",
       "      <td>S</td>\n",
       "      <td>X</td>\n",
       "    </tr>\n",
       "    <tr>\n",
       "      <th>...</th>\n",
       "      <td>...</td>\n",
       "      <td>...</td>\n",
       "      <td>...</td>\n",
       "      <td>...</td>\n",
       "      <td>...</td>\n",
       "      <td>...</td>\n",
       "      <td>...</td>\n",
       "      <td>...</td>\n",
       "      <td>...</td>\n",
       "      <td>...</td>\n",
       "      <td>...</td>\n",
       "    </tr>\n",
       "    <tr>\n",
       "      <th>886</th>\n",
       "      <td>887</td>\n",
       "      <td>0</td>\n",
       "      <td>2</td>\n",
       "      <td>Montvila, Rev. Juozas</td>\n",
       "      <td>m</td>\n",
       "      <td>27.0</td>\n",
       "      <td>0</td>\n",
       "      <td>0</td>\n",
       "      <td>13.0000</td>\n",
       "      <td>S</td>\n",
       "      <td>X</td>\n",
       "    </tr>\n",
       "    <tr>\n",
       "      <th>887</th>\n",
       "      <td>888</td>\n",
       "      <td>1</td>\n",
       "      <td>1</td>\n",
       "      <td>Graham, Miss. Margaret Edith</td>\n",
       "      <td>f</td>\n",
       "      <td>19.0</td>\n",
       "      <td>0</td>\n",
       "      <td>0</td>\n",
       "      <td>30.0000</td>\n",
       "      <td>S</td>\n",
       "      <td>B</td>\n",
       "    </tr>\n",
       "    <tr>\n",
       "      <th>888</th>\n",
       "      <td>889</td>\n",
       "      <td>0</td>\n",
       "      <td>3</td>\n",
       "      <td>Johnston, Miss. Catherine Helen \"Carrie\"</td>\n",
       "      <td>f</td>\n",
       "      <td>21.5</td>\n",
       "      <td>1</td>\n",
       "      <td>2</td>\n",
       "      <td>23.4500</td>\n",
       "      <td>S</td>\n",
       "      <td>X</td>\n",
       "    </tr>\n",
       "    <tr>\n",
       "      <th>889</th>\n",
       "      <td>890</td>\n",
       "      <td>1</td>\n",
       "      <td>1</td>\n",
       "      <td>Behr, Mr. Karl Howell</td>\n",
       "      <td>m</td>\n",
       "      <td>26.0</td>\n",
       "      <td>0</td>\n",
       "      <td>0</td>\n",
       "      <td>30.0000</td>\n",
       "      <td>C</td>\n",
       "      <td>C</td>\n",
       "    </tr>\n",
       "    <tr>\n",
       "      <th>890</th>\n",
       "      <td>891</td>\n",
       "      <td>0</td>\n",
       "      <td>3</td>\n",
       "      <td>Dooley, Mr. Patrick</td>\n",
       "      <td>m</td>\n",
       "      <td>32.0</td>\n",
       "      <td>0</td>\n",
       "      <td>0</td>\n",
       "      <td>7.7500</td>\n",
       "      <td>Q</td>\n",
       "      <td>X</td>\n",
       "    </tr>\n",
       "  </tbody>\n",
       "</table>\n",
       "<p>891 rows × 11 columns</p>\n",
       "</div>"
      ],
      "text/plain": [
       "     PassengerId  Survived  Pclass  \\\n",
       "0              1         0       3   \n",
       "1              2         1       1   \n",
       "2              3         1       3   \n",
       "3              4         1       1   \n",
       "4              5         0       3   \n",
       "..           ...       ...     ...   \n",
       "886          887         0       2   \n",
       "887          888         1       1   \n",
       "888          889         0       3   \n",
       "889          890         1       1   \n",
       "890          891         0       3   \n",
       "\n",
       "                                                  Name Sex   Age  SibSp  \\\n",
       "0                              Braund, Mr. Owen Harris   m  22.0      1   \n",
       "1    Cumings, Mrs. John Bradley (Florence Briggs Th...   f  38.0      1   \n",
       "2                               Heikkinen, Miss. Laina   f  26.0      0   \n",
       "3         Futrelle, Mrs. Jacques Heath (Lily May Peel)   f  35.0      1   \n",
       "4                             Allen, Mr. William Henry   m  35.0      0   \n",
       "..                                                 ...  ..   ...    ...   \n",
       "886                              Montvila, Rev. Juozas   m  27.0      0   \n",
       "887                       Graham, Miss. Margaret Edith   f  19.0      0   \n",
       "888           Johnston, Miss. Catherine Helen \"Carrie\"   f  21.5      1   \n",
       "889                              Behr, Mr. Karl Howell   m  26.0      0   \n",
       "890                                Dooley, Mr. Patrick   m  32.0      0   \n",
       "\n",
       "     Parch     Fare Embarked Loc  \n",
       "0        0   7.2500        S   X  \n",
       "1        0  71.2833        C   C  \n",
       "2        0   7.9250        S   X  \n",
       "3        0  53.1000        S   C  \n",
       "4        0   8.0500        S   X  \n",
       "..     ...      ...      ...  ..  \n",
       "886      0  13.0000        S   X  \n",
       "887      0  30.0000        S   B  \n",
       "888      2  23.4500        S   X  \n",
       "889      0  30.0000        C   C  \n",
       "890      0   7.7500        Q   X  \n",
       "\n",
       "[891 rows x 11 columns]"
      ]
     },
     "execution_count": 16,
     "metadata": {},
     "output_type": "execute_result"
    }
   ],
   "source": [
    "df"
   ]
  },
  {
   "cell_type": "code",
   "execution_count": 17,
   "metadata": {},
   "outputs": [
    {
     "data": {
      "text/plain": [
       "PassengerId    0\n",
       "Survived       0\n",
       "Pclass         0\n",
       "Name           0\n",
       "Sex            0\n",
       "Age            0\n",
       "SibSp          0\n",
       "Parch          0\n",
       "Fare           0\n",
       "Embarked       2\n",
       "Loc            0\n",
       "dtype: int64"
      ]
     },
     "execution_count": 17,
     "metadata": {},
     "output_type": "execute_result"
    }
   ],
   "source": [
    "df.isnull().sum()"
   ]
  },
  {
   "cell_type": "code",
   "execution_count": 18,
   "metadata": {},
   "outputs": [],
   "source": [
    "df['Embarked'] = df['Embarked'].fillna('S')"
   ]
  },
  {
   "cell_type": "markdown",
   "metadata": {},
   "source": [
    "# Feature Engineering\n",
    "## Create a Group Size"
   ]
  },
  {
   "cell_type": "code",
   "execution_count": 19,
   "metadata": {},
   "outputs": [],
   "source": [
    "df.loc[:,'GroupSize'] = 1 + df['SibSp'] + df['Parch']"
   ]
  },
  {
   "cell_type": "markdown",
   "metadata": {},
   "source": [
    "## Fill Missing Embarded with value of S"
   ]
  },
  {
   "cell_type": "code",
   "execution_count": 20,
   "metadata": {},
   "outputs": [
    {
     "data": {
      "text/plain": [
       "PassengerId    0\n",
       "Survived       0\n",
       "Pclass         0\n",
       "Name           0\n",
       "Sex            0\n",
       "Age            0\n",
       "SibSp          0\n",
       "Parch          0\n",
       "Fare           0\n",
       "Embarked       0\n",
       "Loc            0\n",
       "GroupSize      0\n",
       "dtype: int64"
      ]
     },
     "execution_count": 20,
     "metadata": {},
     "output_type": "execute_result"
    }
   ],
   "source": [
    "df.isnull().sum()"
   ]
  },
  {
   "cell_type": "code",
   "execution_count": 21,
   "metadata": {},
   "outputs": [
    {
     "data": {
      "text/html": [
       "<div>\n",
       "<style scoped>\n",
       "    .dataframe tbody tr th:only-of-type {\n",
       "        vertical-align: middle;\n",
       "    }\n",
       "\n",
       "    .dataframe tbody tr th {\n",
       "        vertical-align: top;\n",
       "    }\n",
       "\n",
       "    .dataframe thead th {\n",
       "        text-align: right;\n",
       "    }\n",
       "</style>\n",
       "<table border=\"1\" class=\"dataframe\">\n",
       "  <thead>\n",
       "    <tr style=\"text-align: right;\">\n",
       "      <th></th>\n",
       "      <th>Survived</th>\n",
       "      <th>Pclass</th>\n",
       "      <th>Sex</th>\n",
       "      <th>Age</th>\n",
       "      <th>Fare</th>\n",
       "      <th>Embarked</th>\n",
       "      <th>Loc</th>\n",
       "      <th>GroupSize</th>\n",
       "    </tr>\n",
       "  </thead>\n",
       "  <tbody>\n",
       "    <tr>\n",
       "      <th>0</th>\n",
       "      <td>0</td>\n",
       "      <td>3</td>\n",
       "      <td>m</td>\n",
       "      <td>22.0</td>\n",
       "      <td>7.2500</td>\n",
       "      <td>S</td>\n",
       "      <td>X</td>\n",
       "      <td>2</td>\n",
       "    </tr>\n",
       "    <tr>\n",
       "      <th>1</th>\n",
       "      <td>1</td>\n",
       "      <td>1</td>\n",
       "      <td>f</td>\n",
       "      <td>38.0</td>\n",
       "      <td>71.2833</td>\n",
       "      <td>C</td>\n",
       "      <td>C</td>\n",
       "      <td>2</td>\n",
       "    </tr>\n",
       "    <tr>\n",
       "      <th>2</th>\n",
       "      <td>1</td>\n",
       "      <td>3</td>\n",
       "      <td>f</td>\n",
       "      <td>26.0</td>\n",
       "      <td>7.9250</td>\n",
       "      <td>S</td>\n",
       "      <td>X</td>\n",
       "      <td>1</td>\n",
       "    </tr>\n",
       "    <tr>\n",
       "      <th>3</th>\n",
       "      <td>1</td>\n",
       "      <td>1</td>\n",
       "      <td>f</td>\n",
       "      <td>35.0</td>\n",
       "      <td>53.1000</td>\n",
       "      <td>S</td>\n",
       "      <td>C</td>\n",
       "      <td>2</td>\n",
       "    </tr>\n",
       "    <tr>\n",
       "      <th>4</th>\n",
       "      <td>0</td>\n",
       "      <td>3</td>\n",
       "      <td>m</td>\n",
       "      <td>35.0</td>\n",
       "      <td>8.0500</td>\n",
       "      <td>S</td>\n",
       "      <td>X</td>\n",
       "      <td>1</td>\n",
       "    </tr>\n",
       "  </tbody>\n",
       "</table>\n",
       "</div>"
      ],
      "text/plain": [
       "   Survived  Pclass Sex   Age     Fare Embarked Loc  GroupSize\n",
       "0         0       3   m  22.0   7.2500        S   X          2\n",
       "1         1       1   f  38.0  71.2833        C   C          2\n",
       "2         1       3   f  26.0   7.9250        S   X          1\n",
       "3         1       1   f  35.0  53.1000        S   C          2\n",
       "4         0       3   m  35.0   8.0500        S   X          1"
      ]
     },
     "execution_count": 21,
     "metadata": {},
     "output_type": "execute_result"
    }
   ],
   "source": [
    "LABEL = 'Survived'\n",
    "columns_to_keep = ['Pclass', 'Sex','Age', 'Fare', 'Embared', 'Deck', 'GroupSize']\n",
    "columns_to_drop = ['Name','SibSp', 'Parch', 'Survived']\n",
    "df_train = df\n",
    "df = df_train.drop(['Name','SibSp', 'Parch', 'PassengerId'], axis=1)\n",
    "\n",
    "df.head(5)"
   ]
  },
  {
   "cell_type": "code",
   "execution_count": 22,
   "metadata": {},
   "outputs": [
    {
     "name": "stdout",
     "output_type": "stream",
     "text": [
      "/mnt/batch/tasks/shared/LS_root/mounts/clusters/memasanz2/code/Users/memasanz/ML-Engineering-with-Azure-Machine-Learning-Service/chapter 4/prepped_data\n"
     ]
    }
   ],
   "source": [
    "import os\n",
    "script_folder = os.path.join(os.getcwd(), \"prepped_data\")\n",
    "print(script_folder)\n",
    "os.makedirs(script_folder, exist_ok=True)\n",
    "df.to_csv('./prepped_data/titanic_prepped.csv', index = False)"
   ]
  },
  {
   "cell_type": "markdown",
   "metadata": {},
   "source": [
    "## Working with Data\n",
    "\n",
    "Data can reside in:\n",
    "\n",
    "    - Local Machine: URI_FILE, URI_FOLDER, MLTABLE, TRITON_MODEL, CUSTOM_MODEL\n",
    "    - Web\n",
    "    - Data Storage Services (Bob, ADSL, SQL)\n",
    "        - https://<account_name>.blob.core.windows.net/<container_name>/path\n",
    "        - abfss://<file_system>@<account_name>.dfs.core.windows.net/<path>\n",
    "        - azureml://datastores/<data_store_name>/paths/<path>"
   ]
  },
  {
   "cell_type": "code",
   "execution_count": 23,
   "metadata": {},
   "outputs": [],
   "source": [
    "from azure.ai.ml.entities import Data\n",
    "from azure.ai.ml.constants import AssetTypes"
   ]
  },
  {
   "cell_type": "markdown",
   "metadata": {},
   "source": [
    "You can register the a csv file directly from the data directory, we are using a csv file in the directory, but you can leverage data from supported cloud storage using `https`, `abfss` and `wasbs` \n",
    "\n",
    "### Register a uri_file"
   ]
  },
  {
   "cell_type": "code",
   "execution_count": 24,
   "metadata": {},
   "outputs": [
    {
     "name": "stdout",
     "output_type": "stream",
     "text": [
      "register data asset\n"
     ]
    },
    {
     "name": "stderr",
     "output_type": "stream",
     "text": [
      "\u001b[32mUploading titanic_prepped.csv\u001b[32m (< 1 MB): 100%|██████████| 20.6k/20.6k [00:00<00:00, 1.76MB/s]\n",
      "\u001b[39m\n",
      "\n"
     ]
    }
   ],
   "source": [
    "try:\n",
    "    registered_data_asset = ml_client.data.get(name='titanic_prepped', version=1)\n",
    "    print('data asset is registered')\n",
    "except:\n",
    "    print('register data asset')\n",
    "    my_data = Data(\n",
    "        path=\"./prepped_data/titanic_prepped.csv\",\n",
    "        type=AssetTypes.URI_FILE,\n",
    "        description=\"Titanic CSV\",\n",
    "        name=\"titanic_prepped\",\n",
    "        version=\"1\",\n",
    "    )\n",
    "\n",
    "    ml_client.data.create_or_update(my_data)"
   ]
  },
  {
   "cell_type": "markdown",
   "metadata": {},
   "source": [
    "### Working with an MLTable\n",
    "\n",
    "`MLTable` are great for:\n",
    "- when your data is complex\n",
    "- you only need a subset of the data\n",
    "- you will leverage dataset with **AutoML** job which requires tabular data"
   ]
  },
  {
   "cell_type": "code",
   "execution_count": 25,
   "metadata": {},
   "outputs": [
    {
     "name": "stdout",
     "output_type": "stream",
     "text": [
      "/mnt/batch/tasks/shared/LS_root/mounts/clusters/memasanz2/code/Users/memasanz/ML-Engineering-with-Azure-Machine-Learning-Service/chapter 4/titanic_prepped_mltable\n"
     ]
    }
   ],
   "source": [
    "import os\n",
    "script_folder = os.path.join(os.getcwd(), \"titanic_prepped_mltable\")\n",
    "print(script_folder)\n",
    "os.makedirs(script_folder, exist_ok=True)"
   ]
  },
  {
   "cell_type": "markdown",
   "metadata": {},
   "source": [
    "## Create MLTable Definition file\n",
    "Note we can exclude columns right in the definition based on the MLTable.schema.json definition"
   ]
  },
  {
   "cell_type": "code",
   "execution_count": 26,
   "metadata": {},
   "outputs": [
    {
     "name": "stdout",
     "output_type": "stream",
     "text": [
      "Writing titanic_prepped_mltable/MLTable\n"
     ]
    }
   ],
   "source": [
    "%%writefile titanic_prepped_mltable/MLTable\n",
    "$schema: https://azuremlschemas.azureedge.net/latest/MLTable.schema.json \n",
    "\n",
    "type: mltable\n",
    "paths:\n",
    "    - pattern: ./*.csv\n",
    "\n",
    "transformations:\n",
    "  - read_delimited:\n",
    "      delimiter: \",\"\n",
    "      header: all_files_same_headers\n",
    "      encoding: utf8\n",
    "  - drop_columns: [\"Id\"]"
   ]
  },
  {
   "cell_type": "code",
   "execution_count": 27,
   "metadata": {},
   "outputs": [
    {
     "data": {
      "text/plain": [
       "'/mnt/batch/tasks/shared/LS_root/mounts/clusters/memasanz2/code/Users/memasanz/ML-Engineering-with-Azure-Machine-Learning-Service/chapter 4/titanic_prepped_mltable/titanic_prepped.csv'"
      ]
     },
     "execution_count": 27,
     "metadata": {},
     "output_type": "execute_result"
    }
   ],
   "source": [
    "import shutil\n",
    "data_file = './prepped_data/titanic_prepped.csv'\n",
    "target   = script_folder + '/titanic_prepped.csv'\n",
    "shutil.copyfile(data_file, target)"
   ]
  },
  {
   "cell_type": "markdown",
   "metadata": {},
   "source": [
    "### Loading an MLTable before registration\n",
    "\n",
    "You should located the `MLTable` file with the data.  You can load an `MLTable` using the `mltable` library"
   ]
  },
  {
   "cell_type": "code",
   "execution_count": 28,
   "metadata": {},
   "outputs": [
    {
     "name": "stdout",
     "output_type": "stream",
     "text": [
      "/mnt/batch/tasks/shared/LS_root/mounts/clusters/memasanz2/code/Users/memasanz/ML-Engineering-with-Azure-Machine-Learning-Service/chapter 4/titanic_prepped_mltable\n"
     ]
    },
    {
     "data": {
      "text/html": [
       "<div>\n",
       "<style scoped>\n",
       "    .dataframe tbody tr th:only-of-type {\n",
       "        vertical-align: middle;\n",
       "    }\n",
       "\n",
       "    .dataframe tbody tr th {\n",
       "        vertical-align: top;\n",
       "    }\n",
       "\n",
       "    .dataframe thead th {\n",
       "        text-align: right;\n",
       "    }\n",
       "</style>\n",
       "<table border=\"1\" class=\"dataframe\">\n",
       "  <thead>\n",
       "    <tr style=\"text-align: right;\">\n",
       "      <th></th>\n",
       "      <th>Survived</th>\n",
       "      <th>Pclass</th>\n",
       "      <th>Sex</th>\n",
       "      <th>Age</th>\n",
       "      <th>Fare</th>\n",
       "      <th>Embarked</th>\n",
       "      <th>Loc</th>\n",
       "      <th>GroupSize</th>\n",
       "    </tr>\n",
       "  </thead>\n",
       "  <tbody>\n",
       "    <tr>\n",
       "      <th>0</th>\n",
       "      <td>False</td>\n",
       "      <td>3</td>\n",
       "      <td>m</td>\n",
       "      <td>22.0</td>\n",
       "      <td>7.2500</td>\n",
       "      <td>S</td>\n",
       "      <td>X</td>\n",
       "      <td>2</td>\n",
       "    </tr>\n",
       "    <tr>\n",
       "      <th>1</th>\n",
       "      <td>True</td>\n",
       "      <td>1</td>\n",
       "      <td>f</td>\n",
       "      <td>38.0</td>\n",
       "      <td>71.2833</td>\n",
       "      <td>C</td>\n",
       "      <td>C</td>\n",
       "      <td>2</td>\n",
       "    </tr>\n",
       "    <tr>\n",
       "      <th>2</th>\n",
       "      <td>True</td>\n",
       "      <td>3</td>\n",
       "      <td>f</td>\n",
       "      <td>26.0</td>\n",
       "      <td>7.9250</td>\n",
       "      <td>S</td>\n",
       "      <td>X</td>\n",
       "      <td>1</td>\n",
       "    </tr>\n",
       "    <tr>\n",
       "      <th>3</th>\n",
       "      <td>True</td>\n",
       "      <td>1</td>\n",
       "      <td>f</td>\n",
       "      <td>35.0</td>\n",
       "      <td>53.1000</td>\n",
       "      <td>S</td>\n",
       "      <td>C</td>\n",
       "      <td>2</td>\n",
       "    </tr>\n",
       "    <tr>\n",
       "      <th>4</th>\n",
       "      <td>False</td>\n",
       "      <td>3</td>\n",
       "      <td>m</td>\n",
       "      <td>35.0</td>\n",
       "      <td>8.0500</td>\n",
       "      <td>S</td>\n",
       "      <td>X</td>\n",
       "      <td>1</td>\n",
       "    </tr>\n",
       "    <tr>\n",
       "      <th>...</th>\n",
       "      <td>...</td>\n",
       "      <td>...</td>\n",
       "      <td>...</td>\n",
       "      <td>...</td>\n",
       "      <td>...</td>\n",
       "      <td>...</td>\n",
       "      <td>...</td>\n",
       "      <td>...</td>\n",
       "    </tr>\n",
       "    <tr>\n",
       "      <th>886</th>\n",
       "      <td>False</td>\n",
       "      <td>2</td>\n",
       "      <td>m</td>\n",
       "      <td>27.0</td>\n",
       "      <td>13.0000</td>\n",
       "      <td>S</td>\n",
       "      <td>X</td>\n",
       "      <td>1</td>\n",
       "    </tr>\n",
       "    <tr>\n",
       "      <th>887</th>\n",
       "      <td>True</td>\n",
       "      <td>1</td>\n",
       "      <td>f</td>\n",
       "      <td>19.0</td>\n",
       "      <td>30.0000</td>\n",
       "      <td>S</td>\n",
       "      <td>B</td>\n",
       "      <td>1</td>\n",
       "    </tr>\n",
       "    <tr>\n",
       "      <th>888</th>\n",
       "      <td>False</td>\n",
       "      <td>3</td>\n",
       "      <td>f</td>\n",
       "      <td>21.5</td>\n",
       "      <td>23.4500</td>\n",
       "      <td>S</td>\n",
       "      <td>X</td>\n",
       "      <td>4</td>\n",
       "    </tr>\n",
       "    <tr>\n",
       "      <th>889</th>\n",
       "      <td>True</td>\n",
       "      <td>1</td>\n",
       "      <td>m</td>\n",
       "      <td>26.0</td>\n",
       "      <td>30.0000</td>\n",
       "      <td>C</td>\n",
       "      <td>C</td>\n",
       "      <td>1</td>\n",
       "    </tr>\n",
       "    <tr>\n",
       "      <th>890</th>\n",
       "      <td>False</td>\n",
       "      <td>3</td>\n",
       "      <td>m</td>\n",
       "      <td>32.0</td>\n",
       "      <td>7.7500</td>\n",
       "      <td>Q</td>\n",
       "      <td>X</td>\n",
       "      <td>1</td>\n",
       "    </tr>\n",
       "  </tbody>\n",
       "</table>\n",
       "<p>891 rows × 8 columns</p>\n",
       "</div>"
      ],
      "text/plain": [
       "     Survived  Pclass Sex   Age     Fare Embarked Loc  GroupSize\n",
       "0       False       3   m  22.0   7.2500        S   X          2\n",
       "1        True       1   f  38.0  71.2833        C   C          2\n",
       "2        True       3   f  26.0   7.9250        S   X          1\n",
       "3        True       1   f  35.0  53.1000        S   C          2\n",
       "4       False       3   m  35.0   8.0500        S   X          1\n",
       "..        ...     ...  ..   ...      ...      ...  ..        ...\n",
       "886     False       2   m  27.0  13.0000        S   X          1\n",
       "887      True       1   f  19.0  30.0000        S   B          1\n",
       "888     False       3   f  21.5  23.4500        S   X          4\n",
       "889      True       1   m  26.0  30.0000        C   C          1\n",
       "890     False       3   m  32.0   7.7500        Q   X          1\n",
       "\n",
       "[891 rows x 8 columns]"
      ]
     },
     "execution_count": 28,
     "metadata": {},
     "output_type": "execute_result"
    }
   ],
   "source": [
    "import mltable\n",
    "\n",
    "# Note: the uri below can be a local folder or folder located in cloud storage. The folder must contain a valid MLTable file.\n",
    "script_folder = os.path.join(os.getcwd(), \"titanic_prepped_mltable\")\n",
    "print(script_folder)\n",
    "tbl = mltable.load(uri=script_folder)\n",
    "tbl.to_pandas_dataframe()"
   ]
  },
  {
   "cell_type": "markdown",
   "metadata": {},
   "source": [
    "## Register an MLTable\n",
    "\n",
    "an MLTable can be leveraged as an input to a job or pipeline.  \n",
    "After it is registered, you can also retrieve it by name."
   ]
  },
  {
   "cell_type": "code",
   "execution_count": 29,
   "metadata": {},
   "outputs": [
    {
     "name": "stdout",
     "output_type": "stream",
     "text": [
      "registering ml table\n"
     ]
    },
    {
     "name": "stderr",
     "output_type": "stream",
     "text": [
      "\u001b[32mUploading titanic_prepped_mltable (0.02 MBs): 100%|██████████| 20861/20861 [00:00<00:00, 597966.01it/s]\n",
      "\u001b[39m\n",
      "\n"
     ]
    },
    {
     "name": "stdout",
     "output_type": "stream",
     "text": [
      "Dataset with name titanic_prepped_mltable_x2 was registered to workspace, the dataset version is 1\n"
     ]
    }
   ],
   "source": [
    "try:\n",
    "    registered_data_asset = ml_client.data.get(name='titanic_prepped_mltable_x2', version=1)\n",
    "    print('retrieved registered data asset')\n",
    "except:\n",
    "    print('registering ml table')\n",
    "    titanic_data = Data(\n",
    "        name=\"titanic_prepped_mltable_x2\",\n",
    "        path='./titanic_prepped_mltable/',\n",
    "        type=AssetTypes.MLTABLE,\n",
    "        description=\"Dataset for titanic\",\n",
    "        tags={\"source_type\": \"file\", \"source\": \"ML Engineering\"},\n",
    "        version=\"1\",\n",
    "    )\n",
    "    titanic_data = ml_client.data.create_or_update(titanic_data)\n",
    "    print(f\"Dataset with name {titanic_data.name} was registered to workspace, the dataset version is {titanic_data.version}\")"
   ]
  },
  {
   "cell_type": "code",
   "execution_count": 30,
   "metadata": {},
   "outputs": [
    {
     "name": "stdout",
     "output_type": "stream",
     "text": [
      "azureml://subscriptions/5da07161-3770-4a4b-aa43-418cbbb627cf/resourcegroups/chapter6-azureml-rg/workspaces/chapter6-azureml/datastores/workspaceblobstore/paths/LocalUpload/b3e9d2d76d36b52fc88b17546f0f0460/titanic_prepped_mltable/\n"
     ]
    },
    {
     "data": {
      "text/html": [
       "<div>\n",
       "<style scoped>\n",
       "    .dataframe tbody tr th:only-of-type {\n",
       "        vertical-align: middle;\n",
       "    }\n",
       "\n",
       "    .dataframe tbody tr th {\n",
       "        vertical-align: top;\n",
       "    }\n",
       "\n",
       "    .dataframe thead th {\n",
       "        text-align: right;\n",
       "    }\n",
       "</style>\n",
       "<table border=\"1\" class=\"dataframe\">\n",
       "  <thead>\n",
       "    <tr style=\"text-align: right;\">\n",
       "      <th></th>\n",
       "      <th>Survived</th>\n",
       "      <th>Pclass</th>\n",
       "      <th>Sex</th>\n",
       "      <th>Age</th>\n",
       "      <th>Fare</th>\n",
       "      <th>Embarked</th>\n",
       "      <th>Loc</th>\n",
       "      <th>GroupSize</th>\n",
       "    </tr>\n",
       "  </thead>\n",
       "  <tbody>\n",
       "    <tr>\n",
       "      <th>0</th>\n",
       "      <td>False</td>\n",
       "      <td>3</td>\n",
       "      <td>m</td>\n",
       "      <td>22.0</td>\n",
       "      <td>7.2500</td>\n",
       "      <td>S</td>\n",
       "      <td>X</td>\n",
       "      <td>2</td>\n",
       "    </tr>\n",
       "    <tr>\n",
       "      <th>1</th>\n",
       "      <td>True</td>\n",
       "      <td>1</td>\n",
       "      <td>f</td>\n",
       "      <td>38.0</td>\n",
       "      <td>71.2833</td>\n",
       "      <td>C</td>\n",
       "      <td>C</td>\n",
       "      <td>2</td>\n",
       "    </tr>\n",
       "    <tr>\n",
       "      <th>2</th>\n",
       "      <td>True</td>\n",
       "      <td>3</td>\n",
       "      <td>f</td>\n",
       "      <td>26.0</td>\n",
       "      <td>7.9250</td>\n",
       "      <td>S</td>\n",
       "      <td>X</td>\n",
       "      <td>1</td>\n",
       "    </tr>\n",
       "    <tr>\n",
       "      <th>3</th>\n",
       "      <td>True</td>\n",
       "      <td>1</td>\n",
       "      <td>f</td>\n",
       "      <td>35.0</td>\n",
       "      <td>53.1000</td>\n",
       "      <td>S</td>\n",
       "      <td>C</td>\n",
       "      <td>2</td>\n",
       "    </tr>\n",
       "    <tr>\n",
       "      <th>4</th>\n",
       "      <td>False</td>\n",
       "      <td>3</td>\n",
       "      <td>m</td>\n",
       "      <td>35.0</td>\n",
       "      <td>8.0500</td>\n",
       "      <td>S</td>\n",
       "      <td>X</td>\n",
       "      <td>1</td>\n",
       "    </tr>\n",
       "    <tr>\n",
       "      <th>...</th>\n",
       "      <td>...</td>\n",
       "      <td>...</td>\n",
       "      <td>...</td>\n",
       "      <td>...</td>\n",
       "      <td>...</td>\n",
       "      <td>...</td>\n",
       "      <td>...</td>\n",
       "      <td>...</td>\n",
       "    </tr>\n",
       "    <tr>\n",
       "      <th>886</th>\n",
       "      <td>False</td>\n",
       "      <td>2</td>\n",
       "      <td>m</td>\n",
       "      <td>27.0</td>\n",
       "      <td>13.0000</td>\n",
       "      <td>S</td>\n",
       "      <td>X</td>\n",
       "      <td>1</td>\n",
       "    </tr>\n",
       "    <tr>\n",
       "      <th>887</th>\n",
       "      <td>True</td>\n",
       "      <td>1</td>\n",
       "      <td>f</td>\n",
       "      <td>19.0</td>\n",
       "      <td>30.0000</td>\n",
       "      <td>S</td>\n",
       "      <td>B</td>\n",
       "      <td>1</td>\n",
       "    </tr>\n",
       "    <tr>\n",
       "      <th>888</th>\n",
       "      <td>False</td>\n",
       "      <td>3</td>\n",
       "      <td>f</td>\n",
       "      <td>21.5</td>\n",
       "      <td>23.4500</td>\n",
       "      <td>S</td>\n",
       "      <td>X</td>\n",
       "      <td>4</td>\n",
       "    </tr>\n",
       "    <tr>\n",
       "      <th>889</th>\n",
       "      <td>True</td>\n",
       "      <td>1</td>\n",
       "      <td>m</td>\n",
       "      <td>26.0</td>\n",
       "      <td>30.0000</td>\n",
       "      <td>C</td>\n",
       "      <td>C</td>\n",
       "      <td>1</td>\n",
       "    </tr>\n",
       "    <tr>\n",
       "      <th>890</th>\n",
       "      <td>False</td>\n",
       "      <td>3</td>\n",
       "      <td>m</td>\n",
       "      <td>32.0</td>\n",
       "      <td>7.7500</td>\n",
       "      <td>Q</td>\n",
       "      <td>X</td>\n",
       "      <td>1</td>\n",
       "    </tr>\n",
       "  </tbody>\n",
       "</table>\n",
       "<p>891 rows × 8 columns</p>\n",
       "</div>"
      ],
      "text/plain": [
       "     Survived  Pclass Sex   Age     Fare Embarked Loc  GroupSize\n",
       "0       False       3   m  22.0   7.2500        S   X          2\n",
       "1        True       1   f  38.0  71.2833        C   C          2\n",
       "2        True       3   f  26.0   7.9250        S   X          1\n",
       "3        True       1   f  35.0  53.1000        S   C          2\n",
       "4       False       3   m  35.0   8.0500        S   X          1\n",
       "..        ...     ...  ..   ...      ...      ...  ..        ...\n",
       "886     False       2   m  27.0  13.0000        S   X          1\n",
       "887      True       1   f  19.0  30.0000        S   B          1\n",
       "888     False       3   f  21.5  23.4500        S   X          4\n",
       "889      True       1   m  26.0  30.0000        C   C          1\n",
       "890     False       3   m  32.0   7.7500        Q   X          1\n",
       "\n",
       "[891 rows x 8 columns]"
      ]
     },
     "execution_count": 30,
     "metadata": {},
     "output_type": "execute_result"
    }
   ],
   "source": [
    "registered_v1_data_asset = ml_client.data.get(name='titanic_prepped_mltable_x2', version='1')\n",
    "print(registered_v1_data_asset.path)\n",
    "\n",
    "tbl = mltable.load(uri=registered_v1_data_asset.path)\n",
    "tbl.to_pandas_dataframe()"
   ]
  },
  {
   "cell_type": "markdown",
   "metadata": {},
   "source": [
    "## Create Compute "
   ]
  },
  {
   "cell_type": "code",
   "execution_count": 31,
   "metadata": {},
   "outputs": [
    {
     "name": "stdout",
     "output_type": "stream",
     "text": [
      "Creating a new cpu compute target...\n"
     ]
    }
   ],
   "source": [
    "from azure.ai.ml.entities import AmlCompute\n",
    "\n",
    "# specify aml compute name.\n",
    "cpu_compute_target = \"cpu-cluster\"\n",
    "\n",
    "try:\n",
    "    ml_client.compute.get(cpu_compute_target)\n",
    "except Exception:\n",
    "    print(\"Creating a new cpu compute target...\")\n",
    "    compute = AmlCompute(\n",
    "        name=cpu_compute_target, size=\"STANDARD_D2_V2\", min_instances=0, max_instances=4, idle_time_before_scale_down = 1800\n",
    "    )\n",
    "    ml_client.compute.begin_create_or_update(compute)"
   ]
  },
  {
   "cell_type": "markdown",
   "metadata": {},
   "source": [
    "## Creating code to generate Basic Model\n",
    "\n",
    "We will first create a model using the job command, and then leverage the `jobsweep` command with specified parameters for hyperparameter tuning"
   ]
  },
  {
   "cell_type": "code",
   "execution_count": 32,
   "metadata": {},
   "outputs": [
    {
     "name": "stdout",
     "output_type": "stream",
     "text": [
      "/mnt/batch/tasks/shared/LS_root/mounts/clusters/memasanz2/code/Users/memasanz/ML-Engineering-with-Azure-Machine-Learning-Service/chapter 4/src\n"
     ]
    }
   ],
   "source": [
    "script_folder = os.path.join(os.getcwd(), \"src\")\n",
    "print(script_folder)\n",
    "os.makedirs(script_folder, exist_ok=True)"
   ]
  },
  {
   "cell_type": "markdown",
   "metadata": {},
   "source": [
    "## Create main.py file for running in your command"
   ]
  },
  {
   "cell_type": "code",
   "execution_count": 33,
   "metadata": {},
   "outputs": [
    {
     "name": "stdout",
     "output_type": "stream",
     "text": [
      "Writing ./src/main.py\n"
     ]
    }
   ],
   "source": [
    "%%writefile ./src/main.py\n",
    "import os\n",
    "import argparse\n",
    "import mlflow\n",
    "import mlflow.sklearn\n",
    "from mlflow.models import infer_signature\n",
    "from mlflow.utils.environment import _mlflow_conda_env\n",
    "from mlflow.tracking import MlflowClient\n",
    "import pandas as pd\n",
    "import numpy as np\n",
    "from sklearn.compose import ColumnTransformer\n",
    "from sklearn.impute import SimpleImputer\n",
    "from sklearn.linear_model import LogisticRegression\n",
    "from sklearn.model_selection import train_test_split\n",
    "from sklearn.pipeline import Pipeline\n",
    "from sklearn.preprocessing import OneHotEncoder, StandardScaler, LabelEncoder\n",
    "from sklearn.metrics import roc_auc_score,roc_curve\n",
    "from sklearn.metrics import accuracy_score, precision_score, recall_score\n",
    "\n",
    "\n",
    "# define functions\n",
    "def main(args):\n",
    "    current_run = mlflow.start_run()\n",
    "    mlflow.sklearn.autolog(log_models=False)\n",
    "\n",
    "    # read in data\n",
    "    df = pd.read_csv(args.titanic_csv)\n",
    "    model = model_train('Survived', df, args.randomstate)\n",
    "    mlflow.end_run()\n",
    "\n",
    "def model_train(LABEL, df, randomstate):\n",
    "    print('df.columns = ')\n",
    "    print(df.columns)\n",
    "    \n",
    "    df['Embarked'] = df['Embarked'].astype(object)\n",
    "    df['Loc'] = df['Loc'].astype(object)\n",
    "    df['Loc'] = df['Sex'].astype(object)\n",
    "    df['Pclass'] = df['Pclass'].astype(float)\n",
    "    df['Age'] = df['Age'].astype(float)\n",
    "    df['Fare'] = df['Fare'].astype(float)\n",
    "    df['GroupSize'] = df['GroupSize'].astype(float)\n",
    "\n",
    "    y_raw           = df[LABEL]\n",
    "    columns_to_keep = ['Embarked', 'Loc', 'Sex','Pclass', 'Age', 'Fare', 'GroupSize']\n",
    "    X_raw           = df[columns_to_keep]\n",
    "\n",
    "    print(X_raw.columns)\n",
    "     # Train test split\n",
    "    X_train, X_test, y_train, y_test = train_test_split(X_raw, y_raw, test_size=0.2, random_state=randomstate)\n",
    "    \n",
    "    #use Logistic Regression estimator from scikit learn\n",
    "    lg = LogisticRegression(penalty='l2', C=1.0, solver='liblinear')\n",
    "    preprocessor = buildpreprocessorpipeline(X_train)\n",
    "    \n",
    "    #estimator instance\n",
    "    clf = Pipeline(steps=[('preprocessor', preprocessor),\n",
    "                               ('regressor', lg)], verbose=True)\n",
    "\n",
    "    model = clf.fit(X_train, y_train)\n",
    "    \n",
    "    print('type of X_test = ' + str(type(X_test)))\n",
    "          \n",
    "    y_pred = model.predict(X_test)\n",
    "    \n",
    "    print('*****X_test************')\n",
    "    print(X_test)\n",
    "    \n",
    "    #get the active run.\n",
    "    run = mlflow.active_run()\n",
    "    print(\"Active run_id: {}\".format(run.info.run_id))\n",
    "\n",
    "    acc = model.score(X_test, y_test )\n",
    "    print('Accuracy:', acc)\n",
    "    MlflowClient().log_metric(run.info.run_id, \"test_acc\", acc)\n",
    "    \n",
    "    y_scores = model.predict_proba(X_test)\n",
    "    auc = roc_auc_score(y_test,y_scores[:,1])\n",
    "    print('AUC: ' , auc)\n",
    "    MlflowClient().log_metric(run.info.run_id, \"test_auc\", auc)\n",
    "    \n",
    "    \n",
    "    # Signature\n",
    "    signature = infer_signature(X_test, y_test)\n",
    "\n",
    "    # Conda environment\n",
    "    custom_env =_mlflow_conda_env(\n",
    "        additional_conda_deps=[\"scikit-learn==1.1.3\"],\n",
    "        additional_pip_deps=[\"mlflow<=1.30.0\"],\n",
    "        additional_conda_channels=None,\n",
    "    )\n",
    "\n",
    "    # Sample\n",
    "    input_example = X_train.sample(n=1)\n",
    "\n",
    "    # Log the model manually\n",
    "    mlflow.sklearn.log_model(model, \n",
    "                             artifact_path=\"model\", \n",
    "                             conda_env=custom_env,\n",
    "                             signature=signature,\n",
    "                             input_example=input_example)\n",
    "\n",
    "\n",
    "    \n",
    "    return model\n",
    "\n",
    "\n",
    "\n",
    "def buildpreprocessorpipeline(X_raw):\n",
    "\n",
    "    categorical_features = X_raw.select_dtypes(include=['object', 'bool']).columns\n",
    "    numeric_features = X_raw.select_dtypes(include=['float','int64']).columns\n",
    "\n",
    "    #categorical_features = ['Sex', 'Embarked', 'Loc']\n",
    "    categorical_transformer = Pipeline(steps=[('onehotencoder', \n",
    "                                               OneHotEncoder(categories='auto', sparse=False, handle_unknown='ignore'))])\n",
    "\n",
    "\n",
    "    #numeric_features = ['Pclass', 'Age', 'Fare', 'GroupSize']    \n",
    "    numeric_transformer1 = Pipeline(steps=[('scaler1', SimpleImputer(missing_values=np.nan, strategy = 'mean'))])\n",
    "    \n",
    "\n",
    "    preprocessor = ColumnTransformer(\n",
    "        transformers=[\n",
    "            ('numeric1', numeric_transformer1, numeric_features),\n",
    "            ('categorical', categorical_transformer, categorical_features)], remainder='drop')\n",
    "    \n",
    "    return preprocessor\n",
    "\n",
    "\n",
    "\n",
    "def parse_args():\n",
    "    # setup arg parser\n",
    "    parser = argparse.ArgumentParser()\n",
    "\n",
    "    # add arguments\n",
    "    parser.add_argument(\"--titanic-csv\", type=str)\n",
    "    parser.add_argument(\"--randomstate\", type=int, default=42)\n",
    "\n",
    "    # parse args\n",
    "    args = parser.parse_args()\n",
    "    print(args)\n",
    "    # return args\n",
    "    return args\n",
    "\n",
    "\n",
    "# run script\n",
    "if __name__ == \"__main__\":\n",
    "    # parse args\n",
    "    args = parse_args()\n",
    "\n",
    "    # run main function\n",
    "    main(args)"
   ]
  },
  {
   "cell_type": "markdown",
   "metadata": {},
   "source": [
    "## Configure Command\n",
    "\n",
    "- `display_name` display name for the job\n",
    "- `description`  the description of the experiment\n",
    "- `code` path where the code is located\n",
    "- `command` command to run\n",
    "- `inputs`  dictionary of name value pairs using `${{inputs.<input_name>}}`\n",
    "    \n",
    "    - To use files or folder - using the `Input` class\n",
    "        \n",
    "        - `type` defaults to a `uri_folder` but this can be set to `uri_file` or `uri_folder`\n",
    "        - `path` is the path to the file or folder.  These can be local or remote leveraging **https, http, wasb`\n",
    "        \n",
    "            - To use an Azure ML dataset, this would be an Input `Input(type='uri_folder', path='my_dataset:1')`\n",
    "            \n",
    "            - `mode` is how the data should be delivered to the compute which include `ro_mount`(default), `rw_mount` and `download`\n",
    "\n",
    "- `environment`: environment to be used by compute when running command\n",
    "- `compute`: can be `local`, or a specificed compute name\n",
    "- `distribution`: distribution to leverage for distributed training scenerios including:\n",
    "        \n",
    "    - `Pytorch`\n",
    "    - `TensorFlow`\n",
    "    - `MPI`\n",
    "            \n",
    "            \n",
    "          "
   ]
  },
  {
   "cell_type": "code",
   "execution_count": 34,
   "metadata": {},
   "outputs": [],
   "source": [
    "# create the command\n",
    "from azure.ai.ml import command\n",
    "from azure.ai.ml import Input\n",
    "\n",
    "my_job = command(\n",
    "    code=\"./src\",  # local path where the code is stored\n",
    "    command=\"python main.py --titanic ${{inputs.titanic}} --randomstate ${{inputs.randomstate}}\",\n",
    "    inputs={\n",
    "        \"titanic\": Input(\n",
    "            type=\"uri_file\",\n",
    "            path=\"azureml:titanic_prepped:1\",\n",
    "        ),\n",
    "        \"randomstate\": 0,\n",
    "    },\n",
    "    environment=\"job_base_env@latest\",\n",
    "    compute=\"cpu-cluster\",\n",
    "    display_name=\"sklearn-titanic\",\n",
    "    # description,\n",
    "    # experiment_name\n",
    ")"
   ]
  },
  {
   "cell_type": "code",
   "execution_count": 35,
   "metadata": {},
   "outputs": [
    {
     "name": "stdout",
     "output_type": "stream",
     "text": [
      "/mnt/batch/tasks/shared/LS_root/mounts/clusters/memasanz2/code/Users/memasanz/ML-Engineering-with-Azure-Machine-Learning-Service/chapter 4/job\n"
     ]
    }
   ],
   "source": [
    "script_folder = os.path.join(os.getcwd(), \"job\")\n",
    "print(script_folder)\n",
    "os.makedirs(script_folder, exist_ok=True)"
   ]
  },
  {
   "cell_type": "markdown",
   "metadata": {},
   "source": [
    "## Run Command with SDK"
   ]
  },
  {
   "cell_type": "code",
   "execution_count": 36,
   "metadata": {},
   "outputs": [
    {
     "name": "stderr",
     "output_type": "stream",
     "text": [
      "\u001b[32mUploading src (0.0 MBs): 100%|██████████| 4595/4595 [00:00<00:00, 543923.09it/s]\n",
      "\u001b[39m\n",
      "\n"
     ]
    }
   ],
   "source": [
    "# submit the command\n",
    "returned_job = ml_client.create_or_update(my_job)"
   ]
  },
  {
   "cell_type": "code",
   "execution_count": 37,
   "metadata": {},
   "outputs": [
    {
     "data": {
      "text/plain": [
       "'https://ml.azure.com/runs/dreamy_feijoa_h8w8c6svtp?wsid=/subscriptions/5da07161-3770-4a4b-aa43-418cbbb627cf/resourcegroups/chapter6-azureml-rg/workspaces/chapter6-azureml&tid=72f988bf-86f1-41af-91ab-2d7cd011db47'"
      ]
     },
     "execution_count": 37,
     "metadata": {},
     "output_type": "execute_result"
    }
   ],
   "source": [
    "returned_job.services[\"Studio\"].endpoint"
   ]
  },
  {
   "cell_type": "code",
   "execution_count": 38,
   "metadata": {},
   "outputs": [
    {
     "data": {
      "text/html": [
       "<table style=\"width:100%\"><tr><th>Experiment</th><th>Name</th><th>Type</th><th>Status</th><th>Details Page</th></tr><tr><td>chapter4</td><td>dreamy_feijoa_h8w8c6svtp</td><td>command</td><td>Starting</td><td><a href=\"https://ml.azure.com/runs/dreamy_feijoa_h8w8c6svtp?wsid=/subscriptions/5da07161-3770-4a4b-aa43-418cbbb627cf/resourcegroups/chapter6-azureml-rg/workspaces/chapter6-azureml&amp;tid=72f988bf-86f1-41af-91ab-2d7cd011db47\" target=\"_blank\" rel=\"noopener\">Link to Azure Machine Learning studio</a></td></tr></table>"
      ],
      "text/plain": [
       "Command({'parameters': {}, 'init': False, 'type': 'command', 'status': 'Starting', 'log_files': None, 'name': 'dreamy_feijoa_h8w8c6svtp', 'description': None, 'tags': {}, 'properties': {'_azureml.ComputeTargetType': 'amlctrain', 'ContentSnapshotId': '80e2438f-c4c3-4280-a8e4-654ab8e80668'}, 'id': '/subscriptions/5da07161-3770-4a4b-aa43-418cbbb627cf/resourceGroups/chapter6-azureml-rg/providers/Microsoft.MachineLearningServices/workspaces/chapter6-azureml/jobs/dreamy_feijoa_h8w8c6svtp', 'Resource__source_path': None, 'base_path': '/mnt/batch/tasks/shared/LS_root/mounts/clusters/memasanz2/code/Users/memasanz/ML-Engineering-with-Azure-Machine-Learning-Service/chapter 4', 'creation_context': <azure.ai.ml.entities._system_data.SystemData object at 0x7f2019a05cc0>, 'serialize': <msrest.serialization.Serializer object at 0x7f2019a04f40>, 'allowed_keys': {}, 'key_restriction': False, 'logger': <Logger attr_dict (WARNING)>, 'display_name': 'sklearn-titanic', 'experiment_name': 'chapter4', 'compute': 'cpu-cluster', 'services': {'Tracking': <azure.ai.ml.entities._job.job_service.JobService object at 0x7f2019a05330>, 'Studio': <azure.ai.ml.entities._job.job_service.JobService object at 0x7f2019a05360>}, 'comment': None, 'job_inputs': {'titanic': {'type': 'uri_file', 'path': 'titanic_prepped:1', 'mode': 'ro_mount'}, 'randomstate': '0'}, 'job_outputs': {'default': {'type': 'uri_folder', 'path': 'azureml://datastores/workspaceartifactstore/ExperimentRun/dcid.dreamy_feijoa_h8w8c6svtp', 'mode': 'rw_mount'}}, 'inputs': {'titanic': <azure.ai.ml.entities._job.pipeline._io.base.NodeInput object at 0x7f2019a04e20>, 'randomstate': <azure.ai.ml.entities._job.pipeline._io.base.NodeInput object at 0x7f2019a07fa0>}, 'outputs': {'default': <azure.ai.ml.entities._job.pipeline._io.base.NodeOutput object at 0x7f2019a05990>}, 'component': CommandComponent({'auto_increment_version': True, 'source': 'REMOTE.WORKSPACE.JOB', 'is_anonymous': False, 'name': 'dreamy_feijoa_h8w8c6svtp', 'description': None, 'tags': {}, 'properties': {}, 'id': None, 'Resource__source_path': None, 'base_path': PosixPath('.'), 'creation_context': <azure.ai.ml.entities._system_data.SystemData object at 0x7f2019a05cc0>, 'serialize': <msrest.serialization.Serializer object at 0x7f2019a05420>, 'command': 'python main.py --titanic ${{inputs.titanic}} --randomstate ${{inputs.randomstate}}', 'code': '/subscriptions/5da07161-3770-4a4b-aa43-418cbbb627cf/resourceGroups/chapter6-azureml-rg/providers/Microsoft.MachineLearningServices/workspaces/chapter6-azureml/codes/208847aa-4f18-434d-a92c-b0c397332868/versions/1', 'environment_variables': {}, 'environment': '/subscriptions/5da07161-3770-4a4b-aa43-418cbbb627cf/resourceGroups/chapter6-azureml-rg/providers/Microsoft.MachineLearningServices/workspaces/chapter6-azureml/environments/job_base_env/versions/2', 'distribution': None, 'resources': None, 'version': None, 'latest_version': None, 'schema': None, 'type': 'command', 'display_name': 'sklearn-titanic', 'is_deterministic': True, 'inputs': {'titanic': {'type': 'uri_file', 'path': '/subscriptions/5da07161-3770-4a4b-aa43-418cbbb627cf/resourceGroups/chapter6-azureml-rg/providers/Microsoft.MachineLearningServices/workspaces/chapter6-azureml/data/titanic_prepped/versions/1', 'mode': 'ro_mount'}, 'randomstate': {'type': 'string', 'default': '0'}}, 'outputs': {'default': {'type': 'uri_folder', 'path': 'azureml://datastores/workspaceartifactstore/ExperimentRun/dcid.dreamy_feijoa_h8w8c6svtp', 'mode': 'rw_mount'}}, 'yaml_str': None, 'other_parameter': {'status': 'Starting', 'parameters': {}}}), 'referenced_control_flow_node_instance_id': None, 'kwargs': {'services': {'Tracking': <azure.ai.ml.entities._job.job_service.JobService object at 0x7f2019a05330>, 'Studio': <azure.ai.ml.entities._job.job_service.JobService object at 0x7f2019a05360>}, 'status': 'Starting', 'creation_context': <azure.ai.ml.entities._system_data.SystemData object at 0x7f2019a05cc0>}, 'instance_id': 'ad31ffc1-9e48-4a81-ac97-57567346043a', 'source': 'BUILDER', 'limits': None, 'identity': None, 'distribution': None, 'environment_variables': {}, 'environment': 'job_base_env:2', 'resources': {'instance_count': 1, 'shm_size': '2g'}, 'swept': False})"
      ]
     },
     "execution_count": 38,
     "metadata": {},
     "output_type": "execute_result"
    }
   ],
   "source": [
    "returned_job"
   ]
  },
  {
   "cell_type": "code",
   "execution_count": 39,
   "metadata": {},
   "outputs": [
    {
     "name": "stdout",
     "output_type": "stream",
     "text": [
      "run_id:dreamy_feijoa_h8w8c6svtp\n",
      "experiment:chapter4\n"
     ]
    }
   ],
   "source": [
    "run_id = returned_job.name\n",
    "print('run_id:' + run_id)\n",
    "experiment = returned_job.experiment_name\n",
    "print(\"experiment:\" + experiment)"
   ]
  },
  {
   "cell_type": "markdown",
   "metadata": {},
   "source": [
    "You can always get the list of runs using ml flow.  Below we will track our process:"
   ]
  },
  {
   "cell_type": "code",
   "execution_count": 40,
   "metadata": {},
   "outputs": [
    {
     "name": "stdout",
     "output_type": "stream",
     "text": [
      "run is being scheduled\n",
      "run is being scheduled\n",
      "run is being scheduled\n",
      "run is being scheduled\n",
      "run is being scheduled\n",
      "run is being scheduled\n",
      "run is being scheduled\n",
      "run is being scheduled\n",
      "run is being scheduled\n",
      "run is being scheduled\n",
      "run is being scheduled\n",
      "run is being scheduled\n",
      "run is being scheduled\n",
      "run is being scheduled\n",
      "run is being scheduled\n",
      "run is being scheduled\n",
      "run is being scheduled\n",
      "run is being scheduled\n",
      "run is being scheduled\n",
      "run is being scheduled\n",
      "run is being scheduled\n",
      "run is being scheduled\n",
      "run is being scheduled\n",
      "run is being scheduled\n",
      "run is being scheduled\n",
      "run is being scheduled\n",
      "run is being scheduled\n",
      "run is being scheduled\n",
      "run is being scheduled\n",
      "run is being scheduled\n",
      "run is being scheduled\n",
      "run is being scheduled\n",
      "run is being scheduled\n",
      "run is being scheduled\n",
      "run is being scheduled\n",
      "run is being scheduled\n",
      "run is being scheduled\n",
      "run is being scheduled\n",
      "run is being scheduled\n",
      "run is being scheduled\n",
      "run is being scheduled\n",
      "run is being scheduled\n",
      "run is being scheduled\n",
      "run is being scheduled\n",
      "run is being scheduled\n",
      "run is being scheduled\n",
      "run is being scheduled\n",
      "run is being scheduled\n",
      "run is being scheduled\n",
      "run is being scheduled\n",
      "run is being scheduled\n",
      "run is being scheduled\n",
      "run is being scheduled\n",
      "run is being scheduled\n",
      "run is being scheduled\n",
      "run is being scheduled\n",
      "run is being scheduled\n",
      "job is being run\n",
      "job is being run\n",
      "job is being run\n",
      "job is being run\n",
      "job is being run\n",
      "job is being run\n",
      "job is being run\n",
      "job is being run\n",
      "job is being run\n",
      "job is being run\n",
      "job is being run\n",
      "job is being run\n",
      "run_id:dreamy_feijoa_h8w8c6svtp\n",
      "----------\n",
      "run_id:FINISHED\n"
     ]
    }
   ],
   "source": [
    "import mlflow\n",
    "import time\n",
    "\n",
    "exp = mlflow.get_experiment_by_name(experiment)\n",
    "last_run = mlflow.search_runs(exp.experiment_id, output_format=\"list\")[-1]\n",
    "\n",
    "if last_run.info.run_id != run_id:\n",
    "    print('run ids were not the same - waiting for run id to update')\n",
    "    time.sleep(5)\n",
    "    exp = mlflow.get_experiment_by_name(experiment)\n",
    "    last_run = mlflow.search_runs(exp.experiment_id, output_format=\"list\")[-1]\n",
    "\n",
    "while last_run.info.status == 'SCHEDULED':\n",
    "  print('run is being scheduled')\n",
    "  time.sleep(5)\n",
    "  last_run = mlflow.search_runs(exp.experiment_id, output_format=\"list\")[-1]\n",
    "\n",
    "while last_run.info.status == 'RUNNING':\n",
    "  print('job is being run')\n",
    "  time.sleep(10)\n",
    "  last_run = mlflow.search_runs(exp.experiment_id, output_format=\"list\")[-1]\n",
    "\n",
    "print(\"run_id:{}\".format(last_run.info.run_id))\n",
    "print('----------')\n",
    "print(\"run_id:{}\".format(last_run.info.status))"
   ]
  },
  {
   "cell_type": "markdown",
   "metadata": {},
   "source": [
    "## Create a job.yml file\n",
    "\n",
    "Note you can also run a command through the CLI.  This is great preperation for MLOps. The file below will allow use to leverage the AML CLI V2 to run this command.  We can and will run it through the CLI, but it is included here for completeness"
   ]
  },
  {
   "cell_type": "code",
   "execution_count": 41,
   "metadata": {},
   "outputs": [
    {
     "name": "stdout",
     "output_type": "stream",
     "text": [
      "Writing ./job/job.yml\n"
     ]
    }
   ],
   "source": [
    "%%writefile ./job/job.yml\n",
    "$schema: https://azuremlschemas.azureedge.net/latest/commandJob.schema.json\n",
    "code: ../src\n",
    "command: >-\n",
    "  python main.py \n",
    "  --titanic-csv ${{inputs.titanic}}\n",
    "  --randomstate ${{inputs.randomstate}}\n",
    "inputs:\n",
    "  titanic:\n",
    "    path: azureml:titanic_prepped:1\n",
    "    mode: ro_mount\n",
    "  randomstate: 0   \n",
    "environment: azureml:job_base_env@latest\n",
    "compute: azureml:cpu-cluster\n",
    "experiment_name: titanic-job-example\n",
    "description: | \n",
    "    # Train a classification model on diabetes data using a registered dataset as input.\n"
   ]
  },
  {
   "cell_type": "markdown",
   "metadata": {},
   "source": [
    "You can use the CLI to run this command now that you have created a yml file.  Navigate on your compute instace to the folder holding the job.yml file and run the following command in the terminal.\n",
    "\n",
    "* Note to replace the workspace name in the command with your workspace name (update the value: aml-workspace), and the resource group (update the value: aml-workspace-rg) with your resource group name\n",
    "\n",
    "```\n",
    "az login\n",
    "az ml job create --file job.yml --web --resource-group aml-workspace-rg --workspace-name aml-workspace\n",
    "```\n"
   ]
  },
  {
   "cell_type": "markdown",
   "metadata": {},
   "source": [
    "### List all of the artifacts that were automatically logged as part of your experiment"
   ]
  },
  {
   "cell_type": "code",
   "execution_count": 42,
   "metadata": {},
   "outputs": [
    {
     "name": "stdout",
     "output_type": "stream",
     "text": [
      "chapter4\n",
      "dreamy_feijoa_h8w8c6svtp\n"
     ]
    },
    {
     "data": {
      "text/plain": [
       "[<FileInfo: file_size=-1, is_dir=False, path='estimator.html'>,\n",
       " <FileInfo: file_size=-1, is_dir=True, path='model'>,\n",
       " <FileInfo: file_size=-1, is_dir=True, path='system_logs'>,\n",
       " <FileInfo: file_size=-1, is_dir=False, path='training_confusion_matrix.png'>,\n",
       " <FileInfo: file_size=-1, is_dir=False, path='training_precision_recall_curve.png'>,\n",
       " <FileInfo: file_size=-1, is_dir=False, path='training_roc_curve.png'>,\n",
       " <FileInfo: file_size=-1, is_dir=True, path='user_logs'>]"
      ]
     },
     "execution_count": 42,
     "metadata": {},
     "output_type": "execute_result"
    }
   ],
   "source": [
    "import mlflow\n",
    "\n",
    "print(experiment)\n",
    "print(run_id)\n",
    "mlflow.set_experiment(experiment_name=experiment)\n",
    "client = mlflow.tracking.MlflowClient()\n",
    "client.list_artifacts(run_id=run_id)"
   ]
  },
  {
   "cell_type": "markdown",
   "metadata": {},
   "source": [
    "You can download any artifact from the list of artifacts - and display the results"
   ]
  },
  {
   "cell_type": "code",
   "execution_count": 43,
   "metadata": {},
   "outputs": [
    {
     "name": "stderr",
     "output_type": "stream",
     "text": [
      "/tmp/ipykernel_33977/3405485479.py:1: FutureWarning: ``mlflow.tracking.client.MlflowClient.download_artifacts`` is deprecated since 2.0. This method will be removed in a future release. Use ``mlflow.artifacts.download_artifacts`` instead.\n",
      "  file_path = client.download_artifacts(\n"
     ]
    },
    {
     "data": {
      "image/png": "[encoded data removed]",
      "text/plain": [
       "<Figure size 640x480 with 1 Axes>"
      ]
     },
     "metadata": {},
     "output_type": "display_data"
    }
   ],
   "source": [
    "file_path = client.download_artifacts(\n",
    "    run_id, path=\"training_confusion_matrix.png\"\n",
    ")\n",
    "\n",
    "import matplotlib.pyplot as plt\n",
    "import matplotlib.image as img\n",
    "\n",
    "image = img.imread(file_path)\n",
    "plt.imshow(image)\n",
    "plt.show()"
   ]
  },
  {
   "cell_type": "markdown",
   "metadata": {},
   "source": [
    "### Retrieve the Model and consume locally\n",
    "\n",
    "Given the model was already logged as a job artifact, we can download it locally and run it.  \n",
    "  \n",
    "\n"
   ]
  },
  {
   "cell_type": "code",
   "execution_count": 44,
   "metadata": {},
   "outputs": [
    {
     "name": "stdout",
     "output_type": "stream",
     "text": [
      "dreamy_feijoa_h8w8c6svtp\n"
     ]
    }
   ],
   "source": [
    "print(last_run.info.run_id)\n",
    "pipeline_model = mlflow.sklearn.load_model(f\"runs:/{last_run.info.run_id}/model\")"
   ]
  },
  {
   "cell_type": "code",
   "execution_count": 45,
   "metadata": {},
   "outputs": [
    {
     "data": {
      "text/plain": [
       "sklearn.pipeline.Pipeline"
      ]
     },
     "execution_count": 45,
     "metadata": {},
     "output_type": "execute_result"
    }
   ],
   "source": [
    "type(pipeline_model)"
   ]
  },
  {
   "cell_type": "code",
   "execution_count": 46,
   "metadata": {},
   "outputs": [
    {
     "name": "stdout",
     "output_type": "stream",
     "text": [
      "/mnt/batch/tasks/shared/LS_root/mounts/clusters/memasanz2/code/Users/memasanz/ML-Engineering-with-Azure-Machine-Learning-Service/chapter 4/titanic_prepped_mltable\n"
     ]
    }
   ],
   "source": [
    "script_folder = os.path.join(os.getcwd(), \"titanic_prepped_mltable\")\n",
    "print(script_folder)\n",
    "tbl = mltable.load(uri=script_folder)\n",
    "df  = tbl.to_pandas_dataframe()\n",
    "columns_to_keep =  ['Embarked', 'Loc', 'Sex','Pclass', 'Age', 'Fare', 'GroupSize']\n",
    "X_raw           = df[columns_to_keep]\n"
   ]
  },
  {
   "cell_type": "code",
   "execution_count": 47,
   "metadata": {},
   "outputs": [
    {
     "name": "stdout",
     "output_type": "stream",
     "text": [
      "[0 1 0 1 0 0 0 0 0 1 0 0 0 0 0 0 0 0 0 0 0 0 0 0 0 0 0 0 0 0 0 1 0 0 0 0 0\n",
      " 0 0 0 0 0 0 1 0 0 0 0 0 0 0 0 1 0 0 0 1 0 1 0 0 1 0 0 0 0 1 0 0 0 0 0 0 0\n",
      " 0 0 0 0 0 0 0 0 0 0 1 0 0 0 1 0 0 0 0 0 0 0 0 1 0 0 0 0 0 0 0 0 0 0 0 0 0\n",
      " 0 0 0 0 0 0 0 1 0 0 0 0 0 0 0 0 0 0 0 0 0 0 0 0 0 1 0 0 1 0 0 0 0 0 0 0 0\n",
      " 0 0 0 1 0 0 0 0 0 0 0 0 0 0 0 0 0 0 1 0 0 0 0 0 0 0 0 0 0 1 0 0 0 0 0 0 0\n",
      " 0 0 0 0 0 0 0 0 0 1 1 0 0 0 1 0 0 0 0 0 0 0 0 0 0 0 0 0 0 0 1 0 0 1 0 0 0\n",
      " 0 0 0 0 0 0 0 0 1 0 0 0 0 0 0 1 0 0 0 0 0 0 0 0 0 0 0 0 0 0 0 0 0 0 1 1 1\n",
      " 0 0 0 0 0 0 0 0 0 1 1 0 0 0 0 0 0 0 0 0 0 0 0 0 0 0 0 0 0 0 0 1 1 0 0 0 0\n",
      " 0 1 0 1 0 0 0 1 0 1 1 1 0 1 1 1 0 0 0 0 1 0 1 1 0 0 1 0 0 1 0 0 0 1 0 0 0\n",
      " 0 1 0 0 1 0 0 0 1 0 0 0 1 0 0 0 0 0 0 0 0 0 0 1 0 0 0 0 0 0 0 0 0 0 0 0 1\n",
      " 1 0 0 1 0 1 0 1 0 0 1 0 0 1 0 0 0 0 0 1 0 0 0 1 0 0 0 0 0 1 0 0 0 0 0 0 0\n",
      " 0 0 0 0 0 1 0 0 0 0 1 0 0 0 0 0 0 0 0 0 1 0 0 0 0 0 0 0 1 0 0 0 0 0 0 0 1\n",
      " 0 1 1 0 0 0 0 0 0 0 0 0 0 1 0 0 0 0 0 0 0 0 0 0 0 0 0 0 0 1 0 0 0 0 0 0 0\n",
      " 0 0 0 1 0 1 0 0 0 0 0 0 0 0 0 1 0 1 0 0 0 0 0 1 1 0 0 0 0 0 0 0 1 0 0 0 0\n",
      " 0 0 1 0 0 1 0 0 0 0 0 0 1 0 0 0 0 1 0 1 0 1 1 0 0 0 0 0 1 0 0 0 1 0 0 0 0\n",
      " 0 1 1 1 0 0 0 0 0 0 0 0 0 0 0 0 0 0 0 0 0 0 1 0 0 0 1 0 0 0 1 0 0 0 0 0 1\n",
      " 0 0 0 0 1 0 0 0 0 0 0 0 0 0 0 0 0 1 0 0 0 0 0 0 0 0 1 0 0 0 0 0 0 0 0 1 0\n",
      " 0 0 0 0 0 0 1 0 0 0 0 0 1 0 0 0 0 0 0 0 0 0 1 0 0 0 0 0 0 0 0 0 0 0 0 0 0\n",
      " 0 0 0 1 0 0 0 0 0 0 0 0 0 1 0 1 0 0 0 0 0 0 0 1 0 1 0 0 0 0 0 0 0 0 1 0 0\n",
      " 0 0 0 0 0 1 0 1 0 0 0 0 0 1 1 0 0 1 0 0 0 0 0 0 0 0 0 1 0 0 0 0 0 0 1 0 0\n",
      " 0 0 1 0 0 0 0 0 1 0 1 0 0 0 0 0 0 0 0 1 0 0 0 1 0 1 0 0 0 0 0 0 0 0 0 0 0\n",
      " 1 0 1 0 1 0 0 0 0 0 0 0 0 0 0 0 0 0 0 1 0 0 0 0 0 1 0 0 0 0 0 0 1 0 0 0 0\n",
      " 0 0 0 0 0 0 0 0 0 0 0 0 0 0 0 0 0 0 0 0 0 1 0 0 0 0 0 0 1 0 0 0 0 0 0 1 0\n",
      " 0 0 1 0 0 1 0 0 0 0 0 1 0 0 0 1 0 0 0 0 0 0 0 1 0 0 0 0 1 1 0 0 0 0 0 0 1\n",
      " 0 1 0]\n"
     ]
    }
   ],
   "source": [
    "results = pipeline_model.predict(X_raw)\n",
    "print(results)"
   ]
  },
  {
   "cell_type": "markdown",
   "metadata": {},
   "source": [
    "### Register the Model \n",
    "\n",
    "Using the Python SDK V2 - we can register the Model for use.  \n",
    "\n",
    "Parameters for model registration include:\n",
    "\n",
    "- `path` - A remote uri or local path pointing at the model\n",
    "- `name` - A string value\n",
    "- `description` - A description for the model\n",
    "- `type` - valid values include: \n",
    "    - \"custom_model\"\n",
    "    - \"mlflow_model\" \n",
    "    - \"triton_model\".  \n",
    "    \n",
    "* Instead of typing out the `type`, you can use the AssetTypes in the namespace azure.ai.ml.constants as we have done below\n",
    "\n",
    "\n"
   ]
  },
  {
   "cell_type": "code",
   "execution_count": 48,
   "metadata": {},
   "outputs": [
    {
     "data": {
      "text/plain": [
       "Model({'job_name': 'dreamy_feijoa_h8w8c6svtp', 'is_anonymous': False, 'auto_increment_version': False, 'name': 'titanic_model', 'description': 'Model created from run.', 'tags': {}, 'properties': {}, 'id': '/subscriptions/5da07161-3770-4a4b-aa43-418cbbb627cf/resourceGroups/chapter6-azureml-rg/providers/Microsoft.MachineLearningServices/workspaces/chapter6-azureml/models/titanic_model/versions/1', 'Resource__source_path': None, 'base_path': '/mnt/batch/tasks/shared/LS_root/mounts/clusters/memasanz2/code/Users/memasanz/ML-Engineering-with-Azure-Machine-Learning-Service/chapter 4', 'creation_context': <azure.ai.ml.entities._system_data.SystemData object at 0x7f2019a06410>, 'serialize': <msrest.serialization.Serializer object at 0x7f2019a04670>, 'version': '1', 'latest_version': None, 'path': 'azureml://subscriptions/5da07161-3770-4a4b-aa43-418cbbb627cf/resourceGroups/chapter6-azureml-rg/workspaces/chapter6-azureml/datastores/workspaceartifactstore/paths/ExperimentRun/dcid.dreamy_feijoa_h8w8c6svtp/model', 'datastore': None, 'utc_time_created': None, 'flavors': {'python_function': {'env': '{\\n  \"conda\": \"conda.yaml\",\\n  \"virtualenv\": \"python_env.yaml\"\\n}', 'loader_module': 'mlflow.sklearn', 'model_path': 'model.pkl', 'predict_fn': 'predict', 'python_version': '3.10.8'}, 'sklearn': {'code': '', 'pickled_model': 'model.pkl', 'serialization_format': 'cloudpickle', 'sklearn_version': '1.1.3'}}, 'arm_type': 'model_version', 'type': 'mlflow_model'})"
      ]
     },
     "execution_count": 48,
     "metadata": {},
     "output_type": "execute_result"
    }
   ],
   "source": [
    "from azure.ai.ml.entities import Model\n",
    "from azure.ai.ml.constants import AssetTypes\n",
    "\n",
    "run_model = Model(\n",
    "    path=f\"runs:/{last_run.info.run_id}/model\",\n",
    "    name=\"titanic_model\",\n",
    "    description=\"Model created from run.\",\n",
    "    type=AssetTypes.MLFLOW_MODEL \n",
    ")\n",
    "\n",
    "ml_client.models.create_or_update(run_model) "
   ]
  },
  {
   "cell_type": "markdown",
   "metadata": {},
   "source": [
    "## Hyperparameter Sweep\n",
    "\n",
    "Configure your experiment to tune your hyperparameters.  The parameters can be discrete or continuous values."
   ]
  },
  {
   "cell_type": "markdown",
   "metadata": {},
   "source": [
    "### Sweep Function\n",
    "The Sweep Function allows you to define:\n",
    "\n",
    "  - for the job `sampling_algorithm` to be \n",
    "    - random\n",
    "    - grid\n",
    "    - bayesian\n",
    "  - `objective`: \n",
    "    - primary_metric - the metric must be loggin the the training script using mflow.log_metric()\n",
    "    - goal - the optimzation goal of the objective.primary_metric\n",
    "      - maximize\n",
    "      - minimize\n",
    "  - `compute` - name of the compute target to excute the job on\n",
    "  - `limits` - limits for the sweep job\n",
    "\n",
    "The **Best Child Run** on the Overview screen will show you the best performing child run."
   ]
  },
  {
   "cell_type": "markdown",
   "metadata": {},
   "source": [
    "## Update Script to take hyperparameters\n",
    "\n",
    "We will update the script a bit, and now take in hyperparameters.\n",
    "\n",
    "```\n",
    "parser.add_argument(\"--penalty-term\", type=str, default='l1')\n",
    "parser.add_argument(\"--C\", type=float, default=0.01)\n",
    "parser.add_argument(\"--max-iter\", type=int, default=100)\n",
    "```\n",
    "\n",
    "We have also updated the script to include additional logging so you can gain familiarity with mlflow logging if you are not already familiar.\n"
   ]
  },
  {
   "cell_type": "code",
   "execution_count": 49,
   "metadata": {},
   "outputs": [
    {
     "name": "stdout",
     "output_type": "stream",
     "text": [
      "/mnt/batch/tasks/shared/LS_root/mounts/clusters/memasanz2/code/Users/memasanz/ML-Engineering-with-Azure-Machine-Learning-Service/chapter 4/hyperparametertune\n"
     ]
    }
   ],
   "source": [
    "import os\n",
    "script_folder = os.path.join(os.getcwd(), \"hyperparametertune\")\n",
    "print(script_folder)\n",
    "os.makedirs(script_folder, exist_ok=True)"
   ]
  },
  {
   "cell_type": "code",
   "execution_count": 50,
   "metadata": {},
   "outputs": [
    {
     "name": "stdout",
     "output_type": "stream",
     "text": [
      "Writing ./hyperparametertune/main.py\n"
     ]
    }
   ],
   "source": [
    "%%writefile ./hyperparametertune/main.py\n",
    "\n",
    "import os\n",
    "import argparse\n",
    "import mlflow\n",
    "import mlflow.sklearn\n",
    "from mlflow.models import infer_signature\n",
    "from mlflow.utils.environment import _mlflow_conda_env\n",
    "from mlflow.tracking import MlflowClient\n",
    "import pandas as pd\n",
    "import numpy as np\n",
    "from sklearn.compose import ColumnTransformer\n",
    "from sklearn.impute import SimpleImputer\n",
    "from sklearn.linear_model import LogisticRegression\n",
    "from sklearn.model_selection import train_test_split\n",
    "from sklearn.pipeline import Pipeline\n",
    "from sklearn.preprocessing import OneHotEncoder, StandardScaler, LabelEncoder\n",
    "from sklearn.metrics import roc_auc_score,roc_curve\n",
    "from sklearn.metrics import accuracy_score, precision_score, recall_score\n",
    "\n",
    "\n",
    "# define functions\n",
    "def main(args):\n",
    "    # enable auto logging\n",
    "    current_run = mlflow.start_run()\n",
    "    mlflow.sklearn.autolog(log_models=False)\n",
    "\n",
    "    # read in data\n",
    "    df = pd.read_csv(args.titanic_csv)\n",
    "    model = model_train('Survived', df, args.penalty_term, args.C, args.max_iter, args.randomstate)\n",
    "    mlflow.end_run()\n",
    "\n",
    "def fetch_logged_data(run_id):\n",
    "    client = mlflow.tracking.MlflowClient()\n",
    "    data = client.get_run(run_id).data\n",
    "    tags = {k: v for k, v in data.tags.items() if not k.startswith(\"mlflow.\")}\n",
    "    artifacts = [f.path for f in client.list_artifacts(run_id, \"model\")]\n",
    "    return data.params, data.metrics, tags, artifacts\n",
    "\n",
    "def model_train(LABEL, df, penalty_term, C, max_iter, randomstate):\n",
    "    print('df.columns = ')\n",
    "    print(df.columns)\n",
    "    \n",
    "    df['Embarked'] = df['Embarked'].astype(object)\n",
    "    df['Loc'] = df['Loc'].astype(object)\n",
    "    df['Loc'] = df['Sex'].astype(object)\n",
    "    df['Pclass'] = df['Pclass'].astype(float)\n",
    "    df['Age'] = df['Age'].astype(float)\n",
    "    df['Fare'] = df['Fare'].astype(float)\n",
    "    df['GroupSize'] = df['GroupSize'].astype(float)\n",
    "\n",
    "    y_raw           = df[LABEL]\n",
    "    columns_to_keep = ['Embarked', 'Loc', 'Sex','Pclass', 'Age', 'Fare', 'GroupSize']\n",
    "    X_raw           = df[columns_to_keep]\n",
    "    \n",
    "    print(X_raw.columns)\n",
    "     # Train test split\n",
    "\n",
    "    X_train, X_test, y_train, y_test = train_test_split(X_raw, y_raw, test_size=0.2, shuffle=randomstate)\n",
    "    \n",
    "    #use Logistic Regression estimator from scikit learn\n",
    "    \n",
    "    lg = LogisticRegression(penalty=penalty_term, C=C, max_iter=max_iter, solver='liblinear')\n",
    "    preprocessor = buildpreprocessorpipeline(X_train)\n",
    "    \n",
    "    #estimator instance\n",
    "    clf = Pipeline(steps=[('preprocessor', preprocessor),\n",
    "                               ('regressor', lg)], verbose=True)\n",
    "\n",
    "    model = clf.fit(X_train, y_train)\n",
    "    \n",
    "    y_pred = model.predict(X_test)\n",
    "    \n",
    "    #get the active run.\n",
    "    run = mlflow.active_run()\n",
    "    print(\"Active run_id: {}\".format(run.info.run_id))\n",
    "    \n",
    "\n",
    "    acc = model.score(X_test, y_test )\n",
    "    print('Accuracy:', acc)\n",
    "    MlflowClient().log_metric(run.info.run_id, \"test_ACC\", acc)\n",
    "    \n",
    "    y_scores = model.predict_proba(X_test)\n",
    "    auc = roc_auc_score(y_test,y_scores[:,1])\n",
    "    print('AUC: ' , auc)\n",
    "    MlflowClient().log_metric(run.info.run_id, \"test_AUC\", auc)\n",
    "    \n",
    "    params, metrics, tags, artifacts = fetch_logged_data(run.info.run_id)\n",
    "    \n",
    "    print('******************************')\n",
    "    print(params)\n",
    "    print('******************************')\n",
    "    print(metrics)\n",
    "    print('******************************')\n",
    "    \n",
    "    # Signature\n",
    "    signature = infer_signature(X_test, y_test)\n",
    "\n",
    "    # Conda environment\n",
    "    custom_env =_mlflow_conda_env(\n",
    "        additional_conda_deps=[\"scikit-learn==1.1.3\"],\n",
    "        additional_pip_deps=[\"mlflow<=1.30.0\"],\n",
    "        additional_conda_channels=None,\n",
    "    )\n",
    "\n",
    "    # Sample\n",
    "    input_example = X_train.sample(n=1)\n",
    "\n",
    "    # Log the model manually\n",
    "    mlflow.sklearn.log_model(model, \n",
    "                             artifact_path=\"model\", \n",
    "                             conda_env=custom_env,\n",
    "                             signature=signature,\n",
    "                             input_example=input_example)\n",
    "\n",
    "\n",
    "    \n",
    "    return model\n",
    "\n",
    "\n",
    "def buildpreprocessorpipeline(X_raw):\n",
    "\n",
    "    categorical_features = X_raw.select_dtypes(include=['object', 'bool']).columns\n",
    "    numeric_features = X_raw.select_dtypes(include=['float','int64']).columns\n",
    "\n",
    "    categorical_transformer = Pipeline(steps=[('imputer', SimpleImputer(strategy='constant', fill_value=\"missing\")),\n",
    "                                              ('onehotencoder', OneHotEncoder(categories='auto', sparse=False, handle_unknown='ignore'))])\n",
    "    \n",
    "    numeric_transformer = Pipeline(steps=[('scaler', StandardScaler())])\n",
    "    \n",
    "    preprocessor = ColumnTransformer(\n",
    "        transformers=[\n",
    "            ('numeric', numeric_transformer, numeric_features),\n",
    "            ('categorical', categorical_transformer, categorical_features)\n",
    "        ], remainder=\"passthrough\")\n",
    "    \n",
    "    \n",
    "    return preprocessor\n",
    "\n",
    "\n",
    "\n",
    "def parse_args():\n",
    "    # setup arg parser\n",
    "    parser = argparse.ArgumentParser()\n",
    "\n",
    "    # add arguments\n",
    "    parser.add_argument(\"--titanic-csv\", type=str)\n",
    "    parser.add_argument(\"--penalty-term\", type=str, default='l1')\n",
    "    parser.add_argument(\"--C\", type=float, default=0.01)\n",
    "    parser.add_argument(\"--max-iter\", type=int, default=100)\n",
    "    parser.add_argument(\"--randomstate\", type=int, default=42)\n",
    "\n",
    "    # parse args\n",
    "    args = parser.parse_args()\n",
    "    print(args)\n",
    "    # return args\n",
    "    return args\n",
    "\n",
    "\n",
    "# run script\n",
    "if __name__ == \"__main__\":\n",
    "    # parse args\n",
    "    args = parse_args()\n",
    "\n",
    "    # run main function\n",
    "    main(args)"
   ]
  },
  {
   "cell_type": "markdown",
   "metadata": {},
   "source": [
    "## Grid Sampling"
   ]
  },
  {
   "cell_type": "code",
   "execution_count": 51,
   "metadata": {},
   "outputs": [],
   "source": [
    "from azure.ai.ml.sweep import Choice, Uniform, MedianStoppingPolicy, BanditPolicy, TruncationSelectionPolicy\n",
    "\n",
    "grid_sampling_job_command = command(\n",
    "    code=\"./hyperparametertune\",  # local path where the code is stored\n",
    "    command=\"python main.py --titanic ${{inputs.titanic}} --randomstate ${{inputs.randomstate}}\",\n",
    "    inputs={\n",
    "        \"titanic\": Input(\n",
    "            type=\"uri_file\",\n",
    "            path=\"azureml:titanic_prepped:1\",\n",
    "        ),\n",
    "        \"randomstate\": 0,\n",
    "        \"penalty_term\": 'l1',\n",
    "        \"C\": 0.01,\n",
    "        \"max_iter\": 100,\n",
    "    },\n",
    "    environment=\"job_base_env@latest\",\n",
    "    compute=\"cpu-cluster\",\n",
    "    display_name=\"GridSampling\",\n",
    ")\n",
    "\n",
    "#Set Parameter expressions\n",
    "grid_command_job_for_sweep = grid_sampling_job_command(\n",
    "    penalty_term=Choice(values=['l2', 'l1']),\n",
    "    C=Choice(values=[0.01, .1, 1.0, 10]),\n",
    "    max_iter=Choice(values=[10, 100, 150, 200]),\n",
    ")"
   ]
  },
  {
   "cell_type": "code",
   "execution_count": 52,
   "metadata": {},
   "outputs": [],
   "source": [
    "# apply the sweep parameter to obtain the sweep_job\n",
    "grid_sweep_job = grid_command_job_for_sweep.sweep(\n",
    "    compute=\"cpu-cluster\",\n",
    "    sampling_algorithm=\"grid\",\n",
    "    primary_metric=\"test_AUC\",\n",
    "    goal=\"Maximize\",\n",
    ")\n",
    "\n",
    "#2*4*4 = 32 trial runs, but we will explicity set the max total trials, to see it is not exceeded\n",
    "grid_sweep_job.set_limits(max_total_trials=60, \n",
    "                     max_concurrent_trials=10, \n",
    "                     timeout=7200)\n"
   ]
  },
  {
   "cell_type": "code",
   "execution_count": 53,
   "metadata": {},
   "outputs": [
    {
     "name": "stderr",
     "output_type": "stream",
     "text": [
      "\u001b[32mUploading hyperparametertune (0.01 MBs): 100%|██████████| 5283/5283 [00:00<00:00, 707962.17it/s]\n",
      "\u001b[39m\n",
      "\n"
     ]
    },
    {
     "data": {
      "text/plain": [
       "'https://ml.azure.com/runs/strong_line_3m44fyn5k3?wsid=/subscriptions/5da07161-3770-4a4b-aa43-418cbbb627cf/resourcegroups/chapter6-azureml-rg/workspaces/chapter6-azureml&tid=72f988bf-86f1-41af-91ab-2d7cd011db47'"
      ]
     },
     "execution_count": 53,
     "metadata": {},
     "output_type": "execute_result"
    }
   ],
   "source": [
    "# submit the sweep\n",
    "returned_sweep_job = ml_client.create_or_update(grid_sweep_job)\n",
    "# get a URL for the status of the job\n",
    "returned_sweep_job.services[\"Studio\"].endpoint"
   ]
  },
  {
   "cell_type": "code",
   "execution_count": 54,
   "metadata": {},
   "outputs": [
    {
     "data": {
      "text/html": [
       "<table style=\"width:100%\"><tr><th>Experiment</th><th>Name</th><th>Type</th><th>Status</th><th>Details Page</th></tr><tr><td>chapter4</td><td>strong_line_3m44fyn5k3</td><td>sweep</td><td>Running</td><td><a href=\"https://ml.azure.com/runs/strong_line_3m44fyn5k3?wsid=/subscriptions/5da07161-3770-4a4b-aa43-418cbbb627cf/resourcegroups/chapter6-azureml-rg/workspaces/chapter6-azureml&amp;tid=72f988bf-86f1-41af-91ab-2d7cd011db47\" target=\"_blank\" rel=\"noopener\">Link to Azure Machine Learning studio</a></td></tr></table>"
      ],
      "text/plain": [
       "SweepJob({'type': 'sweep', 'status': 'Running', 'log_files': None, 'name': 'strong_line_3m44fyn5k3', 'description': None, 'tags': {'_aml_system_max_concurrent_jobs': '10', '_aml_system_max_total_jobs': '60', '_aml_system_max_duration_minutes': '120', '_aml_system_policy_config': '{\"name\":\"Default\",\"properties\":{}}', '_aml_system_generator_config': '{\"name\":\"GRID\",\"parameter_space\":{\"penalty_term\":[\"choice\",[[\"l2\",\"l1\"]]],\"C\":[\"choice\",[[0.01,0.1,1.0,10]]],\"max_iter\":[\"choice\",[[10,100,150,200]]]},\"properties\":{}}', '_aml_system_primary_metric_config': '{\"name\":\"test_AUC\",\"goal\":\"maximize\"}', '_aml_system_platform_config': '{\"ServiceAddress\":\"https://eastus.api.azureml.ms\",\"SubscriptionId\":\"5da07161-3770-4a4b-aa43-418cbbb627cf\",\"ResourceGroupName\":\"chapter6-azureml-rg\",\"WorkspaceName\":\"chapter6-azureml\",\"ExperimentName\":\"chapter4\",\"Definition\":{\"Configuration\":null,\"Attribution\":null,\"TelemetryValues\":null,\"Overrides\":{\"Script\":null,\"Command\":\"python main.py --titanic ${{inputs.titanic}} --randomstate ${{inputs.randomstate}}\",\"UseAbsolutePath\":true,\"Arguments\":[],\"SourceDirectoryDataStore\":null,\"Framework\":0,\"Target\":\"cpu-cluster\",\"DataReferences\":{},\"Data\":{\"titanic\":{\"DataLocation\":{\"Dataset\":null,\"DataPath\":null,\"Uri\":{\"Path\":\"/subscriptions/5da07161-3770-4a4b-aa43-418cbbb627cf/resourceGroups/chapter6-azureml-rg/providers/Microsoft.MachineLearningServices/workspaces/chapter6-azureml/data/titanic_prepped/versions/1\",\"IsFile\":true},\"Type\":\"UriFile\"},\"Mechanism\":\"Mount\",\"EnvironmentVariableName\":\"AZURE_ML_INPUT_titanic\",\"PathOnCompute\":null,\"Overwrite\":false,\"Options\":{\"IsEvalMode\":\"False\",\"ReadWrite\":\"False\",\"ForceFolder\":\"False\"}}},\"InputAssets\":{\"titanic\":{\"Asset\":{\"AssetId\":\"azureml://locations/eastus/workspaces/9e44248b-9077-4922-99ad-0c577c53684e/data/titanic_prepped/versions/1\",\"Type\":\"UriFile\"},\"Mechanism\":\"Mount\",\"EnvironmentVariableName\":\"AZURE_ML_INPUT_titanic\",\"PathOnCompute\":null,\"Overwrite\":false,\"Options\":{\"IsEvalMode\":\"False\",\"ReadWrite\":\"False\",\"ForceFolder\":\"False\"}}},\"OutputData\":{},\"Datacaches\":[],\"JobName\":null,\"MaxRunDurationSeconds\":null,\"NodeCount\":1,\"InstanceTypes\":[],\"Priority\":null,\"CredentialPassthrough\":false,\"Identity\":null,\"Environment\":{\"Name\":\"job_base_env\",\"Version\":\"2\",\"AssetId\":\"azureml://locations/eastus/workspaces/9e44248b-9077-4922-99ad-0c577c53684e/environments/job_base_env/versions/2\",\"AutoRebuild\":false,\"Python\":{\"InterpreterPath\":null,\"UserManagedDependencies\":false,\"CondaDependencies\":{\"dependencies\":[\"python=3.10\",\"scikit-learn=1.1.3\",\"ipykernel\",\"matplotlib\",\"pandas\",\"pip\",{\"pip\":[\"mlflow==2.0.1\",\"azure-ai-ml==1.1.2\",\"mltable==1.0.0\",\"azureml-mlflow==1.48.0\"]}],\"name\":\"job_env\"},\"BaseCondaEnvironment\":null},\"EnvironmentVariables\":{},\"Docker\":{\"BaseImage\":\"mcr.microsoft.com/azureml/openmpi3.1.2-ubuntu18.04\",\"Platform\":{\"Os\":\"Linux\",\"Architecture\":\"amd64\"},\"BaseDockerfile\":null,\"BaseImageRegistry\":null},\"Spark\":{\"Repositories\":[],\"Packages\":[],\"PrecachePackages\":true},\"InferencingStackVersion\":null},\"History\":{\"OutputCollection\":true,\"DirectoriesToWatch\":[\"logs\"],\"EnableMLflowTracking\":true},\"Spark\":{\"Configuration\":{}},\"ParallelTask\":{\"MaxRetriesPerWorker\":0,\"WorkerCountPerNode\":1,\"TerminalExitCodes\":null,\"Configuration\":{}},\"BatchAi\":{\"NodeCount\":0},\"AmlCompute\":{\"Name\":null,\"VmSize\":null,\"RetainCluster\":false,\"ClusterMaxNodeCount\":null},\"AISuperComputer\":{\"InstanceType\":\"D2\",\"FrameworkImage\":null,\"ImageVersion\":\"pytorch-1.7.0\",\"Location\":null,\"AISuperComputerStorageData\":null,\"Interactive\":false,\"ScalePolicy\":null,\"VirtualClusterArmId\":null,\"TensorboardLogDirectory\":null,\"SSHPublicKey\":null,\"SSHPublicKeys\":null,\"EnableAzmlInt\":true,\"Priority\":\"Medium\",\"SLATier\":\"Standard\",\"UserAlias\":null},\"KubernetesCompute\":{\"InstanceType\":null},\"Tensorflow\":{\"WorkerCount\":0,\"ParameterServerCount\":0},\"Mpi\":{\"ProcessCountPerNode\":0},\"PyTorch\":{\"CommunicationBackend\":null,\"ProcessCount\":null},\"Hdi\":{\"YarnDeployMode\":0},\"ContainerInstance\":{\"Region\":null,\"CpuCores\":2.0,\"MemoryGb\":3.5},\"ExposedPorts\":null,\"Docker\":{\"UseDocker\":true,\"SharedVolumes\":null,\"ShmSize\":null,\"Arguments\":null},\"Cmk8sCompute\":{\"Configuration\":{}},\"CommandReturnCodeConfig\":{\"ReturnCode\":0,\"SuccessfulReturnCodes\":[]},\"EnvironmentVariables\":{},\"ApplicationEndpoints\":{},\"Parameters\":[{\"Name\":\"randomstate\",\"Type\":null,\"Value\":\"0\",\"IsOptional\":false}]},\"SnapshotId\":\"ede1d4a9-8708-4d29-b81d-7bd1e70b0a83\",\"Snapshots\":[],\"SourceCodeDataReference\":null,\"ParentRunId\":null,\"DataContainerId\":null,\"RunType\":null,\"DisplayName\":\"GridSampling\",\"EnvironmentAssetId\":null,\"Properties\":{},\"Tags\":{},\"AggregatedArtifactPath\":null},\"ParentRunId\":\"strong_line_3m44fyn5k3\"}', '_aml_system_resume_child_runs': 'null', '_aml_system_all_jobs_generated': 'false', '_aml_system_cancellation_requested': 'false'}, 'properties': {'primary_metric_config': '{\"name\":\"test_AUC\",\"goal\":\"maximize\"}', 'resume_from': 'null', 'runTemplate': 'HyperDrive', 'azureml.runsource': 'hyperdrive', 'platform': 'AML', 'ContentSnapshotId': 'ede1d4a9-8708-4d29-b81d-7bd1e70b0a83', 'user_agent': 'managementfrontend/81b9b64e718f5a58489d1b0d054fdf54ce850439'}, 'id': '/subscriptions/5da07161-3770-4a4b-aa43-418cbbb627cf/resourceGroups/chapter6-azureml-rg/providers/Microsoft.MachineLearningServices/workspaces/chapter6-azureml/jobs/strong_line_3m44fyn5k3', 'Resource__source_path': None, 'base_path': '/mnt/batch/tasks/shared/LS_root/mounts/clusters/memasanz2/code/Users/memasanz/ML-Engineering-with-Azure-Machine-Learning-Service/chapter 4', 'creation_context': <azure.ai.ml.entities._system_data.SystemData object at 0x7f1fb96d45e0>, 'serialize': <msrest.serialization.Serializer object at 0x7f1fb96d4a00>, 'sampling_algorithm': <azure.ai.ml.entities._job.sweep.sampling_algorithm.RandomSamplingAlgorithm object at 0x7f20199e9810>, 'early_termination': None, 'limits': <azure.ai.ml.entities._job.job_limits.SweepJobLimits object at 0x7f1fb96d48e0>, 'search_space': {'penalty_term': <azure.ai.ml.entities._job.sweep.search_space.Choice object at 0x7f1fb96d4550>, 'C': <azure.ai.ml.entities._job.sweep.search_space.Choice object at 0x7f1fb96d42b0>, 'max_iter': <azure.ai.ml.entities._job.sweep.search_space.Choice object at 0x7f1fb96d4310>}, 'objective': <azure.ai.ml._restclient.v2022_10_01_preview.models._models_py3.Objective object at 0x7f1fb96d4df0>, 'display_name': 'GridSampling', 'experiment_name': 'chapter4', 'compute': 'cpu-cluster', 'services': {'Studio': <azure.ai.ml._restclient.v2022_10_01_preview.models._models_py3.JobService object at 0x7f1fb96d4af0>}, 'inputs': {'titanic': {'type': 'uri_file', 'path': 'azureml://locations/eastus/workspaces/9e44248b-9077-4922-99ad-0c577c53684e/data/titanic_prepped/versions/1', 'mode': 'ro_mount'}, 'randomstate': '0'}, 'outputs': {'default': {'type': 'uri_folder', 'path': 'azureml://datastores/workspaceartifactstore/ExperimentRun/dcid.strong_line_3m44fyn5k3', 'mode': 'rw_mount'}}, 'trial': <azure.ai.ml.entities._job.parameterized_command.ParameterizedCommand object at 0x7f1fb96d4940>, 'identity': None})"
      ]
     },
     "execution_count": 54,
     "metadata": {},
     "output_type": "execute_result"
    }
   ],
   "source": [
    "returned_sweep_job"
   ]
  },
  {
   "cell_type": "code",
   "execution_count": 55,
   "metadata": {},
   "outputs": [
    {
     "name": "stdout",
     "output_type": "stream",
     "text": [
      "run_id:strong_line_3m44fyn5k3\n",
      "experiment:chapter4\n",
      "d287308d-6f4b-49d5-a2ce-db528026f6f6\n"
     ]
    }
   ],
   "source": [
    "run_id = returned_sweep_job.name\n",
    "print('run_id:' + run_id)\n",
    "experiment = returned_job.experiment_name\n",
    "print(\"experiment:\" + experiment)\n",
    "\n",
    "current_experiment=dict(mlflow.get_experiment_by_name(experiment))\n",
    "experiment_id=current_experiment['experiment_id']\n",
    "print(experiment_id)"
   ]
  },
  {
   "cell_type": "code",
   "execution_count": 56,
   "metadata": {},
   "outputs": [
    {
     "name": "stdout",
     "output_type": "stream",
     "text": [
      "['SCHEDULED']\n",
      "GridSampling, Number:SCHEDULED 10\n",
      "['SCHEDULED' 'RUNNING']\n",
      "GridSampling, Number:SCHEDULED 9\n",
      "GridSampling, Number:RUNNING 1\n",
      "['SCHEDULED' 'RUNNING']\n",
      "GridSampling, Number:SCHEDULED 9\n",
      "GridSampling, Number:RUNNING 1\n",
      "['SCHEDULED' 'RUNNING']\n",
      "GridSampling, Number:SCHEDULED 9\n",
      "GridSampling, Number:RUNNING 1\n",
      "['SCHEDULED' 'RUNNING']\n",
      "GridSampling, Number:SCHEDULED 9\n",
      "GridSampling, Number:RUNNING 1\n",
      "['SCHEDULED' 'FINISHED']\n",
      "GridSampling, Number:SCHEDULED 9\n",
      "GridSampling, Number:FINISHED 1\n",
      "['SCHEDULED' 'FINISHED' 'RUNNING']\n",
      "GridSampling, Number:SCHEDULED 8\n",
      "GridSampling, Number:FINISHED 1\n",
      "GridSampling, Number:RUNNING 1\n",
      "['SCHEDULED' 'FINISHED' 'RUNNING']\n",
      "GridSampling, Number:SCHEDULED 8\n",
      "GridSampling, Number:FINISHED 1\n",
      "GridSampling, Number:RUNNING 1\n",
      "['SCHEDULED' 'FINISHED' 'RUNNING']\n",
      "GridSampling, Number:SCHEDULED 8\n",
      "GridSampling, Number:FINISHED 1\n",
      "GridSampling, Number:RUNNING 1\n",
      "['SCHEDULED' 'FINISHED' 'RUNNING']\n",
      "GridSampling, Number:SCHEDULED 8\n",
      "GridSampling, Number:FINISHED 1\n",
      "GridSampling, Number:RUNNING 1\n",
      "['SCHEDULED' 'FINISHED']\n",
      "GridSampling, Number:SCHEDULED 9\n",
      "GridSampling, Number:FINISHED 2\n",
      "['SCHEDULED' 'RUNNING' 'FINISHED']\n",
      "GridSampling, Number:SCHEDULED 8\n",
      "GridSampling, Number:RUNNING 1\n",
      "GridSampling, Number:FINISHED 2\n",
      "['SCHEDULED' 'RUNNING' 'FINISHED']\n",
      "GridSampling, Number:SCHEDULED 8\n",
      "GridSampling, Number:RUNNING 1\n",
      "GridSampling, Number:FINISHED 2\n",
      "['SCHEDULED' 'RUNNING' 'FINISHED']\n",
      "GridSampling, Number:SCHEDULED 8\n",
      "GridSampling, Number:RUNNING 1\n",
      "GridSampling, Number:FINISHED 2\n",
      "['RUNNING' 'SCHEDULED' 'FINISHED']\n",
      "GridSampling, Number:RUNNING 1\n",
      "GridSampling, Number:SCHEDULED 7\n",
      "GridSampling, Number:FINISHED 3\n",
      "['RUNNING' 'SCHEDULED' 'FINISHED']\n",
      "GridSampling, Number:RUNNING 1\n",
      "GridSampling, Number:SCHEDULED 7\n",
      "GridSampling, Number:FINISHED 3\n",
      "['RUNNING' 'SCHEDULED' 'FINISHED']\n",
      "GridSampling, Number:RUNNING 1\n",
      "GridSampling, Number:SCHEDULED 8\n",
      "GridSampling, Number:FINISHED 3\n",
      "['RUNNING' 'SCHEDULED' 'FINISHED']\n",
      "GridSampling, Number:RUNNING 1\n",
      "GridSampling, Number:SCHEDULED 8\n",
      "GridSampling, Number:FINISHED 3\n",
      "['FINISHED' 'SCHEDULED']\n",
      "GridSampling, Number:FINISHED 4\n",
      "GridSampling, Number:SCHEDULED 8\n",
      "['FINISHED' 'SCHEDULED' 'RUNNING']\n",
      "GridSampling, Number:FINISHED 4\n",
      "GridSampling, Number:SCHEDULED 7\n",
      "GridSampling, Number:RUNNING 1\n",
      "['FINISHED' 'SCHEDULED' 'RUNNING']\n",
      "GridSampling, Number:FINISHED 4\n",
      "GridSampling, Number:SCHEDULED 7\n",
      "GridSampling, Number:RUNNING 1\n",
      "['FINISHED' 'SCHEDULED' 'RUNNING']\n",
      "GridSampling, Number:FINISHED 4\n",
      "GridSampling, Number:SCHEDULED 8\n",
      "GridSampling, Number:RUNNING 1\n",
      "['FINISHED' 'SCHEDULED' 'RUNNING']\n",
      "GridSampling, Number:FINISHED 4\n",
      "GridSampling, Number:SCHEDULED 8\n",
      "GridSampling, Number:RUNNING 1\n",
      "['FINISHED' 'SCHEDULED' 'RUNNING']\n",
      "GridSampling, Number:FINISHED 5\n",
      "GridSampling, Number:SCHEDULED 7\n",
      "GridSampling, Number:RUNNING 1\n",
      "['FINISHED' 'SCHEDULED' 'RUNNING']\n",
      "GridSampling, Number:FINISHED 5\n",
      "GridSampling, Number:SCHEDULED 7\n",
      "GridSampling, Number:RUNNING 1\n",
      "['FINISHED' 'SCHEDULED' 'RUNNING']\n",
      "GridSampling, Number:FINISHED 5\n",
      "GridSampling, Number:SCHEDULED 7\n",
      "GridSampling, Number:RUNNING 1\n",
      "['FINISHED' 'SCHEDULED' 'RUNNING']\n",
      "GridSampling, Number:FINISHED 5\n",
      "GridSampling, Number:SCHEDULED 7\n",
      "GridSampling, Number:RUNNING 1\n",
      "['FINISHED' 'SCHEDULED' 'RUNNING']\n",
      "GridSampling, Number:FINISHED 6\n",
      "GridSampling, Number:SCHEDULED 8\n",
      "GridSampling, Number:RUNNING 1\n",
      "['FINISHED' 'SCHEDULED' 'RUNNING']\n",
      "GridSampling, Number:FINISHED 6\n",
      "GridSampling, Number:SCHEDULED 8\n",
      "GridSampling, Number:RUNNING 1\n",
      "['FINISHED' 'SCHEDULED' 'RUNNING']\n",
      "GridSampling, Number:FINISHED 6\n",
      "GridSampling, Number:SCHEDULED 8\n",
      "GridSampling, Number:RUNNING 1\n",
      "['FINISHED' 'SCHEDULED' 'RUNNING']\n",
      "GridSampling, Number:FINISHED 6\n",
      "GridSampling, Number:SCHEDULED 8\n",
      "GridSampling, Number:RUNNING 1\n",
      "['FINISHED' 'SCHEDULED']\n",
      "GridSampling, Number:FINISHED 7\n",
      "GridSampling, Number:SCHEDULED 8\n",
      "['FINISHED' 'SCHEDULED' 'RUNNING']\n",
      "GridSampling, Number:FINISHED 7\n",
      "GridSampling, Number:SCHEDULED 8\n",
      "GridSampling, Number:RUNNING 1\n",
      "['FINISHED' 'RUNNING' 'SCHEDULED']\n",
      "GridSampling, Number:FINISHED 7\n",
      "GridSampling, Number:RUNNING 2\n",
      "GridSampling, Number:SCHEDULED 7\n",
      "['FINISHED' 'RUNNING' 'SCHEDULED']\n",
      "GridSampling, Number:FINISHED 7\n",
      "GridSampling, Number:RUNNING 2\n",
      "GridSampling, Number:SCHEDULED 7\n",
      "['FINISHED' 'RUNNING' 'SCHEDULED']\n",
      "GridSampling, Number:FINISHED 8\n",
      "GridSampling, Number:RUNNING 1\n",
      "GridSampling, Number:SCHEDULED 7\n",
      "['FINISHED' 'RUNNING' 'SCHEDULED']\n",
      "GridSampling, Number:FINISHED 8\n",
      "GridSampling, Number:RUNNING 2\n",
      "GridSampling, Number:SCHEDULED 6\n",
      "['FINISHED' 'RUNNING' 'SCHEDULED']\n",
      "GridSampling, Number:FINISHED 8\n",
      "GridSampling, Number:RUNNING 2\n",
      "GridSampling, Number:SCHEDULED 6\n",
      "['FINISHED' 'RUNNING' 'SCHEDULED']\n",
      "GridSampling, Number:FINISHED 8\n",
      "GridSampling, Number:RUNNING 4\n",
      "GridSampling, Number:SCHEDULED 6\n",
      "['FINISHED' 'RUNNING' 'SCHEDULED']\n",
      "GridSampling, Number:FINISHED 9\n",
      "GridSampling, Number:RUNNING 4\n",
      "GridSampling, Number:SCHEDULED 5\n",
      "['FINISHED' 'RUNNING' 'SCHEDULED']\n",
      "GridSampling, Number:FINISHED 9\n",
      "GridSampling, Number:RUNNING 4\n",
      "GridSampling, Number:SCHEDULED 5\n",
      "['FINISHED' 'RUNNING' 'SCHEDULED']\n",
      "GridSampling, Number:FINISHED 9\n",
      "GridSampling, Number:RUNNING 4\n",
      "GridSampling, Number:SCHEDULED 5\n",
      "['FINISHED' 'RUNNING' 'SCHEDULED']\n",
      "GridSampling, Number:FINISHED 9\n",
      "GridSampling, Number:RUNNING 4\n",
      "GridSampling, Number:SCHEDULED 5\n",
      "['FINISHED' 'RUNNING' 'SCHEDULED']\n",
      "GridSampling, Number:FINISHED 10\n",
      "GridSampling, Number:RUNNING 3\n",
      "GridSampling, Number:SCHEDULED 6\n",
      "['FINISHED' 'RUNNING' 'SCHEDULED']\n",
      "GridSampling, Number:FINISHED 10\n",
      "GridSampling, Number:RUNNING 4\n",
      "GridSampling, Number:SCHEDULED 5\n",
      "['FINISHED' 'RUNNING' 'SCHEDULED']\n",
      "GridSampling, Number:FINISHED 10\n",
      "GridSampling, Number:RUNNING 4\n",
      "GridSampling, Number:SCHEDULED 5\n",
      "['FINISHED' 'RUNNING' 'SCHEDULED']\n",
      "GridSampling, Number:FINISHED 10\n",
      "GridSampling, Number:RUNNING 4\n",
      "GridSampling, Number:SCHEDULED 5\n",
      "['FINISHED' 'RUNNING' 'SCHEDULED']\n",
      "GridSampling, Number:FINISHED 11\n",
      "GridSampling, Number:RUNNING 3\n",
      "GridSampling, Number:SCHEDULED 5\n",
      "['FINISHED' 'RUNNING' 'SCHEDULED']\n",
      "GridSampling, Number:FINISHED 11\n",
      "GridSampling, Number:RUNNING 4\n",
      "GridSampling, Number:SCHEDULED 4\n",
      "['FINISHED' 'RUNNING' 'SCHEDULED']\n",
      "GridSampling, Number:FINISHED 11\n",
      "GridSampling, Number:RUNNING 4\n",
      "GridSampling, Number:SCHEDULED 6\n",
      "['FINISHED' 'RUNNING' 'SCHEDULED']\n",
      "GridSampling, Number:FINISHED 11\n",
      "GridSampling, Number:RUNNING 4\n",
      "GridSampling, Number:SCHEDULED 6\n",
      "['FINISHED' 'RUNNING' 'SCHEDULED']\n",
      "GridSampling, Number:FINISHED 11\n",
      "GridSampling, Number:RUNNING 4\n",
      "GridSampling, Number:SCHEDULED 6\n",
      "['FINISHED' 'RUNNING' 'SCHEDULED']\n",
      "GridSampling, Number:FINISHED 12\n",
      "GridSampling, Number:RUNNING 3\n",
      "GridSampling, Number:SCHEDULED 6\n",
      "['FINISHED' 'RUNNING' 'SCHEDULED']\n",
      "GridSampling, Number:FINISHED 12\n",
      "GridSampling, Number:RUNNING 4\n",
      "GridSampling, Number:SCHEDULED 5\n",
      "['FINISHED' 'RUNNING' 'SCHEDULED']\n",
      "GridSampling, Number:FINISHED 13\n",
      "GridSampling, Number:RUNNING 3\n",
      "GridSampling, Number:SCHEDULED 5\n",
      "['FINISHED' 'RUNNING' 'SCHEDULED']\n",
      "GridSampling, Number:FINISHED 13\n",
      "GridSampling, Number:RUNNING 4\n",
      "GridSampling, Number:SCHEDULED 4\n",
      "['FINISHED' 'RUNNING' 'SCHEDULED']\n",
      "GridSampling, Number:FINISHED 14\n",
      "GridSampling, Number:RUNNING 3\n",
      "GridSampling, Number:SCHEDULED 4\n",
      "['FINISHED' 'RUNNING' 'SCHEDULED']\n",
      "GridSampling, Number:FINISHED 14\n",
      "GridSampling, Number:RUNNING 4\n",
      "GridSampling, Number:SCHEDULED 3\n",
      "['FINISHED' 'RUNNING' 'SCHEDULED']\n",
      "GridSampling, Number:FINISHED 14\n",
      "GridSampling, Number:RUNNING 4\n",
      "GridSampling, Number:SCHEDULED 3\n",
      "['FINISHED' 'RUNNING' 'SCHEDULED']\n",
      "GridSampling, Number:FINISHED 17\n",
      "GridSampling, Number:RUNNING 2\n",
      "GridSampling, Number:SCHEDULED 3\n",
      "['FINISHED' 'RUNNING' 'SCHEDULED']\n",
      "GridSampling, Number:FINISHED 18\n",
      "GridSampling, Number:RUNNING 3\n",
      "GridSampling, Number:SCHEDULED 1\n",
      "['FINISHED' 'RUNNING']\n",
      "GridSampling, Number:FINISHED 18\n",
      "GridSampling, Number:RUNNING 4\n",
      "['FINISHED' 'RUNNING']\n",
      "GridSampling, Number:FINISHED 19\n",
      "GridSampling, Number:RUNNING 3\n",
      "['FINISHED' 'RUNNING']\n",
      "GridSampling, Number:FINISHED 21\n",
      "GridSampling, Number:RUNNING 1\n",
      "['FINISHED']\n",
      "GridSampling, Number:FINISHED 22\n",
      "Sweep Job for run:strong_line_3m44fyn5k3 Complete\n"
     ]
    }
   ],
   "source": [
    "def get_job_status(experiment_id, run_id):\n",
    "    df = mlflow.search_runs([experiment_id])\n",
    "    rslt_df = df[(df['tags.mlflow.parentRunId'] == run_id )]\n",
    "    rslt_df_finished = rslt_df[rslt_df['status'] == 'FINISHED']\n",
    "\n",
    "    while rslt_df.shape[0] == 0:\n",
    "        print('waiting for jobs to register')\n",
    "        df = mlflow.search_runs([experiment_id])\n",
    "        rslt_df = df[(df['tags.mlflow.parentRunId'] == run_id )]\n",
    "        rslt_df_finished = rslt_df[rslt_df['status'] == 'FINISHED']\n",
    "        time.sleep(5)\n",
    "\n",
    "    while rslt_df_finished.shape[0] != rslt_df.shape[0]:\n",
    "        df = mlflow.search_runs([experiment_id])\n",
    "        rslt_df = df[(df['tags.mlflow.parentRunId'] == run_id )]\n",
    "        rslt_df_finished = rslt_df[rslt_df['status'] == 'FINISHED']\n",
    "        status = rslt_df[\"status\"].unique()\n",
    "        print(status)\n",
    "        for x in status:\n",
    "            rslt_df_status = rslt_df[rslt_df['status'] == x]\n",
    "            print(returned_sweep_job.display_name + ', Number:' + str(x) + \" \" +  str(rslt_df_status.shape[0]))\n",
    "        time.sleep(5)\n",
    "\n",
    "    print('Sweep Job for run:' + run_id + ' Complete')\n",
    "    \n",
    "get_job_status(experiment_id, run_id)"
   ]
  },
  {
   "cell_type": "markdown",
   "metadata": {},
   "source": [
    "## Random Sampling\n",
    "\n",
    "- Random sampling supports leveraging continuous and discrete hyperparameters.  \n",
    "- Hyperparameters are selected randomly from the defined search space.  \n",
    "- Note below we define the following hyperparameters:\n",
    "    - **penalty_term** to be either 'l1' or 'l2'\n",
    "    - **C** which is a value from 0.01-10.0\n",
    "    - **max_iter** is a choice of either 10, 100, 150 or 200"
   ]
  },
  {
   "cell_type": "code",
   "execution_count": 57,
   "metadata": {},
   "outputs": [],
   "source": [
    "from azure.ai.ml.sweep import Choice, Uniform, MedianStoppingPolicy, BanditPolicy, TruncationSelectionPolicy\n",
    "\n",
    "random_sampling_job_command = command(\n",
    "    code=\"./hyperparametertune\",  # local path where the code is stored\n",
    "    command=\"python main.py --titanic ${{inputs.titanic}} --randomstate ${{inputs.randomstate}}\",\n",
    "    inputs={\n",
    "        \"titanic\": Input(\n",
    "            type=\"uri_file\",\n",
    "            path=\"azureml:titanic_prepped:1\",\n",
    "        ),\n",
    "        \"randomstate\": 0,\n",
    "        \"penalty_term\": 'l1',\n",
    "        \"C\": 0.01,\n",
    "        \"max_iter\": 100,\n",
    "    },\n",
    "    environment=\"job_base_env@latest\",\n",
    "    compute=\"cpu-cluster\",\n",
    "    display_name=\"RandomSampling\",\n",
    ")\n",
    "\n",
    "# #Set Parameter expressions\n",
    "# #choice, randint, qlognormal, qnormal, qloguniform, quniform, lognormal, normal, loguniform, uniform\n",
    "random_command_job_for_sweep = random_sampling_job_command(\n",
    "    penalty_term=Choice(values=['l2', 'l1']),\n",
    "    C=Uniform(min_value=0.01, max_value=10.0),\n",
    "    max_iter=Choice(values=[10, 100, 150, 200]),\n",
    ")"
   ]
  },
  {
   "cell_type": "code",
   "execution_count": 58,
   "metadata": {},
   "outputs": [],
   "source": [
    "# apply the sweep parameter to obtain the sweep_job\n",
    "random_sweep_job = random_command_job_for_sweep.sweep(\n",
    "    compute=\"cpu-cluster\",\n",
    "    sampling_algorithm=\"random\",\n",
    "    primary_metric=\"test_AUC\",\n",
    "    goal=\"Maximize\",\n",
    ")\n",
    "\n",
    "random_sweep_job.set_limits(max_total_trials=120, \n",
    "                     max_concurrent_trials=10, \n",
    "                     timeout=7200)"
   ]
  },
  {
   "cell_type": "code",
   "execution_count": 59,
   "metadata": {},
   "outputs": [
    {
     "data": {
      "text/plain": [
       "'https://ml.azure.com/runs/sleepy_kitchen_43v68bm26h?wsid=/subscriptions/5da07161-3770-4a4b-aa43-418cbbb627cf/resourcegroups/chapter6-azureml-rg/workspaces/chapter6-azureml&tid=72f988bf-86f1-41af-91ab-2d7cd011db47'"
      ]
     },
     "execution_count": 59,
     "metadata": {},
     "output_type": "execute_result"
    }
   ],
   "source": [
    "# submit the sweep\n",
    "returned_sweep_job = ml_client.create_or_update(random_sweep_job)\n",
    "# get a URL for the status of the job\n",
    "returned_sweep_job.services[\"Studio\"].endpoint"
   ]
  },
  {
   "cell_type": "code",
   "execution_count": 60,
   "metadata": {},
   "outputs": [
    {
     "data": {
      "text/html": [
       "<table style=\"width:100%\"><tr><th>Experiment</th><th>Name</th><th>Type</th><th>Status</th><th>Details Page</th></tr><tr><td>chapter4</td><td>sleepy_kitchen_43v68bm26h</td><td>sweep</td><td>Running</td><td><a href=\"https://ml.azure.com/runs/sleepy_kitchen_43v68bm26h?wsid=/subscriptions/5da07161-3770-4a4b-aa43-418cbbb627cf/resourcegroups/chapter6-azureml-rg/workspaces/chapter6-azureml&amp;tid=72f988bf-86f1-41af-91ab-2d7cd011db47\" target=\"_blank\" rel=\"noopener\">Link to Azure Machine Learning studio</a></td></tr></table>"
      ],
      "text/plain": [
       "SweepJob({'type': 'sweep', 'status': 'Running', 'log_files': None, 'name': 'sleepy_kitchen_43v68bm26h', 'description': None, 'tags': {'_aml_system_max_concurrent_jobs': '10', '_aml_system_max_total_jobs': '120', '_aml_system_max_duration_minutes': '120', '_aml_system_policy_config': '{\"name\":\"Default\",\"properties\":{}}', '_aml_system_generator_config': '{\"name\":\"RANDOM\",\"parameter_space\":{\"penalty_term\":[\"choice\",[[\"l2\",\"l1\"]]],\"C\":[\"uniform\",[0.01,10.0]],\"max_iter\":[\"choice\",[[10,100,150,200]]]},\"properties\":{\"rule\":\"Random\",\"logbase\":null,\"seed\":null}}', '_aml_system_primary_metric_config': '{\"name\":\"test_AUC\",\"goal\":\"maximize\"}', '_aml_system_platform_config': '{\"ServiceAddress\":\"https://eastus.api.azureml.ms\",\"SubscriptionId\":\"5da07161-3770-4a4b-aa43-418cbbb627cf\",\"ResourceGroupName\":\"chapter6-azureml-rg\",\"WorkspaceName\":\"chapter6-azureml\",\"ExperimentName\":\"chapter4\",\"Definition\":{\"Configuration\":null,\"Attribution\":null,\"TelemetryValues\":null,\"Overrides\":{\"Script\":null,\"Command\":\"python main.py --titanic ${{inputs.titanic}} --randomstate ${{inputs.randomstate}}\",\"UseAbsolutePath\":true,\"Arguments\":[],\"SourceDirectoryDataStore\":null,\"Framework\":0,\"Target\":\"cpu-cluster\",\"DataReferences\":{},\"Data\":{\"titanic\":{\"DataLocation\":{\"Dataset\":null,\"DataPath\":null,\"Uri\":{\"Path\":\"/subscriptions/5da07161-3770-4a4b-aa43-418cbbb627cf/resourceGroups/chapter6-azureml-rg/providers/Microsoft.MachineLearningServices/workspaces/chapter6-azureml/data/titanic_prepped/versions/1\",\"IsFile\":true},\"Type\":\"UriFile\"},\"Mechanism\":\"Mount\",\"EnvironmentVariableName\":\"AZURE_ML_INPUT_titanic\",\"PathOnCompute\":null,\"Overwrite\":false,\"Options\":{\"IsEvalMode\":\"False\",\"ReadWrite\":\"False\",\"ForceFolder\":\"False\"}}},\"InputAssets\":{\"titanic\":{\"Asset\":{\"AssetId\":\"azureml://locations/eastus/workspaces/9e44248b-9077-4922-99ad-0c577c53684e/data/titanic_prepped/versions/1\",\"Type\":\"UriFile\"},\"Mechanism\":\"Mount\",\"EnvironmentVariableName\":\"AZURE_ML_INPUT_titanic\",\"PathOnCompute\":null,\"Overwrite\":false,\"Options\":{\"IsEvalMode\":\"False\",\"ReadWrite\":\"False\",\"ForceFolder\":\"False\"}}},\"OutputData\":{},\"Datacaches\":[],\"JobName\":null,\"MaxRunDurationSeconds\":null,\"NodeCount\":1,\"InstanceTypes\":[],\"Priority\":null,\"CredentialPassthrough\":false,\"Identity\":null,\"Environment\":{\"Name\":\"job_base_env\",\"Version\":\"2\",\"AssetId\":\"azureml://locations/eastus/workspaces/9e44248b-9077-4922-99ad-0c577c53684e/environments/job_base_env/versions/2\",\"AutoRebuild\":false,\"Python\":{\"InterpreterPath\":null,\"UserManagedDependencies\":false,\"CondaDependencies\":{\"dependencies\":[\"python=3.10\",\"scikit-learn=1.1.3\",\"ipykernel\",\"matplotlib\",\"pandas\",\"pip\",{\"pip\":[\"mlflow==2.0.1\",\"azure-ai-ml==1.1.2\",\"mltable==1.0.0\",\"azureml-mlflow==1.48.0\"]}],\"name\":\"job_env\"},\"BaseCondaEnvironment\":null},\"EnvironmentVariables\":{},\"Docker\":{\"BaseImage\":\"mcr.microsoft.com/azureml/openmpi3.1.2-ubuntu18.04\",\"Platform\":{\"Os\":\"Linux\",\"Architecture\":\"amd64\"},\"BaseDockerfile\":null,\"BaseImageRegistry\":null},\"Spark\":{\"Repositories\":[],\"Packages\":[],\"PrecachePackages\":true},\"InferencingStackVersion\":null},\"History\":{\"OutputCollection\":true,\"DirectoriesToWatch\":[\"logs\"],\"EnableMLflowTracking\":true},\"Spark\":{\"Configuration\":{}},\"ParallelTask\":{\"MaxRetriesPerWorker\":0,\"WorkerCountPerNode\":1,\"TerminalExitCodes\":null,\"Configuration\":{}},\"BatchAi\":{\"NodeCount\":0},\"AmlCompute\":{\"Name\":null,\"VmSize\":null,\"RetainCluster\":false,\"ClusterMaxNodeCount\":null},\"AISuperComputer\":{\"InstanceType\":\"D2\",\"FrameworkImage\":null,\"ImageVersion\":\"pytorch-1.7.0\",\"Location\":null,\"AISuperComputerStorageData\":null,\"Interactive\":false,\"ScalePolicy\":null,\"VirtualClusterArmId\":null,\"TensorboardLogDirectory\":null,\"SSHPublicKey\":null,\"SSHPublicKeys\":null,\"EnableAzmlInt\":true,\"Priority\":\"Medium\",\"SLATier\":\"Standard\",\"UserAlias\":null},\"KubernetesCompute\":{\"InstanceType\":null},\"Tensorflow\":{\"WorkerCount\":0,\"ParameterServerCount\":0},\"Mpi\":{\"ProcessCountPerNode\":0},\"PyTorch\":{\"CommunicationBackend\":null,\"ProcessCount\":null},\"Hdi\":{\"YarnDeployMode\":0},\"ContainerInstance\":{\"Region\":null,\"CpuCores\":2.0,\"MemoryGb\":3.5},\"ExposedPorts\":null,\"Docker\":{\"UseDocker\":true,\"SharedVolumes\":null,\"ShmSize\":null,\"Arguments\":null},\"Cmk8sCompute\":{\"Configuration\":{}},\"CommandReturnCodeConfig\":{\"ReturnCode\":0,\"SuccessfulReturnCodes\":[]},\"EnvironmentVariables\":{},\"ApplicationEndpoints\":{},\"Parameters\":[{\"Name\":\"randomstate\",\"Type\":null,\"Value\":\"0\",\"IsOptional\":false}]},\"SnapshotId\":\"ede1d4a9-8708-4d29-b81d-7bd1e70b0a83\",\"Snapshots\":[],\"SourceCodeDataReference\":null,\"ParentRunId\":null,\"DataContainerId\":null,\"RunType\":null,\"DisplayName\":\"RandomSampling\",\"EnvironmentAssetId\":null,\"Properties\":{},\"Tags\":{},\"AggregatedArtifactPath\":null},\"ParentRunId\":\"sleepy_kitchen_43v68bm26h\"}', '_aml_system_resume_child_runs': 'null', '_aml_system_all_jobs_generated': 'false', '_aml_system_cancellation_requested': 'false'}, 'properties': {'primary_metric_config': '{\"name\":\"test_AUC\",\"goal\":\"maximize\"}', 'resume_from': 'null', 'runTemplate': 'HyperDrive', 'azureml.runsource': 'hyperdrive', 'platform': 'AML', 'ContentSnapshotId': 'ede1d4a9-8708-4d29-b81d-7bd1e70b0a83', 'user_agent': 'managementfrontend/81b9b64e718f5a58489d1b0d054fdf54ce850439'}, 'id': '/subscriptions/5da07161-3770-4a4b-aa43-418cbbb627cf/resourceGroups/chapter6-azureml-rg/providers/Microsoft.MachineLearningServices/workspaces/chapter6-azureml/jobs/sleepy_kitchen_43v68bm26h', 'Resource__source_path': None, 'base_path': '/mnt/batch/tasks/shared/LS_root/mounts/clusters/memasanz2/code/Users/memasanz/ML-Engineering-with-Azure-Machine-Learning-Service/chapter 4', 'creation_context': <azure.ai.ml.entities._system_data.SystemData object at 0x7f1fb967b970>, 'serialize': <msrest.serialization.Serializer object at 0x7f1fb967bbe0>, 'sampling_algorithm': <azure.ai.ml.entities._job.sweep.sampling_algorithm.RandomSamplingAlgorithm object at 0x7f1fcad27400>, 'early_termination': None, 'limits': <azure.ai.ml.entities._job.job_limits.SweepJobLimits object at 0x7f1fb9679f30>, 'search_space': {'penalty_term': <azure.ai.ml.entities._job.sweep.search_space.Choice object at 0x7f1fb96788b0>, 'C': <azure.ai.ml.entities._job.sweep.search_space.Uniform object at 0x7f1fb9678a30>, 'max_iter': <azure.ai.ml.entities._job.sweep.search_space.Choice object at 0x7f1fb967b610>}, 'objective': <azure.ai.ml._restclient.v2022_10_01_preview.models._models_py3.Objective object at 0x7f1fb96d6fb0>, 'display_name': 'RandomSampling', 'experiment_name': 'chapter4', 'compute': 'cpu-cluster', 'services': {'Studio': <azure.ai.ml._restclient.v2022_10_01_preview.models._models_py3.JobService object at 0x7f1fb96d7820>}, 'inputs': {'titanic': {'type': 'uri_file', 'path': 'azureml://locations/eastus/workspaces/9e44248b-9077-4922-99ad-0c577c53684e/data/titanic_prepped/versions/1', 'mode': 'ro_mount'}, 'randomstate': '0'}, 'outputs': {'default': {'type': 'uri_folder', 'path': 'azureml://datastores/workspaceartifactstore/ExperimentRun/dcid.sleepy_kitchen_43v68bm26h', 'mode': 'rw_mount'}}, 'trial': <azure.ai.ml.entities._job.parameterized_command.ParameterizedCommand object at 0x7f1fb9679300>, 'identity': None})"
      ]
     },
     "execution_count": 60,
     "metadata": {},
     "output_type": "execute_result"
    }
   ],
   "source": [
    "returned_sweep_job"
   ]
  },
  {
   "cell_type": "code",
   "execution_count": 61,
   "metadata": {},
   "outputs": [
    {
     "name": "stdout",
     "output_type": "stream",
     "text": [
      "run_id:sleepy_kitchen_43v68bm26h\n",
      "experiment:chapter4\n",
      "d287308d-6f4b-49d5-a2ce-db528026f6f6\n"
     ]
    }
   ],
   "source": [
    "run_id = returned_sweep_job.name\n",
    "print('run_id:' + run_id)\n",
    "experiment = returned_job.experiment_name\n",
    "print(\"experiment:\" + experiment)\n",
    "\n",
    "current_experiment=dict(mlflow.get_experiment_by_name(experiment))\n",
    "experiment_id=current_experiment['experiment_id']\n",
    "print(experiment_id)"
   ]
  },
  {
   "cell_type": "code",
   "execution_count": 62,
   "metadata": {},
   "outputs": [
    {
     "name": "stdout",
     "output_type": "stream",
     "text": [
      "['FINISHED' 'RUNNING']\n",
      "RandomSampling, Number:FINISHED 12\n",
      "RandomSampling, Number:RUNNING 2\n",
      "['FINISHED' 'RUNNING']\n",
      "RandomSampling, Number:FINISHED 12\n",
      "RandomSampling, Number:RUNNING 2\n",
      "['FINISHED' 'RUNNING']\n",
      "RandomSampling, Number:FINISHED 12\n",
      "RandomSampling, Number:RUNNING 2\n",
      "['FINISHED']\n",
      "RandomSampling, Number:FINISHED 14\n",
      "Sweep Job for run:sleepy_kitchen_43v68bm26h Complete\n"
     ]
    }
   ],
   "source": [
    "get_job_status(experiment_id, run_id)"
   ]
  },
  {
   "cell_type": "markdown",
   "metadata": {},
   "source": [
    "## Random Sampling with Truncation Policy\n",
    "\n",
    "- As previous we will leverage the random sampling, but now we will apply a truncation policy.\n",
    "- The truncation selection cancels a percent of the worst performing jobs at each interval based on the selected primary metric.\n",
    "\n",
    "- Random sampling supports leveraging continuous and discrete hyperparameters.  \n",
    "- Hyperparameters are selected randomly from the defined search space.  \n",
    "- Note below we define the following hyperparameters:\n",
    "    - **penalty_term** to be either 'l1' or 'l2'\n",
    "    - **C** which is a value from 0.01-10.0\n",
    "    - **max_iter** is a choice of either 10, 100, 150 or 200"
   ]
  },
  {
   "cell_type": "code",
   "execution_count": 63,
   "metadata": {},
   "outputs": [],
   "source": [
    "from azure.ai.ml.sweep import Choice, Uniform, MedianStoppingPolicy, BanditPolicy, TruncationSelectionPolicy\n",
    "\n",
    "\n",
    "rnd_sample_trun_command = command(\n",
    "    code=\"./hyperparametertune\",  # local path where the code is stored\n",
    "    command=\"python main.py --titanic ${{inputs.titanic}} --randomstate ${{inputs.randomstate}}\",\n",
    "    inputs={\n",
    "        \"titanic\": Input(\n",
    "            type=\"uri_file\",\n",
    "            path=\"azureml:titanic_prepped:1\",\n",
    "        ),\n",
    "        \"randomstate\": 0,\n",
    "        \"penalty_term\": 'l1',\n",
    "        \"C\": 0.01,\n",
    "        \"max_iter\": 100,\n",
    "    },\n",
    "    environment=\"job_base_env@latest\",\n",
    "    compute=\"cpu-cluster\",\n",
    "    display_name=\"RandomSamplingwTruncationPolicy\",\n",
    ")\n",
    "\n",
    "# #Set Parameter expressions\n",
    "# #choice, randint, qlognormal, qnormal, qloguniform, quniform, lognormal, normal, loguniform, uniform\n",
    "rnd_sample_trun_job_for_sweep = rnd_sample_trun_command(\n",
    "    penalty_term=Choice(values=['l2', 'l1']),\n",
    "    C=Uniform(min_value=0.01, max_value=10.0),\n",
    "    max_iter=Choice(values=[10, 100, 150, 200]),\n",
    ")"
   ]
  },
  {
   "cell_type": "code",
   "execution_count": 64,
   "metadata": {},
   "outputs": [],
   "source": [
    "# apply the sweep parameter to obtain the sweep_job\n",
    "sweep_job = rnd_sample_trun_job_for_sweep.sweep(\n",
    "    compute=\"cpu-cluster\",\n",
    "    sampling_algorithm=\"random\",\n",
    "    primary_metric=\"training_roc_auc_score\",\n",
    "    goal=\"Maximize\",\n",
    ")\n",
    "\n",
    "sweep_job.set_limits(max_total_trials=120, \n",
    "                     max_concurrent_trials=10, \n",
    "                     timeout=7200)\n",
    "\n",
    "#early_termination - Early termination policy to end poorly performing runs. If no termination policy is specified, all configurations are run to completion. \n",
    "sweep_job.early_termination = TruncationSelectionPolicy(evaluation_interval= 1, truncation_percentage= 75, delay_evaluation= 1)"
   ]
  },
  {
   "cell_type": "code",
   "execution_count": 65,
   "metadata": {},
   "outputs": [
    {
     "data": {
      "text/plain": [
       "'https://ml.azure.com/runs/polite_boat_tkx4w8qz6k?wsid=/subscriptions/5da07161-3770-4a4b-aa43-418cbbb627cf/resourcegroups/chapter6-azureml-rg/workspaces/chapter6-azureml&tid=72f988bf-86f1-41af-91ab-2d7cd011db47'"
      ]
     },
     "execution_count": 65,
     "metadata": {},
     "output_type": "execute_result"
    }
   ],
   "source": [
    "# submit the sweep\n",
    "returned_sweep_job = ml_client.create_or_update(sweep_job)\n",
    "# get a URL for the status of the job\n",
    "returned_sweep_job.services[\"Studio\"].endpoint"
   ]
  },
  {
   "cell_type": "code",
   "execution_count": 66,
   "metadata": {},
   "outputs": [
    {
     "data": {
      "text/html": [
       "<table style=\"width:100%\"><tr><th>Experiment</th><th>Name</th><th>Type</th><th>Status</th><th>Details Page</th></tr><tr><td>chapter4</td><td>polite_boat_tkx4w8qz6k</td><td>sweep</td><td>Running</td><td><a href=\"https://ml.azure.com/runs/polite_boat_tkx4w8qz6k?wsid=/subscriptions/5da07161-3770-4a4b-aa43-418cbbb627cf/resourcegroups/chapter6-azureml-rg/workspaces/chapter6-azureml&amp;tid=72f988bf-86f1-41af-91ab-2d7cd011db47\" target=\"_blank\" rel=\"noopener\">Link to Azure Machine Learning studio</a></td></tr></table>"
      ],
      "text/plain": [
       "SweepJob({'type': 'sweep', 'status': 'Running', 'log_files': None, 'name': 'polite_boat_tkx4w8qz6k', 'description': None, 'tags': {'_aml_system_max_concurrent_jobs': '10', '_aml_system_max_total_jobs': '120', '_aml_system_max_duration_minutes': '120', '_aml_system_policy_config': '{\"name\":\"TruncationSelection\",\"properties\":{\"evaluation_interval\":1,\"delay_evaluation\":1,\"truncation_percentage\":75,\"exclude_finished_jobs\":false}}', '_aml_system_generator_config': '{\"name\":\"RANDOM\",\"parameter_space\":{\"penalty_term\":[\"choice\",[[\"l2\",\"l1\"]]],\"C\":[\"uniform\",[0.01,10.0]],\"max_iter\":[\"choice\",[[10,100,150,200]]]},\"properties\":{\"rule\":\"Random\",\"logbase\":null,\"seed\":null}}', '_aml_system_primary_metric_config': '{\"name\":\"training_roc_auc_score\",\"goal\":\"maximize\"}', '_aml_system_platform_config': '{\"ServiceAddress\":\"https://eastus.api.azureml.ms\",\"SubscriptionId\":\"5da07161-3770-4a4b-aa43-418cbbb627cf\",\"ResourceGroupName\":\"chapter6-azureml-rg\",\"WorkspaceName\":\"chapter6-azureml\",\"ExperimentName\":\"chapter4\",\"Definition\":{\"Configuration\":null,\"Attribution\":null,\"TelemetryValues\":null,\"Overrides\":{\"Script\":null,\"Command\":\"python main.py --titanic ${{inputs.titanic}} --randomstate ${{inputs.randomstate}}\",\"UseAbsolutePath\":true,\"Arguments\":[],\"SourceDirectoryDataStore\":null,\"Framework\":0,\"Target\":\"cpu-cluster\",\"DataReferences\":{},\"Data\":{\"titanic\":{\"DataLocation\":{\"Dataset\":null,\"DataPath\":null,\"Uri\":{\"Path\":\"/subscriptions/5da07161-3770-4a4b-aa43-418cbbb627cf/resourceGroups/chapter6-azureml-rg/providers/Microsoft.MachineLearningServices/workspaces/chapter6-azureml/data/titanic_prepped/versions/1\",\"IsFile\":true},\"Type\":\"UriFile\"},\"Mechanism\":\"Mount\",\"EnvironmentVariableName\":\"AZURE_ML_INPUT_titanic\",\"PathOnCompute\":null,\"Overwrite\":false,\"Options\":{\"IsEvalMode\":\"False\",\"ReadWrite\":\"False\",\"ForceFolder\":\"False\"}}},\"InputAssets\":{\"titanic\":{\"Asset\":{\"AssetId\":\"azureml://locations/eastus/workspaces/9e44248b-9077-4922-99ad-0c577c53684e/data/titanic_prepped/versions/1\",\"Type\":\"UriFile\"},\"Mechanism\":\"Mount\",\"EnvironmentVariableName\":\"AZURE_ML_INPUT_titanic\",\"PathOnCompute\":null,\"Overwrite\":false,\"Options\":{\"IsEvalMode\":\"False\",\"ReadWrite\":\"False\",\"ForceFolder\":\"False\"}}},\"OutputData\":{},\"Datacaches\":[],\"JobName\":null,\"MaxRunDurationSeconds\":null,\"NodeCount\":1,\"InstanceTypes\":[],\"Priority\":null,\"CredentialPassthrough\":false,\"Identity\":null,\"Environment\":{\"Name\":\"job_base_env\",\"Version\":\"2\",\"AssetId\":\"azureml://locations/eastus/workspaces/9e44248b-9077-4922-99ad-0c577c53684e/environments/job_base_env/versions/2\",\"AutoRebuild\":false,\"Python\":{\"InterpreterPath\":null,\"UserManagedDependencies\":false,\"CondaDependencies\":{\"dependencies\":[\"python=3.10\",\"scikit-learn=1.1.3\",\"ipykernel\",\"matplotlib\",\"pandas\",\"pip\",{\"pip\":[\"mlflow==2.0.1\",\"azure-ai-ml==1.1.2\",\"mltable==1.0.0\",\"azureml-mlflow==1.48.0\"]}],\"name\":\"job_env\"},\"BaseCondaEnvironment\":null},\"EnvironmentVariables\":{},\"Docker\":{\"BaseImage\":\"mcr.microsoft.com/azureml/openmpi3.1.2-ubuntu18.04\",\"Platform\":{\"Os\":\"Linux\",\"Architecture\":\"amd64\"},\"BaseDockerfile\":null,\"BaseImageRegistry\":null},\"Spark\":{\"Repositories\":[],\"Packages\":[],\"PrecachePackages\":true},\"InferencingStackVersion\":null},\"History\":{\"OutputCollection\":true,\"DirectoriesToWatch\":[\"logs\"],\"EnableMLflowTracking\":true},\"Spark\":{\"Configuration\":{}},\"ParallelTask\":{\"MaxRetriesPerWorker\":0,\"WorkerCountPerNode\":1,\"TerminalExitCodes\":null,\"Configuration\":{}},\"BatchAi\":{\"NodeCount\":0},\"AmlCompute\":{\"Name\":null,\"VmSize\":null,\"RetainCluster\":false,\"ClusterMaxNodeCount\":null},\"AISuperComputer\":{\"InstanceType\":\"D2\",\"FrameworkImage\":null,\"ImageVersion\":\"pytorch-1.7.0\",\"Location\":null,\"AISuperComputerStorageData\":null,\"Interactive\":false,\"ScalePolicy\":null,\"VirtualClusterArmId\":null,\"TensorboardLogDirectory\":null,\"SSHPublicKey\":null,\"SSHPublicKeys\":null,\"EnableAzmlInt\":true,\"Priority\":\"Medium\",\"SLATier\":\"Standard\",\"UserAlias\":null},\"KubernetesCompute\":{\"InstanceType\":null},\"Tensorflow\":{\"WorkerCount\":0,\"ParameterServerCount\":0},\"Mpi\":{\"ProcessCountPerNode\":0},\"PyTorch\":{\"CommunicationBackend\":null,\"ProcessCount\":null},\"Hdi\":{\"YarnDeployMode\":0},\"ContainerInstance\":{\"Region\":null,\"CpuCores\":2.0,\"MemoryGb\":3.5},\"ExposedPorts\":null,\"Docker\":{\"UseDocker\":true,\"SharedVolumes\":null,\"ShmSize\":null,\"Arguments\":null},\"Cmk8sCompute\":{\"Configuration\":{}},\"CommandReturnCodeConfig\":{\"ReturnCode\":0,\"SuccessfulReturnCodes\":[]},\"EnvironmentVariables\":{},\"ApplicationEndpoints\":{},\"Parameters\":[{\"Name\":\"randomstate\",\"Type\":null,\"Value\":\"0\",\"IsOptional\":false}]},\"SnapshotId\":\"ede1d4a9-8708-4d29-b81d-7bd1e70b0a83\",\"Snapshots\":[],\"SourceCodeDataReference\":null,\"ParentRunId\":null,\"DataContainerId\":null,\"RunType\":null,\"DisplayName\":\"RandomSamplingwTruncationPolicy\",\"EnvironmentAssetId\":null,\"Properties\":{},\"Tags\":{},\"AggregatedArtifactPath\":null},\"ParentRunId\":\"polite_boat_tkx4w8qz6k\"}', '_aml_system_resume_child_runs': 'null', '_aml_system_all_jobs_generated': 'false', '_aml_system_cancellation_requested': 'false'}, 'properties': {'primary_metric_config': '{\"name\":\"training_roc_auc_score\",\"goal\":\"maximize\"}', 'resume_from': 'null', 'runTemplate': 'HyperDrive', 'azureml.runsource': 'hyperdrive', 'platform': 'AML', 'ContentSnapshotId': 'ede1d4a9-8708-4d29-b81d-7bd1e70b0a83', 'user_agent': 'managementfrontend/81b9b64e718f5a58489d1b0d054fdf54ce850439'}, 'id': '/subscriptions/5da07161-3770-4a4b-aa43-418cbbb627cf/resourceGroups/chapter6-azureml-rg/providers/Microsoft.MachineLearningServices/workspaces/chapter6-azureml/jobs/polite_boat_tkx4w8qz6k', 'Resource__source_path': None, 'base_path': '/mnt/batch/tasks/shared/LS_root/mounts/clusters/memasanz2/code/Users/memasanz/ML-Engineering-with-Azure-Machine-Learning-Service/chapter 4', 'creation_context': <azure.ai.ml.entities._system_data.SystemData object at 0x7f1fb9b6f700>, 'serialize': <msrest.serialization.Serializer object at 0x7f1fb96be8c0>, 'sampling_algorithm': <azure.ai.ml.entities._job.sweep.sampling_algorithm.RandomSamplingAlgorithm object at 0x7f1fb9b6f490>, 'early_termination': <azure.ai.ml.entities._job.sweep.early_termination_policy.TruncationSelectionPolicy object at 0x7f1fb9b6f430>, 'limits': <azure.ai.ml.entities._job.job_limits.SweepJobLimits object at 0x7f1fb96bf1f0>, 'search_space': {'penalty_term': <azure.ai.ml.entities._job.sweep.search_space.Choice object at 0x7f1fb9b6f970>, 'C': <azure.ai.ml.entities._job.sweep.search_space.Uniform object at 0x7f1fb9b6f2b0>, 'max_iter': <azure.ai.ml.entities._job.sweep.search_space.Choice object at 0x7f1fb96be4a0>}, 'objective': <azure.ai.ml._restclient.v2022_10_01_preview.models._models_py3.Objective object at 0x7f1fb8d30cd0>, 'display_name': 'RandomSamplingwTruncationPolicy', 'experiment_name': 'chapter4', 'compute': 'cpu-cluster', 'services': {'Studio': <azure.ai.ml._restclient.v2022_10_01_preview.models._models_py3.JobService object at 0x7f1fb8d301f0>}, 'inputs': {'titanic': {'type': 'uri_file', 'path': 'azureml://locations/eastus/workspaces/9e44248b-9077-4922-99ad-0c577c53684e/data/titanic_prepped/versions/1', 'mode': 'ro_mount'}, 'randomstate': '0'}, 'outputs': {'default': {'type': 'uri_folder', 'path': 'azureml://datastores/workspaceartifactstore/ExperimentRun/dcid.polite_boat_tkx4w8qz6k', 'mode': 'rw_mount'}}, 'trial': <azure.ai.ml.entities._job.parameterized_command.ParameterizedCommand object at 0x7f1fb9b6f7f0>, 'identity': None})"
      ]
     },
     "execution_count": 66,
     "metadata": {},
     "output_type": "execute_result"
    }
   ],
   "source": [
    "returned_sweep_job"
   ]
  },
  {
   "cell_type": "code",
   "execution_count": 67,
   "metadata": {},
   "outputs": [
    {
     "name": "stdout",
     "output_type": "stream",
     "text": [
      "run_id:polite_boat_tkx4w8qz6k\n",
      "experiment:chapter4\n",
      "d287308d-6f4b-49d5-a2ce-db528026f6f6\n"
     ]
    }
   ],
   "source": [
    "run_id = returned_sweep_job.name\n",
    "print('run_id:' + run_id)\n",
    "experiment = returned_job.experiment_name\n",
    "print(\"experiment:\" + experiment)\n",
    "\n",
    "current_experiment=dict(mlflow.get_experiment_by_name(experiment))\n",
    "experiment_id=current_experiment['experiment_id']\n",
    "print(experiment_id)"
   ]
  },
  {
   "cell_type": "markdown",
   "metadata": {},
   "source": [
    "## Getting Status leveraging MLFlow Capabilites\n",
    "\n",
    "Using MLFlow, we can get back a dataframe that includes all of the trials for a given Sweep Job Run."
   ]
  },
  {
   "cell_type": "code",
   "execution_count": 68,
   "metadata": {},
   "outputs": [
    {
     "name": "stdout",
     "output_type": "stream",
     "text": [
      "['FINISHED' 'SCHEDULED']\n",
      "RandomSamplingwTruncationPolicy, Number:FINISHED 10\n",
      "RandomSamplingwTruncationPolicy, Number:SCHEDULED 10\n",
      "['FINISHED' 'RUNNING' 'SCHEDULED']\n",
      "RandomSamplingwTruncationPolicy, Number:FINISHED 10\n",
      "RandomSamplingwTruncationPolicy, Number:RUNNING 2\n",
      "RandomSamplingwTruncationPolicy, Number:SCHEDULED 8\n",
      "['FINISHED' 'RUNNING' 'SCHEDULED']\n",
      "RandomSamplingwTruncationPolicy, Number:FINISHED 10\n",
      "RandomSamplingwTruncationPolicy, Number:RUNNING 2\n",
      "RandomSamplingwTruncationPolicy, Number:SCHEDULED 8\n",
      "['FINISHED' 'SCHEDULED']\n",
      "RandomSamplingwTruncationPolicy, Number:FINISHED 12\n",
      "RandomSamplingwTruncationPolicy, Number:SCHEDULED 8\n",
      "['FINISHED' 'RUNNING' 'SCHEDULED']\n",
      "RandomSamplingwTruncationPolicy, Number:FINISHED 12\n",
      "RandomSamplingwTruncationPolicy, Number:RUNNING 4\n",
      "RandomSamplingwTruncationPolicy, Number:SCHEDULED 4\n",
      "['FINISHED' 'RUNNING' 'SCHEDULED']\n",
      "RandomSamplingwTruncationPolicy, Number:FINISHED 12\n",
      "RandomSamplingwTruncationPolicy, Number:RUNNING 4\n",
      "RandomSamplingwTruncationPolicy, Number:SCHEDULED 4\n",
      "['FINISHED' 'SCHEDULED' 'RUNNING']\n",
      "RandomSamplingwTruncationPolicy, Number:FINISHED 16\n",
      "RandomSamplingwTruncationPolicy, Number:SCHEDULED 3\n",
      "RandomSamplingwTruncationPolicy, Number:RUNNING 1\n",
      "['FINISHED' 'RUNNING' 'SCHEDULED']\n",
      "RandomSamplingwTruncationPolicy, Number:FINISHED 16\n",
      "RandomSamplingwTruncationPolicy, Number:RUNNING 4\n",
      "RandomSamplingwTruncationPolicy, Number:SCHEDULED 3\n",
      "['FINISHED' 'RUNNING' 'SCHEDULED']\n",
      "RandomSamplingwTruncationPolicy, Number:FINISHED 17\n",
      "RandomSamplingwTruncationPolicy, Number:RUNNING 3\n",
      "RandomSamplingwTruncationPolicy, Number:SCHEDULED 3\n",
      "['FINISHED' 'SCHEDULED']\n",
      "RandomSamplingwTruncationPolicy, Number:FINISHED 20\n",
      "RandomSamplingwTruncationPolicy, Number:SCHEDULED 3\n",
      "['FINISHED' 'SCHEDULED']\n",
      "RandomSamplingwTruncationPolicy, Number:FINISHED 20\n",
      "RandomSamplingwTruncationPolicy, Number:SCHEDULED 3\n",
      "['FINISHED' 'SCHEDULED']\n",
      "RandomSamplingwTruncationPolicy, Number:FINISHED 20\n",
      "RandomSamplingwTruncationPolicy, Number:SCHEDULED 10\n",
      "['FINISHED' 'SCHEDULED']\n",
      "RandomSamplingwTruncationPolicy, Number:FINISHED 20\n",
      "RandomSamplingwTruncationPolicy, Number:SCHEDULED 10\n",
      "['FINISHED' 'SCHEDULED']\n",
      "RandomSamplingwTruncationPolicy, Number:FINISHED 20\n",
      "RandomSamplingwTruncationPolicy, Number:SCHEDULED 10\n",
      "['FINISHED' 'SCHEDULED']\n",
      "RandomSamplingwTruncationPolicy, Number:FINISHED 20\n",
      "RandomSamplingwTruncationPolicy, Number:SCHEDULED 10\n",
      "['FINISHED' 'RUNNING' 'SCHEDULED']\n",
      "RandomSamplingwTruncationPolicy, Number:FINISHED 20\n",
      "RandomSamplingwTruncationPolicy, Number:RUNNING 2\n",
      "RandomSamplingwTruncationPolicy, Number:SCHEDULED 8\n",
      "['FINISHED' 'RUNNING' 'SCHEDULED']\n",
      "RandomSamplingwTruncationPolicy, Number:FINISHED 20\n",
      "RandomSamplingwTruncationPolicy, Number:RUNNING 2\n",
      "RandomSamplingwTruncationPolicy, Number:SCHEDULED 8\n",
      "['FINISHED' 'RUNNING' 'SCHEDULED']\n",
      "RandomSamplingwTruncationPolicy, Number:FINISHED 22\n",
      "RandomSamplingwTruncationPolicy, Number:RUNNING 4\n",
      "RandomSamplingwTruncationPolicy, Number:SCHEDULED 4\n",
      "['FINISHED' 'RUNNING' 'SCHEDULED']\n",
      "RandomSamplingwTruncationPolicy, Number:FINISHED 22\n",
      "RandomSamplingwTruncationPolicy, Number:RUNNING 4\n",
      "RandomSamplingwTruncationPolicy, Number:SCHEDULED 6\n",
      "['FINISHED' 'RUNNING' 'SCHEDULED']\n",
      "RandomSamplingwTruncationPolicy, Number:FINISHED 24\n",
      "RandomSamplingwTruncationPolicy, Number:RUNNING 4\n",
      "RandomSamplingwTruncationPolicy, Number:SCHEDULED 4\n",
      "['FINISHED' 'RUNNING' 'SCHEDULED']\n",
      "RandomSamplingwTruncationPolicy, Number:FINISHED 26\n",
      "RandomSamplingwTruncationPolicy, Number:RUNNING 4\n",
      "RandomSamplingwTruncationPolicy, Number:SCHEDULED 2\n",
      "['FINISHED' 'RUNNING' 'SCHEDULED']\n",
      "RandomSamplingwTruncationPolicy, Number:FINISHED 28\n",
      "RandomSamplingwTruncationPolicy, Number:RUNNING 2\n",
      "RandomSamplingwTruncationPolicy, Number:SCHEDULED 2\n",
      "['FINISHED' 'SCHEDULED']\n",
      "RandomSamplingwTruncationPolicy, Number:FINISHED 30\n",
      "RandomSamplingwTruncationPolicy, Number:SCHEDULED 2\n",
      "['FINISHED' 'SCHEDULED']\n",
      "RandomSamplingwTruncationPolicy, Number:FINISHED 30\n",
      "RandomSamplingwTruncationPolicy, Number:SCHEDULED 2\n",
      "['FINISHED' 'SCHEDULED']\n",
      "RandomSamplingwTruncationPolicy, Number:FINISHED 30\n",
      "RandomSamplingwTruncationPolicy, Number:SCHEDULED 2\n",
      "['FINISHED' 'SCHEDULED']\n",
      "RandomSamplingwTruncationPolicy, Number:FINISHED 30\n",
      "RandomSamplingwTruncationPolicy, Number:SCHEDULED 6\n",
      "['FINISHED' 'SCHEDULED']\n",
      "RandomSamplingwTruncationPolicy, Number:FINISHED 30\n",
      "RandomSamplingwTruncationPolicy, Number:SCHEDULED 6\n",
      "['FINISHED' 'RUNNING' 'SCHEDULED']\n",
      "RandomSamplingwTruncationPolicy, Number:FINISHED 30\n",
      "RandomSamplingwTruncationPolicy, Number:RUNNING 2\n",
      "RandomSamplingwTruncationPolicy, Number:SCHEDULED 4\n",
      "['FINISHED' 'RUNNING' 'SCHEDULED']\n",
      "RandomSamplingwTruncationPolicy, Number:FINISHED 30\n",
      "RandomSamplingwTruncationPolicy, Number:RUNNING 2\n",
      "RandomSamplingwTruncationPolicy, Number:SCHEDULED 8\n",
      "['FINISHED' 'RUNNING' 'SCHEDULED']\n",
      "RandomSamplingwTruncationPolicy, Number:FINISHED 32\n",
      "RandomSamplingwTruncationPolicy, Number:RUNNING 1\n",
      "RandomSamplingwTruncationPolicy, Number:SCHEDULED 7\n",
      "['FINISHED' 'RUNNING' 'SCHEDULED']\n",
      "RandomSamplingwTruncationPolicy, Number:FINISHED 32\n",
      "RandomSamplingwTruncationPolicy, Number:RUNNING 4\n",
      "RandomSamplingwTruncationPolicy, Number:SCHEDULED 4\n",
      "['FINISHED' 'RUNNING' 'SCHEDULED']\n",
      "RandomSamplingwTruncationPolicy, Number:FINISHED 34\n",
      "RandomSamplingwTruncationPolicy, Number:RUNNING 2\n",
      "RandomSamplingwTruncationPolicy, Number:SCHEDULED 5\n",
      "['FINISHED' 'RUNNING' 'SCHEDULED']\n",
      "RandomSamplingwTruncationPolicy, Number:FINISHED 36\n",
      "RandomSamplingwTruncationPolicy, Number:RUNNING 2\n",
      "RandomSamplingwTruncationPolicy, Number:SCHEDULED 3\n",
      "['FINISHED' 'RUNNING' 'SCHEDULED']\n",
      "RandomSamplingwTruncationPolicy, Number:FINISHED 36\n",
      "RandomSamplingwTruncationPolicy, Number:RUNNING 4\n",
      "RandomSamplingwTruncationPolicy, Number:SCHEDULED 1\n",
      "['FINISHED' 'RUNNING' 'SCHEDULED']\n",
      "RandomSamplingwTruncationPolicy, Number:FINISHED 38\n",
      "RandomSamplingwTruncationPolicy, Number:RUNNING 2\n",
      "RandomSamplingwTruncationPolicy, Number:SCHEDULED 1\n",
      "['FINISHED' 'SCHEDULED']\n",
      "RandomSamplingwTruncationPolicy, Number:FINISHED 40\n",
      "RandomSamplingwTruncationPolicy, Number:SCHEDULED 6\n",
      "['FINISHED' 'SCHEDULED']\n",
      "RandomSamplingwTruncationPolicy, Number:FINISHED 40\n",
      "RandomSamplingwTruncationPolicy, Number:SCHEDULED 6\n",
      "['FINISHED' 'SCHEDULED']\n",
      "RandomSamplingwTruncationPolicy, Number:FINISHED 40\n",
      "RandomSamplingwTruncationPolicy, Number:SCHEDULED 6\n",
      "['FINISHED' 'SCHEDULED']\n",
      "RandomSamplingwTruncationPolicy, Number:FINISHED 40\n",
      "RandomSamplingwTruncationPolicy, Number:SCHEDULED 10\n",
      "['FINISHED' 'RUNNING' 'SCHEDULED']\n",
      "RandomSamplingwTruncationPolicy, Number:FINISHED 40\n",
      "RandomSamplingwTruncationPolicy, Number:RUNNING 1\n",
      "RandomSamplingwTruncationPolicy, Number:SCHEDULED 9\n",
      "['FINISHED' 'RUNNING' 'SCHEDULED']\n",
      "RandomSamplingwTruncationPolicy, Number:FINISHED 40\n",
      "RandomSamplingwTruncationPolicy, Number:RUNNING 1\n",
      "RandomSamplingwTruncationPolicy, Number:SCHEDULED 9\n",
      "['FINISHED' 'SCHEDULED']\n",
      "RandomSamplingwTruncationPolicy, Number:FINISHED 41\n",
      "RandomSamplingwTruncationPolicy, Number:SCHEDULED 9\n",
      "['FINISHED' 'RUNNING' 'SCHEDULED']\n",
      "RandomSamplingwTruncationPolicy, Number:FINISHED 41\n",
      "RandomSamplingwTruncationPolicy, Number:RUNNING 1\n",
      "RandomSamplingwTruncationPolicy, Number:SCHEDULED 8\n",
      "['FINISHED' 'RUNNING' 'SCHEDULED']\n",
      "RandomSamplingwTruncationPolicy, Number:FINISHED 41\n",
      "RandomSamplingwTruncationPolicy, Number:RUNNING 3\n",
      "RandomSamplingwTruncationPolicy, Number:SCHEDULED 6\n",
      "['FINISHED' 'RUNNING' 'SCHEDULED']\n",
      "RandomSamplingwTruncationPolicy, Number:FINISHED 42\n",
      "RandomSamplingwTruncationPolicy, Number:RUNNING 3\n",
      "RandomSamplingwTruncationPolicy, Number:SCHEDULED 6\n",
      "['FINISHED' 'RUNNING' 'SCHEDULED']\n",
      "RandomSamplingwTruncationPolicy, Number:FINISHED 44\n",
      "RandomSamplingwTruncationPolicy, Number:RUNNING 2\n",
      "RandomSamplingwTruncationPolicy, Number:SCHEDULED 5\n",
      "['FINISHED' 'RUNNING' 'SCHEDULED']\n",
      "RandomSamplingwTruncationPolicy, Number:FINISHED 45\n",
      "RandomSamplingwTruncationPolicy, Number:RUNNING 2\n",
      "RandomSamplingwTruncationPolicy, Number:SCHEDULED 4\n",
      "['FINISHED' 'SCHEDULED' 'RUNNING']\n",
      "RandomSamplingwTruncationPolicy, Number:FINISHED 46\n",
      "RandomSamplingwTruncationPolicy, Number:SCHEDULED 3\n",
      "RandomSamplingwTruncationPolicy, Number:RUNNING 2\n",
      "['FINISHED' 'SCHEDULED' 'RUNNING']\n",
      "RandomSamplingwTruncationPolicy, Number:FINISHED 47\n",
      "RandomSamplingwTruncationPolicy, Number:SCHEDULED 2\n",
      "RandomSamplingwTruncationPolicy, Number:RUNNING 2\n",
      "['FINISHED' 'RUNNING' 'SCHEDULED']\n",
      "RandomSamplingwTruncationPolicy, Number:FINISHED 48\n",
      "RandomSamplingwTruncationPolicy, Number:RUNNING 2\n",
      "RandomSamplingwTruncationPolicy, Number:SCHEDULED 1\n"
     ]
    },
    {
     "name": "stdout",
     "output_type": "stream",
     "text": [
      "['FINISHED' 'RUNNING' 'SCHEDULED']\n",
      "RandomSamplingwTruncationPolicy, Number:FINISHED 49\n",
      "RandomSamplingwTruncationPolicy, Number:RUNNING 1\n",
      "RandomSamplingwTruncationPolicy, Number:SCHEDULED 6\n",
      "['FINISHED' 'SCHEDULED']\n",
      "RandomSamplingwTruncationPolicy, Number:FINISHED 50\n",
      "RandomSamplingwTruncationPolicy, Number:SCHEDULED 6\n",
      "['FINISHED' 'RUNNING' 'SCHEDULED']\n",
      "RandomSamplingwTruncationPolicy, Number:FINISHED 50\n",
      "RandomSamplingwTruncationPolicy, Number:RUNNING 1\n",
      "RandomSamplingwTruncationPolicy, Number:SCHEDULED 5\n",
      "['FINISHED' 'RUNNING' 'SCHEDULED']\n",
      "RandomSamplingwTruncationPolicy, Number:FINISHED 50\n",
      "RandomSamplingwTruncationPolicy, Number:RUNNING 1\n",
      "RandomSamplingwTruncationPolicy, Number:SCHEDULED 6\n",
      "['FINISHED' 'SCHEDULED']\n",
      "RandomSamplingwTruncationPolicy, Number:FINISHED 51\n",
      "RandomSamplingwTruncationPolicy, Number:SCHEDULED 9\n",
      "['FINISHED' 'SCHEDULED' 'RUNNING']\n",
      "RandomSamplingwTruncationPolicy, Number:FINISHED 51\n",
      "RandomSamplingwTruncationPolicy, Number:SCHEDULED 8\n",
      "RandomSamplingwTruncationPolicy, Number:RUNNING 1\n",
      "['FINISHED' 'SCHEDULED' 'RUNNING']\n",
      "RandomSamplingwTruncationPolicy, Number:FINISHED 51\n",
      "RandomSamplingwTruncationPolicy, Number:SCHEDULED 7\n",
      "RandomSamplingwTruncationPolicy, Number:RUNNING 3\n",
      "['FINISHED' 'RUNNING' 'SCHEDULED']\n",
      "RandomSamplingwTruncationPolicy, Number:FINISHED 52\n",
      "RandomSamplingwTruncationPolicy, Number:RUNNING 3\n",
      "RandomSamplingwTruncationPolicy, Number:SCHEDULED 6\n",
      "['FINISHED' 'RUNNING' 'SCHEDULED']\n",
      "RandomSamplingwTruncationPolicy, Number:FINISHED 54\n",
      "RandomSamplingwTruncationPolicy, Number:RUNNING 2\n",
      "RandomSamplingwTruncationPolicy, Number:SCHEDULED 5\n",
      "['FINISHED' 'RUNNING' 'SCHEDULED']\n",
      "RandomSamplingwTruncationPolicy, Number:FINISHED 56\n",
      "RandomSamplingwTruncationPolicy, Number:RUNNING 1\n",
      "RandomSamplingwTruncationPolicy, Number:SCHEDULED 5\n",
      "['FINISHED' 'RUNNING' 'SCHEDULED']\n",
      "RandomSamplingwTruncationPolicy, Number:FINISHED 56\n",
      "RandomSamplingwTruncationPolicy, Number:RUNNING 3\n",
      "RandomSamplingwTruncationPolicy, Number:SCHEDULED 3\n",
      "['FINISHED' 'RUNNING' 'SCHEDULED']\n",
      "RandomSamplingwTruncationPolicy, Number:FINISHED 57\n",
      "RandomSamplingwTruncationPolicy, Number:RUNNING 4\n",
      "RandomSamplingwTruncationPolicy, Number:SCHEDULED 1\n",
      "['FINISHED' 'RUNNING']\n",
      "RandomSamplingwTruncationPolicy, Number:FINISHED 59\n",
      "RandomSamplingwTruncationPolicy, Number:RUNNING 3\n",
      "['FINISHED' 'RUNNING' 'SCHEDULED']\n",
      "RandomSamplingwTruncationPolicy, Number:FINISHED 61\n",
      "RandomSamplingwTruncationPolicy, Number:RUNNING 3\n",
      "RandomSamplingwTruncationPolicy, Number:SCHEDULED 3\n",
      "['FINISHED' 'RUNNING' 'SCHEDULED']\n",
      "RandomSamplingwTruncationPolicy, Number:FINISHED 62\n",
      "RandomSamplingwTruncationPolicy, Number:RUNNING 3\n",
      "RandomSamplingwTruncationPolicy, Number:SCHEDULED 2\n",
      "['FINISHED' 'RUNNING']\n",
      "RandomSamplingwTruncationPolicy, Number:FINISHED 65\n",
      "RandomSamplingwTruncationPolicy, Number:RUNNING 2\n",
      "['FINISHED' 'RUNNING' 'SCHEDULED']\n",
      "RandomSamplingwTruncationPolicy, Number:FINISHED 66\n",
      "RandomSamplingwTruncationPolicy, Number:RUNNING 3\n",
      "RandomSamplingwTruncationPolicy, Number:SCHEDULED 3\n",
      "['FINISHED' 'RUNNING' 'SCHEDULED']\n",
      "RandomSamplingwTruncationPolicy, Number:FINISHED 67\n",
      "RandomSamplingwTruncationPolicy, Number:RUNNING 3\n",
      "RandomSamplingwTruncationPolicy, Number:SCHEDULED 2\n",
      "['FINISHED' 'RUNNING']\n",
      "RandomSamplingwTruncationPolicy, Number:FINISHED 69\n",
      "RandomSamplingwTruncationPolicy, Number:RUNNING 3\n",
      "['FINISHED' 'RUNNING']\n",
      "RandomSamplingwTruncationPolicy, Number:FINISHED 70\n",
      "RandomSamplingwTruncationPolicy, Number:RUNNING 2\n",
      "['FINISHED']\n",
      "RandomSamplingwTruncationPolicy, Number:FINISHED 72\n",
      "Sweep Job for run:polite_boat_tkx4w8qz6k Complete\n"
     ]
    }
   ],
   "source": [
    "get_job_status(experiment_id, run_id)"
   ]
  },
  {
   "cell_type": "markdown",
   "metadata": {},
   "source": [
    "## Random Sampling with Median Early Termination Policy\n",
    "\n",
    "- As previous we will leverage the random sampling, but now we will apply a median early termination policy.\n",
    "- The median stopping policy is based on the average of the primary metric reported for trials.  \n",
    "- Random sampling supports leveraging continuous and discrete hyperparameters.  If the primary metric is worse than the median, the job stops.\n",
    "\n",
    "- Hyperparameters are selected randomly from the defined search space.  \n",
    "- Note below we define the following hyperparameters:\n",
    "    - **penalty_term** to be either 'l1' or 'l2'\n",
    "    - **C** which is a value from 0.01-10.0\n",
    "    - **max_iter** is a choice of either 10, 100, 150 or 200"
   ]
  },
  {
   "cell_type": "code",
   "execution_count": 69,
   "metadata": {},
   "outputs": [],
   "source": [
    "from azure.ai.ml.sweep import Choice, Uniform, MedianStoppingPolicy, BanditPolicy, TruncationSelectionPolicy\n",
    "\n",
    "\n",
    "rndsamplemedian_command = command(\n",
    "    code=\"./hyperparametertune\",  # local path where the code is stored\n",
    "    command=\"python main.py --titanic ${{inputs.titanic}} --randomstate ${{inputs.randomstate}}\",\n",
    "    inputs={\n",
    "        \"titanic\": Input(\n",
    "            type=\"uri_file\",\n",
    "            path=\"azureml:titanic_prepped:1\",\n",
    "        ),\n",
    "        \"randomstate\": 0,\n",
    "        \"penalty_term\": 'l1',\n",
    "        \"C\": 0.01,\n",
    "        \"max_iter\": 100,\n",
    "    },\n",
    "    environment=\"job_base_env@latest\",\n",
    "    compute=\"cpu-cluster\",\n",
    "    display_name=\"RandomSamplingwMedianPolicy\",\n",
    ")\n",
    "\n",
    "# #Set Parameter expressions\n",
    "# #choice, randint, qlognormal, qnormal, qloguniform, quniform, lognormal, normal, loguniform, uniform\n",
    "rnd_sample_median_job_for_sweep = rndsamplemedian_command(\n",
    "    penalty_term=Choice(values=['l2', 'l1']),\n",
    "    C=Uniform(min_value=0.01, max_value=10.0),\n",
    "    max_iter=Choice(values=[10, 100, 150, 200]),\n",
    ")"
   ]
  },
  {
   "cell_type": "code",
   "execution_count": 70,
   "metadata": {},
   "outputs": [],
   "source": [
    "# apply the sweep parameter to obtain the sweep_job\n",
    "sweep_job = rnd_sample_median_job_for_sweep.sweep(\n",
    "    compute=\"cpu-cluster\",\n",
    "    sampling_algorithm=\"random\",\n",
    "    primary_metric=\"training_roc_auc_score\",\n",
    "    goal=\"Maximize\",\n",
    ")\n",
    "\n",
    "sweep_job.set_limits(max_total_trials=120, \n",
    "                     max_concurrent_trials=10, \n",
    "                     timeout=7200)\n",
    "\n",
    "#early_termination - Early termination policy to end poorly performing runs. If no termination policy is specified, all configurations are run to completion. \n",
    "sweep_job.early_termination = MedianStoppingPolicy(evaluation_interval= 1, delay_evaluation= 2)"
   ]
  },
  {
   "cell_type": "code",
   "execution_count": 71,
   "metadata": {},
   "outputs": [
    {
     "data": {
      "text/plain": [
       "'https://ml.azure.com/runs/boring_moon_kmvfgyq2ns?wsid=/subscriptions/5da07161-3770-4a4b-aa43-418cbbb627cf/resourcegroups/chapter6-azureml-rg/workspaces/chapter6-azureml&tid=72f988bf-86f1-41af-91ab-2d7cd011db47'"
      ]
     },
     "execution_count": 71,
     "metadata": {},
     "output_type": "execute_result"
    }
   ],
   "source": [
    "# submit the sweep\n",
    "returned_sweep_job = ml_client.create_or_update(sweep_job)\n",
    "# get a URL for the status of the job\n",
    "returned_sweep_job.services[\"Studio\"].endpoint"
   ]
  },
  {
   "cell_type": "code",
   "execution_count": 72,
   "metadata": {},
   "outputs": [
    {
     "data": {
      "text/html": [
       "<table style=\"width:100%\"><tr><th>Experiment</th><th>Name</th><th>Type</th><th>Status</th><th>Details Page</th></tr><tr><td>chapter4</td><td>boring_moon_kmvfgyq2ns</td><td>sweep</td><td>Running</td><td><a href=\"https://ml.azure.com/runs/boring_moon_kmvfgyq2ns?wsid=/subscriptions/5da07161-3770-4a4b-aa43-418cbbb627cf/resourcegroups/chapter6-azureml-rg/workspaces/chapter6-azureml&amp;tid=72f988bf-86f1-41af-91ab-2d7cd011db47\" target=\"_blank\" rel=\"noopener\">Link to Azure Machine Learning studio</a></td></tr></table>"
      ],
      "text/plain": [
       "SweepJob({'type': 'sweep', 'status': 'Running', 'log_files': None, 'name': 'boring_moon_kmvfgyq2ns', 'description': None, 'tags': {'_aml_system_max_concurrent_jobs': '10', '_aml_system_max_total_jobs': '120', '_aml_system_max_duration_minutes': '120', '_aml_system_policy_config': '{\"name\":\"MedianStopping\",\"properties\":{\"evaluation_interval\":1,\"delay_evaluation\":2}}', '_aml_system_generator_config': '{\"name\":\"RANDOM\",\"parameter_space\":{\"penalty_term\":[\"choice\",[[\"l2\",\"l1\"]]],\"C\":[\"uniform\",[0.01,10.0]],\"max_iter\":[\"choice\",[[10,100,150,200]]]},\"properties\":{\"rule\":\"Random\",\"logbase\":null,\"seed\":null}}', '_aml_system_primary_metric_config': '{\"name\":\"training_roc_auc_score\",\"goal\":\"maximize\"}', '_aml_system_platform_config': '{\"ServiceAddress\":\"https://eastus.api.azureml.ms\",\"SubscriptionId\":\"5da07161-3770-4a4b-aa43-418cbbb627cf\",\"ResourceGroupName\":\"chapter6-azureml-rg\",\"WorkspaceName\":\"chapter6-azureml\",\"ExperimentName\":\"chapter4\",\"Definition\":{\"Configuration\":null,\"Attribution\":null,\"TelemetryValues\":null,\"Overrides\":{\"Script\":null,\"Command\":\"python main.py --titanic ${{inputs.titanic}} --randomstate ${{inputs.randomstate}}\",\"UseAbsolutePath\":true,\"Arguments\":[],\"SourceDirectoryDataStore\":null,\"Framework\":0,\"Target\":\"cpu-cluster\",\"DataReferences\":{},\"Data\":{\"titanic\":{\"DataLocation\":{\"Dataset\":null,\"DataPath\":null,\"Uri\":{\"Path\":\"/subscriptions/5da07161-3770-4a4b-aa43-418cbbb627cf/resourceGroups/chapter6-azureml-rg/providers/Microsoft.MachineLearningServices/workspaces/chapter6-azureml/data/titanic_prepped/versions/1\",\"IsFile\":true},\"Type\":\"UriFile\"},\"Mechanism\":\"Mount\",\"EnvironmentVariableName\":\"AZURE_ML_INPUT_titanic\",\"PathOnCompute\":null,\"Overwrite\":false,\"Options\":{\"IsEvalMode\":\"False\",\"ReadWrite\":\"False\",\"ForceFolder\":\"False\"}}},\"InputAssets\":{\"titanic\":{\"Asset\":{\"AssetId\":\"azureml://locations/eastus/workspaces/9e44248b-9077-4922-99ad-0c577c53684e/data/titanic_prepped/versions/1\",\"Type\":\"UriFile\"},\"Mechanism\":\"Mount\",\"EnvironmentVariableName\":\"AZURE_ML_INPUT_titanic\",\"PathOnCompute\":null,\"Overwrite\":false,\"Options\":{\"IsEvalMode\":\"False\",\"ReadWrite\":\"False\",\"ForceFolder\":\"False\"}}},\"OutputData\":{},\"Datacaches\":[],\"JobName\":null,\"MaxRunDurationSeconds\":null,\"NodeCount\":1,\"InstanceTypes\":[],\"Priority\":null,\"CredentialPassthrough\":false,\"Identity\":null,\"Environment\":{\"Name\":\"job_base_env\",\"Version\":\"2\",\"AssetId\":\"azureml://locations/eastus/workspaces/9e44248b-9077-4922-99ad-0c577c53684e/environments/job_base_env/versions/2\",\"AutoRebuild\":false,\"Python\":{\"InterpreterPath\":null,\"UserManagedDependencies\":false,\"CondaDependencies\":{\"dependencies\":[\"python=3.10\",\"scikit-learn=1.1.3\",\"ipykernel\",\"matplotlib\",\"pandas\",\"pip\",{\"pip\":[\"mlflow==2.0.1\",\"azure-ai-ml==1.1.2\",\"mltable==1.0.0\",\"azureml-mlflow==1.48.0\"]}],\"name\":\"job_env\"},\"BaseCondaEnvironment\":null},\"EnvironmentVariables\":{},\"Docker\":{\"BaseImage\":\"mcr.microsoft.com/azureml/openmpi3.1.2-ubuntu18.04\",\"Platform\":{\"Os\":\"Linux\",\"Architecture\":\"amd64\"},\"BaseDockerfile\":null,\"BaseImageRegistry\":null},\"Spark\":{\"Repositories\":[],\"Packages\":[],\"PrecachePackages\":true},\"InferencingStackVersion\":null},\"History\":{\"OutputCollection\":true,\"DirectoriesToWatch\":[\"logs\"],\"EnableMLflowTracking\":true},\"Spark\":{\"Configuration\":{}},\"ParallelTask\":{\"MaxRetriesPerWorker\":0,\"WorkerCountPerNode\":1,\"TerminalExitCodes\":null,\"Configuration\":{}},\"BatchAi\":{\"NodeCount\":0},\"AmlCompute\":{\"Name\":null,\"VmSize\":null,\"RetainCluster\":false,\"ClusterMaxNodeCount\":null},\"AISuperComputer\":{\"InstanceType\":\"D2\",\"FrameworkImage\":null,\"ImageVersion\":\"pytorch-1.7.0\",\"Location\":null,\"AISuperComputerStorageData\":null,\"Interactive\":false,\"ScalePolicy\":null,\"VirtualClusterArmId\":null,\"TensorboardLogDirectory\":null,\"SSHPublicKey\":null,\"SSHPublicKeys\":null,\"EnableAzmlInt\":true,\"Priority\":\"Medium\",\"SLATier\":\"Standard\",\"UserAlias\":null},\"KubernetesCompute\":{\"InstanceType\":null},\"Tensorflow\":{\"WorkerCount\":0,\"ParameterServerCount\":0},\"Mpi\":{\"ProcessCountPerNode\":0},\"PyTorch\":{\"CommunicationBackend\":null,\"ProcessCount\":null},\"Hdi\":{\"YarnDeployMode\":0},\"ContainerInstance\":{\"Region\":null,\"CpuCores\":2.0,\"MemoryGb\":3.5},\"ExposedPorts\":null,\"Docker\":{\"UseDocker\":true,\"SharedVolumes\":null,\"ShmSize\":null,\"Arguments\":null},\"Cmk8sCompute\":{\"Configuration\":{}},\"CommandReturnCodeConfig\":{\"ReturnCode\":0,\"SuccessfulReturnCodes\":[]},\"EnvironmentVariables\":{},\"ApplicationEndpoints\":{},\"Parameters\":[{\"Name\":\"randomstate\",\"Type\":null,\"Value\":\"0\",\"IsOptional\":false}]},\"SnapshotId\":\"ede1d4a9-8708-4d29-b81d-7bd1e70b0a83\",\"Snapshots\":[],\"SourceCodeDataReference\":null,\"ParentRunId\":null,\"DataContainerId\":null,\"RunType\":null,\"DisplayName\":\"RandomSamplingwMedianPolicy\",\"EnvironmentAssetId\":null,\"Properties\":{},\"Tags\":{},\"AggregatedArtifactPath\":null},\"ParentRunId\":\"boring_moon_kmvfgyq2ns\"}', '_aml_system_resume_child_runs': 'null', '_aml_system_all_jobs_generated': 'false', '_aml_system_cancellation_requested': 'false'}, 'properties': {'primary_metric_config': '{\"name\":\"training_roc_auc_score\",\"goal\":\"maximize\"}', 'resume_from': 'null', 'runTemplate': 'HyperDrive', 'azureml.runsource': 'hyperdrive', 'platform': 'AML', 'ContentSnapshotId': 'ede1d4a9-8708-4d29-b81d-7bd1e70b0a83', 'user_agent': 'managementfrontend/81b9b64e718f5a58489d1b0d054fdf54ce850439'}, 'id': '/subscriptions/5da07161-3770-4a4b-aa43-418cbbb627cf/resourceGroups/chapter6-azureml-rg/providers/Microsoft.MachineLearningServices/workspaces/chapter6-azureml/jobs/boring_moon_kmvfgyq2ns', 'Resource__source_path': None, 'base_path': '/mnt/batch/tasks/shared/LS_root/mounts/clusters/memasanz2/code/Users/memasanz/ML-Engineering-with-Azure-Machine-Learning-Service/chapter 4', 'creation_context': <azure.ai.ml.entities._system_data.SystemData object at 0x7f2020671c90>, 'serialize': <msrest.serialization.Serializer object at 0x7f2020671cc0>, 'sampling_algorithm': <azure.ai.ml.entities._job.sweep.sampling_algorithm.RandomSamplingAlgorithm object at 0x7f1fcabbbcd0>, 'early_termination': <azure.ai.ml.entities._job.sweep.early_termination_policy.MedianStoppingPolicy object at 0x7f1fcabba170>, 'limits': <azure.ai.ml.entities._job.job_limits.SweepJobLimits object at 0x7f2020671f90>, 'search_space': {'penalty_term': <azure.ai.ml.entities._job.sweep.search_space.Choice object at 0x7f2020671ed0>, 'C': <azure.ai.ml.entities._job.sweep.search_space.Uniform object at 0x7f2020673880>, 'max_iter': <azure.ai.ml.entities._job.sweep.search_space.Choice object at 0x7f2020672530>}, 'objective': <azure.ai.ml._restclient.v2022_10_01_preview.models._models_py3.Objective object at 0x7f1fb96bc9a0>, 'display_name': 'RandomSamplingwMedianPolicy', 'experiment_name': 'chapter4', 'compute': 'cpu-cluster', 'services': {'Studio': <azure.ai.ml._restclient.v2022_10_01_preview.models._models_py3.JobService object at 0x7f1fb96be950>}, 'inputs': {'titanic': {'type': 'uri_file', 'path': 'azureml://locations/eastus/workspaces/9e44248b-9077-4922-99ad-0c577c53684e/data/titanic_prepped/versions/1', 'mode': 'ro_mount'}, 'randomstate': '0'}, 'outputs': {'default': {'type': 'uri_folder', 'path': 'azureml://datastores/workspaceartifactstore/ExperimentRun/dcid.boring_moon_kmvfgyq2ns', 'mode': 'rw_mount'}}, 'trial': <azure.ai.ml.entities._job.parameterized_command.ParameterizedCommand object at 0x7f2019998160>, 'identity': None})"
      ]
     },
     "execution_count": 72,
     "metadata": {},
     "output_type": "execute_result"
    }
   ],
   "source": [
    "returned_sweep_job"
   ]
  },
  {
   "cell_type": "code",
   "execution_count": 73,
   "metadata": {},
   "outputs": [
    {
     "name": "stdout",
     "output_type": "stream",
     "text": [
      "run_id:boring_moon_kmvfgyq2ns\n",
      "experiment:chapter4\n",
      "d287308d-6f4b-49d5-a2ce-db528026f6f6\n"
     ]
    }
   ],
   "source": [
    "run_id = returned_sweep_job.name\n",
    "print('run_id:' + run_id)\n",
    "experiment = returned_job.experiment_name\n",
    "print(\"experiment:\" + experiment)\n",
    "\n",
    "current_experiment=dict(mlflow.get_experiment_by_name(experiment))\n",
    "experiment_id=current_experiment['experiment_id']\n",
    "print(experiment_id)"
   ]
  },
  {
   "cell_type": "code",
   "execution_count": 74,
   "metadata": {},
   "outputs": [
    {
     "name": "stdout",
     "output_type": "stream",
     "text": [
      "['FINISHED' 'RUNNING' 'SCHEDULED']\n",
      "RandomSamplingwMedianPolicy, Number:FINISHED 96\n",
      "RandomSamplingwMedianPolicy, Number:RUNNING 4\n",
      "RandomSamplingwMedianPolicy, Number:SCHEDULED 1\n",
      "['FINISHED' 'RUNNING' 'SCHEDULED']\n",
      "RandomSamplingwMedianPolicy, Number:FINISHED 100\n",
      "RandomSamplingwMedianPolicy, Number:RUNNING 1\n",
      "RandomSamplingwMedianPolicy, Number:SCHEDULED 4\n",
      "['FINISHED' 'RUNNING' 'SCHEDULED']\n",
      "RandomSamplingwMedianPolicy, Number:FINISHED 101\n",
      "RandomSamplingwMedianPolicy, Number:RUNNING 4\n",
      "RandomSamplingwMedianPolicy, Number:SCHEDULED 1\n",
      "['FINISHED' 'RUNNING' 'SCHEDULED']\n",
      "RandomSamplingwMedianPolicy, Number:FINISHED 104\n",
      "RandomSamplingwMedianPolicy, Number:RUNNING 2\n",
      "RandomSamplingwMedianPolicy, Number:SCHEDULED 1\n",
      "['FINISHED' 'RUNNING' 'SCHEDULED']\n",
      "RandomSamplingwMedianPolicy, Number:FINISHED 106\n",
      "RandomSamplingwMedianPolicy, Number:RUNNING 3\n",
      "RandomSamplingwMedianPolicy, Number:SCHEDULED 2\n",
      "['FINISHED' 'RUNNING' 'SCHEDULED']\n",
      "RandomSamplingwMedianPolicy, Number:FINISHED 109\n",
      "RandomSamplingwMedianPolicy, Number:RUNNING 2\n",
      "RandomSamplingwMedianPolicy, Number:SCHEDULED 5\n",
      "['FINISHED' 'RUNNING' 'SCHEDULED']\n",
      "RandomSamplingwMedianPolicy, Number:FINISHED 111\n",
      "RandomSamplingwMedianPolicy, Number:RUNNING 3\n",
      "RandomSamplingwMedianPolicy, Number:SCHEDULED 5\n",
      "['FINISHED' 'RUNNING' 'SCHEDULED']\n",
      "RandomSamplingwMedianPolicy, Number:FINISHED 113\n",
      "RandomSamplingwMedianPolicy, Number:RUNNING 4\n",
      "RandomSamplingwMedianPolicy, Number:SCHEDULED 2\n",
      "['FINISHED' 'RUNNING']\n",
      "RandomSamplingwMedianPolicy, Number:FINISHED 115\n",
      "RandomSamplingwMedianPolicy, Number:RUNNING 4\n",
      "['FINISHED']\n",
      "RandomSamplingwMedianPolicy, Number:FINISHED 119\n",
      "Sweep Job for run:boring_moon_kmvfgyq2ns Complete\n"
     ]
    }
   ],
   "source": [
    "get_job_status(experiment_id, run_id)"
   ]
  },
  {
   "cell_type": "markdown",
   "metadata": {},
   "source": [
    "## Random Sampling with Bandit Policy\n",
    "\n",
    "- As previous we will leverage the random sampling, but now we will apply a bandit early termination policy which will leverage the `slack_factor` to determine if a trial should be ended.\n",
    "- Random sampling supports leveraging continuous and discrete hyperparameters.  If the primary metric is worse than the median, the job stops.\n",
    "\n",
    "- Hyperparameters are selected randomly from the defined search space.  \n",
    "- Note below we define the following hyperparameters:\n",
    "    - **penalty_term** to be either 'l1' or 'l2'\n",
    "    - **C** which is a value from 0.01-10.0\n",
    "    - **max_iter** is a choice of either 10, 100, 150 or 200"
   ]
  },
  {
   "cell_type": "code",
   "execution_count": 75,
   "metadata": {},
   "outputs": [],
   "source": [
    "from azure.ai.ml.sweep import Choice, Uniform, MedianStoppingPolicy, BanditPolicy, TruncationSelectionPolicy\n",
    "\n",
    "\n",
    "my_job = command(\n",
    "    code=\"./hyperparametertune\",  # local path where the code is stored\n",
    "    command=\"python main.py --titanic ${{inputs.titanic}} --randomstate ${{inputs.randomstate}}\",\n",
    "    inputs={\n",
    "        \"titanic\": Input(\n",
    "            type=\"uri_file\",\n",
    "            path=\"azureml:titanic_prepped:1\",\n",
    "        ),\n",
    "        \"randomstate\": 0,\n",
    "        \"penalty_term\": 'l1',\n",
    "        \"C\": 0.01,\n",
    "        \"max_iter\": 100,\n",
    "    },\n",
    "    environment=\"job_base_env@latest\",\n",
    "    compute=\"cpu-cluster\",\n",
    "    display_name=\"RandomSamplingwBanditPolicy\",\n",
    ")\n",
    "\n",
    "# #Set Parameter expressions\n",
    "# #choice, randint, qlognormal, qnormal, qloguniform, quniform, lognormal, normal, loguniform, uniform\n",
    "command_job_for_sweep = my_job(\n",
    "    penalty_term=Choice(values=['l2', 'l1']),\n",
    "    C=Uniform(min_value=0.01, max_value=10.0),\n",
    "    max_iter=Choice(values=[10, 100, 150, 200]),\n",
    ")"
   ]
  },
  {
   "cell_type": "code",
   "execution_count": 76,
   "metadata": {},
   "outputs": [],
   "source": [
    "# apply the sweep parameter to obtain the sweep_job\n",
    "sweep_job = command_job_for_sweep.sweep(\n",
    "    compute=\"cpu-cluster\",\n",
    "    sampling_algorithm=\"random\",\n",
    "    primary_metric=\"training_roc_auc_score\",\n",
    "    goal=\"Maximize\",\n",
    ")\n",
    "\n",
    "sweep_job.set_limits(max_total_trials=60, \n",
    "                     max_concurrent_trials=10, \n",
    "                     timeout=7200)\n",
    "\n",
    "#early_termination - Early termination policy to end poorly performing runs. If no termination policy is specified, all configurations are run to completion. \n",
    "sweep_job.early_termination = BanditPolicy(slack_factor = 0.1, delay_evaluation = 5, evaluation_interval = 1)\n"
   ]
  },
  {
   "cell_type": "code",
   "execution_count": 77,
   "metadata": {},
   "outputs": [
    {
     "data": {
      "text/plain": [
       "'https://ml.azure.com/runs/willing_garlic_6630b380lt?wsid=/subscriptions/5da07161-3770-4a4b-aa43-418cbbb627cf/resourcegroups/chapter6-azureml-rg/workspaces/chapter6-azureml&tid=72f988bf-86f1-41af-91ab-2d7cd011db47'"
      ]
     },
     "execution_count": 77,
     "metadata": {},
     "output_type": "execute_result"
    }
   ],
   "source": [
    "# submit the sweep\n",
    "returned_sweep_job = ml_client.create_or_update(sweep_job)\n",
    "# get a URL for the status of the job\n",
    "returned_sweep_job.services[\"Studio\"].endpoint"
   ]
  },
  {
   "cell_type": "code",
   "execution_count": 78,
   "metadata": {},
   "outputs": [
    {
     "data": {
      "text/html": [
       "<table style=\"width:100%\"><tr><th>Experiment</th><th>Name</th><th>Type</th><th>Status</th><th>Details Page</th></tr><tr><td>chapter4</td><td>willing_garlic_6630b380lt</td><td>sweep</td><td>Running</td><td><a href=\"https://ml.azure.com/runs/willing_garlic_6630b380lt?wsid=/subscriptions/5da07161-3770-4a4b-aa43-418cbbb627cf/resourcegroups/chapter6-azureml-rg/workspaces/chapter6-azureml&amp;tid=72f988bf-86f1-41af-91ab-2d7cd011db47\" target=\"_blank\" rel=\"noopener\">Link to Azure Machine Learning studio</a></td></tr></table>"
      ],
      "text/plain": [
       "SweepJob({'type': 'sweep', 'status': 'Running', 'log_files': None, 'name': 'willing_garlic_6630b380lt', 'description': None, 'tags': {'_aml_system_max_concurrent_jobs': '10', '_aml_system_max_total_jobs': '60', '_aml_system_max_duration_minutes': '120', '_aml_system_policy_config': '{\"name\":\"Bandit\",\"properties\":{\"evaluation_interval\":1,\"delay_evaluation\":5,\"slack_factor\":0.1}}', '_aml_system_generator_config': '{\"name\":\"RANDOM\",\"parameter_space\":{\"penalty_term\":[\"choice\",[[\"l2\",\"l1\"]]],\"C\":[\"uniform\",[0.01,10.0]],\"max_iter\":[\"choice\",[[10,100,150,200]]]},\"properties\":{\"rule\":\"Random\",\"logbase\":null,\"seed\":null}}', '_aml_system_primary_metric_config': '{\"name\":\"training_roc_auc_score\",\"goal\":\"maximize\"}', '_aml_system_platform_config': '{\"ServiceAddress\":\"https://eastus.api.azureml.ms\",\"SubscriptionId\":\"5da07161-3770-4a4b-aa43-418cbbb627cf\",\"ResourceGroupName\":\"chapter6-azureml-rg\",\"WorkspaceName\":\"chapter6-azureml\",\"ExperimentName\":\"chapter4\",\"Definition\":{\"Configuration\":null,\"Attribution\":null,\"TelemetryValues\":null,\"Overrides\":{\"Script\":null,\"Command\":\"python main.py --titanic ${{inputs.titanic}} --randomstate ${{inputs.randomstate}}\",\"UseAbsolutePath\":true,\"Arguments\":[],\"SourceDirectoryDataStore\":null,\"Framework\":0,\"Target\":\"cpu-cluster\",\"DataReferences\":{},\"Data\":{\"titanic\":{\"DataLocation\":{\"Dataset\":null,\"DataPath\":null,\"Uri\":{\"Path\":\"/subscriptions/5da07161-3770-4a4b-aa43-418cbbb627cf/resourceGroups/chapter6-azureml-rg/providers/Microsoft.MachineLearningServices/workspaces/chapter6-azureml/data/titanic_prepped/versions/1\",\"IsFile\":true},\"Type\":\"UriFile\"},\"Mechanism\":\"Mount\",\"EnvironmentVariableName\":\"AZURE_ML_INPUT_titanic\",\"PathOnCompute\":null,\"Overwrite\":false,\"Options\":{\"IsEvalMode\":\"False\",\"ReadWrite\":\"False\",\"ForceFolder\":\"False\"}}},\"InputAssets\":{\"titanic\":{\"Asset\":{\"AssetId\":\"azureml://locations/eastus/workspaces/9e44248b-9077-4922-99ad-0c577c53684e/data/titanic_prepped/versions/1\",\"Type\":\"UriFile\"},\"Mechanism\":\"Mount\",\"EnvironmentVariableName\":\"AZURE_ML_INPUT_titanic\",\"PathOnCompute\":null,\"Overwrite\":false,\"Options\":{\"IsEvalMode\":\"False\",\"ReadWrite\":\"False\",\"ForceFolder\":\"False\"}}},\"OutputData\":{},\"Datacaches\":[],\"JobName\":null,\"MaxRunDurationSeconds\":null,\"NodeCount\":1,\"InstanceTypes\":[],\"Priority\":null,\"CredentialPassthrough\":false,\"Identity\":null,\"Environment\":{\"Name\":\"job_base_env\",\"Version\":\"2\",\"AssetId\":\"azureml://locations/eastus/workspaces/9e44248b-9077-4922-99ad-0c577c53684e/environments/job_base_env/versions/2\",\"AutoRebuild\":false,\"Python\":{\"InterpreterPath\":null,\"UserManagedDependencies\":false,\"CondaDependencies\":{\"dependencies\":[\"python=3.10\",\"scikit-learn=1.1.3\",\"ipykernel\",\"matplotlib\",\"pandas\",\"pip\",{\"pip\":[\"mlflow==2.0.1\",\"azure-ai-ml==1.1.2\",\"mltable==1.0.0\",\"azureml-mlflow==1.48.0\"]}],\"name\":\"job_env\"},\"BaseCondaEnvironment\":null},\"EnvironmentVariables\":{},\"Docker\":{\"BaseImage\":\"mcr.microsoft.com/azureml/openmpi3.1.2-ubuntu18.04\",\"Platform\":{\"Os\":\"Linux\",\"Architecture\":\"amd64\"},\"BaseDockerfile\":null,\"BaseImageRegistry\":null},\"Spark\":{\"Repositories\":[],\"Packages\":[],\"PrecachePackages\":true},\"InferencingStackVersion\":null},\"History\":{\"OutputCollection\":true,\"DirectoriesToWatch\":[\"logs\"],\"EnableMLflowTracking\":true},\"Spark\":{\"Configuration\":{}},\"ParallelTask\":{\"MaxRetriesPerWorker\":0,\"WorkerCountPerNode\":1,\"TerminalExitCodes\":null,\"Configuration\":{}},\"BatchAi\":{\"NodeCount\":0},\"AmlCompute\":{\"Name\":null,\"VmSize\":null,\"RetainCluster\":false,\"ClusterMaxNodeCount\":null},\"AISuperComputer\":{\"InstanceType\":\"D2\",\"FrameworkImage\":null,\"ImageVersion\":\"pytorch-1.7.0\",\"Location\":null,\"AISuperComputerStorageData\":null,\"Interactive\":false,\"ScalePolicy\":null,\"VirtualClusterArmId\":null,\"TensorboardLogDirectory\":null,\"SSHPublicKey\":null,\"SSHPublicKeys\":null,\"EnableAzmlInt\":true,\"Priority\":\"Medium\",\"SLATier\":\"Standard\",\"UserAlias\":null},\"KubernetesCompute\":{\"InstanceType\":null},\"Tensorflow\":{\"WorkerCount\":0,\"ParameterServerCount\":0},\"Mpi\":{\"ProcessCountPerNode\":0},\"PyTorch\":{\"CommunicationBackend\":null,\"ProcessCount\":null},\"Hdi\":{\"YarnDeployMode\":0},\"ContainerInstance\":{\"Region\":null,\"CpuCores\":2.0,\"MemoryGb\":3.5},\"ExposedPorts\":null,\"Docker\":{\"UseDocker\":true,\"SharedVolumes\":null,\"ShmSize\":null,\"Arguments\":null},\"Cmk8sCompute\":{\"Configuration\":{}},\"CommandReturnCodeConfig\":{\"ReturnCode\":0,\"SuccessfulReturnCodes\":[]},\"EnvironmentVariables\":{},\"ApplicationEndpoints\":{},\"Parameters\":[{\"Name\":\"randomstate\",\"Type\":null,\"Value\":\"0\",\"IsOptional\":false}]},\"SnapshotId\":\"ede1d4a9-8708-4d29-b81d-7bd1e70b0a83\",\"Snapshots\":[],\"SourceCodeDataReference\":null,\"ParentRunId\":null,\"DataContainerId\":null,\"RunType\":null,\"DisplayName\":\"RandomSamplingwBanditPolicy\",\"EnvironmentAssetId\":null,\"Properties\":{},\"Tags\":{},\"AggregatedArtifactPath\":null},\"ParentRunId\":\"willing_garlic_6630b380lt\"}', '_aml_system_resume_child_runs': 'null', '_aml_system_all_jobs_generated': 'false', '_aml_system_cancellation_requested': 'false'}, 'properties': {'primary_metric_config': '{\"name\":\"training_roc_auc_score\",\"goal\":\"maximize\"}', 'resume_from': 'null', 'runTemplate': 'HyperDrive', 'azureml.runsource': 'hyperdrive', 'platform': 'AML', 'ContentSnapshotId': 'ede1d4a9-8708-4d29-b81d-7bd1e70b0a83', 'user_agent': 'managementfrontend/81b9b64e718f5a58489d1b0d054fdf54ce850439'}, 'id': '/subscriptions/5da07161-3770-4a4b-aa43-418cbbb627cf/resourceGroups/chapter6-azureml-rg/providers/Microsoft.MachineLearningServices/workspaces/chapter6-azureml/jobs/willing_garlic_6630b380lt', 'Resource__source_path': None, 'base_path': '/mnt/batch/tasks/shared/LS_root/mounts/clusters/memasanz2/code/Users/memasanz/ML-Engineering-with-Azure-Machine-Learning-Service/chapter 4', 'creation_context': <azure.ai.ml.entities._system_data.SystemData object at 0x7f20199ea380>, 'serialize': <msrest.serialization.Serializer object at 0x7f20199eb910>, 'sampling_algorithm': <azure.ai.ml.entities._job.sweep.sampling_algorithm.RandomSamplingAlgorithm object at 0x7f20199e8dc0>, 'early_termination': <azure.ai.ml.entities._job.sweep.early_termination_policy.BanditPolicy object at 0x7f20199eb130>, 'limits': <azure.ai.ml.entities._job.job_limits.SweepJobLimits object at 0x7f20199e9e40>, 'search_space': {'penalty_term': <azure.ai.ml.entities._job.sweep.search_space.Choice object at 0x7f20199e8df0>, 'C': <azure.ai.ml.entities._job.sweep.search_space.Uniform object at 0x7f20199e96f0>, 'max_iter': <azure.ai.ml.entities._job.sweep.search_space.Choice object at 0x7f20199e8580>}, 'objective': <azure.ai.ml._restclient.v2022_10_01_preview.models._models_py3.Objective object at 0x7f20199eba00>, 'display_name': 'RandomSamplingwBanditPolicy', 'experiment_name': 'chapter4', 'compute': 'cpu-cluster', 'services': {'Studio': <azure.ai.ml._restclient.v2022_10_01_preview.models._models_py3.JobService object at 0x7f20199e8040>}, 'inputs': {'titanic': {'type': 'uri_file', 'path': 'azureml://locations/eastus/workspaces/9e44248b-9077-4922-99ad-0c577c53684e/data/titanic_prepped/versions/1', 'mode': 'ro_mount'}, 'randomstate': '0'}, 'outputs': {'default': {'type': 'uri_folder', 'path': 'azureml://datastores/workspaceartifactstore/ExperimentRun/dcid.willing_garlic_6630b380lt', 'mode': 'rw_mount'}}, 'trial': <azure.ai.ml.entities._job.parameterized_command.ParameterizedCommand object at 0x7f20199e85e0>, 'identity': None})"
      ]
     },
     "execution_count": 78,
     "metadata": {},
     "output_type": "execute_result"
    }
   ],
   "source": [
    "returned_sweep_job"
   ]
  },
  {
   "cell_type": "code",
   "execution_count": 79,
   "metadata": {},
   "outputs": [
    {
     "name": "stdout",
     "output_type": "stream",
     "text": [
      "run_id:willing_garlic_6630b380lt\n",
      "experiment:chapter4\n",
      "d287308d-6f4b-49d5-a2ce-db528026f6f6\n",
      "Sweep Job for run:willing_garlic_6630b380lt Complete\n"
     ]
    }
   ],
   "source": [
    "run_id = returned_sweep_job.name\n",
    "print('run_id:' + run_id)\n",
    "experiment = returned_job.experiment_name\n",
    "print(\"experiment:\" + experiment)\n",
    "\n",
    "current_experiment=dict(mlflow.get_experiment_by_name(experiment))\n",
    "experiment_id=current_experiment['experiment_id']\n",
    "print(experiment_id)\n",
    "\n",
    "#get status\n",
    "get_job_status(experiment_id, run_id)"
   ]
  },
  {
   "cell_type": "markdown",
   "metadata": {},
   "source": [
    "## Bayesian Sampling\n",
    "\n",
    "- Bayesian sampling leverages how a previous trial did in regard to the primary meteric to determine what to pick for hyperparameter.\n",
    "- It is recommended to havea  max number of jobs >= 20x  the number of hyperparameters being tuned.\n",
    "\n",
    "- Baysesian sampling supports: `choice`, `quniform` and `uniform` hyperparameters"
   ]
  },
  {
   "cell_type": "code",
   "execution_count": 80,
   "metadata": {},
   "outputs": [],
   "source": [
    "from azure.ai.ml.sweep import Choice, Uniform, MedianStoppingPolicy, BanditPolicy, TruncationSelectionPolicy\n",
    "\n",
    "\n",
    "my_job = command(\n",
    "    code=\"./hyperparametertune\",  # local path where the code is stored\n",
    "    command=\"python main.py --titanic ${{inputs.titanic}} --randomstate ${{inputs.randomstate}}\",\n",
    "    inputs={\n",
    "        \"titanic\": Input(\n",
    "            type=\"uri_file\",\n",
    "            path=\"azureml:titanic_prepped:1\",\n",
    "        ),\n",
    "        \"randomstate\": 0,\n",
    "        \"penalty_term\": 'l1',\n",
    "        \"C\": 0.01,\n",
    "        \"max_iter\": 100,\n",
    "    },\n",
    "    environment=\"job_base_env@latest\",\n",
    "    compute=\"cpu-cluster\",\n",
    "    display_name=\"Bayesian\",\n",
    ")\n",
    "\n",
    "# #Set Parameter expressions\n",
    "command_job_for_sweep = my_job(\n",
    "    penalty_term=Choice(values=['l2', 'l1']),\n",
    "    C=Uniform(min_value=0.01, max_value=10.0),\n",
    "    max_iter=Choice(values=[10, 100, 150, 200]),\n",
    ")"
   ]
  },
  {
   "cell_type": "code",
   "execution_count": 81,
   "metadata": {},
   "outputs": [],
   "source": [
    "# apply the sweep parameter to obtain the sweep_job\n",
    "sweep_job = command_job_for_sweep.sweep(\n",
    "    compute=\"cpu-cluster\",\n",
    "    sampling_algorithm=\"bayesian\",\n",
    "    primary_metric=\"test_AUC\",\n",
    "    goal=\"Maximize\",\n",
    ")\n",
    "\n",
    "# define the limits for this sweep\n",
    "sweep_job.set_limits(max_total_trials=60, max_concurrent_trials=10, timeout=7200)"
   ]
  },
  {
   "cell_type": "code",
   "execution_count": 82,
   "metadata": {},
   "outputs": [
    {
     "data": {
      "text/plain": [
       "'https://ml.azure.com/runs/khaki_spring_t22hpbl4kj?wsid=/subscriptions/5da07161-3770-4a4b-aa43-418cbbb627cf/resourcegroups/chapter6-azureml-rg/workspaces/chapter6-azureml&tid=72f988bf-86f1-41af-91ab-2d7cd011db47'"
      ]
     },
     "execution_count": 82,
     "metadata": {},
     "output_type": "execute_result"
    }
   ],
   "source": [
    "# submit the sweep\n",
    "returned_sweep_job = ml_client.create_or_update(sweep_job)\n",
    "# get a URL for the status of the job\n",
    "returned_sweep_job.services[\"Studio\"].endpoint"
   ]
  },
  {
   "cell_type": "code",
   "execution_count": 83,
   "metadata": {},
   "outputs": [
    {
     "data": {
      "text/html": [
       "<table style=\"width:100%\"><tr><th>Experiment</th><th>Name</th><th>Type</th><th>Status</th><th>Details Page</th></tr><tr><td>chapter4</td><td>khaki_spring_t22hpbl4kj</td><td>sweep</td><td>Running</td><td><a href=\"https://ml.azure.com/runs/khaki_spring_t22hpbl4kj?wsid=/subscriptions/5da07161-3770-4a4b-aa43-418cbbb627cf/resourcegroups/chapter6-azureml-rg/workspaces/chapter6-azureml&amp;tid=72f988bf-86f1-41af-91ab-2d7cd011db47\" target=\"_blank\" rel=\"noopener\">Link to Azure Machine Learning studio</a></td></tr></table>"
      ],
      "text/plain": [
       "SweepJob({'type': 'sweep', 'status': 'Running', 'log_files': None, 'name': 'khaki_spring_t22hpbl4kj', 'description': None, 'tags': {'_aml_system_max_concurrent_jobs': '10', '_aml_system_max_total_jobs': '60', '_aml_system_max_duration_minutes': '120', '_aml_system_policy_config': '{\"name\":\"Default\",\"properties\":{}}', '_aml_system_generator_config': '{\"name\":\"BAYESIANOPTIMIZATION\",\"parameter_space\":{\"penalty_term\":[\"choice\",[[\"l2\",\"l1\"]]],\"C\":[\"uniform\",[0.01,10.0]],\"max_iter\":[\"choice\",[[10,100,150,200]]]},\"properties\":{}}', '_aml_system_primary_metric_config': '{\"name\":\"test_AUC\",\"goal\":\"maximize\"}', '_aml_system_platform_config': '{\"ServiceAddress\":\"https://eastus.api.azureml.ms\",\"SubscriptionId\":\"5da07161-3770-4a4b-aa43-418cbbb627cf\",\"ResourceGroupName\":\"chapter6-azureml-rg\",\"WorkspaceName\":\"chapter6-azureml\",\"ExperimentName\":\"chapter4\",\"Definition\":{\"Configuration\":null,\"Attribution\":null,\"TelemetryValues\":null,\"Overrides\":{\"Script\":null,\"Command\":\"python main.py --titanic ${{inputs.titanic}} --randomstate ${{inputs.randomstate}}\",\"UseAbsolutePath\":true,\"Arguments\":[],\"SourceDirectoryDataStore\":null,\"Framework\":0,\"Target\":\"cpu-cluster\",\"DataReferences\":{},\"Data\":{\"titanic\":{\"DataLocation\":{\"Dataset\":null,\"DataPath\":null,\"Uri\":{\"Path\":\"/subscriptions/5da07161-3770-4a4b-aa43-418cbbb627cf/resourceGroups/chapter6-azureml-rg/providers/Microsoft.MachineLearningServices/workspaces/chapter6-azureml/data/titanic_prepped/versions/1\",\"IsFile\":true},\"Type\":\"UriFile\"},\"Mechanism\":\"Mount\",\"EnvironmentVariableName\":\"AZURE_ML_INPUT_titanic\",\"PathOnCompute\":null,\"Overwrite\":false,\"Options\":{\"IsEvalMode\":\"False\",\"ReadWrite\":\"False\",\"ForceFolder\":\"False\"}}},\"InputAssets\":{\"titanic\":{\"Asset\":{\"AssetId\":\"azureml://locations/eastus/workspaces/9e44248b-9077-4922-99ad-0c577c53684e/data/titanic_prepped/versions/1\",\"Type\":\"UriFile\"},\"Mechanism\":\"Mount\",\"EnvironmentVariableName\":\"AZURE_ML_INPUT_titanic\",\"PathOnCompute\":null,\"Overwrite\":false,\"Options\":{\"IsEvalMode\":\"False\",\"ReadWrite\":\"False\",\"ForceFolder\":\"False\"}}},\"OutputData\":{},\"Datacaches\":[],\"JobName\":null,\"MaxRunDurationSeconds\":null,\"NodeCount\":1,\"InstanceTypes\":[],\"Priority\":null,\"CredentialPassthrough\":false,\"Identity\":null,\"Environment\":{\"Name\":\"job_base_env\",\"Version\":\"2\",\"AssetId\":\"azureml://locations/eastus/workspaces/9e44248b-9077-4922-99ad-0c577c53684e/environments/job_base_env/versions/2\",\"AutoRebuild\":false,\"Python\":{\"InterpreterPath\":null,\"UserManagedDependencies\":false,\"CondaDependencies\":{\"dependencies\":[\"python=3.10\",\"scikit-learn=1.1.3\",\"ipykernel\",\"matplotlib\",\"pandas\",\"pip\",{\"pip\":[\"mlflow==2.0.1\",\"azure-ai-ml==1.1.2\",\"mltable==1.0.0\",\"azureml-mlflow==1.48.0\"]}],\"name\":\"job_env\"},\"BaseCondaEnvironment\":null},\"EnvironmentVariables\":{},\"Docker\":{\"BaseImage\":\"mcr.microsoft.com/azureml/openmpi3.1.2-ubuntu18.04\",\"Platform\":{\"Os\":\"Linux\",\"Architecture\":\"amd64\"},\"BaseDockerfile\":null,\"BaseImageRegistry\":null},\"Spark\":{\"Repositories\":[],\"Packages\":[],\"PrecachePackages\":true},\"InferencingStackVersion\":null},\"History\":{\"OutputCollection\":true,\"DirectoriesToWatch\":[\"logs\"],\"EnableMLflowTracking\":true},\"Spark\":{\"Configuration\":{}},\"ParallelTask\":{\"MaxRetriesPerWorker\":0,\"WorkerCountPerNode\":1,\"TerminalExitCodes\":null,\"Configuration\":{}},\"BatchAi\":{\"NodeCount\":0},\"AmlCompute\":{\"Name\":null,\"VmSize\":null,\"RetainCluster\":false,\"ClusterMaxNodeCount\":null},\"AISuperComputer\":{\"InstanceType\":\"D2\",\"FrameworkImage\":null,\"ImageVersion\":\"pytorch-1.7.0\",\"Location\":null,\"AISuperComputerStorageData\":null,\"Interactive\":false,\"ScalePolicy\":null,\"VirtualClusterArmId\":null,\"TensorboardLogDirectory\":null,\"SSHPublicKey\":null,\"SSHPublicKeys\":null,\"EnableAzmlInt\":true,\"Priority\":\"Medium\",\"SLATier\":\"Standard\",\"UserAlias\":null},\"KubernetesCompute\":{\"InstanceType\":null},\"Tensorflow\":{\"WorkerCount\":0,\"ParameterServerCount\":0},\"Mpi\":{\"ProcessCountPerNode\":0},\"PyTorch\":{\"CommunicationBackend\":null,\"ProcessCount\":null},\"Hdi\":{\"YarnDeployMode\":0},\"ContainerInstance\":{\"Region\":null,\"CpuCores\":2.0,\"MemoryGb\":3.5},\"ExposedPorts\":null,\"Docker\":{\"UseDocker\":true,\"SharedVolumes\":null,\"ShmSize\":null,\"Arguments\":null},\"Cmk8sCompute\":{\"Configuration\":{}},\"CommandReturnCodeConfig\":{\"ReturnCode\":0,\"SuccessfulReturnCodes\":[]},\"EnvironmentVariables\":{},\"ApplicationEndpoints\":{},\"Parameters\":[{\"Name\":\"randomstate\",\"Type\":null,\"Value\":\"0\",\"IsOptional\":false}]},\"SnapshotId\":\"ede1d4a9-8708-4d29-b81d-7bd1e70b0a83\",\"Snapshots\":[],\"SourceCodeDataReference\":null,\"ParentRunId\":null,\"DataContainerId\":null,\"RunType\":null,\"DisplayName\":\"Bayesian\",\"EnvironmentAssetId\":null,\"Properties\":{},\"Tags\":{},\"AggregatedArtifactPath\":null},\"ParentRunId\":\"khaki_spring_t22hpbl4kj\"}', '_aml_system_resume_child_runs': 'null', '_aml_system_all_jobs_generated': 'false', '_aml_system_cancellation_requested': 'false'}, 'properties': {'primary_metric_config': '{\"name\":\"test_AUC\",\"goal\":\"maximize\"}', 'resume_from': 'null', 'runTemplate': 'HyperDrive', 'azureml.runsource': 'hyperdrive', 'platform': 'AML', 'ContentSnapshotId': 'ede1d4a9-8708-4d29-b81d-7bd1e70b0a83', 'user_agent': 'managementfrontend/81b9b64e718f5a58489d1b0d054fdf54ce850439'}, 'id': '/subscriptions/5da07161-3770-4a4b-aa43-418cbbb627cf/resourceGroups/chapter6-azureml-rg/providers/Microsoft.MachineLearningServices/workspaces/chapter6-azureml/jobs/khaki_spring_t22hpbl4kj', 'Resource__source_path': None, 'base_path': '/mnt/batch/tasks/shared/LS_root/mounts/clusters/memasanz2/code/Users/memasanz/ML-Engineering-with-Azure-Machine-Learning-Service/chapter 4', 'creation_context': <azure.ai.ml.entities._system_data.SystemData object at 0x7f1fcac2d0f0>, 'serialize': <msrest.serialization.Serializer object at 0x7f20199ea470>, 'sampling_algorithm': <azure.ai.ml.entities._job.sweep.sampling_algorithm.RandomSamplingAlgorithm object at 0x7f1fb9f45d20>, 'early_termination': None, 'limits': <azure.ai.ml.entities._job.job_limits.SweepJobLimits object at 0x7f20199ea8f0>, 'search_space': {'penalty_term': <azure.ai.ml.entities._job.sweep.search_space.Choice object at 0x7f1fcac2c580>, 'C': <azure.ai.ml.entities._job.sweep.search_space.Uniform object at 0x7f1fb9b6faf0>, 'max_iter': <azure.ai.ml.entities._job.sweep.search_space.Choice object at 0x7f1fb9b6f6a0>}, 'objective': <azure.ai.ml._restclient.v2022_10_01_preview.models._models_py3.Objective object at 0x7f1fb8d34ac0>, 'display_name': 'Bayesian', 'experiment_name': 'chapter4', 'compute': 'cpu-cluster', 'services': {'Studio': <azure.ai.ml._restclient.v2022_10_01_preview.models._models_py3.JobService object at 0x7f1fb8d34d90>}, 'inputs': {'titanic': {'type': 'uri_file', 'path': 'azureml://locations/eastus/workspaces/9e44248b-9077-4922-99ad-0c577c53684e/data/titanic_prepped/versions/1', 'mode': 'ro_mount'}, 'randomstate': '0'}, 'outputs': {'default': {'type': 'uri_folder', 'path': 'azureml://datastores/workspaceartifactstore/ExperimentRun/dcid.khaki_spring_t22hpbl4kj', 'mode': 'rw_mount'}}, 'trial': <azure.ai.ml.entities._job.parameterized_command.ParameterizedCommand object at 0x7f1fcac2c070>, 'identity': None})"
      ]
     },
     "execution_count": 83,
     "metadata": {},
     "output_type": "execute_result"
    }
   ],
   "source": [
    "returned_sweep_job"
   ]
  },
  {
   "cell_type": "code",
   "execution_count": 84,
   "metadata": {},
   "outputs": [
    {
     "name": "stdout",
     "output_type": "stream",
     "text": [
      "run_id:khaki_spring_t22hpbl4kj\n",
      "experiment:chapter4\n",
      "d287308d-6f4b-49d5-a2ce-db528026f6f6\n",
      "['FINISHED']\n",
      "Bayesian, Number:FINISHED 20\n",
      "Sweep Job for run:khaki_spring_t22hpbl4kj Complete\n"
     ]
    }
   ],
   "source": [
    "run_id = returned_sweep_job.name\n",
    "print('run_id:' + run_id)\n",
    "experiment = returned_job.experiment_name\n",
    "print(\"experiment:\" + experiment)\n",
    "\n",
    "current_experiment=dict(mlflow.get_experiment_by_name(experiment))\n",
    "experiment_id=current_experiment['experiment_id']\n",
    "print(experiment_id)\n",
    "\n",
    "#get status\n",
    "get_job_status(experiment_id, run_id)"
   ]
  },
  {
   "cell_type": "code",
   "execution_count": 85,
   "metadata": {},
   "outputs": [
    {
     "data": {
      "text/html": [
       "<div>\n",
       "<style scoped>\n",
       "    .dataframe tbody tr th:only-of-type {\n",
       "        vertical-align: middle;\n",
       "    }\n",
       "\n",
       "    .dataframe tbody tr th {\n",
       "        vertical-align: top;\n",
       "    }\n",
       "\n",
       "    .dataframe thead th {\n",
       "        text-align: right;\n",
       "    }\n",
       "</style>\n",
       "<table border=\"1\" class=\"dataframe\">\n",
       "  <thead>\n",
       "    <tr style=\"text-align: right;\">\n",
       "      <th></th>\n",
       "      <th>run_id</th>\n",
       "      <th>experiment_id</th>\n",
       "      <th>status</th>\n",
       "      <th>artifact_uri</th>\n",
       "      <th>start_time</th>\n",
       "      <th>end_time</th>\n",
       "      <th>metrics.training_f1_score</th>\n",
       "      <th>metrics.training_recall_score</th>\n",
       "      <th>metrics.training_precision_score</th>\n",
       "      <th>metrics.training_log_loss</th>\n",
       "      <th>...</th>\n",
       "      <th>metrics.training_accuracy_score</th>\n",
       "      <th>metrics.test_auc</th>\n",
       "      <th>metrics.training_score</th>\n",
       "      <th>metrics.test_acc</th>\n",
       "      <th>metrics.test_ACC</th>\n",
       "      <th>metrics.test_AUC</th>\n",
       "      <th>tags.mlflow.rootRunId</th>\n",
       "      <th>tags.mlflow.user</th>\n",
       "      <th>tags.mlflow.parentRunId</th>\n",
       "      <th>tags.hyperparameters</th>\n",
       "    </tr>\n",
       "  </thead>\n",
       "  <tbody>\n",
       "    <tr>\n",
       "      <th>459</th>\n",
       "      <td>khaki_spring_t22hpbl4kj_0</td>\n",
       "      <td>d287308d-6f4b-49d5-a2ce-db528026f6f6</td>\n",
       "      <td>FINISHED</td>\n",
       "      <td></td>\n",
       "      <td>2022-12-10 19:32:06.963000+00:00</td>\n",
       "      <td>2022-12-10 19:32:25.654000+00:00</td>\n",
       "      <td>0.773580</td>\n",
       "      <td>0.793539</td>\n",
       "      <td>0.832012</td>\n",
       "      <td>0.605254</td>\n",
       "      <td>...</td>\n",
       "      <td>0.793539</td>\n",
       "      <td>NaN</td>\n",
       "      <td>0.793539</td>\n",
       "      <td>NaN</td>\n",
       "      <td>0.759777</td>\n",
       "      <td>0.771131</td>\n",
       "      <td>khaki_spring_t22hpbl4kj</td>\n",
       "      <td>Megan Masanz</td>\n",
       "      <td>khaki_spring_t22hpbl4kj</td>\n",
       "      <td>{\"penalty_term\": \"l1\", \"C\": 7.822605439883435,...</td>\n",
       "    </tr>\n",
       "    <tr>\n",
       "      <th>460</th>\n",
       "      <td>khaki_spring_t22hpbl4kj_2</td>\n",
       "      <td>d287308d-6f4b-49d5-a2ce-db528026f6f6</td>\n",
       "      <td>FINISHED</td>\n",
       "      <td></td>\n",
       "      <td>2022-12-10 19:32:31.586000+00:00</td>\n",
       "      <td>2022-12-10 19:32:49.331000+00:00</td>\n",
       "      <td>0.772661</td>\n",
       "      <td>0.792135</td>\n",
       "      <td>0.829413</td>\n",
       "      <td>0.608321</td>\n",
       "      <td>...</td>\n",
       "      <td>0.792135</td>\n",
       "      <td>NaN</td>\n",
       "      <td>0.792135</td>\n",
       "      <td>NaN</td>\n",
       "      <td>0.765363</td>\n",
       "      <td>0.775074</td>\n",
       "      <td>khaki_spring_t22hpbl4kj</td>\n",
       "      <td>Megan Masanz</td>\n",
       "      <td>khaki_spring_t22hpbl4kj</td>\n",
       "      <td>{\"penalty_term\": \"l1\", \"C\": 0.1719622881842467...</td>\n",
       "    </tr>\n",
       "    <tr>\n",
       "      <th>461</th>\n",
       "      <td>khaki_spring_t22hpbl4kj_1</td>\n",
       "      <td>d287308d-6f4b-49d5-a2ce-db528026f6f6</td>\n",
       "      <td>FINISHED</td>\n",
       "      <td></td>\n",
       "      <td>2022-12-10 19:32:07.087000+00:00</td>\n",
       "      <td>2022-12-10 19:32:25.598000+00:00</td>\n",
       "      <td>0.766412</td>\n",
       "      <td>0.786517</td>\n",
       "      <td>0.824011</td>\n",
       "      <td>0.615964</td>\n",
       "      <td>...</td>\n",
       "      <td>0.786517</td>\n",
       "      <td>NaN</td>\n",
       "      <td>0.786517</td>\n",
       "      <td>NaN</td>\n",
       "      <td>0.787709</td>\n",
       "      <td>0.791033</td>\n",
       "      <td>khaki_spring_t22hpbl4kj</td>\n",
       "      <td>Megan Masanz</td>\n",
       "      <td>khaki_spring_t22hpbl4kj</td>\n",
       "      <td>{\"penalty_term\": \"l2\", \"C\": 4.414474872939844,...</td>\n",
       "    </tr>\n",
       "    <tr>\n",
       "      <th>462</th>\n",
       "      <td>khaki_spring_t22hpbl4kj_3</td>\n",
       "      <td>d287308d-6f4b-49d5-a2ce-db528026f6f6</td>\n",
       "      <td>FINISHED</td>\n",
       "      <td></td>\n",
       "      <td>2022-12-10 19:32:07.183000+00:00</td>\n",
       "      <td>2022-12-10 19:32:25.764000+00:00</td>\n",
       "      <td>0.767501</td>\n",
       "      <td>0.789326</td>\n",
       "      <td>0.826291</td>\n",
       "      <td>0.611000</td>\n",
       "      <td>...</td>\n",
       "      <td>0.789326</td>\n",
       "      <td>NaN</td>\n",
       "      <td>0.789326</td>\n",
       "      <td>NaN</td>\n",
       "      <td>0.776536</td>\n",
       "      <td>0.835393</td>\n",
       "      <td>khaki_spring_t22hpbl4kj</td>\n",
       "      <td>Megan Masanz</td>\n",
       "      <td>khaki_spring_t22hpbl4kj</td>\n",
       "      <td>{\"penalty_term\": \"l1\", \"C\": 5.691406519782598,...</td>\n",
       "    </tr>\n",
       "    <tr>\n",
       "      <th>463</th>\n",
       "      <td>khaki_spring_t22hpbl4kj_5</td>\n",
       "      <td>d287308d-6f4b-49d5-a2ce-db528026f6f6</td>\n",
       "      <td>FINISHED</td>\n",
       "      <td></td>\n",
       "      <td>2022-12-10 19:32:31.141000+00:00</td>\n",
       "      <td>2022-12-10 19:32:49.367000+00:00</td>\n",
       "      <td>0.772805</td>\n",
       "      <td>0.793539</td>\n",
       "      <td>0.831446</td>\n",
       "      <td>0.604512</td>\n",
       "      <td>...</td>\n",
       "      <td>0.793539</td>\n",
       "      <td>NaN</td>\n",
       "      <td>0.793539</td>\n",
       "      <td>NaN</td>\n",
       "      <td>0.759777</td>\n",
       "      <td>0.782710</td>\n",
       "      <td>khaki_spring_t22hpbl4kj</td>\n",
       "      <td>Megan Masanz</td>\n",
       "      <td>khaki_spring_t22hpbl4kj</td>\n",
       "      <td>{\"penalty_term\": \"l2\", \"C\": 6.648604811586248,...</td>\n",
       "    </tr>\n",
       "    <tr>\n",
       "      <th>464</th>\n",
       "      <td>khaki_spring_t22hpbl4kj_4</td>\n",
       "      <td>d287308d-6f4b-49d5-a2ce-db528026f6f6</td>\n",
       "      <td>FINISHED</td>\n",
       "      <td></td>\n",
       "      <td>2022-12-10 19:32:52.787000+00:00</td>\n",
       "      <td>2022-12-10 19:33:10.379000+00:00</td>\n",
       "      <td>0.768679</td>\n",
       "      <td>0.790730</td>\n",
       "      <td>0.836723</td>\n",
       "      <td>0.619598</td>\n",
       "      <td>...</td>\n",
       "      <td>0.790730</td>\n",
       "      <td>NaN</td>\n",
       "      <td>0.790730</td>\n",
       "      <td>NaN</td>\n",
       "      <td>0.770950</td>\n",
       "      <td>0.814632</td>\n",
       "      <td>khaki_spring_t22hpbl4kj</td>\n",
       "      <td>Megan Masanz</td>\n",
       "      <td>khaki_spring_t22hpbl4kj</td>\n",
       "      <td>{\"penalty_term\": \"l1\", \"C\": 7.783937780880819,...</td>\n",
       "    </tr>\n",
       "    <tr>\n",
       "      <th>465</th>\n",
       "      <td>khaki_spring_t22hpbl4kj_6</td>\n",
       "      <td>d287308d-6f4b-49d5-a2ce-db528026f6f6</td>\n",
       "      <td>FINISHED</td>\n",
       "      <td></td>\n",
       "      <td>2022-12-10 19:32:07.068000+00:00</td>\n",
       "      <td>2022-12-10 19:32:25.410000+00:00</td>\n",
       "      <td>0.777846</td>\n",
       "      <td>0.797753</td>\n",
       "      <td>0.829473</td>\n",
       "      <td>0.603654</td>\n",
       "      <td>...</td>\n",
       "      <td>0.797753</td>\n",
       "      <td>NaN</td>\n",
       "      <td>0.797753</td>\n",
       "      <td>NaN</td>\n",
       "      <td>0.743017</td>\n",
       "      <td>0.822658</td>\n",
       "      <td>khaki_spring_t22hpbl4kj</td>\n",
       "      <td>Megan Masanz</td>\n",
       "      <td>khaki_spring_t22hpbl4kj</td>\n",
       "      <td>{\"penalty_term\": \"l1\", \"C\": 6.439691858958144,...</td>\n",
       "    </tr>\n",
       "    <tr>\n",
       "      <th>466</th>\n",
       "      <td>khaki_spring_t22hpbl4kj_7</td>\n",
       "      <td>d287308d-6f4b-49d5-a2ce-db528026f6f6</td>\n",
       "      <td>FINISHED</td>\n",
       "      <td></td>\n",
       "      <td>2022-12-10 19:32:31.744000+00:00</td>\n",
       "      <td>2022-12-10 19:32:49.622000+00:00</td>\n",
       "      <td>0.757861</td>\n",
       "      <td>0.779494</td>\n",
       "      <td>0.819592</td>\n",
       "      <td>0.631613</td>\n",
       "      <td>...</td>\n",
       "      <td>0.779494</td>\n",
       "      <td>NaN</td>\n",
       "      <td>0.779494</td>\n",
       "      <td>NaN</td>\n",
       "      <td>0.815642</td>\n",
       "      <td>0.889647</td>\n",
       "      <td>khaki_spring_t22hpbl4kj</td>\n",
       "      <td>Megan Masanz</td>\n",
       "      <td>khaki_spring_t22hpbl4kj</td>\n",
       "      <td>{\"penalty_term\": \"l1\", \"C\": 8.511263753822059,...</td>\n",
       "    </tr>\n",
       "    <tr>\n",
       "      <th>467</th>\n",
       "      <td>khaki_spring_t22hpbl4kj_8</td>\n",
       "      <td>d287308d-6f4b-49d5-a2ce-db528026f6f6</td>\n",
       "      <td>FINISHED</td>\n",
       "      <td></td>\n",
       "      <td>2022-12-10 19:32:31.302000+00:00</td>\n",
       "      <td>2022-12-10 19:32:50.058000+00:00</td>\n",
       "      <td>0.759364</td>\n",
       "      <td>0.782303</td>\n",
       "      <td>0.824770</td>\n",
       "      <td>0.616335</td>\n",
       "      <td>...</td>\n",
       "      <td>0.782303</td>\n",
       "      <td>NaN</td>\n",
       "      <td>0.782303</td>\n",
       "      <td>NaN</td>\n",
       "      <td>0.804469</td>\n",
       "      <td>0.799041</td>\n",
       "      <td>khaki_spring_t22hpbl4kj</td>\n",
       "      <td>Megan Masanz</td>\n",
       "      <td>khaki_spring_t22hpbl4kj</td>\n",
       "      <td>{\"penalty_term\": \"l1\", \"C\": 7.068681278591714,...</td>\n",
       "    </tr>\n",
       "    <tr>\n",
       "      <th>468</th>\n",
       "      <td>khaki_spring_t22hpbl4kj_9</td>\n",
       "      <td>d287308d-6f4b-49d5-a2ce-db528026f6f6</td>\n",
       "      <td>FINISHED</td>\n",
       "      <td></td>\n",
       "      <td>2022-12-10 19:32:52.631000+00:00</td>\n",
       "      <td>2022-12-10 19:33:10.872000+00:00</td>\n",
       "      <td>0.755533</td>\n",
       "      <td>0.778090</td>\n",
       "      <td>0.820700</td>\n",
       "      <td>0.622971</td>\n",
       "      <td>...</td>\n",
       "      <td>0.778090</td>\n",
       "      <td>NaN</td>\n",
       "      <td>0.778090</td>\n",
       "      <td>NaN</td>\n",
       "      <td>0.821229</td>\n",
       "      <td>0.828577</td>\n",
       "      <td>khaki_spring_t22hpbl4kj</td>\n",
       "      <td>Megan Masanz</td>\n",
       "      <td>khaki_spring_t22hpbl4kj</td>\n",
       "      <td>{\"penalty_term\": \"l2\", \"C\": 1.4701787759759835...</td>\n",
       "    </tr>\n",
       "    <tr>\n",
       "      <th>469</th>\n",
       "      <td>khaki_spring_t22hpbl4kj_10</td>\n",
       "      <td>d287308d-6f4b-49d5-a2ce-db528026f6f6</td>\n",
       "      <td>FINISHED</td>\n",
       "      <td></td>\n",
       "      <td>2022-12-10 19:33:32.241000+00:00</td>\n",
       "      <td>2022-12-10 19:33:50.717000+00:00</td>\n",
       "      <td>0.765426</td>\n",
       "      <td>0.786517</td>\n",
       "      <td>0.823199</td>\n",
       "      <td>0.619419</td>\n",
       "      <td>...</td>\n",
       "      <td>0.786517</td>\n",
       "      <td>NaN</td>\n",
       "      <td>0.786517</td>\n",
       "      <td>NaN</td>\n",
       "      <td>0.787709</td>\n",
       "      <td>0.843742</td>\n",
       "      <td>khaki_spring_t22hpbl4kj</td>\n",
       "      <td>Megan Masanz</td>\n",
       "      <td>khaki_spring_t22hpbl4kj</td>\n",
       "      <td>{\"penalty_term\": \"l2\", \"C\": 0.2786953156499565...</td>\n",
       "    </tr>\n",
       "    <tr>\n",
       "      <th>470</th>\n",
       "      <td>khaki_spring_t22hpbl4kj_11</td>\n",
       "      <td>d287308d-6f4b-49d5-a2ce-db528026f6f6</td>\n",
       "      <td>FINISHED</td>\n",
       "      <td></td>\n",
       "      <td>2022-12-10 19:33:32.230000+00:00</td>\n",
       "      <td>2022-12-10 19:33:50.744000+00:00</td>\n",
       "      <td>0.760427</td>\n",
       "      <td>0.782303</td>\n",
       "      <td>0.820643</td>\n",
       "      <td>0.622134</td>\n",
       "      <td>...</td>\n",
       "      <td>0.782303</td>\n",
       "      <td>NaN</td>\n",
       "      <td>0.782303</td>\n",
       "      <td>NaN</td>\n",
       "      <td>0.804469</td>\n",
       "      <td>0.858076</td>\n",
       "      <td>khaki_spring_t22hpbl4kj</td>\n",
       "      <td>Megan Masanz</td>\n",
       "      <td>khaki_spring_t22hpbl4kj</td>\n",
       "      <td>{\"penalty_term\": \"l1\", \"C\": 8.51097961367152, ...</td>\n",
       "    </tr>\n",
       "    <tr>\n",
       "      <th>471</th>\n",
       "      <td>khaki_spring_t22hpbl4kj_12</td>\n",
       "      <td>d287308d-6f4b-49d5-a2ce-db528026f6f6</td>\n",
       "      <td>FINISHED</td>\n",
       "      <td></td>\n",
       "      <td>2022-12-10 19:33:32.088000+00:00</td>\n",
       "      <td>2022-12-10 19:33:50.440000+00:00</td>\n",
       "      <td>0.762739</td>\n",
       "      <td>0.783708</td>\n",
       "      <td>0.824409</td>\n",
       "      <td>0.625073</td>\n",
       "      <td>...</td>\n",
       "      <td>0.783708</td>\n",
       "      <td>NaN</td>\n",
       "      <td>0.783708</td>\n",
       "      <td>NaN</td>\n",
       "      <td>0.798883</td>\n",
       "      <td>0.854770</td>\n",
       "      <td>khaki_spring_t22hpbl4kj</td>\n",
       "      <td>Megan Masanz</td>\n",
       "      <td>khaki_spring_t22hpbl4kj</td>\n",
       "      <td>{\"C\": 3.1588254104023066, \"max_iter\": 100, \"pe...</td>\n",
       "    </tr>\n",
       "    <tr>\n",
       "      <th>472</th>\n",
       "      <td>khaki_spring_t22hpbl4kj_13</td>\n",
       "      <td>d287308d-6f4b-49d5-a2ce-db528026f6f6</td>\n",
       "      <td>FINISHED</td>\n",
       "      <td></td>\n",
       "      <td>2022-12-10 19:33:32.377000+00:00</td>\n",
       "      <td>2022-12-10 19:33:50.539000+00:00</td>\n",
       "      <td>0.767942</td>\n",
       "      <td>0.789326</td>\n",
       "      <td>0.821928</td>\n",
       "      <td>0.614410</td>\n",
       "      <td>...</td>\n",
       "      <td>0.789326</td>\n",
       "      <td>NaN</td>\n",
       "      <td>0.789326</td>\n",
       "      <td>NaN</td>\n",
       "      <td>0.776536</td>\n",
       "      <td>0.847212</td>\n",
       "      <td>khaki_spring_t22hpbl4kj</td>\n",
       "      <td>Megan Masanz</td>\n",
       "      <td>khaki_spring_t22hpbl4kj</td>\n",
       "      <td>{\"C\": 6.447082026221079, \"max_iter\": 200, \"pen...</td>\n",
       "    </tr>\n",
       "    <tr>\n",
       "      <th>473</th>\n",
       "      <td>khaki_spring_t22hpbl4kj_14</td>\n",
       "      <td>d287308d-6f4b-49d5-a2ce-db528026f6f6</td>\n",
       "      <td>FINISHED</td>\n",
       "      <td></td>\n",
       "      <td>2022-12-10 19:33:56.117000+00:00</td>\n",
       "      <td>2022-12-10 19:34:13.894000+00:00</td>\n",
       "      <td>0.768943</td>\n",
       "      <td>0.790730</td>\n",
       "      <td>0.822251</td>\n",
       "      <td>0.611972</td>\n",
       "      <td>...</td>\n",
       "      <td>0.790730</td>\n",
       "      <td>NaN</td>\n",
       "      <td>0.790730</td>\n",
       "      <td>NaN</td>\n",
       "      <td>0.770950</td>\n",
       "      <td>0.863001</td>\n",
       "      <td>khaki_spring_t22hpbl4kj</td>\n",
       "      <td>Megan Masanz</td>\n",
       "      <td>khaki_spring_t22hpbl4kj</td>\n",
       "      <td>{\"C\": 8.265564069414838, \"max_iter\": 200, \"pen...</td>\n",
       "    </tr>\n",
       "    <tr>\n",
       "      <th>474</th>\n",
       "      <td>khaki_spring_t22hpbl4kj_15</td>\n",
       "      <td>d287308d-6f4b-49d5-a2ce-db528026f6f6</td>\n",
       "      <td>FINISHED</td>\n",
       "      <td></td>\n",
       "      <td>2022-12-10 19:33:56.328000+00:00</td>\n",
       "      <td>2022-12-10 19:34:14.098000+00:00</td>\n",
       "      <td>0.765592</td>\n",
       "      <td>0.787921</td>\n",
       "      <td>0.822840</td>\n",
       "      <td>0.609243</td>\n",
       "      <td>...</td>\n",
       "      <td>0.787921</td>\n",
       "      <td>NaN</td>\n",
       "      <td>0.787921</td>\n",
       "      <td>NaN</td>\n",
       "      <td>0.782123</td>\n",
       "      <td>0.840527</td>\n",
       "      <td>khaki_spring_t22hpbl4kj</td>\n",
       "      <td>Megan Masanz</td>\n",
       "      <td>khaki_spring_t22hpbl4kj</td>\n",
       "      <td>{\"C\": 8.16734895417199, \"max_iter\": 10, \"penal...</td>\n",
       "    </tr>\n",
       "    <tr>\n",
       "      <th>475</th>\n",
       "      <td>khaki_spring_t22hpbl4kj_17</td>\n",
       "      <td>d287308d-6f4b-49d5-a2ce-db528026f6f6</td>\n",
       "      <td>FINISHED</td>\n",
       "      <td></td>\n",
       "      <td>2022-12-10 19:33:56.326000+00:00</td>\n",
       "      <td>2022-12-10 19:34:15.246000+00:00</td>\n",
       "      <td>0.758589</td>\n",
       "      <td>0.779494</td>\n",
       "      <td>0.822609</td>\n",
       "      <td>0.618414</td>\n",
       "      <td>...</td>\n",
       "      <td>0.779494</td>\n",
       "      <td>NaN</td>\n",
       "      <td>0.779494</td>\n",
       "      <td>NaN</td>\n",
       "      <td>0.815642</td>\n",
       "      <td>0.751307</td>\n",
       "      <td>khaki_spring_t22hpbl4kj</td>\n",
       "      <td>Megan Masanz</td>\n",
       "      <td>khaki_spring_t22hpbl4kj</td>\n",
       "      <td>{\"C\": 6.651343333067898, \"max_iter\": 200, \"pen...</td>\n",
       "    </tr>\n",
       "    <tr>\n",
       "      <th>476</th>\n",
       "      <td>khaki_spring_t22hpbl4kj_16</td>\n",
       "      <td>d287308d-6f4b-49d5-a2ce-db528026f6f6</td>\n",
       "      <td>FINISHED</td>\n",
       "      <td></td>\n",
       "      <td>2022-12-10 19:33:56.223000+00:00</td>\n",
       "      <td>2022-12-10 19:34:15.080000+00:00</td>\n",
       "      <td>0.762910</td>\n",
       "      <td>0.785112</td>\n",
       "      <td>0.819259</td>\n",
       "      <td>0.617865</td>\n",
       "      <td>...</td>\n",
       "      <td>0.785112</td>\n",
       "      <td>NaN</td>\n",
       "      <td>0.785112</td>\n",
       "      <td>NaN</td>\n",
       "      <td>0.793296</td>\n",
       "      <td>0.852051</td>\n",
       "      <td>khaki_spring_t22hpbl4kj</td>\n",
       "      <td>Megan Masanz</td>\n",
       "      <td>khaki_spring_t22hpbl4kj</td>\n",
       "      <td>{\"C\": 1.1746481514111333, \"max_iter\": 100, \"pe...</td>\n",
       "    </tr>\n",
       "    <tr>\n",
       "      <th>477</th>\n",
       "      <td>khaki_spring_t22hpbl4kj_18</td>\n",
       "      <td>d287308d-6f4b-49d5-a2ce-db528026f6f6</td>\n",
       "      <td>FINISHED</td>\n",
       "      <td></td>\n",
       "      <td>2022-12-10 19:34:19.936000+00:00</td>\n",
       "      <td>2022-12-10 19:34:37.813000+00:00</td>\n",
       "      <td>NaN</td>\n",
       "      <td>NaN</td>\n",
       "      <td>NaN</td>\n",
       "      <td>NaN</td>\n",
       "      <td>...</td>\n",
       "      <td>NaN</td>\n",
       "      <td>NaN</td>\n",
       "      <td>NaN</td>\n",
       "      <td>NaN</td>\n",
       "      <td>NaN</td>\n",
       "      <td>NaN</td>\n",
       "      <td>khaki_spring_t22hpbl4kj</td>\n",
       "      <td>Megan Masanz</td>\n",
       "      <td>khaki_spring_t22hpbl4kj</td>\n",
       "      <td>{\"C\": 7.357461127661534, \"max_iter\": 200, \"pen...</td>\n",
       "    </tr>\n",
       "    <tr>\n",
       "      <th>478</th>\n",
       "      <td>khaki_spring_t22hpbl4kj_19</td>\n",
       "      <td>d287308d-6f4b-49d5-a2ce-db528026f6f6</td>\n",
       "      <td>FINISHED</td>\n",
       "      <td></td>\n",
       "      <td>2022-12-10 19:34:19.387000+00:00</td>\n",
       "      <td>2022-12-10 19:34:37.256000+00:00</td>\n",
       "      <td>NaN</td>\n",
       "      <td>NaN</td>\n",
       "      <td>NaN</td>\n",
       "      <td>NaN</td>\n",
       "      <td>...</td>\n",
       "      <td>NaN</td>\n",
       "      <td>NaN</td>\n",
       "      <td>NaN</td>\n",
       "      <td>NaN</td>\n",
       "      <td>NaN</td>\n",
       "      <td>NaN</td>\n",
       "      <td>khaki_spring_t22hpbl4kj</td>\n",
       "      <td>Megan Masanz</td>\n",
       "      <td>khaki_spring_t22hpbl4kj</td>\n",
       "      <td>{\"penalty_term\": \"l1\", \"C\": 10.0, \"max_iter\": 10}</td>\n",
       "    </tr>\n",
       "  </tbody>\n",
       "</table>\n",
       "<p>20 rows × 21 columns</p>\n",
       "</div>"
      ],
      "text/plain": [
       "                         run_id                         experiment_id  \\\n",
       "459   khaki_spring_t22hpbl4kj_0  d287308d-6f4b-49d5-a2ce-db528026f6f6   \n",
       "460   khaki_spring_t22hpbl4kj_2  d287308d-6f4b-49d5-a2ce-db528026f6f6   \n",
       "461   khaki_spring_t22hpbl4kj_1  d287308d-6f4b-49d5-a2ce-db528026f6f6   \n",
       "462   khaki_spring_t22hpbl4kj_3  d287308d-6f4b-49d5-a2ce-db528026f6f6   \n",
       "463   khaki_spring_t22hpbl4kj_5  d287308d-6f4b-49d5-a2ce-db528026f6f6   \n",
       "464   khaki_spring_t22hpbl4kj_4  d287308d-6f4b-49d5-a2ce-db528026f6f6   \n",
       "465   khaki_spring_t22hpbl4kj_6  d287308d-6f4b-49d5-a2ce-db528026f6f6   \n",
       "466   khaki_spring_t22hpbl4kj_7  d287308d-6f4b-49d5-a2ce-db528026f6f6   \n",
       "467   khaki_spring_t22hpbl4kj_8  d287308d-6f4b-49d5-a2ce-db528026f6f6   \n",
       "468   khaki_spring_t22hpbl4kj_9  d287308d-6f4b-49d5-a2ce-db528026f6f6   \n",
       "469  khaki_spring_t22hpbl4kj_10  d287308d-6f4b-49d5-a2ce-db528026f6f6   \n",
       "470  khaki_spring_t22hpbl4kj_11  d287308d-6f4b-49d5-a2ce-db528026f6f6   \n",
       "471  khaki_spring_t22hpbl4kj_12  d287308d-6f4b-49d5-a2ce-db528026f6f6   \n",
       "472  khaki_spring_t22hpbl4kj_13  d287308d-6f4b-49d5-a2ce-db528026f6f6   \n",
       "473  khaki_spring_t22hpbl4kj_14  d287308d-6f4b-49d5-a2ce-db528026f6f6   \n",
       "474  khaki_spring_t22hpbl4kj_15  d287308d-6f4b-49d5-a2ce-db528026f6f6   \n",
       "475  khaki_spring_t22hpbl4kj_17  d287308d-6f4b-49d5-a2ce-db528026f6f6   \n",
       "476  khaki_spring_t22hpbl4kj_16  d287308d-6f4b-49d5-a2ce-db528026f6f6   \n",
       "477  khaki_spring_t22hpbl4kj_18  d287308d-6f4b-49d5-a2ce-db528026f6f6   \n",
       "478  khaki_spring_t22hpbl4kj_19  d287308d-6f4b-49d5-a2ce-db528026f6f6   \n",
       "\n",
       "       status artifact_uri                       start_time  \\\n",
       "459  FINISHED              2022-12-10 19:32:06.963000+00:00   \n",
       "460  FINISHED              2022-12-10 19:32:31.586000+00:00   \n",
       "461  FINISHED              2022-12-10 19:32:07.087000+00:00   \n",
       "462  FINISHED              2022-12-10 19:32:07.183000+00:00   \n",
       "463  FINISHED              2022-12-10 19:32:31.141000+00:00   \n",
       "464  FINISHED              2022-12-10 19:32:52.787000+00:00   \n",
       "465  FINISHED              2022-12-10 19:32:07.068000+00:00   \n",
       "466  FINISHED              2022-12-10 19:32:31.744000+00:00   \n",
       "467  FINISHED              2022-12-10 19:32:31.302000+00:00   \n",
       "468  FINISHED              2022-12-10 19:32:52.631000+00:00   \n",
       "469  FINISHED              2022-12-10 19:33:32.241000+00:00   \n",
       "470  FINISHED              2022-12-10 19:33:32.230000+00:00   \n",
       "471  FINISHED              2022-12-10 19:33:32.088000+00:00   \n",
       "472  FINISHED              2022-12-10 19:33:32.377000+00:00   \n",
       "473  FINISHED              2022-12-10 19:33:56.117000+00:00   \n",
       "474  FINISHED              2022-12-10 19:33:56.328000+00:00   \n",
       "475  FINISHED              2022-12-10 19:33:56.326000+00:00   \n",
       "476  FINISHED              2022-12-10 19:33:56.223000+00:00   \n",
       "477  FINISHED              2022-12-10 19:34:19.936000+00:00   \n",
       "478  FINISHED              2022-12-10 19:34:19.387000+00:00   \n",
       "\n",
       "                            end_time  metrics.training_f1_score  \\\n",
       "459 2022-12-10 19:32:25.654000+00:00                   0.773580   \n",
       "460 2022-12-10 19:32:49.331000+00:00                   0.772661   \n",
       "461 2022-12-10 19:32:25.598000+00:00                   0.766412   \n",
       "462 2022-12-10 19:32:25.764000+00:00                   0.767501   \n",
       "463 2022-12-10 19:32:49.367000+00:00                   0.772805   \n",
       "464 2022-12-10 19:33:10.379000+00:00                   0.768679   \n",
       "465 2022-12-10 19:32:25.410000+00:00                   0.777846   \n",
       "466 2022-12-10 19:32:49.622000+00:00                   0.757861   \n",
       "467 2022-12-10 19:32:50.058000+00:00                   0.759364   \n",
       "468 2022-12-10 19:33:10.872000+00:00                   0.755533   \n",
       "469 2022-12-10 19:33:50.717000+00:00                   0.765426   \n",
       "470 2022-12-10 19:33:50.744000+00:00                   0.760427   \n",
       "471 2022-12-10 19:33:50.440000+00:00                   0.762739   \n",
       "472 2022-12-10 19:33:50.539000+00:00                   0.767942   \n",
       "473 2022-12-10 19:34:13.894000+00:00                   0.768943   \n",
       "474 2022-12-10 19:34:14.098000+00:00                   0.765592   \n",
       "475 2022-12-10 19:34:15.246000+00:00                   0.758589   \n",
       "476 2022-12-10 19:34:15.080000+00:00                   0.762910   \n",
       "477 2022-12-10 19:34:37.813000+00:00                        NaN   \n",
       "478 2022-12-10 19:34:37.256000+00:00                        NaN   \n",
       "\n",
       "     metrics.training_recall_score  metrics.training_precision_score  \\\n",
       "459                       0.793539                          0.832012   \n",
       "460                       0.792135                          0.829413   \n",
       "461                       0.786517                          0.824011   \n",
       "462                       0.789326                          0.826291   \n",
       "463                       0.793539                          0.831446   \n",
       "464                       0.790730                          0.836723   \n",
       "465                       0.797753                          0.829473   \n",
       "466                       0.779494                          0.819592   \n",
       "467                       0.782303                          0.824770   \n",
       "468                       0.778090                          0.820700   \n",
       "469                       0.786517                          0.823199   \n",
       "470                       0.782303                          0.820643   \n",
       "471                       0.783708                          0.824409   \n",
       "472                       0.789326                          0.821928   \n",
       "473                       0.790730                          0.822251   \n",
       "474                       0.787921                          0.822840   \n",
       "475                       0.779494                          0.822609   \n",
       "476                       0.785112                          0.819259   \n",
       "477                            NaN                               NaN   \n",
       "478                            NaN                               NaN   \n",
       "\n",
       "     metrics.training_log_loss  ...  metrics.training_accuracy_score  \\\n",
       "459                   0.605254  ...                         0.793539   \n",
       "460                   0.608321  ...                         0.792135   \n",
       "461                   0.615964  ...                         0.786517   \n",
       "462                   0.611000  ...                         0.789326   \n",
       "463                   0.604512  ...                         0.793539   \n",
       "464                   0.619598  ...                         0.790730   \n",
       "465                   0.603654  ...                         0.797753   \n",
       "466                   0.631613  ...                         0.779494   \n",
       "467                   0.616335  ...                         0.782303   \n",
       "468                   0.622971  ...                         0.778090   \n",
       "469                   0.619419  ...                         0.786517   \n",
       "470                   0.622134  ...                         0.782303   \n",
       "471                   0.625073  ...                         0.783708   \n",
       "472                   0.614410  ...                         0.789326   \n",
       "473                   0.611972  ...                         0.790730   \n",
       "474                   0.609243  ...                         0.787921   \n",
       "475                   0.618414  ...                         0.779494   \n",
       "476                   0.617865  ...                         0.785112   \n",
       "477                        NaN  ...                              NaN   \n",
       "478                        NaN  ...                              NaN   \n",
       "\n",
       "     metrics.test_auc  metrics.training_score  metrics.test_acc  \\\n",
       "459               NaN                0.793539               NaN   \n",
       "460               NaN                0.792135               NaN   \n",
       "461               NaN                0.786517               NaN   \n",
       "462               NaN                0.789326               NaN   \n",
       "463               NaN                0.793539               NaN   \n",
       "464               NaN                0.790730               NaN   \n",
       "465               NaN                0.797753               NaN   \n",
       "466               NaN                0.779494               NaN   \n",
       "467               NaN                0.782303               NaN   \n",
       "468               NaN                0.778090               NaN   \n",
       "469               NaN                0.786517               NaN   \n",
       "470               NaN                0.782303               NaN   \n",
       "471               NaN                0.783708               NaN   \n",
       "472               NaN                0.789326               NaN   \n",
       "473               NaN                0.790730               NaN   \n",
       "474               NaN                0.787921               NaN   \n",
       "475               NaN                0.779494               NaN   \n",
       "476               NaN                0.785112               NaN   \n",
       "477               NaN                     NaN               NaN   \n",
       "478               NaN                     NaN               NaN   \n",
       "\n",
       "     metrics.test_ACC  metrics.test_AUC    tags.mlflow.rootRunId  \\\n",
       "459          0.759777          0.771131  khaki_spring_t22hpbl4kj   \n",
       "460          0.765363          0.775074  khaki_spring_t22hpbl4kj   \n",
       "461          0.787709          0.791033  khaki_spring_t22hpbl4kj   \n",
       "462          0.776536          0.835393  khaki_spring_t22hpbl4kj   \n",
       "463          0.759777          0.782710  khaki_spring_t22hpbl4kj   \n",
       "464          0.770950          0.814632  khaki_spring_t22hpbl4kj   \n",
       "465          0.743017          0.822658  khaki_spring_t22hpbl4kj   \n",
       "466          0.815642          0.889647  khaki_spring_t22hpbl4kj   \n",
       "467          0.804469          0.799041  khaki_spring_t22hpbl4kj   \n",
       "468          0.821229          0.828577  khaki_spring_t22hpbl4kj   \n",
       "469          0.787709          0.843742  khaki_spring_t22hpbl4kj   \n",
       "470          0.804469          0.858076  khaki_spring_t22hpbl4kj   \n",
       "471          0.798883          0.854770  khaki_spring_t22hpbl4kj   \n",
       "472          0.776536          0.847212  khaki_spring_t22hpbl4kj   \n",
       "473          0.770950          0.863001  khaki_spring_t22hpbl4kj   \n",
       "474          0.782123          0.840527  khaki_spring_t22hpbl4kj   \n",
       "475          0.815642          0.751307  khaki_spring_t22hpbl4kj   \n",
       "476          0.793296          0.852051  khaki_spring_t22hpbl4kj   \n",
       "477               NaN               NaN  khaki_spring_t22hpbl4kj   \n",
       "478               NaN               NaN  khaki_spring_t22hpbl4kj   \n",
       "\n",
       "    tags.mlflow.user  tags.mlflow.parentRunId  \\\n",
       "459     Megan Masanz  khaki_spring_t22hpbl4kj   \n",
       "460     Megan Masanz  khaki_spring_t22hpbl4kj   \n",
       "461     Megan Masanz  khaki_spring_t22hpbl4kj   \n",
       "462     Megan Masanz  khaki_spring_t22hpbl4kj   \n",
       "463     Megan Masanz  khaki_spring_t22hpbl4kj   \n",
       "464     Megan Masanz  khaki_spring_t22hpbl4kj   \n",
       "465     Megan Masanz  khaki_spring_t22hpbl4kj   \n",
       "466     Megan Masanz  khaki_spring_t22hpbl4kj   \n",
       "467     Megan Masanz  khaki_spring_t22hpbl4kj   \n",
       "468     Megan Masanz  khaki_spring_t22hpbl4kj   \n",
       "469     Megan Masanz  khaki_spring_t22hpbl4kj   \n",
       "470     Megan Masanz  khaki_spring_t22hpbl4kj   \n",
       "471     Megan Masanz  khaki_spring_t22hpbl4kj   \n",
       "472     Megan Masanz  khaki_spring_t22hpbl4kj   \n",
       "473     Megan Masanz  khaki_spring_t22hpbl4kj   \n",
       "474     Megan Masanz  khaki_spring_t22hpbl4kj   \n",
       "475     Megan Masanz  khaki_spring_t22hpbl4kj   \n",
       "476     Megan Masanz  khaki_spring_t22hpbl4kj   \n",
       "477     Megan Masanz  khaki_spring_t22hpbl4kj   \n",
       "478     Megan Masanz  khaki_spring_t22hpbl4kj   \n",
       "\n",
       "                                  tags.hyperparameters  \n",
       "459  {\"penalty_term\": \"l1\", \"C\": 7.822605439883435,...  \n",
       "460  {\"penalty_term\": \"l1\", \"C\": 0.1719622881842467...  \n",
       "461  {\"penalty_term\": \"l2\", \"C\": 4.414474872939844,...  \n",
       "462  {\"penalty_term\": \"l1\", \"C\": 5.691406519782598,...  \n",
       "463  {\"penalty_term\": \"l2\", \"C\": 6.648604811586248,...  \n",
       "464  {\"penalty_term\": \"l1\", \"C\": 7.783937780880819,...  \n",
       "465  {\"penalty_term\": \"l1\", \"C\": 6.439691858958144,...  \n",
       "466  {\"penalty_term\": \"l1\", \"C\": 8.511263753822059,...  \n",
       "467  {\"penalty_term\": \"l1\", \"C\": 7.068681278591714,...  \n",
       "468  {\"penalty_term\": \"l2\", \"C\": 1.4701787759759835...  \n",
       "469  {\"penalty_term\": \"l2\", \"C\": 0.2786953156499565...  \n",
       "470  {\"penalty_term\": \"l1\", \"C\": 8.51097961367152, ...  \n",
       "471  {\"C\": 3.1588254104023066, \"max_iter\": 100, \"pe...  \n",
       "472  {\"C\": 6.447082026221079, \"max_iter\": 200, \"pen...  \n",
       "473  {\"C\": 8.265564069414838, \"max_iter\": 200, \"pen...  \n",
       "474  {\"C\": 8.16734895417199, \"max_iter\": 10, \"penal...  \n",
       "475  {\"C\": 6.651343333067898, \"max_iter\": 200, \"pen...  \n",
       "476  {\"C\": 1.1746481514111333, \"max_iter\": 100, \"pe...  \n",
       "477  {\"C\": 7.357461127661534, \"max_iter\": 200, \"pen...  \n",
       "478  {\"penalty_term\": \"l1\", \"C\": 10.0, \"max_iter\": 10}  \n",
       "\n",
       "[20 rows x 21 columns]"
      ]
     },
     "execution_count": 85,
     "metadata": {},
     "output_type": "execute_result"
    }
   ],
   "source": [
    "def get_job_run_results(experiment_id, run_id):\n",
    "    df = mlflow.search_runs([experiment_id])\n",
    "    rslt_df = df[(df['tags.mlflow.parentRunId'] == run_id )]\n",
    "    rslt_df_finished = rslt_df[rslt_df['status'] == 'FINISHED']\n",
    "\n",
    "    while rslt_df.shape[0] == 0:\n",
    "        print('waiting for jobs to register')\n",
    "        df = mlflow.search_runs([experiment_id])\n",
    "        rslt_df = df[(df['tags.mlflow.parentRunId'] == run_id )]\n",
    "        rslt_df_finished = rslt_df[rslt_df['status'] == 'FINISHED']\n",
    "        time.sleep(5)\n",
    "\n",
    "    while rslt_df_finished.shape[0] != rslt_df.shape[0]:\n",
    "        df = mlflow.search_runs([experiment_id])\n",
    "        rslt_df = df[(df['tags.mlflow.parentRunId'] == run_id )]\n",
    "        rslt_df_finished = rslt_df[rslt_df['status'] == 'FINISHED']\n",
    "        status = rslt_df[\"status\"].unique()\n",
    "        print(status)\n",
    "        for x in status:\n",
    "            rslt_df_status = rslt_df[rslt_df['status'] == x]\n",
    "            print(returned_sweep_job.display_name + ', Number:' + str(x) + \" \" +  str(rslt_df_status.shape[0]))\n",
    "        time.sleep(5)\n",
    "\n",
    "    rslt_df_status = rslt_df[rslt_df['status'] == 'FINISHED']\n",
    "    return rslt_df_status\n",
    "\n",
    "df = get_job_run_results(experiment_id, run_id) \n",
    "df"
   ]
  },
  {
   "cell_type": "code",
   "execution_count": 86,
   "metadata": {},
   "outputs": [],
   "source": [
    "df = df.sort_values(by='metrics.test_AUC', ascending=False)"
   ]
  },
  {
   "cell_type": "code",
   "execution_count": 87,
   "metadata": {},
   "outputs": [],
   "source": [
    "best_run_id = df.iat[0, 0]"
   ]
  },
  {
   "cell_type": "code",
   "execution_count": 88,
   "metadata": {},
   "outputs": [],
   "source": [
    "pipeline_model = mlflow.sklearn.load_model(f\"runs:/{best_run_id}/model\")"
   ]
  },
  {
   "cell_type": "code",
   "execution_count": 89,
   "metadata": {},
   "outputs": [
    {
     "name": "stdout",
     "output_type": "stream",
     "text": [
      "/mnt/batch/tasks/shared/LS_root/mounts/clusters/memasanz2/code/Users/memasanz/ML-Engineering-with-Azure-Machine-Learning-Service/chapter 4/titanic_prepped_mltable\n"
     ]
    }
   ],
   "source": [
    "script_folder = os.path.join(os.getcwd(), \"titanic_prepped_mltable\")\n",
    "print(script_folder)\n",
    "tbl = mltable.load(uri=script_folder)\n",
    "df  = tbl.to_pandas_dataframe()\n",
    "columns_to_keep =  ['Embarked', 'Loc', 'Sex','Pclass', 'Age', 'Fare', 'GroupSize']\n",
    "X_raw           = df[columns_to_keep]\n"
   ]
  },
  {
   "cell_type": "code",
   "execution_count": 90,
   "metadata": {},
   "outputs": [
    {
     "name": "stdout",
     "output_type": "stream",
     "text": [
      "[0 1 0 1 0 0 0 0 0 1 0 1 0 0 0 1 0 0 0 0 0 0 0 0 0 0 0 0 0 0 0 1 0 0 0 0 0\n",
      " 0 0 0 0 1 0 1 0 0 0 0 0 0 0 0 1 1 0 0 1 0 1 0 0 1 0 0 0 0 1 0 0 0 0 0 0 0\n",
      " 0 0 0 0 0 0 0 0 0 0 1 0 0 0 1 0 0 0 0 0 0 0 0 0 1 0 0 0 0 0 0 0 0 0 0 0 0\n",
      " 0 0 0 0 0 0 0 0 0 0 0 0 1 0 0 0 0 0 0 0 0 0 1 0 0 1 0 0 0 0 0 0 0 0 0 0 0\n",
      " 0 0 0 1 0 0 0 0 0 0 0 0 0 1 0 0 0 0 1 0 0 0 0 0 0 0 0 0 0 1 0 0 0 0 0 0 0\n",
      " 0 0 0 0 0 1 0 0 0 1 1 0 0 0 1 0 0 0 0 0 0 0 0 0 0 0 1 0 0 0 1 0 0 1 0 0 0\n",
      " 0 0 0 0 0 0 0 0 1 0 0 0 0 0 0 1 0 0 0 0 0 0 0 0 0 1 0 0 0 0 0 0 0 0 1 1 1\n",
      " 1 0 0 0 0 0 0 0 0 1 1 0 0 1 0 0 1 0 0 0 0 0 0 0 0 0 0 0 0 0 0 1 1 0 0 0 0\n",
      " 0 1 0 1 0 0 0 1 0 0 1 1 0 1 1 1 1 0 0 0 1 0 1 1 0 0 1 1 0 1 0 1 0 1 0 0 0\n",
      " 0 1 0 0 1 0 0 0 1 0 0 0 1 1 0 0 0 0 0 0 0 0 0 1 1 0 0 0 0 0 0 0 0 1 0 0 1\n",
      " 0 0 0 0 0 1 0 0 0 0 1 0 0 1 0 0 0 1 0 1 0 0 0 1 0 0 0 0 0 1 0 0 0 0 0 0 0\n",
      " 0 0 0 0 0 1 0 0 0 1 1 0 0 0 0 0 0 0 0 1 1 0 0 0 0 1 0 0 1 0 1 0 0 1 0 0 1\n",
      " 0 0 1 0 0 0 0 0 0 0 0 0 0 1 1 0 0 0 0 0 0 0 0 0 0 0 0 0 1 1 0 0 0 0 0 0 0\n",
      " 0 0 0 0 0 1 0 0 0 0 0 0 0 0 0 1 0 1 0 0 0 0 0 1 0 1 0 0 0 0 0 0 1 0 0 1 0\n",
      " 1 0 1 0 0 1 0 0 1 0 0 0 1 0 0 0 0 1 0 1 0 1 1 0 0 0 0 0 1 0 0 0 0 0 0 0 0\n",
      " 0 1 0 1 0 0 0 0 0 0 0 0 0 0 0 0 1 0 0 0 0 1 1 0 0 1 1 0 0 0 1 0 0 0 0 0 1\n",
      " 0 0 0 0 1 0 0 0 1 0 0 0 0 0 0 0 1 1 0 0 0 0 0 1 0 0 1 0 0 0 0 0 0 0 0 1 0\n",
      " 0 0 0 0 0 0 1 0 0 0 0 0 1 0 0 0 0 0 0 0 0 0 1 0 0 0 0 0 0 0 0 0 0 0 0 0 0\n",
      " 0 0 0 1 1 0 0 0 0 0 0 0 0 0 0 0 0 0 0 0 0 0 0 1 0 0 0 0 0 0 0 0 0 0 1 0 0\n",
      " 0 0 0 1 0 1 0 1 0 0 0 0 0 1 1 0 0 1 0 0 0 0 0 1 0 0 0 1 0 0 0 0 0 0 0 0 0\n",
      " 0 0 1 0 0 0 0 1 0 0 1 0 0 0 1 0 0 0 0 1 0 0 0 1 0 1 0 0 0 0 0 0 1 0 1 0 0\n",
      " 0 0 1 0 1 0 0 0 0 0 0 0 0 0 0 0 0 0 0 1 0 0 0 0 1 0 0 0 0 0 0 0 1 0 0 0 0\n",
      " 0 0 0 0 0 0 1 0 0 0 0 0 0 0 0 1 0 0 0 0 0 1 0 0 0 0 0 0 1 0 0 0 0 0 0 1 0\n",
      " 0 0 1 1 0 1 0 0 0 0 0 1 0 0 1 1 0 0 0 0 1 0 0 1 0 0 0 0 1 1 0 0 0 0 0 0 1\n",
      " 0 0 0]\n"
     ]
    }
   ],
   "source": [
    "results = pipeline_model.predict(X_raw)\n",
    "print(results)"
   ]
  },
  {
   "cell_type": "code",
   "execution_count": null,
   "metadata": {},
   "outputs": [],
   "source": []
  }
 ],
 "metadata": {
  "kernel_info": {
   "name": "python310-sdkv2"
  },
  "kernelspec": {
   "display_name": "job_env",
   "language": "python",
   "name": "job_env"
  },
  "language_info": {
   "codemirror_mode": {
    "name": "ipython",
    "version": 3
   },
   "file_extension": ".py",
   "mimetype": "text/x-python",
   "name": "python",
   "nbconvert_exporter": "python",
   "pygments_lexer": "ipython3",
   "version": "3.10.8"
  },
  "nteract": {
   "version": "nteract-front-end@1.0.0"
  }
 },
 "nbformat": 4,
 "nbformat_minor": 1
}
