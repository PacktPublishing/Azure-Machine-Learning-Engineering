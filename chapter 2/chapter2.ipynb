{
 "cells": [
  {
   "cell_type": "markdown",
   "id": "b6c312cd",
   "metadata": {},
   "source": [
    "## Please note that our repo is cloned from this public repo https://github.com/Azure/azureml-examples/"
   ]
  },
  {
   "cell_type": "markdown",
   "id": "cc1bda3f",
   "metadata": {},
   "source": [
    "## This notebook was test using Python 3.10 - SDK V2"
   ]
  },
  {
   "cell_type": "code",
   "execution_count": null,
   "id": "40300345",
   "metadata": {},
   "outputs": [],
   "source": [
    "!pip show azure-ai-ml\n",
    "!pip install mltable"
   ]
  },
  {
   "cell_type": "code",
   "execution_count": 1,
   "id": "dcfe1a29",
   "metadata": {},
   "outputs": [],
   "source": [
    "# import required libraries\n",
    "from azure.ai.ml import MLClient\n",
    "from azure.identity import DefaultAzureCredential\n",
    "from azure.ai.ml import command, Input\n",
    "from azure.ai.ml.entities import (\n",
    "    AzureBlobDatastore,\n",
    "    AzureFileDatastore,\n",
    "    AzureDataLakeGen1Datastore,\n",
    "    AzureDataLakeGen2Datastore,\n",
    ")\n",
    "from azure.ai.ml.entities import Environment"
   ]
  },
  {
   "cell_type": "code",
   "execution_count": 2,
   "id": "9d7267b7",
   "metadata": {},
   "outputs": [],
   "source": [
    "# Enter details of your AML workspace\n",
    "subscription_id = \"xxxxxxxxx\"\n",
    "resource_group = \"aml-v2-book\"\n",
    "workspace = \"aml2-ws\""
   ]
  },
  {
   "cell_type": "code",
   "execution_count": 3,
   "id": "3c4f2bb1",
   "metadata": {},
   "outputs": [],
   "source": [
    "# get a handle to the workspace\n",
    "ml_client = MLClient(\n",
    "    DefaultAzureCredential(), subscription_id, resource_group, workspace\n",
    ")"
   ]
  },
  {
   "cell_type": "markdown",
   "id": "713a798b",
   "metadata": {},
   "source": [
    "## Create Blob storage datastore"
   ]
  },
  {
   "cell_type": "code",
   "execution_count": 4,
   "id": "4a90e620",
   "metadata": {
    "scrolled": true
   },
   "outputs": [
    {
     "data": {
      "text/plain": [
       "AzureBlobDatastore({'type': <DatastoreType.AZURE_BLOB: 'AzureBlob'>, 'name': 'blobe_storage3', 'description': 'AML Datastore pointing to a blob storgae.', 'tags': {}, 'properties': {}, 'id': '/subscriptions/dcfc206a-203b-4c00-a236-bdf576a37896/resourceGroups/aml-v2-book/providers/Microsoft.MachineLearningServices/workspaces/aml2-ws/datastores/blobe_storage3', 'Resource__source_path': None, 'base_path': '/mnt/batch/tasks/shared/LS_root/mounts/clusters/sifakhra3/code/chapter 2', 'creation_context': None, 'serialize': <msrest.serialization.Serializer object at 0x7f089aaf8460>, 'credentials': {'type': 'account_key'}, 'container_name': 'datacontainer', 'account_name': 'amlv2sa', 'endpoint': 'core.windows.net', 'protocol': 'https'})"
      ]
     },
     "execution_count": 4,
     "metadata": {},
     "output_type": "execute_result"
    }
   ],
   "source": [
    "from azure.ai.ml.entities import AzureBlobDatastore\n",
    "from azure.ai.ml.entities import AccountKeyConfiguration\n",
    "from azure.ai.ml import MLClient\n",
    "\n",
    "# Create a datastore with account key\n",
    "\n",
    "blob_datastore1 = AzureBlobDatastore(\n",
    "    name=\"blobe_storage3\",\n",
    "    description=\"AML Datastore pointing to a blob storgae.\",\n",
    "    account_name=\"amlv2sa\",\n",
    "    container_name=\"datacontainer\",\n",
    "    credentials=AccountKeyConfiguration(\n",
    "        account_key=\"xxxxxxxxx\"\n",
    "    ),\n",
    "    \n",
    ")\n",
    "ml_client.create_or_update(blob_datastore1)"
   ]
  },
  {
   "cell_type": "markdown",
   "id": "21f3d0bf",
   "metadata": {},
   "source": [
    "## Create a data asset"
   ]
  },
  {
   "cell_type": "code",
   "execution_count": 5,
   "id": "b37a3277",
   "metadata": {},
   "outputs": [
    {
     "data": {
      "text/plain": [
       "Data({'skip_validation': False, 'mltable_schema_url': None, 'referenced_uris': ['./titanic.csv'], 'type': 'mltable', 'is_anonymous': False, 'auto_increment_version': False, 'name': 'titanic-mltable-sdk', 'description': 'description', 'tags': {}, 'properties': {}, 'id': '/subscriptions/dcfc206a-203b-4c00-a236-bdf576a37896/resourceGroups/aml-v2-book/providers/Microsoft.MachineLearningServices/workspaces/aml2-ws/data/titanic-mltable-sdk/versions/13', 'Resource__source_path': None, 'base_path': '/mnt/batch/tasks/shared/LS_root/mounts/clusters/sifakhra3/code/chapter 2', 'creation_context': <azure.ai.ml.entities._system_data.SystemData object at 0x7f0898997370>, 'serialize': <msrest.serialization.Serializer object at 0x7f0898997490>, 'version': '13', 'latest_version': None, 'path': 'azureml://subscriptions/dcfc206a-203b-4c00-a236-bdf576a37896/resourcegroups/aml-v2-book/workspaces/aml2-ws/datastores/workspaceblobstore/paths/LocalUpload/4adfa06038e0a6069f8a0b7b940cddb8/my_data/', 'datastore': None})"
      ]
     },
     "execution_count": 5,
     "metadata": {},
     "output_type": "execute_result"
    }
   ],
   "source": [
    "from azure.ai.ml.entities import Data\n",
    "from azure.ai.ml.constants import AssetTypes\n",
    "\n",
    "# my_path must point to folder containing MLTable artifact (MLTable file + data\n",
    "# Supported paths include:\n",
    "# local: './<path>'\n",
    "# blob:  'https://<account_name>.blob.core.windows.net/<container_name>/<path>'\n",
    "# ADLS gen2: 'abfss://<file_system>@<account_name>.dfs.core.windows.net/<path>/'\n",
    "# Datastore: 'azureml://datastores/<data_store_name>/paths/<path>'\n",
    "\n",
    "my_path = './my_data/'\n",
    "\n",
    "my_data = Data(\n",
    "    path=my_path,\n",
    "    type=AssetTypes.MLTABLE,\n",
    "    description=\"description\",\n",
    "    name=\"titanic-mltable-sdk\",\n",
    "    version='13'\n",
    ")\n",
    "\n",
    "ml_client.data.create_or_update(my_data)"
   ]
  },
  {
   "cell_type": "markdown",
   "id": "573542bd",
   "metadata": {},
   "source": [
    "## Materializing MLTable artifact into pandas dataframe "
   ]
  },
  {
   "cell_type": "code",
   "execution_count": null,
   "id": "b9adabb7",
   "metadata": {},
   "outputs": [],
   "source": [
    "import mltable\n",
    "tbl = mltable.load(uri=\"./my_data\")\n",
    "df = tbl.to_pandas_dataframe()\n",
    "df"
   ]
  },
  {
   "cell_type": "markdown",
   "id": "5dfb8df7",
   "metadata": {},
   "source": [
    "## Docker environment created for consuming MLTable."
   ]
  },
  {
   "cell_type": "code",
   "execution_count": 6,
   "id": "c79a9f12",
   "metadata": {},
   "outputs": [
    {
     "data": {
      "text/plain": [
       "Environment({'is_anonymous': False, 'auto_increment_version': False, 'name': 'mltable', 'description': 'Environment created for consuming MLTable.', 'tags': {}, 'properties': {}, 'id': '/subscriptions/dcfc206a-203b-4c00-a236-bdf576a37896/resourceGroups/aml-v2-book/providers/Microsoft.MachineLearningServices/workspaces/aml2-ws/environments/mltable/versions/11', 'Resource__source_path': None, 'base_path': '/mnt/batch/tasks/shared/LS_root/mounts/clusters/sifakhra3/code/chapter 2', 'creation_context': <azure.ai.ml.entities._system_data.SystemData object at 0x7f0898996bc0>, 'serialize': <msrest.serialization.Serializer object at 0x7f0898997bb0>, 'version': '11', 'latest_version': None, 'conda_file': {'channels': ['conda-forge'], 'dependencies': ['python=3.8', 'pip=21.2.4', {'pip': ['mltable', 'pandas==1.3.0']}], 'name': 'mltable-env'}, 'image': 'mcr.microsoft.com/azureml/openmpi3.1.2-ubuntu18.04', 'build': None, 'inference_config': None, 'os_type': 'Linux', 'arm_type': 'environment_version', 'conda_file_path': None, 'path': None, 'datastore': None, 'upload_hash': None, 'translated_conda_file': '{\\n  \"channels\": [\\n    \"conda-forge\"\\n  ],\\n  \"dependencies\": [\\n    \"python=3.8\",\\n    \"pip=21.2.4\",\\n    {\\n      \"pip\": [\\n        \"mltable\",\\n        \"pandas==1.3.0\"\\n      ]\\n    }\\n  ],\\n  \"name\": \"mltable-env\"\\n}'})"
      ]
     },
     "execution_count": 6,
     "metadata": {},
     "output_type": "execute_result"
    }
   ],
   "source": [
    "from azure.ai.ml.entities import Environment\n",
    "\n",
    "env_docker_conda = Environment(\n",
    "    image=\"mcr.microsoft.com/azureml/openmpi3.1.2-ubuntu18.04\",\n",
    "    conda_file=\"env-mltable.yml\",\n",
    "    name=\"mltable\",\n",
    "    description=\"Environment created for consuming MLTable.\",\n",
    ")\n",
    "\n",
    "ml_client.environments.create_or_update(env_docker_conda)"
   ]
  },
  {
   "cell_type": "markdown",
   "id": "b4d04c95",
   "metadata": {},
   "source": [
    "## Creating a compute cluster where the AML job is submitted to"
   ]
  },
  {
   "cell_type": "code",
   "execution_count": 7,
   "id": "4f2a9986",
   "metadata": {},
   "outputs": [
    {
     "data": {
      "text/plain": [
       "<azure.core.polling._poller.LROPoller at 0x7f089aaf9060>"
      ]
     },
     "execution_count": 7,
     "metadata": {},
     "output_type": "execute_result"
    }
   ],
   "source": [
    "from azure.ai.ml.entities import ComputeInstance, AmlCompute\n",
    "\n",
    "compute_cluster = AmlCompute(\n",
    "    name=\"cpu-cluster\",\n",
    "    type=\"amlcompute\",\n",
    "    size=\"STANDARD_DS3_v2\",\n",
    "    location=\"eatus\",\n",
    "    min_instances=0,\n",
    "    max_instances=2,\n",
    "    idle_time_before_scale_down=120,\n",
    ")\n",
    "ml_client.begin_create_or_update(compute_cluster)"
   ]
  },
  {
   "cell_type": "markdown",
   "id": "73fb4903",
   "metadata": {},
   "source": [
    "## Creating and submitting AML job"
   ]
  },
  {
   "cell_type": "markdown",
   "id": "8330878a",
   "metadata": {},
   "source": [
    "### for more information see https://learn.microsoft.com/en-us/azure/machine-learning/how-to-create-data-assets?tabs=Python-SDK#create-a-mltable-data-asset"
   ]
  },
  {
   "cell_type": "code",
   "execution_count": 10,
   "id": "ecd565ec",
   "metadata": {},
   "outputs": [
    {
     "name": "stderr",
     "output_type": "stream",
     "text": [
      "Warning: the provided asset name 'mltable' will not be used for anonymous registration\n",
      "Warning: the provided asset name 'mltable' will not be used for anonymous registration\n",
      "\u001b[32mUploading chapter 2 (0.09 MBs): 100%|██████████| 86455/86455 [00:00<00:00, 225024.44it/s]\n",
      "\u001b[39m\n",
      "\n"
     ]
    },
    {
     "data": {
      "text/plain": [
       "'https://ml.azure.com/runs/boring_neck_jmc85444kw?wsid=/subscriptions/dcfc206a-203b-4c00-a236-bdf576a37896/resourcegroups/aml-v2-book/workspaces/aml2-ws&tid=72f988bf-86f1-41af-91ab-2d7cd011db47'"
      ]
     },
     "execution_count": 10,
     "metadata": {},
     "output_type": "execute_result"
    }
   ],
   "source": [
    "from azure.ai.ml import command\n",
    "from azure.ai.ml.entities import Data\n",
    "from azure.ai.ml import Input\n",
    "from azure.ai.ml.constants import AssetTypes\n",
    "\n",
    "\n",
    "# Possible Paths for Data:\n",
    "# Blob: https://<account_name>.blob.core.windows.net/<container_name>/<folder>/<file>\n",
    "# Datastore: azureml://datastores/paths/<folder>/<file>\n",
    "# Data Asset: azureml:<my_data>:<version>\n",
    "\n",
    "\n",
    "# for example you can use either one of the following paths:\n",
    "# inputs = {\"input_data\": Input(type=AssetTypes.MLTABLE, path=\"./my_data/\")}\n",
    "# or\n",
    "inputs = {\"input_data\": Input(type=AssetTypes.MLTABLE, path=\"azureml:titanic-mltable-sdk:2\")}\n",
    "\n",
    "job = command(\n",
    "    code=\".\",  # local path where the code is stored\n",
    "    command=\"python read_data.py --input_data ${{inputs.input_data}}\",\n",
    "    inputs=inputs,\n",
    "    environment=env_docker_conda,\n",
    "    compute=\"cpu-cluster\",\n",
    ")\n",
    "\n",
    "# submit the command\n",
    "returned_job = ml_client.jobs.create_or_update(job)\n",
    "# get a URL for the status of the job\n",
    "returned_job.services[\"Studio\"].endpoint"
   ]
  },
  {
   "cell_type": "code",
   "execution_count": null,
   "id": "851e072f",
   "metadata": {},
   "outputs": [],
   "source": []
  }
 ],
 "metadata": {
  "kernelspec": {
   "display_name": "Python 3.10 - SDK V2",
   "language": "python",
   "name": "python310-sdkv2"
  },
  "language_info": {
   "codemirror_mode": {
    "name": "ipython",
    "version": 3
   },
   "file_extension": ".py",
   "mimetype": "text/x-python",
   "name": "python",
   "nbconvert_exporter": "python",
   "pygments_lexer": "ipython3",
   "version": "3.10.6"
  }
 },
 "nbformat": 4,
 "nbformat_minor": 5
}
